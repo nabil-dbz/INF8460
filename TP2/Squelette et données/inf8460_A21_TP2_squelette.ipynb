{
 "cells": [
  {
   "cell_type": "markdown",
   "id": "82b3ae18",
   "metadata": {
    "id": "82b3ae18"
   },
   "source": [
    "### École Polytechnique de Montréal <br> Département Génie Informatique et Génie Logiciel <br>  INF8460 – Traitement automatique de la langue naturelle <br> \n",
    "# <center> TP2 INF8460 <br>  Automne 2021 </center>"
   ]
  },
  {
   "cell_type": "markdown",
   "id": "ba28a43d",
   "metadata": {
    "id": "ba28a43d"
   },
   "source": [
    "## 1. DESCRIPTION\n",
    "Le but de ce TP est de comparer différents classificateurs que vous allez entraîner à reconnaitre le genre (masculin, féminin) d'un blogueur."
   ]
  },
  {
   "cell_type": "markdown",
   "id": "354d7c96",
   "metadata": {
    "id": "354d7c96"
   },
   "source": [
    "## 2. LIBRAIRIES PERMISES\n",
    "- Jupyter notebook\n",
    "- NLTK\n",
    "- Numpy \n",
    "- Pandas\n",
    "- Sklearn\n",
    "- Keras\n",
    "\n",
    "Pour toute autre librairie, demandez à votre chargé de laboratoire via le forum du cours sur Moodle."
   ]
  },
  {
   "cell_type": "markdown",
   "id": "f53950af",
   "metadata": {
    "id": "f53950af"
   },
   "source": [
    "## 3. INFRASTRUCTURE\n",
    "\n",
    "- Vous avez accès aux GPU du local L-4818. Dans ce cas, vous devez utiliser le dossier temp (voir le tutoriel VirtualEnv.pdf)\n",
    "- Vous pouvez aussi utiliser l’environnement Google Colab: https://colab.research.google.com/"
   ]
  },
  {
   "cell_type": "markdown",
   "id": "ba12ff7c",
   "metadata": {
    "id": "ba12ff7c"
   },
   "source": [
    "## 4. DESCRIPTION DES DONNEES\n",
    "\n",
    "Plusieurs fichiers au format csv sont disponibles et sont extraits de blogs échangés sur Blogger.com. Les données sont disponibles dans le répertoire data. \n",
    "\n",
    "Elles ont la forme suivante:\n",
    "- Train: contient 7 000 exemples de blogs écrits par des hommes et des femmes\n",
    "- Val: contient 1 000 exemples\n",
    "- Test: contient 2 000 exemples"
   ]
  },
  {
   "cell_type": "markdown",
   "id": "fecb0a89",
   "metadata": {
    "id": "fecb0a89"
   },
   "source": [
    "## 5. ETAPES DU TP \n",
    "À partir du présent notebook inf8460_A21_TP2, vous devez réaliser les étapes suivantes. (Noter que les cellules sont là à titre informatif, il est fort probable que vous rajoutiez des sections au fur et à mesure de votre TP)."
   ]
  },
  {
   "cell_type": "markdown",
   "id": "a9386759",
   "metadata": {
    "id": "a9386759"
   },
   "source": [
    "Ci-dessous définir la constante _PATH_ qui doit être utilisée par votre code pour accéder aux fichiers. Il est attendu que pour la correction, le chargé de lab n'ait qu'à changer la valeur de _PATH_ pour le répertoire où se trouver les fichiers de datasets."
   ]
  },
  {
   "cell_type": "code",
   "execution_count": null,
   "id": "a48913ad",
   "metadata": {
    "colab": {
     "base_uri": "https://localhost:8080/"
    },
    "id": "a48913ad",
    "outputId": "4f6b0b38-ce27-4885-d596-f1a261bebadf"
   },
   "outputs": [
    {
     "name": "stdout",
     "output_type": "stream",
     "text": [
      "[nltk_data] Downloading package stopwords to /root/nltk_data...\n",
      "[nltk_data]   Unzipping corpora/stopwords.zip.\n",
      "[nltk_data] Downloading package wordnet to /root/nltk_data...\n",
      "[nltk_data]   Unzipping corpora/wordnet.zip.\n",
      "[nltk_data] Downloading package punkt to /root/nltk_data...\n",
      "[nltk_data]   Unzipping tokenizers/punkt.zip.\n"
     ]
    },
    {
     "data": {
      "text/plain": [
       "True"
      ]
     },
     "execution_count": 1,
     "metadata": {},
     "output_type": "execute_result"
    }
   ],
   "source": [
    "import pandas as pd\n",
    "import os\n",
    "import nltk\n",
    "import re\n",
    "import matplotlib.pyplot as plt\n",
    "import numpy as np\n",
    "import tensorflow\n",
    "import io\n",
    "from collections import defaultdict\n",
    "from nltk import word_tokenize\n",
    "from nltk.corpus import stopwords\n",
    "from nltk.stem import PorterStemmer, WordNetLemmatizer\n",
    "from sklearn.base import TransformerMixin\n",
    "from sklearn.feature_extraction.text import TfidfVectorizer\n",
    "from sklearn.linear_model import LogisticRegression\n",
    "from sklearn.naive_bayes import GaussianNB\n",
    "from sklearn.metrics import accuracy_score, f1_score, precision_score, recall_score, confusion_matrix\n",
    "from sklearn.model_selection import GridSearchCV\n",
    "from sklearn.pipeline import Pipeline\n",
    "from tensorflow import keras\n",
    "from tensorflow.keras import layers\n",
    "from tensorflow.keras.layers import TextVectorization\n",
    "nltk.download(\"stopwords\")\n",
    "nltk.download('wordnet')\n",
    "nltk.download('punkt')"
   ]
  },
  {
   "cell_type": "code",
   "execution_count": null,
   "id": "8354d778",
   "metadata": {
    "colab": {
     "base_uri": "https://localhost:8080/",
     "height": 146,
     "resources": {
      "http://localhost:8080/nbextensions/google.colab/files.js": {
       "data": "Ly8gQ29weXJpZ2h0IDIwMTcgR29vZ2xlIExMQwovLwovLyBMaWNlbnNlZCB1bmRlciB0aGUgQXBhY2hlIExpY2Vuc2UsIFZlcnNpb24gMi4wICh0aGUgIkxpY2Vuc2UiKTsKLy8geW91IG1heSBub3QgdXNlIHRoaXMgZmlsZSBleGNlcHQgaW4gY29tcGxpYW5jZSB3aXRoIHRoZSBMaWNlbnNlLgovLyBZb3UgbWF5IG9idGFpbiBhIGNvcHkgb2YgdGhlIExpY2Vuc2UgYXQKLy8KLy8gICAgICBodHRwOi8vd3d3LmFwYWNoZS5vcmcvbGljZW5zZXMvTElDRU5TRS0yLjAKLy8KLy8gVW5sZXNzIHJlcXVpcmVkIGJ5IGFwcGxpY2FibGUgbGF3IG9yIGFncmVlZCB0byBpbiB3cml0aW5nLCBzb2Z0d2FyZQovLyBkaXN0cmlidXRlZCB1bmRlciB0aGUgTGljZW5zZSBpcyBkaXN0cmlidXRlZCBvbiBhbiAiQVMgSVMiIEJBU0lTLAovLyBXSVRIT1VUIFdBUlJBTlRJRVMgT1IgQ09ORElUSU9OUyBPRiBBTlkgS0lORCwgZWl0aGVyIGV4cHJlc3Mgb3IgaW1wbGllZC4KLy8gU2VlIHRoZSBMaWNlbnNlIGZvciB0aGUgc3BlY2lmaWMgbGFuZ3VhZ2UgZ292ZXJuaW5nIHBlcm1pc3Npb25zIGFuZAovLyBsaW1pdGF0aW9ucyB1bmRlciB0aGUgTGljZW5zZS4KCi8qKgogKiBAZmlsZW92ZXJ2aWV3IEhlbHBlcnMgZm9yIGdvb2dsZS5jb2xhYiBQeXRob24gbW9kdWxlLgogKi8KKGZ1bmN0aW9uKHNjb3BlKSB7CmZ1bmN0aW9uIHNwYW4odGV4dCwgc3R5bGVBdHRyaWJ1dGVzID0ge30pIHsKICBjb25zdCBlbGVtZW50ID0gZG9jdW1lbnQuY3JlYXRlRWxlbWVudCgnc3BhbicpOwogIGVsZW1lbnQudGV4dENvbnRlbnQgPSB0ZXh0OwogIGZvciAoY29uc3Qga2V5IG9mIE9iamVjdC5rZXlzKHN0eWxlQXR0cmlidXRlcykpIHsKICAgIGVsZW1lbnQuc3R5bGVba2V5XSA9IHN0eWxlQXR0cmlidXRlc1trZXldOwogIH0KICByZXR1cm4gZWxlbWVudDsKfQoKLy8gTWF4IG51bWJlciBvZiBieXRlcyB3aGljaCB3aWxsIGJlIHVwbG9hZGVkIGF0IGEgdGltZS4KY29uc3QgTUFYX1BBWUxPQURfU0laRSA9IDEwMCAqIDEwMjQ7CgpmdW5jdGlvbiBfdXBsb2FkRmlsZXMoaW5wdXRJZCwgb3V0cHV0SWQpIHsKICBjb25zdCBzdGVwcyA9IHVwbG9hZEZpbGVzU3RlcChpbnB1dElkLCBvdXRwdXRJZCk7CiAgY29uc3Qgb3V0cHV0RWxlbWVudCA9IGRvY3VtZW50LmdldEVsZW1lbnRCeUlkKG91dHB1dElkKTsKICAvLyBDYWNoZSBzdGVwcyBvbiB0aGUgb3V0cHV0RWxlbWVudCB0byBtYWtlIGl0IGF2YWlsYWJsZSBmb3IgdGhlIG5leHQgY2FsbAogIC8vIHRvIHVwbG9hZEZpbGVzQ29udGludWUgZnJvbSBQeXRob24uCiAgb3V0cHV0RWxlbWVudC5zdGVwcyA9IHN0ZXBzOwoKICByZXR1cm4gX3VwbG9hZEZpbGVzQ29udGludWUob3V0cHV0SWQpOwp9CgovLyBUaGlzIGlzIHJvdWdobHkgYW4gYXN5bmMgZ2VuZXJhdG9yIChub3Qgc3VwcG9ydGVkIGluIHRoZSBicm93c2VyIHlldCksCi8vIHdoZXJlIHRoZXJlIGFyZSBtdWx0aXBsZSBhc3luY2hyb25vdXMgc3RlcHMgYW5kIHRoZSBQeXRob24gc2lkZSBpcyBnb2luZwovLyB0byBwb2xsIGZvciBjb21wbGV0aW9uIG9mIGVhY2ggc3RlcC4KLy8gVGhpcyB1c2VzIGEgUHJvbWlzZSB0byBibG9jayB0aGUgcHl0aG9uIHNpZGUgb24gY29tcGxldGlvbiBvZiBlYWNoIHN0ZXAsCi8vIHRoZW4gcGFzc2VzIHRoZSByZXN1bHQgb2YgdGhlIHByZXZpb3VzIHN0ZXAgYXMgdGhlIGlucHV0IHRvIHRoZSBuZXh0IHN0ZXAuCmZ1bmN0aW9uIF91cGxvYWRGaWxlc0NvbnRpbnVlKG91dHB1dElkKSB7CiAgY29uc3Qgb3V0cHV0RWxlbWVudCA9IGRvY3VtZW50LmdldEVsZW1lbnRCeUlkKG91dHB1dElkKTsKICBjb25zdCBzdGVwcyA9IG91dHB1dEVsZW1lbnQuc3RlcHM7CgogIGNvbnN0IG5leHQgPSBzdGVwcy5uZXh0KG91dHB1dEVsZW1lbnQubGFzdFByb21pc2VWYWx1ZSk7CiAgcmV0dXJuIFByb21pc2UucmVzb2x2ZShuZXh0LnZhbHVlLnByb21pc2UpLnRoZW4oKHZhbHVlKSA9PiB7CiAgICAvLyBDYWNoZSB0aGUgbGFzdCBwcm9taXNlIHZhbHVlIHRvIG1ha2UgaXQgYXZhaWxhYmxlIHRvIHRoZSBuZXh0CiAgICAvLyBzdGVwIG9mIHRoZSBnZW5lcmF0b3IuCiAgICBvdXRwdXRFbGVtZW50Lmxhc3RQcm9taXNlVmFsdWUgPSB2YWx1ZTsKICAgIHJldHVybiBuZXh0LnZhbHVlLnJlc3BvbnNlOwogIH0pOwp9CgovKioKICogR2VuZXJhdG9yIGZ1bmN0aW9uIHdoaWNoIGlzIGNhbGxlZCBiZXR3ZWVuIGVhY2ggYXN5bmMgc3RlcCBvZiB0aGUgdXBsb2FkCiAqIHByb2Nlc3MuCiAqIEBwYXJhbSB7c3RyaW5nfSBpbnB1dElkIEVsZW1lbnQgSUQgb2YgdGhlIGlucHV0IGZpbGUgcGlja2VyIGVsZW1lbnQuCiAqIEBwYXJhbSB7c3RyaW5nfSBvdXRwdXRJZCBFbGVtZW50IElEIG9mIHRoZSBvdXRwdXQgZGlzcGxheS4KICogQHJldHVybiB7IUl0ZXJhYmxlPCFPYmplY3Q+fSBJdGVyYWJsZSBvZiBuZXh0IHN0ZXBzLgogKi8KZnVuY3Rpb24qIHVwbG9hZEZpbGVzU3RlcChpbnB1dElkLCBvdXRwdXRJZCkgewogIGNvbnN0IGlucHV0RWxlbWVudCA9IGRvY3VtZW50LmdldEVsZW1lbnRCeUlkKGlucHV0SWQpOwogIGlucHV0RWxlbWVudC5kaXNhYmxlZCA9IGZhbHNlOwoKICBjb25zdCBvdXRwdXRFbGVtZW50ID0gZG9jdW1lbnQuZ2V0RWxlbWVudEJ5SWQob3V0cHV0SWQpOwogIG91dHB1dEVsZW1lbnQuaW5uZXJIVE1MID0gJyc7CgogIGNvbnN0IHBpY2tlZFByb21pc2UgPSBuZXcgUHJvbWlzZSgocmVzb2x2ZSkgPT4gewogICAgaW5wdXRFbGVtZW50LmFkZEV2ZW50TGlzdGVuZXIoJ2NoYW5nZScsIChlKSA9PiB7CiAgICAgIHJlc29sdmUoZS50YXJnZXQuZmlsZXMpOwogICAgfSk7CiAgfSk7CgogIGNvbnN0IGNhbmNlbCA9IGRvY3VtZW50LmNyZWF0ZUVsZW1lbnQoJ2J1dHRvbicpOwogIGlucHV0RWxlbWVudC5wYXJlbnRFbGVtZW50LmFwcGVuZENoaWxkKGNhbmNlbCk7CiAgY2FuY2VsLnRleHRDb250ZW50ID0gJ0NhbmNlbCB1cGxvYWQnOwogIGNvbnN0IGNhbmNlbFByb21pc2UgPSBuZXcgUHJvbWlzZSgocmVzb2x2ZSkgPT4gewogICAgY2FuY2VsLm9uY2xpY2sgPSAoKSA9PiB7CiAgICAgIHJlc29sdmUobnVsbCk7CiAgICB9OwogIH0pOwoKICAvLyBXYWl0IGZvciB0aGUgdXNlciB0byBwaWNrIHRoZSBmaWxlcy4KICBjb25zdCBmaWxlcyA9IHlpZWxkIHsKICAgIHByb21pc2U6IFByb21pc2UucmFjZShbcGlja2VkUHJvbWlzZSwgY2FuY2VsUHJvbWlzZV0pLAogICAgcmVzcG9uc2U6IHsKICAgICAgYWN0aW9uOiAnc3RhcnRpbmcnLAogICAgfQogIH07CgogIGNhbmNlbC5yZW1vdmUoKTsKCiAgLy8gRGlzYWJsZSB0aGUgaW5wdXQgZWxlbWVudCBzaW5jZSBmdXJ0aGVyIHBpY2tzIGFyZSBub3QgYWxsb3dlZC4KICBpbnB1dEVsZW1lbnQuZGlzYWJsZWQgPSB0cnVlOwoKICBpZiAoIWZpbGVzKSB7CiAgICByZXR1cm4gewogICAgICByZXNwb25zZTogewogICAgICAgIGFjdGlvbjogJ2NvbXBsZXRlJywKICAgICAgfQogICAgfTsKICB9CgogIGZvciAoY29uc3QgZmlsZSBvZiBmaWxlcykgewogICAgY29uc3QgbGkgPSBkb2N1bWVudC5jcmVhdGVFbGVtZW50KCdsaScpOwogICAgbGkuYXBwZW5kKHNwYW4oZmlsZS5uYW1lLCB7Zm9udFdlaWdodDogJ2JvbGQnfSkpOwogICAgbGkuYXBwZW5kKHNwYW4oCiAgICAgICAgYCgke2ZpbGUudHlwZSB8fCAnbi9hJ30pIC0gJHtmaWxlLnNpemV9IGJ5dGVzLCBgICsKICAgICAgICBgbGFzdCBtb2RpZmllZDogJHsKICAgICAgICAgICAgZmlsZS5sYXN0TW9kaWZpZWREYXRlID8gZmlsZS5sYXN0TW9kaWZpZWREYXRlLnRvTG9jYWxlRGF0ZVN0cmluZygpIDoKICAgICAgICAgICAgICAgICAgICAgICAgICAgICAgICAgICAgJ24vYSd9IC0gYCkpOwogICAgY29uc3QgcGVyY2VudCA9IHNwYW4oJzAlIGRvbmUnKTsKICAgIGxpLmFwcGVuZENoaWxkKHBlcmNlbnQpOwoKICAgIG91dHB1dEVsZW1lbnQuYXBwZW5kQ2hpbGQobGkpOwoKICAgIGNvbnN0IGZpbGVEYXRhUHJvbWlzZSA9IG5ldyBQcm9taXNlKChyZXNvbHZlKSA9PiB7CiAgICAgIGNvbnN0IHJlYWRlciA9IG5ldyBGaWxlUmVhZGVyKCk7CiAgICAgIHJlYWRlci5vbmxvYWQgPSAoZSkgPT4gewogICAgICAgIHJlc29sdmUoZS50YXJnZXQucmVzdWx0KTsKICAgICAgfTsKICAgICAgcmVhZGVyLnJlYWRBc0FycmF5QnVmZmVyKGZpbGUpOwogICAgfSk7CiAgICAvLyBXYWl0IGZvciB0aGUgZGF0YSB0byBiZSByZWFkeS4KICAgIGxldCBmaWxlRGF0YSA9IHlpZWxkIHsKICAgICAgcHJvbWlzZTogZmlsZURhdGFQcm9taXNlLAogICAgICByZXNwb25zZTogewogICAgICAgIGFjdGlvbjogJ2NvbnRpbnVlJywKICAgICAgfQogICAgfTsKCiAgICAvLyBVc2UgYSBjaHVua2VkIHNlbmRpbmcgdG8gYXZvaWQgbWVzc2FnZSBzaXplIGxpbWl0cy4gU2VlIGIvNjIxMTU2NjAuCiAgICBsZXQgcG9zaXRpb24gPSAwOwogICAgZG8gewogICAgICBjb25zdCBsZW5ndGggPSBNYXRoLm1pbihmaWxlRGF0YS5ieXRlTGVuZ3RoIC0gcG9zaXRpb24sIE1BWF9QQVlMT0FEX1NJWkUpOwogICAgICBjb25zdCBjaHVuayA9IG5ldyBVaW50OEFycmF5KGZpbGVEYXRhLCBwb3NpdGlvbiwgbGVuZ3RoKTsKICAgICAgcG9zaXRpb24gKz0gbGVuZ3RoOwoKICAgICAgY29uc3QgYmFzZTY0ID0gYnRvYShTdHJpbmcuZnJvbUNoYXJDb2RlLmFwcGx5KG51bGwsIGNodW5rKSk7CiAgICAgIHlpZWxkIHsKICAgICAgICByZXNwb25zZTogewogICAgICAgICAgYWN0aW9uOiAnYXBwZW5kJywKICAgICAgICAgIGZpbGU6IGZpbGUubmFtZSwKICAgICAgICAgIGRhdGE6IGJhc2U2NCwKICAgICAgICB9LAogICAgICB9OwoKICAgICAgbGV0IHBlcmNlbnREb25lID0gZmlsZURhdGEuYnl0ZUxlbmd0aCA9PT0gMCA/CiAgICAgICAgICAxMDAgOgogICAgICAgICAgTWF0aC5yb3VuZCgocG9zaXRpb24gLyBmaWxlRGF0YS5ieXRlTGVuZ3RoKSAqIDEwMCk7CiAgICAgIHBlcmNlbnQudGV4dENvbnRlbnQgPSBgJHtwZXJjZW50RG9uZX0lIGRvbmVgOwoKICAgIH0gd2hpbGUgKHBvc2l0aW9uIDwgZmlsZURhdGEuYnl0ZUxlbmd0aCk7CiAgfQoKICAvLyBBbGwgZG9uZS4KICB5aWVsZCB7CiAgICByZXNwb25zZTogewogICAgICBhY3Rpb246ICdjb21wbGV0ZScsCiAgICB9CiAgfTsKfQoKc2NvcGUuZ29vZ2xlID0gc2NvcGUuZ29vZ2xlIHx8IHt9OwpzY29wZS5nb29nbGUuY29sYWIgPSBzY29wZS5nb29nbGUuY29sYWIgfHwge307CnNjb3BlLmdvb2dsZS5jb2xhYi5fZmlsZXMgPSB7CiAgX3VwbG9hZEZpbGVzLAogIF91cGxvYWRGaWxlc0NvbnRpbnVlLAp9Owp9KShzZWxmKTsK",
       "headers": [
        [
         "content-type",
         "application/javascript"
        ]
       ],
       "ok": true,
       "status": 200,
       "status_text": "OK"
      }
     }
    },
    "id": "8354d778",
    "outputId": "3dff324b-ff92-4958-ec8d-aa62ea649a95"
   },
   "outputs": [
    {
     "data": {
      "text/html": [
       "\n",
       "     <input type=\"file\" id=\"files-d74730d4-7cc2-47c4-85d6-6df6805193b0\" name=\"files[]\" multiple disabled\n",
       "        style=\"border:none\" />\n",
       "     <output id=\"result-d74730d4-7cc2-47c4-85d6-6df6805193b0\">\n",
       "      Upload widget is only available when the cell has been executed in the\n",
       "      current browser session. Please rerun this cell to enable.\n",
       "      </output>\n",
       "      <script src=\"/nbextensions/google.colab/files.js\"></script> "
      ],
      "text/plain": [
       "<IPython.core.display.HTML object>"
      ]
     },
     "metadata": {},
     "output_type": "display_data"
    },
    {
     "name": "stdout",
     "output_type": "stream",
     "text": [
      "Saving valid.csv to valid.csv\n",
      "Saving train.csv to train.csv\n",
      "Saving test.csv to test.csv\n"
     ]
    }
   ],
   "source": [
    "# Size of the vocabulary\n",
    "max_features = 10000 \n",
    "# Path from which we retrieve our data\n",
    "PATH = \"./\"\n",
    "# To test code on a subset\n",
    "index_to_cut = None\n",
    "from google.colab import files\n",
    "uploaded = files.upload()"
   ]
  },
  {
   "cell_type": "code",
   "execution_count": null,
   "id": "e358e1f4",
   "metadata": {
    "id": "e358e1f4"
   },
   "outputs": [],
   "source": [
    "# Import data\n",
    "import io\n",
    "data_train = pd.read_csv(\n",
    "    io.BytesIO(uploaded['train.csv'])\n",
    "    # PATH + \"train.csv\"\n",
    ")\n",
    "data_test = pd.read_csv(\n",
    "    io.BytesIO(uploaded['test.csv'])\n",
    "    # PATH + \"test.csv\"\n",
    ")\n",
    "data_val = pd.read_csv(\n",
    "    io.BytesIO(uploaded['valid.csv'])\n",
    "    # PATH + \"valid.csv\"\n",
    ")"
   ]
  },
  {
   "cell_type": "code",
   "execution_count": null,
   "id": "b5bed578",
   "metadata": {
    "colab": {
     "base_uri": "https://localhost:8080/",
     "height": 424
    },
    "id": "b5bed578",
    "outputId": "3265d36c-f899-4a2f-c8c4-b57835386ec1"
   },
   "outputs": [
    {
     "data": {
      "text/html": [
       "<div>\n",
       "<style scoped>\n",
       "    .dataframe tbody tr th:only-of-type {\n",
       "        vertical-align: middle;\n",
       "    }\n",
       "\n",
       "    .dataframe tbody tr th {\n",
       "        vertical-align: top;\n",
       "    }\n",
       "\n",
       "    .dataframe thead th {\n",
       "        text-align: right;\n",
       "    }\n",
       "</style>\n",
       "<table border=\"1\" class=\"dataframe\">\n",
       "  <thead>\n",
       "    <tr style=\"text-align: right;\">\n",
       "      <th></th>\n",
       "      <th>id</th>\n",
       "      <th>gender</th>\n",
       "      <th>topic</th>\n",
       "      <th>text</th>\n",
       "    </tr>\n",
       "  </thead>\n",
       "  <tbody>\n",
       "    <tr>\n",
       "      <th>0</th>\n",
       "      <td>589736</td>\n",
       "      <td>male</td>\n",
       "      <td>Technology</td>\n",
       "      <td>okay, folks i'm looking for a new j...</td>\n",
       "    </tr>\n",
       "    <tr>\n",
       "      <th>1</th>\n",
       "      <td>2844168</td>\n",
       "      <td>female</td>\n",
       "      <td>Marketing</td>\n",
       "      <td>Today was a fun and relaxing ...</td>\n",
       "    </tr>\n",
       "    <tr>\n",
       "      <th>2</th>\n",
       "      <td>1103575</td>\n",
       "      <td>female</td>\n",
       "      <td>indUnk</td>\n",
       "      <td>don't you know i was never ready for an...</td>\n",
       "    </tr>\n",
       "    <tr>\n",
       "      <th>3</th>\n",
       "      <td>1103575</td>\n",
       "      <td>female</td>\n",
       "      <td>indUnk</td>\n",
       "      <td>There was t...</td>\n",
       "    </tr>\n",
       "    <tr>\n",
       "      <th>4</th>\n",
       "      <td>883178</td>\n",
       "      <td>male</td>\n",
       "      <td>Fashion</td>\n",
       "      <td>You're right, Duf.  'Final Chapter'...</td>\n",
       "    </tr>\n",
       "    <tr>\n",
       "      <th>...</th>\n",
       "      <td>...</td>\n",
       "      <td>...</td>\n",
       "      <td>...</td>\n",
       "      <td>...</td>\n",
       "    </tr>\n",
       "    <tr>\n",
       "      <th>995</th>\n",
       "      <td>589736</td>\n",
       "      <td>male</td>\n",
       "      <td>Technology</td>\n",
       "      <td>what's wrong angie?</td>\n",
       "    </tr>\n",
       "    <tr>\n",
       "      <th>996</th>\n",
       "      <td>589736</td>\n",
       "      <td>male</td>\n",
       "      <td>Technology</td>\n",
       "      <td>Once the party discovers what happened to C...</td>\n",
       "    </tr>\n",
       "    <tr>\n",
       "      <th>997</th>\n",
       "      <td>589736</td>\n",
       "      <td>male</td>\n",
       "      <td>Technology</td>\n",
       "      <td>Thanks to The Powers That Be for se...</td>\n",
       "    </tr>\n",
       "    <tr>\n",
       "      <th>998</th>\n",
       "      <td>766556</td>\n",
       "      <td>female</td>\n",
       "      <td>indUnk</td>\n",
       "      <td>Munday again  Well, I survived the wee...</td>\n",
       "    </tr>\n",
       "    <tr>\n",
       "      <th>999</th>\n",
       "      <td>3294430</td>\n",
       "      <td>male</td>\n",
       "      <td>Education</td>\n",
       "      <td>sunday is training day. will have to le...</td>\n",
       "    </tr>\n",
       "  </tbody>\n",
       "</table>\n",
       "<p>1000 rows × 4 columns</p>\n",
       "</div>"
      ],
      "text/plain": [
       "          id  ...                                               text\n",
       "0     589736  ...             okay, folks i'm looking for a new j...\n",
       "1    2844168  ...                   Today was a fun and relaxing ...\n",
       "2    1103575  ...         don't you know i was never ready for an...\n",
       "3    1103575  ...                                     There was t...\n",
       "4     883178  ...             You're right, Duf.  'Final Chapter'...\n",
       "..       ...  ...                                                ...\n",
       "995   589736  ...                       what's wrong angie?         \n",
       "996   589736  ...     Once the party discovers what happened to C...\n",
       "997   589736  ...             Thanks to The Powers That Be for se...\n",
       "998   766556  ...          Munday again  Well, I survived the wee...\n",
       "999  3294430  ...         sunday is training day. will have to le...\n",
       "\n",
       "[1000 rows x 4 columns]"
      ]
     },
     "execution_count": 4,
     "metadata": {},
     "output_type": "execute_result"
    }
   ],
   "source": [
    "data_val"
   ]
  },
  {
   "cell_type": "markdown",
   "id": "1fb89e8e",
   "metadata": {
    "id": "1fb89e8e"
   },
   "source": [
    "### 5.1. prétraitement et description des données (10%)\n",
    "\n",
    "1. (4 points) Effectuez le pré-traitement suivant sur le champ *text*: convertir le texte en minuscules, supprimer les stopwords et gardez les signes de ponctuation."
   ]
  },
  {
   "cell_type": "code",
   "execution_count": null,
   "id": "0159994b",
   "metadata": {
    "id": "0159994b"
   },
   "outputs": [],
   "source": [
    "def clean_html(text) :\n",
    "    # Remove HTML tags from text\n",
    "    cleanr = re.compile('<.*?>')\n",
    "    cleantext = re.sub(cleanr, '', text)\n",
    "    return cleantext\n",
    "\n",
    "def tokenize_text(text):\n",
    "    # Return tokens of the text\n",
    "    return nltk.word_tokenize(text.lower().strip())\n",
    "\n",
    "def remove_stopwords(tokens):\n",
    "    # Remove the English stopwords from text\n",
    "    return [word for word in tokens if not word in stopwords.words('english')]\n",
    "\n",
    "def lemmatize_tokens(tokens) :\n",
    "    # Lemmatize all the words\n",
    "    lemmzer = WordNetLemmatizer()\n",
    "    return [lemmzer.lemmatize(word) for word in tokens]\n",
    "\n",
    "def text_preprocessor(text) :\n",
    "    # Return words that represent the preporcessed text\n",
    "    # text_clean = clean_html(text)\n",
    "    return remove_stopwords(tokenize_text(text))\n",
    "\n",
    "def preprocessing(df) :\n",
    "    # Transform a dataframe containing a 'text' column to a new dataframe with a 'preprocessed_text' column\n",
    "    data = df['text'].apply(text_preprocessor)\n",
    "    data_copy = df.copy()\n",
    "    data_copy['processed_text'] = data\n",
    "    return data_copy"
   ]
  },
  {
   "cell_type": "code",
   "execution_count": null,
   "id": "9c37ba61",
   "metadata": {
    "id": "9c37ba61"
   },
   "outputs": [],
   "source": [
    "data_train_preprocessed = preprocessing(pd.DataFrame(data_train[0:index_to_cut]))"
   ]
  },
  {
   "cell_type": "code",
   "execution_count": null,
   "id": "d7b7f4e2",
   "metadata": {
    "id": "d7b7f4e2"
   },
   "outputs": [],
   "source": [
    "data_val_preprocessed = preprocessing(pd.DataFrame(data_val[0:index_to_cut]))"
   ]
  },
  {
   "cell_type": "code",
   "execution_count": null,
   "id": "c8a70f70",
   "metadata": {
    "id": "c8a70f70"
   },
   "outputs": [],
   "source": [
    "data_test_preprocessed = preprocessing(pd.DataFrame(data_test[0:index_to_cut]))"
   ]
  },
  {
   "cell_type": "markdown",
   "id": "c0c7cd53",
   "metadata": {
    "id": "c0c7cd53"
   },
   "source": [
    "2. (3 points) Calculez les statistiques suivantes: Nombre total de types; Nombre total de types/genre; top 20 des types les plus fréquents par genre (male/female)."
   ]
  },
  {
   "cell_type": "code",
   "execution_count": null,
   "id": "0e41d655",
   "metadata": {
    "id": "0e41d655"
   },
   "outputs": [],
   "source": [
    "def count_types(processed_df) :\n",
    "    list_of_list = processed_df['processed_text'].to_list()\n",
    "    unique_list = sum(list_of_list, [])\n",
    "    set_of_words = set()\n",
    "    for word in unique_list :\n",
    "        set_of_words.add(word)\n",
    "    return len(set_of_words)\n",
    "\n",
    "def count_types_per_gender(processed_df) :\n",
    "    male_df = processed_df.loc[processed_df['gender'] == 'male']\n",
    "    female_df = processed_df.loc[processed_df['gender'] == 'female']\n",
    "    return count_types(male_df), count_types(female_df)\n",
    "\n",
    "def count_most_frequent_types(processed_df, max_features):\n",
    "    list_of_list = processed_df['processed_text'].to_list()\n",
    "    types = defaultdict(lambda: 0)\n",
    "    for text in list_of_list:\n",
    "        for word in text:\n",
    "            types[word] += 1\n",
    "    types = sorted(types.items(), key=lambda x: x[1], reverse=True)\n",
    "    return types[0:max_features]\n",
    "\n",
    "def count_most_frequent_types_per_gender(processed_df, max_features) :\n",
    "    male_df = processed_df.loc[processed_df['gender'] == 'male']\n",
    "    female_df = processed_df.loc[processed_df['gender'] == 'female']\n",
    "    most_frequent_types_male = pd.DataFrame(count_most_frequent_types(male_df, max_features), columns = ['type', 'frequency'])\n",
    "    most_frequent_types_female = pd.DataFrame(count_most_frequent_types(female_df, max_features), columns = ['type', 'frequency'])\n",
    "    return most_frequent_types_male, most_frequent_types_female"
   ]
  },
  {
   "cell_type": "code",
   "execution_count": null,
   "id": "2d32eb2f",
   "metadata": {
    "id": "2d32eb2f"
   },
   "outputs": [],
   "source": [
    "def disp_statistics(processed_df, max_features) :\n",
    "    nb_types_male, nb_types_female = count_types_per_gender(processed_df)\n",
    "    most_frequent_types_male, most_frequent_types_female = count_most_frequent_types_per_gender(processed_df, max_features)\n",
    "    print('Total number of types :', count_types(processed_df), '\\n')\n",
    "    print('Number of types used by female :', nb_types_female, '\\n')\n",
    "    print('Number of types used by male :', nb_types_male, '\\n')\n",
    "    print('Top ' + str(max_features) + ' types used by female :', '\\n', most_frequent_types_female, '\\n')\n",
    "    print('Top ' + str(max_features) + ' types used by male :', '\\n', most_frequent_types_male)"
   ]
  },
  {
   "cell_type": "code",
   "execution_count": null,
   "id": "a3ca2646",
   "metadata": {
    "colab": {
     "base_uri": "https://localhost:8080/"
    },
    "id": "a3ca2646",
    "outputId": "5b14a398-7938-4442-f617-c81f534fac88"
   },
   "outputs": [
    {
     "name": "stdout",
     "output_type": "stream",
     "text": [
      "Total number of types : 54237 \n",
      "\n",
      "Number of types used by female : 33176 \n",
      "\n",
      "Number of types used by male : 36617 \n",
      "\n",
      "Top 20 types used by female : \n",
      "       type  frequency\n",
      "0        .      27436\n",
      "1        ,      25149\n",
      "2        !       6905\n",
      "3      ...       5970\n",
      "4       's       4488\n",
      "5      n't       4157\n",
      "6        ?       3246\n",
      "7        ;       2897\n",
      "8        '       2690\n",
      "9       'm       2665\n",
      "10       &       2627\n",
      "11       )       2607\n",
      "12    like       2499\n",
      "13    nbsp       2404\n",
      "14       :       2229\n",
      "15       (       2185\n",
      "16     one       1824\n",
      "17    know       1695\n",
      "18     get       1516\n",
      "19  really       1510 \n",
      "\n",
      "Top 20 types used by male : \n",
      "      type  frequency\n",
      "0       .      31708\n",
      "1       ,      28865\n",
      "2      's       5256\n",
      "3       )       4739\n",
      "4     ...       4590\n",
      "5       ?       4212\n",
      "6       (       4171\n",
      "7       '       4126\n",
      "8       !       3569\n",
      "9     n't       3550\n",
      "10      :       2991\n",
      "11   like       2587\n",
      "12    one       2186\n",
      "13     'm       1966\n",
      "14      ;       1911\n",
      "15      -       1704\n",
      "16  would       1696\n",
      "17    get       1667\n",
      "18   time       1471\n",
      "19      &       1449\n"
     ]
    }
   ],
   "source": [
    "disp_statistics(data_train_preprocessed, 20)"
   ]
  },
  {
   "cell_type": "markdown",
   "id": "d92925f7",
   "metadata": {
    "id": "d92925f7"
   },
   "source": [
    "3. (3 points) Dans deux figures séparées, affichez la distribution des sujets (topics) en termes de fréquence pour les hommes (male) et les femmes (female)."
   ]
  },
  {
   "cell_type": "code",
   "execution_count": null,
   "id": "a9c44ed7",
   "metadata": {
    "id": "a9c44ed7"
   },
   "outputs": [],
   "source": [
    "def plot_frequency_distribution(processed_df, given_sex) :\n",
    "    filtered_df = processed_df.loc[processed_df['gender'] == given_sex]\n",
    "    groupby_df = filtered_df.groupby('topic').count()\n",
    "    topics = groupby_df.index\n",
    "    associated_frequencies = groupby_df['id']\n",
    "    \n",
    "    topic_serie = filtered_df['topic']\n",
    "    # plt.figure(figsize=(20,10))\n",
    "    fig, ax = plt.subplots(figsize = (20,10))\n",
    "    # plt.bar(topic_serie, ec=\"k\", align='mid')\n",
    "    ax.bar(topics, associated_frequencies, width=0.8, align='center')\n",
    "    plt.xlabel('Topics', fontsize=20)\n",
    "    plt.ylabel('Frequency', fontsize=20)\n",
    "    plt.title('Topics frequencies for ' + given_sex, fontsize = 25)\n",
    "    plt.show()"
   ]
  },
  {
   "cell_type": "code",
   "execution_count": null,
   "id": "93c9a892",
   "metadata": {
    "colab": {
     "base_uri": "https://localhost:8080/",
     "height": 639
    },
    "id": "93c9a892",
    "outputId": "5eeb33b6-ebeb-487b-a964-fcdd6b489f6d"
   },
   "outputs": [
    {
     "data": {
      "image/png": "[encoded data removed]",
      "text/plain": [
       "<Figure size 1440x720 with 1 Axes>"
      ]
     },
     "metadata": {},
     "output_type": "display_data"
    }
   ],
   "source": [
    "plot_frequency_distribution(data_train_preprocessed, 'male')"
   ]
  },
  {
   "cell_type": "code",
   "execution_count": null,
   "id": "4d41085b",
   "metadata": {
    "colab": {
     "base_uri": "https://localhost:8080/",
     "height": 639
    },
    "id": "4d41085b",
    "outputId": "120965f8-387b-4c77-96b0-36bde76fe065"
   },
   "outputs": [
    {
     "data": {
      "image/png": "[encoded data removed]",
      "text/plain": [
       "<Figure size 1440x720 with 1 Axes>"
      ]
     },
     "metadata": {},
     "output_type": "display_data"
    }
   ],
   "source": [
    "plot_frequency_distribution(data_train_preprocessed, \"female\")"
   ]
  },
  {
   "cell_type": "markdown",
   "id": "13588e8f",
   "metadata": {
    "id": "13588e8f"
   },
   "source": [
    "### 5.2. Classification traditionnelle à base de textes (35%)"
   ]
  },
  {
   "cell_type": "code",
   "execution_count": null,
   "id": "626f2840",
   "metadata": {
    "id": "626f2840"
   },
   "outputs": [],
   "source": [
    "def tf_idf(processed_train_df, processed_val_df, N, n_grams) :\n",
    "    # A partir des dataframes pré-traités de questions et de paragraphes, d'une taille de vocabulaire N et \n",
    "    # d'un couple n_grams, renvoie une matrice TF-IDF ainsi que son vectorizer associé\n",
    "    processed_train_df_copy = processed_train_df.copy()\n",
    "    processed_train_df_copy['processed_text'] = processed_train_df_copy['processed_text'].apply(lambda x: ' '.join(x))\n",
    "    processed_val_df_copy = processed_val_df.copy()\n",
    "    processed_val_df_copy['processed_text'] = processed_val_df_copy['processed_text'].apply(lambda x: ' '.join(x))\n",
    "    vectorizer = TfidfVectorizer(smooth_idf=False, max_features = N, ngram_range = n_grams)\n",
    "    vectorizer.fit(processed_train_df_copy['processed_text'])\n",
    "    tfidf_train = vectorizer.transform(processed_train_df_copy['processed_text']) \n",
    "    tfidf_val = vectorizer.transform(processed_val_df_copy['processed_text'])\n",
    "    print('Vocabulary :\\n\\n', vectorizer.get_feature_names())\n",
    "    return tfidf_train, tfidf_val, vectorizer"
   ]
  },
  {
   "cell_type": "code",
   "execution_count": null,
   "id": "af40aab2",
   "metadata": {
    "id": "af40aab2"
   },
   "outputs": [],
   "source": [
    "def logistic_regression_model(xtrain, ytrain) :\n",
    "    model = LogisticRegression(max_iter = 1000)\n",
    "    model.fit(xtrain,ytrain)\n",
    "    return model"
   ]
  },
  {
   "cell_type": "code",
   "execution_count": null,
   "id": "b37cc531",
   "metadata": {
    "id": "b37cc531"
   },
   "outputs": [],
   "source": [
    "def naive_bayes_classifier(xtrain, ytrain) :\n",
    "    model = GaussianNB()\n",
    "    model.fit(xtrain,ytrain)\n",
    "    return model"
   ]
  },
  {
   "cell_type": "code",
   "execution_count": null,
   "id": "6beb969c",
   "metadata": {
    "id": "6beb969c"
   },
   "outputs": [],
   "source": [
    "def compute_mape(y, ypred) :\n",
    "    return np.sum(abs(y-ypred))/len(y)"
   ]
  },
  {
   "cell_type": "code",
   "execution_count": null,
   "id": "db5e5ddb",
   "metadata": {
    "id": "db5e5ddb"
   },
   "outputs": [],
   "source": [
    "Y_train = data_train_preprocessed['gender'].apply(lambda sex: 0 if sex == 'male' else 1).to_numpy()\n",
    "Y_val = data_val_preprocessed['gender'].apply(lambda sex: 0 if sex == 'male' else 1).to_numpy()"
   ]
  },
  {
   "cell_type": "markdown",
   "id": "fe4d8c5e",
   "metadata": {
    "id": "fe4d8c5e"
   },
   "source": [
    "1. (10 points) Implémentez un classificateur Naïve Bayes et de régression logistique avec sklearn se basant sur un modèle sac de mots unigrame du contenu des blogues, pondéré avec TF-IDF."
   ]
  },
  {
   "cell_type": "code",
   "execution_count": null,
   "id": "313f64f5",
   "metadata": {
    "colab": {
     "base_uri": "https://localhost:8080/"
    },
    "id": "313f64f5",
    "outputId": "d536d57e-d074-44cc-d56c-9616c1c4c4d8"
   },
   "outputs": [
    {
     "name": "stdout",
     "output_type": "stream",
     "text": [
      "Vocabulary :\n",
      "\n",
      " ['00', '000', '00am', '00pm', '01', '02', '03', '04', '05', '06', '07', '08', '09', '10', '100', '1000', '101', '102', '107', '108', '10am', '10pm', '10th', '11', '110', '11am', '11pm', '11th', '12', '120', '125', '13', '130', '13th', '14', '15', '150', '15am', '15th', '16', '17', '17th', '18', '1860', '18th', '19', '1956', '1979', '1983', '1988', '1989', '1990', '1990s', '1992', '1993', '1994', '1995', '1996', '1997', '1998', '1999', '19th', '1st', '20', '200', '2000', '2001', '2002', '2003', '2004', '2005', '20th', '21', '21st', '22', '23', '24', '25', '250', '25th', '26', '27', '27th', '28', '28th', '29', '29th', '2am', '2b', '2day', '2nd', '2pm', '30', '300', '3000', '30am', '30pm', '30th', '31', '32', '33', '34', '35', '36', '3650', '37', '38', '39', '3am', '3pm', '3rd', '40', '400', '41', '42', '43', '44', '45', '46', '47', '48', '49', '4am', '4th', '50', '500', '51', '52', '53', '54', '55', '56', '57', '58', '59', '5pm', '5th', '60', '600', '61', '62', '63', '64', '65', '66', '67', '69', '6am', '6pm', '6th', '70', '700', '70s', '71', '72', '74', '75', '77', '78', '7am', '7pm', '7th', '80', '800', '80s', '81', '82', '8217', '8230', '83', '85', '86', '87', '88', '89', '8am', '8pm', '8th', '90', '900', '911', '93', '94', '95', '97', '98', '99', '9am', '9th', '__', '___', '____', 'aaa', 'aaron', 'aba', 'abandon', 'abandoned', 'abc', 'abilities', 'ability', 'able', 'abortion', 'about', 'abroad', 'absence', 'absent', 'absolute', 'absolutely', 'absolutes', 'absolution', 'absolutly', 'absorb', 'absorbed', 'abstract', 'absurd', 'abt', 'abu', 'abuse', 'abused', 'abusive', 'abyss', 'ac', 'academic', 'academics', 'academy', 'accent', 'accents', 'accept', 'acceptable', 'acceptance', 'accepted', 'accepting', 'access', 'accident', 'accidentally', 'accidents', 'accompanied', 'accomplish', 'accomplished', 'accomplishment', 'accomplishments', 'according', 'account', 'accounts', 'accurate', 'accused', 'ace', 'ache', 'aches', 'achieve', 'achieved', 'achievement', 'achilles', 'aching', 'acid', 'ack', 'acoustic', 'acquire', 'acquired', 'acres', 'across', 'act', 'actaully', 'acted', 'acting', 'action', 'actions', 'active', 'actively', 'activists', 'activities', 'activity', 'actor', 'actors', 'actress', 'acts', 'actual', 'actually', 'acumen', 'ad', 'ada', 'adam', 'adams', 'add', 'added', 'addict', 'addicted', 'addiction', 'addictive', 'addicts', 'adding', 'addition', 'additional', 'additionally', 'address', 'addressed', 'addresses', 'addressing', 'adds', 'addy', 'ade', 'adjective', 'adjectives', 'adjust', 'admin', 'administration', 'administrative', 'admire', 'admission', 'admissions', 'admit', 'admitted', 'admittedly', 'ado', 'adobe', 'adopt', 'adopted', 'adoption', 'adorable', 'adore', 'adrenaline', 'adrienne', 'adro', 'ads', 'adult', 'adulthood', 'adults', 'advance', 'advanced', 'advantage', 'advantages', 'adventure', 'adventures', 'advertising', 'advice', 'advise', 'advised', 'advisor', 'affair', 'affairs', 'affect', 'affected', 'affection', 'affects', 'affirmative', 'afford', 'affordable', 'afghanistan', 'aforementioned', 'afraid', 'africa', 'african', 'afro', 'afta', 'after', 'afterall', 'afternoon', 'afterward', 'afterwards', 'again', 'age', 'aged', 'agency', 'agenda', 'agent', 'agents', 'ages', 'aggression', 'aggressive', 'aggressively', 'agnostic', 'ago', 'agree', 'agreed', 'agreement', 'agrees', 'aguilera', 'ah', 'ahead', 'ahem', 'ahh', 'ahhh', 'ahhhh', 'ai', 'aid', 'aids', 'aihz', 'aim', 'aimed', 'aimlessly', 'aint', 'air', 'aircraft', 'airline', 'airlines', 'airplane', 'airport', 'airports', 'aisle', 'aisles', 'aiya', 'aj', 'aka', 'akaka', 'akin', 'ako', 'al', 'alabama', 'alam', 'alan', 'alarm', 'alas', 'alaska', 'albeit', 'album', 'albums', 'alcohol', 'alert', 'alex', 'algebra', 'algo', 'ali', 'alias', 'alice', 'alien', 'aliens', 'alike', 'alison', 'alive', 'all', 'allah', 'alleah', 'allen', 'allergic', 'allergy', 'alley', 'alliance', 'allies', 'allow', 'allowance', 'allowed', 'allowing', 'allows', 'ally', 'almighty', 'almo', 'almost', 'alone', 'along', 'alongside', 'alot', 'aloud', 'alpha', 'alphabet', 'already', 'alright', 'also', 'alt', 'altar', 'alter', 'altered', 'altering', 'alternate', 'alternative', 'alternatively', 'altho', 'although', 'altogether', 'alverice', 'alvin', 'always', 'am', 'amanda', 'amaze', 'amazed', 'amazing', 'amazingly', 'amazon', 'amber', 'ambition', 'ambitious', 'ambulance', 'amelia', 'amen', 'amendment', 'america', 'american', 'americans', 'amish', 'among', 'amongst', 'amos', 'amount', 'amounts', 'amp', 'amuse', 'amused', 'amusement', 'amusing', 'amy', 'an', 'ana', 'analogy', 'analysis', 'analyze', 'analyzing', 'anchorman', 'ancient', 'and', 'anderson', 'andrew', 'andy', 'ang', 'angel', 'angel546', 'angela', 'angeles', 'angels', 'anger', 'angie', 'angle', 'angry', 'angst', 'anguish', 'animal', 'animals', 'animated', 'anime', 'animus949', 'ankle', 'ann', 'anna', 'anne', 'annie', 'anniversary', 'announce', 'announced', 'announcement', 'announces', 'announcing', 'annoy', 'annoyance', 'annoyed', 'annoying', 'annoys', 'annual', 'anonymous', 'another', 'answer', 'answered', 'answering', 'answers', 'ant', 'anthem', 'anthony', 'anti', 'anticipated', 'anticipating', 'anticipation', 'antics', 'ants', 'anxiety', 'anxious', 'any', 'anya', 'anybody', 'anyhow', 'anymore', 'anyone', 'anything', 'anytime', 'anyway', 'anyways', 'anywayz', 'anywhere', 'anywho', 'aol', 'ap', 'aparently', 'apart', 'apartment', 'apartments', 'apocalypse', 'apologies', 'apologize', 'apologized', 'apology', 'apparent', 'apparently', 'appeal', 'appealing', 'appeals', 'appear', 'appearance', 'appearances', 'appeared', 'appearing', 'appears', 'appetite', 'applause', 'apple', 'apples', 'application', 'applications', 'applied', 'applies', 'apply', 'applying', 'appointment', 'appointments', 'appreciate', 'appreciated', 'appreciation', 'appreciative', 'apprehensive', 'apprentice', 'approach', 'approached', 'approaches', 'approaching', 'appropriate', 'appropriately', 'approval', 'approve', 'approved', 'approximately', 'april', 'apt', 'ar', 'arab', 'arabia', 'aragorn', 'arc', 'arch', 'architect', 'architecture', 'archives', 'are', 'area', 'areas', 'arena', 'arent', 'arg', 'argentina', 'argh', 'argue', 'argued', 'arguing', 'argument', 'arguments', 'ark', 'arm', 'armed', 'armor', 'arms', 'armstrong', 'army', 'around', 'arrange', 'arranged', 'arrangement', 'arrangements', 'arranging', 'arrest', 'arrested', 'arrival', 'arrive', 'arrived', 'arrives', 'arriving', 'arrogance', 'arrogant', 'art', 'arthur', 'article', 'articles', 'articulate', 'artist', 'artistic', 'artists', 'arts', 'artwork', 'as', 'asap', 'ash', 'ashamed', 'ashes', 'ashland', 'ashley', 'ashok', 'asia', 'asian', 'asians', 'aside', 'ask', 'asked', 'asking', 'asks', 'asleep', 'asp', 'aspect', 'aspects', 'ass', 'assassin', 'assembly', 'assertion', 'asses', 'asshole', 'assholes', 'assign', 'assigned', 'assignment', 'assignments', 'assist', 'assistant', 'associate', 'associated', 'association', 'assorted', 'assume', 'assumed', 'assuming', 'assumption', 'assumptions', 'assure', 'assured', 'asthanga', 'asthma', 'astrology', 'at', 'ate', 'athletes', 'athletic', 'athletics', 'atlanta', 'atlantic', 'atleast', 'atm', 'atmosphere', 'atomic', 'attach', 'attached', 'attachment', 'attack', 'attacked', 'attacking', 'attacks', 'attempt', 'attempted', 'attempting', 'attempts', 'attend', 'attendance', 'attended', 'attendees', 'attending', 'attention', 'attic', 'attitude', 'attitudes', 'attorney', 'attract', 'attracted', 'attraction', 'attractive', 'attribute', 'atwood', 'au', 'auction', 'audblog', 'audi', 'audience', 'audio', 'audition', 'audrey', 'aug', 'august', 'aunt', 'auntie', 'aunties', 'aunts', 'austin', 'australia', 'australian', 'author', 'authorities', 'authority', 'authors', 'autism', 'auto', 'autograph', 'automatic', 'automatically', 'autumn', 'available', 'avalon', 'ave', 'avenue', 'average', 'avoid', 'avoided', 'avoiding', 'avril', 'awaited', 'awaits', 'awake', 'award', 'awards', 'aware', 'away', 'awe', 'awesome', 'awful', 'awhile', 'awkward', 'awoke', 'awsome', 'awww', 'ay', 'aye', 'b4', 'b5', 'ba', 'babble', 'babe', 'babies', 'baby', 'babysitting', 'bach', 'bachelor', 'back', 'backed', 'background', 'backing', 'backs', 'backseat', 'backstreet', 'backup', 'backwards', 'backyard', 'bad', 'badly', 'bag', 'bagel', 'bagels', 'baggage', 'baghdad', 'bags', 'bah', 'bail', 'bak', 'bake', 'baked', 'bakersfield', 'bakery', 'baking', 'balance', 'balanced', 'balcony', 'bald', 'ball', 'ballet', 'balloon', 'ballot', 'ballots', 'balls', 'baltimore', 'balut', 'bam', 'bamboo', 'ban', 'banana', 'bananas', 'band', 'bands', 'bang', 'banging', 'bangs', 'bank', 'banks', 'banner', 'banter', 'baptist', 'bar', 'barb', 'barbara', 'barbecue', 'bard', 'bare', 'barely', 'bargain', 'bark', 'barking', 'barn', 'barnes', 'barrel', 'barry', 'bars', 'bart', 'bartender', 'base', 'baseball', 'based', 'basement', 'bash', 'bashing', 'basic', 'basically', 'basis', 'basket', 'basketball', 'bass', 'bassist', 'basslines', 'bassy', 'bastard', 'bastards', 'bat', 'bath', 'bathe', 'bathing', 'bathroom', 'baths', 'batman', 'batteries', 'battery', 'batting', 'battle', 'battles', 'bay', 'bb', 'bball', 'bbc', 'bbq', 'bc', 'bcuz', 'bday', 'be', 'beach', 'beaches', 'bean', 'beans', 'bear', 'bears', 'beast', 'beastie', 'beat', 'beaten', 'beating', 'beatles', 'beats', 'beautiful', 'beautifully', 'beauty', 'beaver', 'became', 'because', 'becca', 'beck', 'become', 'becomes', 'becoming', 'becoz', 'becuase', 'bed', 'bedford', 'bedroom', 'beds', 'bedtime', 'bee', 'beef', 'beer', 'beers', 'beethoven', 'before', 'beg', 'began', 'begged', 'begging', 'begin', 'beginning', 'begins', 'begun', 'behalf', 'behave', 'behavior', 'behaviors', 'behaviour', 'behind', 'behold', 'being', 'beings', 'beleive', 'belief', 'beliefs', 'believe', 'believed', 'believer', 'believers', 'believes', 'believing', 'belive', 'bell', 'bellagio', 'bells', 'belly', 'belong', 'belonged', 'belongings', 'belongs', 'beloved', 'belt', 'ben', 'benardatte', 'bench', 'bend', 'bending', 'bends', 'beneath', 'benefit', 'benefits', 'benicia', 'benjamin', 'bent', 'berkeley', 'berlin', 'bert', 'beside', 'besides', 'best', 'bestest', 'bet', 'beta', 'beth', 'betrayed', 'better', 'betty', 'between', 'beverages', 'beware', 'beyond', 'bf', 'bg', 'bi', 'biased', 'bible', 'bibleman', 'bickering', 'bicycle', 'bid', 'bidding', 'biddy', 'big', 'bigger', 'biggest', 'bike', 'bikes', 'bill', 'billion', 'billions', 'bills', 'billy', 'billygoat', 'bimbo', 'bin', 'bingo', 'bio', 'biological', 'biology', 'bionicle', 'bird', 'birdcage', 'birds', 'birth', 'birthday', 'birthdays', 'bit', 'bitch', 'bitches', 'bitching', 'bitchy', 'bite', 'bites', 'biting', 'bits', 'bitter', 'bitterness', 'biz', 'bizarre', 'bjork', 'black', 'blackout', 'blacks', 'blade', 'blah', 'blair', 'blake', 'blame', 'blamed', 'blaming', 'bland', 'blank', 'blanket', 'blast', 'bleed', 'bleeding', 'blend', 'blended', 'bless', 'blessed', 'blessing', 'blessings', 'blew', 'blind', 'blinded', 'blinding', 'bling', 'blink', 'bliss', 'block', 'blockbuster', 'blocked', 'blocking', 'blocks', 'blog', 'blogged', 'blogger', 'bloggers', 'blogging', 'blogroll', 'blogs', 'blogspot', 'blond', 'blonde', 'blood', 'bloody', 'blooming', 'blossom', 'blow', 'blowing', 'blown', 'blows', 'bludge', 'blue', 'blues', 'bluetooth', 'blughpz', 'blunt', 'blur', 'blush', 'bmw', 'bo', 'boagle', 'board', 'boarding', 'boards', 'boat', 'boating', 'boats', 'bob', 'bobby', 'bodies', 'body', 'bold', 'bolts', 'bomb', 'bombs', 'bon', 'bond', 'bonding', 'bonds', 'bone', 'bones', 'bono', 'bonus', 'boo', 'boobs', 'book', 'booked', 'booklet', 'bookmark', 'books', 'bookstore', 'boom', 'boost', 'boot', 'booth', 'boots', 'booty', 'booze', 'border', 'borderline', 'borders', 'bore', 'bored', 'boredom', 'boring', 'born', 'borrow', 'borrowed', 'boss', 'bosses', 'boston', 'bother', 'bothered', 'bothering', 'bothers', 'bottle', 'bottled', 'bottles', 'bottom', 'bought', 'bounce', 'bounced', 'bouncer', 'bouncing', 'bound', 'boundaries', 'bounds', 'bourne', 'bout', 'bow', 'bowl', 'bowling', 'box', 'boxers', 'boxes', 'boy', 'boyfriend', 'boyfriends', 'boys', 'bra', 'bracelets', 'braces', 'brad', 'bradley', 'brag', 'bragging', 'brain', 'brains', 'brake', 'brakes', 'branch', 'brand', 'brandon', 'brandt', 'bras', 'brat', 'brave', 'brazil', 'bread', 'break', 'breakdown', 'breakfast', 'breaking', 'breaks', 'breast', 'breasts', 'breath', 'breathe', 'breathing', 'breeding', 'breeze', 'brendan', 'brewing', 'brian', 'brianna', 'brick', 'bride', 'bridge', 'brief', 'briefly', 'bright', 'brighter', 'brilliant', 'bring', 'bringing', 'brings', 'britain', 'british', 'britney', 'bro', 'broad', 'broadcast', 'broadway', 'broccoli', 'broke', 'broken', 'brooklyn', 'bros', 'brother', 'brothers', 'brought', 'brow', 'brown', 'brownies', 'browser', 'browsing', 'bruce', 'bruised', 'bruises', 'brunch', 'brush', 'brushing', 'brutal', 'bryan', 'bs', 'btw', 'bubble', 'buck', 'bucket', 'buckner', 'bucks', 'bud', 'buddha', 'buddhist', 'buddies', 'buddy', 'budget', 'bueller', 'buffet', 'buffy', 'bug', 'bugged', 'bugging', 'bugs', 'buh', 'build', 'building', 'buildings', 'built', 'bulk', 'bull', 'bullet', 'bulletin', 'bullshit', 'bum', 'bummed', 'bummer', 'bump', 'bumped', 'bumper', 'bunch', 'bunk', 'bunnies', 'bunny', 'buns', 'burden', 'burdens', 'burger', 'burgers', 'buried', 'burn', 'burne', 'burned', 'burner', 'burning', 'burns', 'burnt', 'burrito', 'burritos', 'burst', 'bury', 'bus', 'buses', 'bush', 'bushes', 'business', 'businesses', 'bust', 'busted', 'busy', 'but', 'butt', 'butter', 'butterface', 'butterflies', 'butterfly', 'button', 'buttons', 'buy', 'buying', 'buzz', 'by', 'bye', 'byers', 'ca', 'cab', 'cabbage', 'cabin', 'cabinet', 'cable', 'caddy', 'cafe', 'cafeteria', 'caffeine', 'cage', 'cairo', 'caitlin', 'cake', 'calc', 'calculate', 'calculated', 'calendar', 'calendars', 'cali', 'california', 'californication', 'call', 'called', 'caller', 'calling', 'calls', 'calm', 'calories', 'came', 'cameo', 'camera', 'cameras', 'cameron', 'camp', 'campaign', 'campbell', 'camping', 'campus', 'can', 'canada', 'canadian', 'canadians', 'cancel', 'cancelled', 'cancer', 'candid', 'candidate', 'candidates', 'candle', 'candles', 'candy', 'cane', 'cans', 'cant', 'canyon', 'cap', 'capabilities', 'capable', 'capacity', 'capital', 'capitalism', 'capitol', 'caps', 'captain', 'capture', 'captured', 'car', 'caramel', 'carb', 'carbon', 'card', 'cards', 'care', 'cared', 'career', 'careers', 'careful', 'carefully', 'cares', 'caribbean', 'caring', 'carlene', 'carleton', 'carnival', 'carolina', 'carpet', 'carrie', 'carried', 'carries', 'carrot', 'carry', 'carrying', 'cars', 'cart', 'cartoon', 'carve', 'carved', 'cary', 'casa', 'case', 'cases', 'cash', 'cashier', 'casino', 'casinos', 'cast', 'castillion', 'casting', 'castle', 'casual', 'casually', 'casualties', 'cat', 'catalog', 'catch', 'catches', 'catching', 'catchy', 'categories', 'category', 'catholic', 'catnip', 'cats', 'cattle', 'caucasian', 'caught', 'cause', 'caused', 'causes', 'causing', 'cave', 'cbs', 'cd', 'cds', 'cease', 'ceased', 'ceases', 'ceiling', 'celebrate', 'celebrated', 'celebrating', 'celebration', 'celebrities', 'celebrity', 'cell', 'cellophane', 'cellphone', 'cells', 'cement', 'cemetery', 'census', 'cent', 'center', 'centered', 'centers', 'central', 'centre', 'cents', 'centuries', 'century', 'ceo', 'cept', 'cerati', 'cereal', 'ceremony', 'certain', 'certainly', 'certainty', 'certified', 'cgi', 'cha', 'chad', 'chads', 'chain', 'chains', 'chair', 'chairman', 'chairs', 'challenge', 'challenged', 'challenges', 'challenging', 'chamber', 'champagne', 'champion', 'champions', 'championship', 'chan', 'chance', 'chances', 'change', 'changed', 'changes', 'changing', 'channel', 'channels', 'chantele', 'chaos', 'chaotic', 'chapel', 'chapter', 'character', 'characteristics', 'characters', 'charge', 'charged', 'charges', 'charging', 'charisma', 'charity', 'charla', 'charles', 'charlie', 'charlotte', 'charm', 'charmaine', 'charming', 'charms', 'chart', 'chase', 'chased', 'chasing', 'chat', 'chats', 'chatswood', 'chatted', 'chatterbox', 'chatting', 'cheap', 'cheaper', 'cheat', 'cheated', 'cheating', 'check', 'checked', 'checking', 'checks', 'cheek', 'cheeks', 'cheer', 'cheered', 'cheering', 'cheers', 'cheese', 'cheesecake', 'cheesy', 'chef', 'chelsea', 'chem', 'chemical', 'chemicals', 'chemistry', 'chemlab', 'cheney', 'chennai', 'cher', 'cherish', 'cherokee', 'cherry', 'chess', 'chest', 'chew', 'chewing', 'chi', 'chic', 'chicago', 'chick', 'chicken', 'chickens', 'chicks', 'chief', 'child', 'childhood', 'childish', 'children', 'chili', 'chill', 'chilled', 'chills', 'chin', 'china', 'chinatown', 'chinese', 'chip', 'chipotle', 'chips', 'choc', 'chocolate', 'chocolates', 'choice', 'choices', 'choir', 'choke', 'choked', 'choking', 'choose', 'chooses', 'choosing', 'chop', 'chords', 'chore', 'chorus', 'chose', 'chosen', 'chris', 'christ', 'christian', 'christianity', 'christians', 'christie', 'christina', 'christine', 'christmas', 'christopher', 'chronic', 'chubby', 'chuck', 'chuckle', 'chunk', 'chunky', 'church', 'churches', 'cia', 'ciao', 'cigar', 'cigarette', 'cigarettes', 'cindy', 'cinema', 'cinnamon', 'circle', 'circles', 'circuit', 'circumstance', 'circumstances', 'circus', 'cite', 'cited', 'cities', 'citizen', 'citizens', 'citrus', 'city', 'civil', 'civilians', 'ck', 'ck2', 'clad', 'claim', 'claimed', 'claiming', 'claims', 'claire', 'clap', 'clapping', 'clarify', 'clark', 'clash', 'class', 'classes', 'classic', 'classical', 'classics', 'classmate', 'classroom', 'clause', 'clay', 'clayton', 'clean', 'cleaned', 'cleaning', 'clear', 'cleared', 'clearing', 'clearly', 'cleveland', 'clever', 'cliche', 'click', 'clicked', 'clicking', 'client', 'clients', 'climate', 'climb', 'climbed', 'climbing', 'cling', 'clinic', 'clinton', 'clip', 'clips', 'clique', 'clock', 'clocks', 'clone', 'close', 'closed', 'closely', 'closeness', 'closer', 'closest', 'closet', 'closing', 'clothes', 'clothing', 'cloud', 'clouds', 'cloudy', 'clovis', 'clown', 'clowns', 'club', 'clubs', 'clue', 'clueless', 'clues', 'clumsy', 'clutter', 'cnn', 'cny', 'co', 'coach', 'coarse', 'coast', 'coat', 'cobra', 'cocaine', 'cock', 'cocktail', 'cocktails', 'cocky', 'coco', 'cocoa', 'code', 'codes', 'coding', 'cody', 'coffee', 'coin', 'coincidence', 'coke', 'cold', 'colder', 'coldplay', 'cole', 'colin', 'collapse', 'collapsed', 'collar', 'collateral', 'colleague', 'colleagues', 'collect', 'collected', 'collecting', 'collection', 'collections', 'collective', 'college', 'colleges', 'collision', 'color', 'colorado', 'colored', 'colors', 'colour', 'colours', 'columbine', 'columbus', 'column', 'columns', 'com', 'combat', 'combination', 'combine', 'combined', 'come', 'comeback', 'comedy', 'comes', 'comfort', 'comfortable', 'comfortably', 'comforter', 'comforting', 'comic', 'comical', 'comics', 'comin', 'coming', 'command', 'commander', 'commandments', 'comment', 'commentary', 'commented', 'commenting', 'comments', 'commerce', 'commercial', 'commercials', 'comming', 'commission', 'commissioner', 'commit', 'commitment', 'committed', 'committee', 'committing', 'common', 'communicate', 'communicating', 'communication', 'communications', 'communion', 'communism', 'communist', 'communities', 'community', 'commute', 'como', 'comp', 'compact', 'companies', 'companion', 'company', 'compare', 'compared', 'comparing', 'comparison', 'compassion', 'compassionate', 'compelled', 'compete', 'competing', 'competition', 'competitive', 'compilation', 'compiled', 'complain', 'complained', 'complaining', 'complains', 'complaint', 'complaints', 'complete', 'completed', 'completely', 'completing', 'completly', 'complex', 'complicated', 'complications', 'compliment', 'complimented', 'compliments', 'comply', 'comprehend', 'compromise', 'compulsive', 'computer', 'computers', 'con', 'conceal', 'concede', 'concentrate', 'concentration', 'concept', 'concepts', 'concern', 'concerned', 'concerning', 'concerns', 'concert', 'concerts', 'conclude', 'concluded', 'conclusion', 'conclusions', 'concrete', 'condition', 'conditioned', 'conditioning', 'conditions', 'condo', 'conduct', 'cone', 'confederate', 'conference', 'confess', 'confession', 'confessional', 'confidence', 'confident', 'confined', 'confirm', 'confirmation', 'confirmed', 'conflict', 'conflicts', 'confront', 'confronted', 'confuse', 'confused', 'confusing', 'confusion', 'congrats', 'congratulations', 'congregation', 'congress', 'connect', 'connected', 'connecticut', 'connecting', 'connection', 'connections', 'connelly', 'conquer', 'conscience', 'conscious', 'consciousness', 'consensus', 'consequences', 'conservative', 'conservatives', 'consider', 'considerable', 'consideration', 'considered', 'considering', 'considers', 'consisted', 'consistency', 'consistent', 'consistently', 'console', 'conspiracy', 'constant', 'constantly', 'constitution', 'constitutional', 'construction', 'consume', 'consumed', 'consumer', 'consumes', 'consuming', 'consumption', 'contact', 'contacted', 'contacts', 'contain', 'contained', 'container', 'containing', 'contains', 'contemplate', 'contemplating', 'contemporary', 'content', 'contentment', 'contents', 'contest', 'contests', 'context', 'continually', 'continue', 'continued', 'continues', 'continuing', 'contract', 'contractor', 'contracts', 'contradiction', 'contrary', 'contrast', 'contribute', 'contributing', 'contrived', 'control', 'controlled', 'controlling', 'controversial', 'controversy', 'convenience', 'convenient', 'conveniently', 'convention', 'conventional', 'conventions', 'conversation', 'conversations', 'converted', 'convey', 'convicted', 'convictions', 'convince', 'convinced', 'convincing', 'convo', 'cook', 'cooked', 'cookie', 'cookies', 'cooking', 'cool', 'cooler', 'coolest', 'cooper', 'cop', 'cope', 'copied', 'copies', 'cops', 'copy', 'copyright', 'corcoran', 'core', 'corey', 'corn', 'corner', 'corny', 'corp', 'corporate', 'corporation', 'correct', 'correctly', 'corrupt', 'corruption', 'cos', 'cosby', 'cost', 'costs', 'costume', 'costumes', 'cotton', 'couch', 'cough', 'coughing', 'could', 'coulda', 'couldnt', 'council', 'counsel', 'count', 'countdown', 'counted', 'counter', 'counties', 'counting', 'countless', 'countries', 'country', 'counts', 'county', 'coupla', 'couple', 'coupled', 'couples', 'coupon', 'courage', 'course', 'courses', 'court', 'courtesy', 'courtney', 'courts', 'courtyard', 'cousin', 'cousins', 'cover', 'coverage', 'covered', 'covering', 'covers', 'coveted', 'cow', 'cowboy', 'coworker', 'coworkers', 'cows', 'coz', 'cozy', 'crab', 'crabby', 'crack', 'cracked', 'crackers', 'cracking', 'cracknation', 'cracks', 'craft', 'craig', 'cramp', 'crap', 'crappy', 'crash', 'crashed', 'crashes', 'crashing', 'crave', 'craving', 'crawl', 'crawled', 'crawling', 'craziest', 'crazy', 'cream', 'create', 'created', 'creates', 'creating', 'creation', 'creative', 'creativity', 'creator', 'creature', 'creatures', 'credibility', 'credit', 'credits', 'creed', 'creek', 'creep', 'creeping', 'creeps', 'creepy', 'crew', 'cried', 'cries', 'crime', 'crimes', 'criminal', 'criminals', 'cringe', 'crisis', 'crisp', 'critic', 'critical', 'criticism', 'critics', 'cross', 'crossed', 'crosses', 'crossing', 'crotch', 'crow', 'crowd', 'crowded', 'crown', 'crucial', 'cruel', 'cruelty', 'cruise', 'cruising', 'crunch', 'crush', 'crushed', 'crushes', 'crutches', 'cry', 'cryin', 'crying', 'crystal', 'css', 'cube', 'cubs', 'cue', 'cultural', 'culture', 'cultures', 'cum', 'cummings', 'cunning', 'cup', 'cups', 'curb', 'cure', 'curiosity', 'curious', 'curl', 'curled', 'curly', 'current', 'currently', 'curry', 'curse', 'cursed', 'cursing', 'curve', 'custody', 'custom', 'customer', 'customers', 'customs', 'cut', 'cute', 'cutest', 'cutie', 'cuts', 'cutting', 'cuz', 'cycle', 'cycling', 'cynical', 'cynicism', 'da', 'dad', 'daddy', 'dads', 'daehak', 'daer', 'daily', 'dali', 'dallas', 'damage', 'damaged', 'dami', 'dammit', 'damn', 'damned', 'damnit', 'damp', 'dan', 'dana', 'dance', 'danced', 'dancer', 'dancers', 'dances', 'dancing', 'dang', 'danger', 'dangerous', 'daniel', 'danielle', 'daniels', 'danny', 'dante', 'dar', 'dare', 'dared', 'daring', 'dark', 'darker', 'darkness', 'darkroom', 'darling', 'darn', 'dart', 'darth', 'dash', 'dashboard', 'dashed', 'dat', 'data', 'database', 'date', 'dated', 'dates', 'dating', 'dats', 'daughter', 'daughters', 'dave', 'david', 'davis', 'dawn', 'dawson', 'day', 'daycare', 'daydream', 'daylight', 'days', 'dbd', 'dbms', 'dbt', 'dc', 'ddr', 'de', 'dead', 'deadline', 'deadlines', 'deadly', 'deal', 'dealing', 'deals', 'dealt', 'dean', 'dear', 'dearly', 'dearth', 'death', 'deaths', 'debacle', 'debate', 'debates', 'debating', 'deborah', 'debt', 'debut', 'dec', 'decade', 'decades', 'deceased', 'december', 'decent', 'deception', 'decide', 'decided', 'decides', 'deciding', 'decision', 'decisions', 'deck', 'declare', 'declared', 'declined', 'decorate', 'dedicate', 'dedicated', 'dedication', 'dee', 'deed', 'deep', 'deeper', 'deepest', 'deeply', 'deets', 'def', 'default', 'defeat', 'defeated', 'defend', 'defended', 'defense', 'defensive', 'definately', 'define', 'defined', 'defines', 'defining', 'definite', 'definitely', 'definition', 'definitly', 'degree', 'degrees', 'deity', 'del', 'delay', 'delayed', 'delete', 'deleted', 'deliberately', 'delicate', 'delicious', 'delight', 'delighted', 'delightful', 'deliver', 'delivered', 'delivering', 'delivery', 'dem', 'demand', 'demanded', 'demanding', 'demands', 'demise', 'demo', 'democracy', 'democrat', 'democratic', 'democrats', 'demon', 'demons', 'demonstrations', 'demos', 'dems', 'den', 'denial', 'denied', 'denim', 'dennis', 'dentist', 'denver', 'deny', 'denying', 'department', 'departure', 'depeche', 'depend', 'dependent', 'depending', 'depends', 'deposits', 'depot', 'depp', 'depressed', 'depressing', 'depression', 'deprived', 'dept', 'depth', 'depths', 'dere', 'derek', 'describe', 'described', 'describes', 'describing', 'description', 'descriptive', 'desert', 'deserted', 'deserve', 'deserved', 'deserves', 'deserving', 'design', 'designed', 'designer', 'desire', 'desires', 'desk', 'desktop', 'despair', 'desperate', 'desperately', 'despise', 'despite', 'dessert', 'destination', 'destined', 'destiny', 'destroy', 'destroyed', 'destroying', 'destruction', 'destructive', 'detail', 'detailed', 'detailing', 'details', 'determination', 'determine', 'determined', 'detour', 'detrimental', 'detroit', 'devastating', 'develop', 'developed', 'developer', 'developing', 'development', 'developments', 'device', 'devices', 'devil', 'devils', 'devoid', 'devoted', 'devotion', 'dew', 'dey', 'dhabi', 'di', 'dia', 'diagnosed', 'dial', 'dialogue', 'diamond', 'diane', 'diary', 'dick', 'dictate', 'dictator', 'dictionary', 'did', 'didnt', 'die', 'died', 'diego', 'dies', 'diet', 'dieting', 'differ', 'difference', 'differences', 'different', 'differently', 'differing', 'difficult', 'difficulty', 'diffrent', 'dig', 'digest', 'diggin', 'digging', 'digital', 'digitally', 'digits', 'digress', 'dilemma', 'dillon', 'dim', 'din', 'dinah', 'diner', 'ding', 'dining', 'dinner', 'dinners', 'dip', 'direct', 'directed', 'direction', 'directions', 'directly', 'director', 'directory', 'dirt', 'dirty', 'dis', 'disability', 'disabled', 'disagree', 'disappear', 'disappeared', 'disappoint', 'disappointed', 'disappointing', 'disappointment', 'disaster', 'disc', 'discarded', 'discipline', 'disclaimer', 'disco', 'disconnect', 'discount', 'discover', 'discovered', 'discovery', 'discrimination', 'discs', 'discuss', 'discussed', 'discussing', 'discussion', 'discussions', 'disease', 'diseases', 'disguise', 'disgust', 'disgusted', 'disgusting', 'dish', 'dishes', 'dishwasher', 'dislike', 'dismal', 'dismiss', 'disney', 'disorder', 'display', 'displayed', 'displays', 'dispose', 'disproportionately', 'dispute', 'disputes', 'disregard', 'disrespect', 'disrespectful', 'distance', 'distant', 'distinct', 'distinction', 'distinguish', 'distorted', 'distortion', 'distract', 'distracted', 'distracting', 'distraction', 'distractions', 'distribution', 'district', 'districts', 'disturbed', 'disturbing', 'ditch', 'diva', 'divas', 'dive', 'diverse', 'diversity', 'divide', 'divided', 'divine', 'diving', 'division', 'divorce', 'divorced', 'dizzy', 'dj', 'djs', 'dl', 'dnc', 'do', 'doc', 'doctor', 'doctors', 'document', 'documentary', 'documented', 'documents', 'dodgeball', 'dodgy', 'does', 'doesnt', 'dog', 'dogs', 'doin', 'doll', 'dollar', 'dollars', 'dolly', 'domain', 'dome', 'domestic', 'dominant', 'dominated', 'dominion', 'don', 'donald', 'donate', 'donations', 'done', 'dong', 'donkey', 'donna', 'donny', 'dont', 'donut', 'donuts', 'doo', 'doodle', 'doom', 'doomed', 'door', 'doorbell', 'doors', 'doorway', 'dope', 'dork', 'dorky', 'dorm', 'dorms', 'dorothy', 'dose', 'doses', 'dot', 'double', 'doubled', 'doubt', 'doubts', 'douche', 'doug', 'dough', 'douglas', 'down', 'downed', 'downfall', 'download', 'downloaded', 'downright', 'downs', 'downside', 'downstairs', 'downtown', 'dozen', 'dozens', 'dr', 'draft', 'drafts', 'drag', 'dragged', 'dragging', 'dragon', 'dragons', 'drags', 'drain', 'draining', 'drama', 'dramatic', 'drank', 'draw', 'drawer', 'drawing', 'drawn', 'draws', 'dread', 'dreaded', 'dream', 'dreamed', 'dreaming', 'dreams', 'dreamt', 'dress', 'dressed', 'dresses', 'dressing', 'drew', 'dribble', 'dried', 'drift', 'drifted', 'drill', 'drink', 'drinking', 'drinks', 'dripping', 'drive', 'driven', 'driver', 'drivers', 'drives', 'driveway', 'driving', 'drool', 'drooling', 'drop', 'dropped', 'dropping', 'drops', 'drove', 'drown', 'drowned', 'drowning', 'drudge', 'drug', 'drugs', 'drum', 'drumline', 'drummer', 'drums', 'drunk', 'drunken', 'dry', 'dryer', 'drying', 'dsl', 'dt', 'du', 'dual', 'dub', 'dubai', 'dubya', 'duck', 'dude', 'dudes', 'due', 'duet', 'duf', 'duffy', 'dug', 'duh', 'dull', 'dulli', 'dumb', 'dumbass', 'dump', 'dumped', 'dun', 'dune', 'dunk', 'dunno', 'duno', 'duo', 'duran', 'dust', 'duties', 'duty', 'dvd', 'dvds', 'dye', 'dyed', 'dying', 'dynamic', 'dynasty', 'dysfunctional', 'día', 'e3', 'eachother', 'eager', 'eagle', 'ear', 'earlier', 'earliest', 'early', 'earn', 'earned', 'earnest', 'earrings', 'ears', 'earth', 'ease', 'easier', 'easiest', 'easily', 'east', 'easter', 'eastern', 'easy', 'eat', 'eaten', 'eating', 'eats', 'eb', 'ebay', 'echo', 'eclectic', 'eclipse', 'economic', 'economics', 'economy', 'ecstasy', 'ed', 'eddie', 'edge', 'edges', 'edit', 'edited', 'editing', 'edition', 'editor', 'editorial', 'educated', 'education', 'educational', 'edward', 'edwards', 'ee', 'eek', 'eels', 'eep', 'effect', 'effected', 'effective', 'effectively', 'effects', 'efficient', 'effing', 'effort', 'efforts', 'eg', 'egg', 'eggs', 'ego', 'egos', 'egypt', 'egyptian', 'eh', 'eiffel', 'eight', 'einstein', 'either', 'ekeke', 'el', 'elaborate', 'elderly', 'elected', 'election', 'elections', 'electoral', 'electric', 'electricity', 'electronic', 'electronics', 'elegant', 'element', 'elementary', 'elements', 'elephant', 'elevator', 'elevators', 'eleven', 'elijah', 'eliminate', 'eliminated', 'elite', 'elizabeth', 'elk', 'ella', 'ellison', 'else', 'elsewhere', 'elvis', 'em', 'email', 'emailed', 'emails', 'embarrassed', 'embarrassing', 'embody', 'embrace', 'emerge', 'emerged', 'emergency', 'emily', 'eminem', 'emir', 'emma', 'emo', 'emotion', 'emotional', 'emotionally', 'emotions', 'emperor', 'emphasis', 'empire', 'employed', 'employee', 'employees', 'employer', 'employers', 'employment', 'emptiness', 'empty', 'emt', 'en', 'encore', 'encounter', 'encountered', 'encounters', 'encourage', 'encouraged', 'encouragement', 'encouraging', 'end', 'endearing', 'ended', 'ending', 'endless', 'ends', 'endure', 'endured', 'enemies', 'enemy', 'energetic', 'energy', 'enforce', 'enforcement', 'eng', 'engage', 'engaged', 'engagement', 'engaging', 'engine', 'engineer', 'engineering', 'engineers', 'england', 'english', 'enjoy', 'enjoyable', 'enjoyed', 'enjoying', 'enjoyment', 'enjoys', 'enlightenment', 'enormous', 'enough', 'ensemble', 'ensued', 'ensues', 'ensure', 'enter', 'entered', 'entering', 'enterprise', 'entertain', 'entertained', 'entertaining', 'entertainment', 'enthusiasm', 'enthusiastic', 'entire', 'entirely', 'entitled', 'entity', 'entrance', 'entries', 'entro', 'entry', 'entró', 'enuf', 'envelope', 'environment', 'environmental', 'envisioned', 'envy', 'ep', 'epic', 'episode', 'episodes', 'equal', 'equality', 'equally', 'equals', 'equipment', 'equipped', 'equivalent', 'er', 'era', 'erase', 'erased', 'eric', 'erica', 'erik', 'erika', 'erm', 'err', 'errands', 'error', 'errors', 'ers', 'es', 'escape', 'ese', 'esp', 'especially', 'espn', 'esque', 'essay', 'essays', 'essence', 'essential', 'essentially', 'est', 'esta', 'estaba', 'establish', 'established', 'establishment', 'estate', 'esteem', 'esto', 'et', 'etc', 'eternal', 'eternity', 'ethan', 'ethic', 'ethical', 'ethics', 'ethnic', 'euro', 'europe', 'european', 'eva', 'eve', 'even', 'evening', 'evenings', 'event', 'eventful', 'events', 'eventually', 'ever', 'every', 'every1', 'everybody', 'everyday', 'everyone', 'everyones', 'everything', 'everytime', 'everywhere', 'eviction', 'evidence', 'evident', 'evil', 'evolution', 'evolve', 'evolved', 'ew', 'ex', 'exact', 'exactly', 'exaggeration', 'exam', 'examination', 'example', 'examples', 'exams', 'excel', 'excellent', 'except', 'exception', 'exceptions', 'excerpt', 'excerpts', 'excess', 'excessive', 'exchange', 'excited', 'excitement', 'exciting', 'exclusive', 'excuse', 'excuses', 'execution', 'executive', 'exemplary', 'exercise', 'exercising', 'exhausted', 'exhausting', 'exhibit', 'exhibition', 'exile', 'exist', 'existed', 'existence', 'existing', 'exists', 'exit', 'exotic', 'expanded', 'expect', 'expectations', 'expected', 'expecting', 'expense', 'expenses', 'expensive', 'experience', 'experienced', 'experiences', 'experiencing', 'experiment', 'expert', 'experts', 'expired', 'explain', 'explained', 'explaining', 'explains', 'explanation', 'explode', 'exploded', 'exploration', 'explore', 'explorer', 'exploring', 'explosion', 'exposed', 'express', 'expressed', 'expressing', 'expression', 'expressions', 'extend', 'extended', 'extension', 'extensive', 'extent', 'external', 'extra', 'extraordinary', 'extravaganza', 'extreme', 'extremely', 'extremes', 'extremists', 'eye', 'eyebrow', 'eyebrows', 'eyed', 'eyes', 'fab', 'fabric', 'fabulous', 'face', 'faced', 'faces', 'facilities', 'facility', 'facing', 'fact', 'factor', 'factors', 'factory', 'factotum', 'facts', 'fade', 'faded', 'fades', 'fading', 'faerun', 'fag', 'fahrenheit', 'fail', 'failed', 'failing', 'fails', 'failure', 'failures', 'faint', 'fair', 'fairly', 'fairness', 'fairy', 'faith', 'faithful', 'fake', 'fall', 'fallen', 'falling', 'fallout', 'falls', 'false', 'fame', 'familiar', 'families', 'family', 'famous', 'fan', 'fancy', 'fanny', 'fans', 'fantasies', 'fantasize', 'fantastic', 'fantasy', 'far', 'farewell', 'fark', 'farm', 'farmer', 'farmers', 'fart', 'farther', 'fascinated', 'fascinating', 'fashion', 'fashioned', 'fast', 'faster', 'fat', 'fate', 'father', 'fathers', 'fathom', 'fatigue', 'fattening', 'fatter', 'fatty', 'fatty1', 'fatty2', 'fault', 'faux', 'fav', 'fave', 'faves', 'favor', 'favorite', 'favorites', 'favour', 'favourite', 'fax', 'fear', 'feared', 'fearing', 'fears', 'feat', 'feature', 'featured', 'features', 'featuring', 'feb', 'february', 'fed', 'federal', 'fedora', 'fee', 'feed', 'feedback', 'feeding', 'feeds', 'feel', 'feelin', 'feeling', 'feelings', 'feels', 'feet', 'fell', 'fella', 'fellas', 'fellow', 'fellowship', 'felt', 'female', 'feminine', 'feminist', 'fence', 'fer', 'ferrell', 'ferris', 'ferry', 'fertility', 'fest', 'festival', 'festivities', 'feuer', 'fever', 'fewer', 'ff', 'ffxi', 'fi', 'fianc', 'fiance', 'fiar', 'fiasco', 'fiction', 'fictional', 'fictitious', 'field', 'fields', 'fierce', 'fifteen', 'fifth', 'fifty', 'fight', 'fighter', 'fighting', 'fights', 'figure', 'figured', 'figures', 'figuring', 'file', 'filed', 'files', 'filing', 'filipino', 'fill', 'filled', 'filling', 'film', 'films', 'filter', 'filters', 'filth', 'filthy', 'final', 'finale', 'finalize', 'finally', 'finals', 'finances', 'financial', 'financially', 'find', 'finding', 'findings', 'finds', 'fine', 'finest', 'finger', 'fingernails', 'fingers', 'fingertips', 'finish', 'finished', 'finishing', 'fire', 'fired', 'firefighter', 'firefighting', 'fireflies', 'firefox', 'fires', 'fireworks', 'firing', 'firm', 'firms', 'first', 'firstly', 'fiscal', 'fish', 'fist', 'fit', 'fits', 'fitted', 'fitting', 'fitzgerald', 'five', 'fix', 'fixed', 'fj', 'fla', 'flag', 'flags', 'flair', 'flame', 'flames', 'flaming', 'flash', 'flashing', 'flashy', 'flat', 'flavor', 'flavored', 'flaw', 'flawed', 'flawless', 'flaws', 'fleet', 'flesh', 'flew', 'flexible', 'flick', 'flies', 'flight', 'flights', 'flint', 'flip', 'flipped', 'flipping', 'flirt', 'flirting', 'float', 'floating', 'flock', 'flooble', 'flood', 'floor', 'floors', 'flop', 'flops', 'florence', 'florida', 'flow', 'flowed', 'flower', 'flowers', 'flowing', 'flown', 'flu', 'fluid', 'flutter', 'fly', 'flying', 'fm', 'foam', 'focus', 'focused', 'focusing', 'fog', 'fold', 'folded', 'folder', 'folds', 'folk', 'folks', 'follow', 'followed', 'followers', 'following', 'follows', 'fond', 'font', 'foo', 'food', 'foods', 'fool', 'fooled', 'foolish', 'foolishness', 'fools', 'foot', 'football', 'for', 'forbid', 'forcareersuccess', 'force', 'forced', 'forces', 'forcing', 'ford', 'forehead', 'foreign', 'foreigners', 'foremost', 'forest', 'forever', 'forget', 'forgets', 'forgetting', 'forgive', 'forgiven', 'forgiveness', 'forgiving', 'forgot', 'forgotten', 'fork', 'form', 'formal', 'format', 'formation', 'formatting', 'formed', 'former', 'formerly', 'forms', 'fort', 'forth', 'forthcoming', 'fortunate', 'fortunately', 'fortune', 'forty', 'forum', 'forward', 'foster', 'fought', 'foul', 'found', 'foundation', 'founded', 'founder', 'fountain', 'fountains', 'four', 'fourth', 'fox', 'foxtrot', 'fragile', 'fragments', 'frame', 'framed', 'framework', 'france', 'franchise', 'francisco', 'frank', 'franklin', 'frankly', 'frat', 'fraud', 'freak', 'freaked', 'freakin', 'freaking', 'freaks', 'freaky', 'fred', 'fredbnafter', 'free', 'freed', 'freedom', 'freedoms', 'freelance', 'freely', 'freeway', 'freeze', 'freezing', 'fren', 'french', 'frequencies', 'frequency', 'frequent', 'frequently', 'fresh', 'freshly', 'freshman', 'fricken', 'friday', 'fridays', 'fridge', 'fried', 'friend', 'friendly', 'friends', 'friendship', 'friendships', 'friendster', 'fries', 'friggin', 'frightened', 'frightening', 'frog', 'from', 'front', 'frozen', 'fruit', 'fruits', 'frustrated', 'frustrating', 'frustration', 'frusturated', 'fry', 'fu', 'fuck', 'fucked', 'fucker', 'fuckin', 'fucking', 'fue', 'fuel', 'fulfill', 'fulfilled', 'full', 'fullest', 'fully', 'fun', 'function', 'functions', 'fund', 'fundamental', 'funded', 'funding', 'funds', 'funeral', 'funk', 'funky', 'funnie', 'funnier', 'funniest', 'funny', 'fur', 'furious', 'furniture', 'furthermore', 'fury', 'future', 'fuzzy', 'fyi', 'g4', 'ga', 'gabriel', 'gah', 'gain', 'gained', 'gaining', 'gal', 'gallery', 'gallon', 'gals', 'gamble', 'gambling', 'game', 'games', 'gaming', 'gang', 'gangs', 'gap', 'gaps', 'garage', 'garbage', 'garden', 'gardens', 'garfield', 'garlic', 'garner', 'gary', 'gas', 'gasp', 'gate', 'gates', 'gather', 'gathered', 'gathering', 'gator', 'gaudio', 'gave', 'gay', 'gaze', 'gear', 'gee', 'geek', 'geeks', 'geeky', 'geez', 'gel', 'gem', 'gems', 'gen', 'gena', 'gender', 'gene', 'general', 'generally', 'generate', 'generation', 'generations', 'generic', 'generous', 'genesis', 'genetic', 'geneva', 'genius', 'geniuses', 'genny', 'genre', 'gentile', 'gentle', 'gentleman', 'gentlemen', 'gently', 'genuine', 'genuinely', 'geo', 'geoff', 'geographic', 'geography', 'george', 'georgetown', 'georgia', 'gephardt', 'gerbilman', 'german', 'germany', 'gesture', 'get', 'gets', 'gettin', 'getting', 'gf', 'ghetto', 'ghost', 'ghosts', 'gi', 'giant', 'gibson', 'giddy', 'gift', 'gifts', 'gig', 'gigantic', 'giggle', 'giggling', 'gigs', 'gim', 'gimmick', 'gin', 'gino', 'gio', 'girl', 'girlfriend', 'girlfriends', 'girls', 'girly', 'give', 'given', 'gives', 'giving', 'glad', 'gladly', 'glamour', 'glance', 'glare', 'glares', 'glaring', 'glass', 'glasses', 'glaze', 'glen', 'glenn', 'glenna', 'glimpse', 'global', 'globe', 'gloomy', 'gloria', 'glorious', 'glory', 'glove', 'gloves', 'glow', 'glowing', 'gmail', 'gnome', 'go', 'goal', 'goals', 'goat', 'god', 'goddamn', 'goddess', 'godly', 'gods', 'goes', 'goin', 'going', 'golb', 'gold', 'golden', 'goldfish', 'golf', 'golfing', 'gon', 'gona', 'gone', 'goo', 'good', 'goodbye', 'goodies', 'goodness', 'goodnight', 'goods', 'goofy', 'google', 'goose', 'gop', 'gordon', 'gore', 'gorgeous', 'gosh', 'gossip', 'got', 'gota', 'goth', 'gothic', 'gots', 'gotten', 'gourmet', 'gov', 'government', 'governments', 'governor', 'govt', 'goztok', 'grab', 'grabbed', 'grabbing', 'grace', 'graceful', 'gracias', 'grad', 'grade', 'graders', 'grades', 'gradually', 'graduate', 'graduated', 'graduating', 'graduation', 'grain', 'grammar', 'grammy', 'grampa', 'grand', 'grandfather', 'grandma', 'grandmother', 'grandpa', 'grandparents', 'granola', 'grant', 'granted', 'graphic', 'graphics', 'grasp', 'grass', 'grateful', 'gratitude', 'grave', 'gravedigger', 'graves', 'graveyard', 'gravity', 'gray', 'great', 'greater', 'greatest', 'greatly', 'greece', 'greed', 'greek', 'greeks', 'green', 'greet', 'greeted', 'greeting', 'greetings', 'greg', 'gregory', 'grew', 'grey', 'grief', 'grill', 'grilled', 'grim', 'grin', 'grind', 'grinding', 'grip', 'groan', 'groceries', 'grocery', 'groom', 'groove', 'grooving', 'gross', 'ground', 'grounded', 'grounds', 'group', 'groups', 'grow', 'growing', 'growl', 'grown', 'grows', 'growth', 'grr', 'grrr', 'grrrr', 'grudge', 'grumble', 'grumpy', 'gtg', 'guarantee', 'guaranteed', 'guard', 'guardian', 'guards', 'gud', 'guess', 'guesse', 'guessed', 'guessing', 'guest', 'guests', 'guide', 'guided', 'guilt', 'guilty', 'guitar', 'guitarist', 'guitars', 'gulf', 'gum', 'gun', 'gunfire', 'guns', 'gustavo', 'guster', 'gut', 'guts', 'guy', 'guys', 'guyville', 'guyz', 'gw', 'gym', 'gymnastics', 'gyup', 'ha', 'habit', 'habits', 'había', 'hadnt', 'haf', 'hafta', 'hah', 'haha', 'hahah', 'hahaha', 'hahahaha', 'hahahahaha', 'haiku', 'hail', 'hair', 'haircut', 'haircuts', 'hairdressers', 'hairs', 'haiz', 'hal', 'haley', 'half', 'halfway', 'hall', 'halloween', 'hallway', 'halo', 'ham', 'hamburger', 'hamill', 'hamilton', 'hammer', 'han', 'hand', 'handed', 'handful', 'handle', 'handled', 'handles', 'handling', 'hands', 'handsome', 'handy', 'hang', 'hangin', 'hanging', 'hangover', 'hangs', 'hanks', 'happen', 'happend', 'happened', 'happening', 'happens', 'happier', 'happiest', 'happily', 'happiness', 'happy', 'harbor', 'harbour', 'hard', 'hardcore', 'harder', 'hardest', 'hardly', 'hardware', 'hardwood', 'hari', 'harm', 'harmless', 'harmony', 'harp', 'harpers', 'harris', 'harrison', 'harry', 'harsh', 'harvard', 'harvey', 'hasnt', 'hassle', 'hasta', 'hat', 'hate', 'hated', 'hates', 'hating', 'hatred', 'hats', 'hatty', 'haul', 'hauling', 'haunt', 'haunting', 'hav', 'have', 'havent', 'havnt', 'havoc', 'hawaii', 'hay', 'haze', 'he', 'head', 'headache', 'headed', 'heading', 'headline', 'headlines', 'headoflettuce43', 'headphones', 'heads', 'heal', 'healed', 'healing', 'health', 'healthy', 'hear', 'heard', 'hearing', 'hears', 'heart', 'heartbeat', 'heartbreaker', 'hearted', 'hearts', 'heat', 'heated', 'heather', 'heaven', 'heavenly', 'heavens', 'heavier', 'heavily', 'heavy', 'hebrew', 'heck', 'hectic', 'hee', 'heel', 'heels', 'heh', 'hehe', 'heheh', 'hehehe', 'height', 'heights', 'held', 'helen', 'helicopter', 'hell', 'hella', 'hellenic', 'hellenion', 'hello', 'helmet', 'help', 'helped', 'helpful', 'helping', 'helpless', 'helps', 'hence', 'henry', 'her', 'herald', 'herb', 'here', 'heres', 'heritage', 'hero', 'heroes', 'heroic', 'heroine', 'hes', 'hesitate', 'heterosexual', 'hewitt', 'hey', 'hf', 'hf2', 'hi', 'hiatus', 'hid', 'hidden', 'hide', 'hideous', 'hiding', 'high', 'higher', 'highest', 'highlight', 'highlights', 'highly', 'highway', 'hike', 'hilarious', 'hilarity', 'hilary', 'hill', 'hills', 'hilton', 'him', 'hindi', 'hint', 'hints', 'hip', 'hippies', 'hips', 'hipster', 'hire', 'hired', 'hiring', 'his', 'hispanic', 'historic', 'historical', 'historically', 'history', 'hit', 'hitler', 'hits', 'hitting', 'hiya', 'hk', 'hm', 'hmm', 'hmmm', 'hmmmm', 'hmmmmm', 'ho', 'hobbies', 'hobby', 'hockey', 'hold', 'holding', 'holds', 'hole', 'holes', 'holiday', 'holidays', 'holla', 'holly', 'hollywood', 'hols', 'holy', 'homage', 'hombre', 'home', 'homecoming', 'homeland', 'homeless', 'homepage', 'homes', 'homestead', 'hometown', 'homework', 'homosexual', 'homosexuals', 'honest', 'honestly', 'honesty', 'honey', 'hong', 'honig', 'honor', 'honored', 'honors', 'hoo', 'hood', 'hoodie', 'hook', 'hooked', 'hooker', 'hop', 'hope', 'hoped', 'hopeful', 'hopefully', 'hopeless', 'hopes', 'hoping', 'hopped', 'hopping', 'horizon', 'hormones', 'horn', 'horns', 'horoscope', 'horrible', 'horribly', 'horrid', 'horror', 'horse', 'horsemen', 'horses', 'hospital', 'hospitals', 'host', 'hosted', 'hostess', 'hostile', 'hosting', 'hosts', 'hot', 'hotel', 'hotels', 'hotmail', 'hott', 'hotter', 'hottest', 'hottie', 'hour', 'hours', 'house', 'household', 'housekeeping', 'houses', 'housing', 'houston', 'how', 'howard', 'however', 'howl', 'hows', 'hp', 'hr', 'hrs', 'htm', 'html', 'http', 'hu', 'hudson', 'hug', 'huge', 'hugged', 'hugging', 'hugs', 'huh', 'hui', 'hum', 'human', 'humane', 'humanity', 'humans', 'humble', 'humbug', 'humidity', 'humility', 'humor', 'humorous', 'humour', 'hump', 'humping', 'hundred', 'hundreds', 'hung', 'hunger', 'hungover', 'hungry', 'hunt', 'hunter', 'hunting', 'hurricane', 'hurry', 'hurt', 'hurting', 'hurts', 'husband', 'husbands', 'hush', 'hussein', 'hut', 'hv', 'hw', 'hybrid', 'hype', 'hypefactor', 'hyper', 'hyphen', 'hypocritical', 'hysterical', 'hysterically', 'hyu', 'ian', 'iba', 'ice', 'iced', 'iceland', 'icing', 'ick', 'icon', 'icons', 'id', 'idea', 'ideal', 'ideals', 'ideas', 'identical', 'identified', 'identify', 'identity', 'ideological', 'ideologies', 'ideology', 'idiot', 'idiotic', 'idiots', 'idk', 'idle', 'idm', 'idol', 'ie', 'if', 'ignorance', 'ignorant', 'ignore', 'ignored', 'ignoring', 'ii', 'iii', 'ikea', 'il', 'ill', 'illegal', 'illegals', 'illinois', 'illness', 'illogical', 'illusion', 'illustrate', 'im', 'ima', 'image', 'imagery', 'images', 'imagination', 'imagine', 'imagined', 'imagining', 'imho', 'immature', 'immediate', 'immediately', 'immense', 'immigrants', 'imminent', 'immune', 'imo', 'impact', 'impatient', 'impending', 'implement', 'implications', 'importance', 'important', 'importantly', 'imposed', 'impossible', 'impress', 'impressed', 'impression', 'impressive', 'improve', 'improved', 'improvement', 'improving', 'in', 'inability', 'inaccurate', 'inadequate', 'inappropriate', 'inbox', 'inc', 'incense', 'inch', 'inches', 'incident', 'incidentally', 'incidents', 'inclined', 'include', 'included', 'includes', 'including', 'inclusion', 'income', 'incompetence', 'incompetent', 'increase', 'increased', 'increases', 'increasing', 'increasingly', 'incredible', 'incredibly', 'incumbent', 'indeed', 'independence', 'independent', 'index', 'india', 'indian', 'indiana', 'indicated', 'indicating', 'indication', 'indie', 'indigo', 'individual', 'individuals', 'induced', 'induction', 'indulge', 'indulging', 'industrial', 'industry', 'inevitable', 'inevitably', 'infamous', 'infant', 'infection', 'inferno', 'infinite', 'infinitely', 'influence', 'influenced', 'influences', 'info', 'inform', 'information', 'informative', 'informed', 'informs', 'infrastructure', 'infront', 'ing', 'ingredients', 'inherent', 'initial', 'initially', 'initiate', 'injections', 'injured', 'injuries', 'injury', 'injustice', 'inline', 'inmates', 'inn', 'inner', 'inning', 'innocence', 'innocent', 'inok', 'input', 'insane', 'insanely', 'insanity', 'insecure', 'insecurities', 'insert', 'inside', 'insight', 'insights', 'insignificant', 'insist', 'insisted', 'insists', 'insomnia', 'insomniac', 'inspection', 'inspiration', 'inspirational', 'inspire', 'inspired', 'inspiring', 'install', 'installed', 'installment', 'instance', 'instances', 'instant', 'instantly', 'instead', 'instinct', 'instincts', 'institute', 'institution', 'instructions', 'instructor', 'instrument', 'instrumental', 'instruments', 'insult', 'insulted', 'insulting', 'insurance', 'intact', 'integration', 'integrity', 'intellectual', 'intelligence', 'intelligent', 'intend', 'intended', 'intense', 'intensely', 'intent', 'intention', 'intentionally', 'intentions', 'interact', 'interaction', 'interest', 'interested', 'interesting', 'interestingly', 'interests', 'interior', 'intern', 'internal', 'international', 'internet', 'interpol', 'interpretation', 'interrupt', 'interrupted', 'interstate', 'interview', 'interviewed', 'interviewer', 'interviewing', 'interviews', 'intimate', 'intimidated', 'intrigued', 'intriguing', 'intro', 'introduce', 'introduced', 'introducing', 'introduction', 'introspective', 'invade', 'invaded', 'invading', 'invasion', 'invented', 'invest', 'investigate', 'investing', 'investment', 'invisible', 'invitation', 'invitations', 'invite', 'invited', 'invites', 'inviting', 'involve', 'involved', 'involves', 'involving', 'iowa', 'ip', 'ipod', 'ipt', 'iq', 'iran', 'iraq', 'iraqi', 'iraqis', 'ireland', 'irene', 'irises', 'irish', 'iron', 'ironic', 'ironically', 'irony', 'irrational', 'irrelevant', 'irritated', 'irritating', 'is', 'ish', 'islamic', 'island', 'isnt', 'isolated', 'israel', 'israelis', 'issue', 'issues', 'it', 'italian', 'italy', 'itch', 'itching', 'item', 'items', 'its', 'itunes', 'iv', 'ive', 'ivf', 'jack', 'jackass', 'jacket', 'jackie', 'jackson', 'jacob', 'jail', 'jake', 'jam', 'jamboree', 'james', 'jamie', 'jamming', 'jan', 'jane', 'janelle', 'jangles', 'janice', 'january', 'jap', 'japan', 'japanese', 'jar', 'jared', 'jarvis', 'jason', 'jay', 'jayhawks', 'jazz', 'jazzboyj99', 'jazzed', 'jc', 'je', 'jealous', 'jealousy', 'jean', 'jeans', 'jeb', 'jedi', 'jeepers', 'jeez', 'jefe', 'jeff', 'jelly', 'jen', 'jender', 'jennifer', 'jenny', 'jeremy', 'jerk', 'jerks', 'jerren', 'jerry', 'jersey', 'jesse', 'jessica', 'jessie', 'jesus', 'jet', 'jewel', 'jewelry', 'jewish', 'jig', 'jill', 'jim', 'jimi', 'jimmeh', 'jimmy', 'jk', 'jls', 'jo', 'joan', 'joann', 'joanna', 'job', 'jobs', 'jock', 'joe', 'joel', 'joey', 'jogging', 'john', 'johnathan', 'johnny', 'johnreed', 'johnson', 'join', 'joined', 'joining', 'joint', 'joke', 'jokes', 'joking', 'jokingly', 'jon', 'jonah', 'jonathan', 'jones', 'jono', 'joo', 'jordan', 'jose', 'joseph', 'josh', 'journal', 'journals', 'journey', 'jovi', 'joy', 'joyce', 'joyful', 'joys', 'jpg', 'jr', 'jragon', 'js', 'juan', 'juana', 'judge', 'judged', 'judgement', 'judges', 'judging', 'judgment', 'judicial', 'juice', 'jukebox', 'julia', 'julie', 'juliet', 'july', 'jumbo', 'jump', 'jumped', 'jumping', 'jumps', 'june', 'jungle', 'junior', 'junk', 'junkie', 'jury', 'jus', 'just', 'justice', 'justification', 'justify', 'justin', 'juz', 'ka', 'kala', 'kami', 'kansas', 'karaoke', 'karen', 'karl', 'karli', 'karma', 'karon', 'kasi', 'kate', 'katharine', 'katherine', 'kathleen', 'kathy', 'kati', 'katie', 'kayla', 'kc', 'keahey', 'ked', 'keep', 'keeper', 'keeping', 'keeps', 'keith', 'keke', 'kelly', 'ken', 'kena', 'kendo', 'kennedy', 'kenneth', 'kentucky', 'kept', 'kerouac', 'kerry', 'ketchup', 'kevin', 'key', 'keyboard', 'keys', 'kfc', 'khaos', 'khorkina', 'kick', 'kickball', 'kicked', 'kicker', 'kickin', 'kicking', 'kicks', 'kid', 'kidd', 'kidding', 'kids', 'kill', 'killed', 'killer', 'killers', 'killing', 'kills', 'kim', 'kind', 'kinda', 'kindergarten', 'kindly', 'kindness', 'kindof', 'kinds', 'king', 'kingdom', 'kings', 'kiss', 'kissed', 'kisses', 'kissing', 'kit', 'kitchen', 'kitten', 'kittens', 'kitty', 'kleenex', 'kmfdm', 'knack', 'knee', 'kneel', 'knees', 'knew', 'knick', 'knife', 'knit', 'knitting', 'knives', 'kno', 'knock', 'knocked', 'knocking', 'know', 'knowing', 'knowledge', 'known', 'knows', 'ko', 'kobe', 'kong', 'kookaburra', 'kool', 'korea', 'korean', 'koreans', 'krackle', 'ku', 'kudos', 'kun', 'kung', 'kurt', 'kute', 'kuwait', 'kwan', 'kyle', 'kyoto', 'la', 'lab', 'label', 'labeled', 'labels', 'labor', 'lace', 'lack', 'lacked', 'lacking', 'lacks', 'lacrosse', 'laden', 'ladies', 'lads', 'lady', 'lah', 'lahat', 'laid', 'lake', 'lakers', 'lamb', 'lame', 'lamp', 'lance', 'land', 'landahz', 'landed', 'landing', 'landlord', 'lands', 'landscape', 'lane', 'lanes', 'language', 'languages', 'lap', 'laps', 'laptop', 'lar', 'large', 'largely', 'larger', 'largest', 'lars', 'larwence', 'larx', 'las', 'laser', 'last', 'lasted', 'lasting', 'lasts', 'late', 'lately', 'later', 'latest', 'latin', 'lator', 'latte', 'latter', 'lau', 'laugh', 'laughable', 'laughed', 'laughing', 'laughs', 'laughter', 'launch', 'launched', 'laundry', 'laura', 'lauren', 'law', 'lawn', 'lawrence', 'laws', 'lawsuit', 'lawyer', 'lawyers', 'lax', 'lay', 'layed', 'layer', 'layers', 'laying', 'layout', 'lazy', 'lb', 'lbs', 'le', 'lead', 'leader', 'leaders', 'leadership', 'leading', 'leads', 'leaf', 'league', 'leah', 'lean', 'leaning', 'leans', 'leap', 'leapfrogging', 'leaps', 'learn', 'learned', 'learning', 'learnt', 'least', 'leather', 'leave', 'leaves', 'leaving', 'lecture', 'lectures', 'led', 'lee', 'left', 'leftover', 'leftovers', 'lefty', 'leg', 'legacy', 'legal', 'legally', 'legend', 'legendary', 'legislation', 'legislature', 'legitimate', 'lego', 'legs', 'leia', 'leisure', 'lem', 'lemon', 'lemonade', 'lend', 'length', 'lengthy', 'lens', 'lent', 'leo', 'leonard', 'ler', 'les', 'lesbian', 'lesbians', 'less', 'lesser', 'lesson', 'lessons', 'lest', 'let', 'lets', 'letter', 'letters', 'letting', 'level', 'levels', 'lewis', 'lexington', 'lg', 'liao', 'liar', 'libbo', 'liberal', 'liberals', 'liberation', 'liberties', 'liberty', 'libraries', 'library', 'license', 'licious', 'lick', 'licking', 'lie', 'lied', 'lies', 'life', 'lifes', 'lifestyle', 'lifetime', 'lift', 'lifted', 'lifting', 'light', 'lighten', 'lighter', 'lighting', 'lightning', 'lights', 'lightsaber', 'like', 'liked', 'likelihood', 'likely', 'likes', 'likey', 'liking', 'lil', 'lily', 'lim', 'lime', 'limit', 'limited', 'limiting', 'limits', 'limp', 'lin', 'lincoln', 'linda', 'lindsay', 'lindsey', 'line', 'lined', 'lines', 'lineup', 'linger', 'lingering', 'lining', 'link', 'linked', 'links', 'linux', 'lion', 'lions', 'lip', 'lips', 'lipstick', 'liquid', 'lisa', 'list', 'listed', 'listen', 'listened', 'listening', 'listens', 'listing', 'listings', 'lists', 'lit', 'lite', 'literal', 'literally', 'literary', 'literature', 'litter', 'little', 'littlest', 'live', 'lived', 'livejournal', 'lives', 'livin', 'living', 'liz', 'lizzy', 'lj', 'll', 'llc', 'lmao', 'lo', 'load', 'loaded', 'loading', 'loads', 'loan', 'loans', 'lobby', 'lobster', 'local', 'locate', 'located', 'location', 'lock', 'locked', 'locker', 'locking', 'log', 'logan', 'logic', 'logical', 'logs', 'lol', 'lolx', 'lolz', 'london', 'lone', 'loneliness', 'lonely', 'long', 'longer', 'longest', 'longhorn', 'longing', 'look', 'looked', 'lookin', 'looking', 'looks', 'loop', 'loops', 'loose', 'looting', 'lor', 'lord', 'lorx', 'los', 'lose', 'loser', 'losers', 'loses', 'losing', 'loss', 'lost', 'lot', 'lots', 'lotsa', 'lott', 'lotta', 'lottery', 'loud', 'louder', 'loudly', 'louis', 'louisiana', 'lounge', 'lousy', 'love', 'loved', 'lovely', 'lover', 'lovers', 'loves', 'lovin', 'loving', 'lovingly', 'low', 'lower', 'lowered', 'lowest', 'loyal', 'loyalty', 'lp', 'lt', 'luc', 'lucas', 'luck', 'luckiest', 'luckily', 'lucky', 'lucrative', 'luego', 'luggage', 'luke', 'lump', 'luna', 'lunch', 'luncheon', 'lung', 'lungs', 'lupron', 'lush', 'lust', 'luv', 'luxurious', 'luxury', 'luzern', 'lying', 'lyk', 'lyric', 'lyrics', 'lz', 'ma', 'mac', 'macaroni', 'macbeth', 'machine', 'machines', 'macintosh', 'macs', 'mad', 'made', 'madison', 'madly', 'madness', 'madonna', 'mafia', 'mag', 'magazine', 'magazines', 'maggie', 'magic', 'magical', 'magnificent', 'mah', 'maid', 'mail', 'mailbox', 'mailed', 'mailing', 'mails', 'main', 'maine', 'mainly', 'mainstream', 'maintain', 'maintaining', 'maintenance', 'major', 'majority', 'majorly', 'make', 'maker', 'makers', 'makes', 'makeup', 'makin', 'making', 'malay', 'male', 'males', 'malicious', 'mall', 'malt', 'mama', 'mamas', 'man', 'manage', 'managed', 'management', 'manager', 'managers', 'manages', 'managing', 'manda', 'mandate', 'mandatory', 'mandy', 'mango', 'manhattan', 'maniac', 'manly', 'manner', 'manual', 'many', 'map', 'maple', 'marathon', 'marble', 'marc', 'march', 'marching', 'margaret', 'margaritas', 'marijuana', 'marine', 'marines', 'mario', 'mark', 'marked', 'market', 'marketing', 'marks', 'marriage', 'marriages', 'married', 'marry', 'mars', 'marsha', 'marshall', 'marshals', 'mart', 'martha', 'martin', 'martini', 'mary', 'maryland', 'mas', 'mask', 'masks', 'mass', 'masses', 'massive', 'master', 'masterpiece', 'masters', 'mat', 'match', 'matched', 'matches', 'matching', 'mate', 'material', 'materials', 'maternity', 'mates', 'math', 'mathew', 'maths', 'mathz', 'matrix', 'matt', 'matter', 'matters', 'matthew', 'matthews', 'mattress', 'mature', 'maturity', 'max', 'maximum', 'may', 'mayb', 'maybe', 'mayer', 'mayor', 'maze', 'mazing', 'mb', 'mba', 'mbe', 'mbr', 'mc', 'mcdonald', 'mcdonalds', 'md', 'mdash', 'me', 'meal', 'meals', 'mean', 'meaning', 'meaningful', 'meaningless', 'means', 'meant', 'meantime', 'meanwhile', 'measure', 'measures', 'meat', 'meatloaf', 'medal', 'media', 'medical', 'medicare', 'medication', 'medicine', 'medieval', 'mediocre', 'meditation', 'medium', 'meet', 'meeting', 'meetings', 'meets', 'meg', 'mega', 'megan', 'meggieos', 'meh', 'mel', 'melbourne', 'melissa', 'mellow', 'melodic', 'melodies', 'melody', 'melt', 'melting', 'melts', 'member', 'members', 'membership', 'memo', 'memorable', 'memorial', 'memories', 'memorize', 'memorized', 'memory', 'men', 'ment', 'mental', 'mentality', 'mentally', 'mention', 'mentioned', 'mentioning', 'mentions', 'mentor', 'menu', 'meow', 'merchandise', 'mercury', 'mercy', 'mere', 'merely', 'merit', 'mermaid', 'merry', 'mess', 'message', 'messages', 'messed', 'messing', 'messy', 'met', 'metal', 'meter', 'meters', 'method', 'methods', 'metro', 'mexican', 'mexico', 'mg', 'mga', 'mi', 'miami', 'mic', 'mice', 'michael', 'michelle', 'michigan', 'mickey', 'microsoft', 'mid', 'middle', 'midnight', 'midst', 'midway', 'midwest', 'might', 'mighty', 'mike', 'mil', 'mild', 'mildly', 'mile', 'miles', 'milestone', 'military', 'milk', 'mill', 'miller', 'million', 'millions', 'milo', 'milwaukee', 'min', 'mind', 'minded', 'mindful', 'mindi', 'mindless', 'minds', 'mine', 'mini', 'miniature', 'minimal', 'minimum', 'minister', 'ministry', 'minivan', 'minneapolis', 'minnesota', 'minor', 'minority', 'mins', 'mint', 'minus', 'minute', 'minutes', 'mir', 'miracle', 'miraculously', 'miriam', 'mirna', 'mirror', 'mis', 'miserable', 'misery', 'misguided', 'misleading', 'miss', 'missed', 'misses', 'missile', 'missing', 'mission', 'mississippi', 'missouri', 'mistake', 'mistaken', 'mistakes', 'mister', 'mitch', 'mix', 'mixed', 'mixes', 'mixing', 'mixture', 'mlk', 'mm', 'mmm', 'mmmm', 'mmmmm', 'mn', 'mo', 'moan', 'moaning', 'mobile', 'mocha', 'mock', 'mode', 'model', 'models', 'modem', 'moderate', 'modern', 'modest', 'modified', 'mog', 'mogpac', 'mogworld', 'mom', 'moment', 'momento', 'moments', 'momentum', 'mommy', 'moms', 'mon', 'monday', 'mondays', 'money', 'moniker', 'monitor', 'monk', 'monkey', 'monkeys', 'mono', 'monster', 'monsters', 'month', 'monthly', 'months', 'mood', 'moods', 'moody', 'moon', 'mooooo', 'moore', 'moral', 'morals', 'more', 'morn', 'morning', 'mornings', 'moron', 'morons', 'morrissey', 'mortgage', 'moses', 'mosquito', 'most', 'mostly', 'mother', 'motherhood', 'mothers', 'motion', 'motions', 'motivated', 'motivation', 'motive', 'motorcycle', 'motto', 'mount', 'mountain', 'mountains', 'mourn', 'mourning', 'mouse', 'mouth', 'mouths', 'move', 'moved', 'movement', 'movements', 'moves', 'movie', 'movies', 'moving', 'mow', 'mowing', 'moz', 'mp3', 'mph', 'mpls', 'mr', 'mrs', 'ms', 'msn', 'mt', 'mtv', 'much', 'mucho', 'mud', 'muddy', 'muffin', 'muffins', 'mug', 'mugging', 'mullet', 'multi', 'multiple', 'multiverse', 'mum', 'mummy', 'mundane', 'mundo', 'muppet', 'murder', 'murphy', 'murray', 'muscle', 'muscles', 'muse', 'museum', 'music', 'musical', 'musically', 'musician', 'musicians', 'muslim', 'muslims', 'must', 'mustard', 'mutual', 'muy', 'muz', 'my', 'myron', 'myself', 'mysql', 'mysteries', 'mysterious', 'mystery', 'mystic', 'mythtv', 'na', 'nada', 'nader', 'nag', 'nagging', 'nah', 'nail', 'nailed', 'nails', 'naive', 'naked', 'nam', 'name', 'named', 'namely', 'names', 'nancy', 'nanny', 'nap', 'napkins', 'napoleon', 'narrow', 'nasa', 'nashville', 'nasty', 'nate', 'nation', 'national', 'nations', 'nationwide', 'native', 'natural', 'naturally', 'nature', 'naughty', 'nauseous', 'navigate', 'navy', 'nay', 'nazi', 'nbc', 'nbsp', 'nc', 'ncaa', 'ne', 'neal', 'near', 'nearby', 'nearly', 'neat', 'neatly', 'neb', 'necessarily', 'necessary', 'neck', 'necklace', 'need', 'needed', 'needing', 'needle', 'needles', 'needless', 'needs', 'needy', 'negative', 'negatives', 'neglected', 'neglecting', 'negro', 'negroes', 'neighbor', 'neighborhood', 'neighbors', 'neil', 'neill', 'neither', 'nelly', 'nelson', 'nemesis', 'neo', 'neon', 'neopets', 'nephew', 'nerd', 'nerdy', 'neruda', 'nerve', 'nerves', 'nervous', 'ness', 'nest', 'net', 'netscape', 'network', 'neurotic', 'nevada', 'never', 'nevermind', 'nevertheless', 'new', 'neway', 'newer', 'newest', 'newly', 'news', 'newsletter', 'newspaper', 'newspapers', 'newton', 'next', 'ng', 'nga', 'ni', 'nice', 'nicely', 'nicer', 'nicest', 'nick', 'nickel', 'nickname', 'nicole', 'niece', 'nieces', 'nifty', 'nigel', 'night', 'nightmare', 'nightmares', 'nights', 'nike', 'nina', 'nine', 'nintendo', 'nite', 'nixon', 'no', 'noam', 'noble', 'nobody', 'nod', 'nodded', 'noe', 'noise', 'noises', 'noisy', 'nomar', 'nominated', 'nomination', 'non', 'none', 'nonetheless', 'nonsense', 'noodle', 'noodles', 'noon', 'nooo', 'nope', 'norm', 'normal', 'normally', 'north', 'northern', 'norton', 'nose', 'nostalgia', 'nostalgic', 'not', 'notch', 'note', 'notebook', 'noted', 'notes', 'nothin', 'nothing', 'nothingness', 'notice', 'noticed', 'notices', 'noticing', 'notion', 'notions', 'noun', 'nova', 'novel', 'novels', 'november', 'now', 'nowadays', 'nowhere', 'npr', 'nsb', 'nsg', 'nt', 'nth', 'nuclear', 'nude', 'nuevo', 'nuff', 'numb', 'number', 'numbers', 'numerous', 'nun', 'nunca', 'nurse', 'nursing', 'nut', 'nuts', 'nutshell', 'nv', 'nvm', 'ny', 'nyc', 'oak', 'oakland', 'oasis', 'oatmeal', 'obama', 'obese', 'obi', 'object', 'objective', 'objects', 'obl', 'obligations', 'oblivion', 'oblivious', 'obnoxious', 'obscene', 'obscure', 'observation', 'observations', 'observe', 'observed', 'obsess', 'obsessed', 'obsession', 'obsessive', 'obtain', 'obtained', 'obvious', 'obviously', 'occasion', 'occasional', 'occasionally', 'occasions', 'occupation', 'occupied', 'occupy', 'occur', 'occured', 'occurred', 'occurs', 'ocean', 'oct', 'october', 'odd', 'oddly', 'odds', 'of', 'off', 'offend', 'offended', 'offense', 'offer', 'offered', 'offering', 'offers', 'office', 'officer', 'officers', 'offices', 'official', 'officially', 'officials', 'often', 'og', 'oh', 'ohh', 'ohio', 'oil', 'oj', 'ok', 'okay', 'okies', 'okok', 'ol', 'old', 'older', 'oldest', 'oldies', 'olds', 'ole', 'olive', 'oliver', 'olives', 'olympic', 'olympics', 'om', 'omg', 'on', 'once', 'one', 'ones', 'oneself', 'ongoing', 'onion', 'onions', 'online', 'only', 'onstage', 'onto', 'onward', 'onwards', 'oo', 'oof', 'ooh', 'ooo', 'oooh', 'oops', 'op', 'open', 'opened', 'opener', 'opening', 'openly', 'opens', 'opera', 'operate', 'operating', 'operation', 'operations', 'opinion', 'opinions', 'opponent', 'opportunities', 'opportunity', 'oppose', 'opposed', 'opposing', 'opposite', 'opposites', 'opposition', 'oprah', 'ops', 'opted', 'optimism', 'optimistic', 'option', 'options', 'opus', 'or', 'oral', 'orange', 'oranges', 'orchestra', 'order', 'ordered', 'ordering', 'orderly', 'orders', 'ordinary', 'oregon', 'org', 'organ', 'organic', 'organization', 'organizations', 'organize', 'organized', 'organizing', 'orientation', 'oriented', 'origin', 'original', 'originally', 'orlando', 'orleans', 'os', 'osama', 'oscar', 'other', 'others', 'otherwise', 'ottawa', 'ouch', 'ought', 'ounce', 'our', 'out', 'outage', 'outcome', 'outdoor', 'outer', 'outfit', 'outgoing', 'outing', 'outlet', 'outlook', 'outrage', 'outside', 'outskirts', 'outstanding', 'outta', 'ova', 'ovaries', 'oven', 'over', 'overall', 'overbearing', 'overcome', 'overdubs', 'overdue', 'overhead', 'overly', 'overnight', 'overpriced', 'overrated', 'overseas', 'oversized', 'overslept', 'overtime', 'overweight', 'overwhelmed', 'overwhelming', 'ow', 'owe', 'owes', 'owned', 'owner', 'owners', 'owning', 'owns', 'oxidizer', 'oxygen', 'oy', 'oz', 'pa', 'pablo', 'pac', 'pace', 'pacey', 'pacific', 'pacifica', 'pack', 'package', 'packed', 'packet', 'packing', 'pad', 'paddle', 'paddy', 'pagan', 'page', 'pages', 'paid', 'pain', 'painful', 'pains', 'paint', 'painted', 'painting', 'paintings', 'pair', 'pairs', 'pajamas', 'pakistan', 'pal', 'palace', 'palast', 'pale', 'pally', 'palm', 'palms', 'pan', 'panache', 'pancakes', 'panda', 'pandies', 'pandyland', 'pandylandaz', 'pandylanders', 'panel', 'panic', 'panther', 'panties', 'pants', 'panty', 'papa', 'paper', 'papers', 'paperwork', 'par', 'para', 'parade', 'paradise', 'paragraph', 'parallel', 'paranoia', 'paranoid', 'paraphrase', 'pardon', 'parent', 'parents', 'paris', 'parish', 'park', 'parked', 'parker', 'parking', 'parks', 'parliament', 'part', 'partial', 'partially', 'participate', 'participating', 'participation', 'particular', 'particularly', 'parties', 'partisan', 'partly', 'partner', 'partners', 'parts', 'party', 'partying', 'pass', 'passage', 'passed', 'passenger', 'passengers', 'passes', 'passing', 'passion', 'passionate', 'passionately', 'passions', 'passive', 'password', 'past', 'pasta', 'paste', 'pastor', 'pat', 'patch', 'path', 'pathetic', 'paths', 'patience', 'patient', 'patients', 'patio', 'patrick', 'patriot', 'patriotic', 'patriotism', 'patriots', 'patrol', 'patron', 'pattern', 'patterns', 'paul', 'pause', 'paused', 'pavement', 'pawn', 'paws', 'pay', 'paycheck', 'payday', 'paying', 'payment', 'payments', 'pays', 'pb', 'pbj', 'pbj1', 'pbj3', 'pbs', 'pc', 'pcs', 'pda', 'pe', 'peace', 'peaceful', 'peach', 'peak', 'peanut', 'peanuts', 'pearl', 'peas', 'pedestrians', 'pee', 'peeing', 'peel', 'peeps', 'peer', 'peers', 'peeve', 'peice', 'pelosi', 'pen', 'penalty', 'pending', 'pengz', 'penis', 'pennies', 'penny', 'pentagon', 'people', 'peoples', 'pepper', 'peppers', 'pepsi', 'per', 'perceive', 'perceived', 'percent', 'percentage', 'perception', 'perfect', 'perfection', 'perfectly', 'perform', 'performance', 'performances', 'performed', 'performers', 'performing', 'perfume', 'perhaps', 'period', 'periods', 'permanent', 'permanently', 'permission', 'permit', 'pero', 'perpetual', 'perpetually', 'person', 'personal', 'personalities', 'personality', 'personally', 'personnel', 'persons', 'perspective', 'peru', 'pet', 'petals', 'pete', 'peter', 'petersburg', 'petition', 'pets', 'petty', 'phair', 'phantom', 'pharsalus8948', 'phase', 'phd', 'phenomenal', 'phenomenon', 'phew', 'phil', 'philadelphia', 'philippines', 'philly', 'philosophical', 'philosophy', 'phoenix', 'phone', 'phones', 'photo', 'photograph', 'photographer', 'photographers', 'photographs', 'photography', 'photos', 'photoshop', 'php', 'phrase', 'phrases', 'physical', 'physically', 'physics', 'piano', 'pic', 'pick', 'picked', 'picking', 'picks', 'picnic', 'pics', 'picture', 'pictured', 'pictures', 'pie', 'piece', 'pieces', 'pierce', 'pierced', 'piercing', 'piercings', 'pig', 'pigface', 'pigs', 'pikahu', 'pile', 'piled', 'pilgrimage', 'pill', 'pillars', 'pillow', 'pillows', 'pills', 'pilot', 'pimp', 'pimpin', 'pin', 'pine', 'pineapple', 'pink', 'pinky', 'pinned', 'pins', 'pint', 'pinto', 'pipe', 'pirate', 'pirates', 'pisces', 'piss', 'pissed', 'pisses', 'pissing', 'pistons', 'pit', 'pitch', 'pitched', 'pitcher', 'pitchers', 'pitching', 'pittsburgh', 'pity', 'pix', 'pixies', 'pizza', 'pj', 'place', 'placed', 'places', 'placing', 'plague', 'plaid', 'plain', 'plan', 'plane', 'planes', 'planet', 'planned', 'planner', 'planning', 'plans', 'plant', 'plantation', 'planted', 'plants', 'plastic', 'plate', 'plates', 'platform', 'platinum', 'plato', 'play', 'playboy', 'played', 'player', 'players', 'playground', 'playing', 'plays', 'plaza', 'plea', 'plead', 'pleasant', 'pleasantly', 'please', 'pleased', 'pleasing', 'pleasure', 'pleasures', 'pledge', 'plenty', 'plez', 'plot', 'plug', 'plum', 'plunge', 'plus', 'pm', 'pms', 'po', 'pocket', 'pockets', 'poem', 'poems', 'poet', 'poetic', 'poetry', 'point', 'pointed', 'pointers', 'pointing', 'pointless', 'points', 'poison', 'poisoning', 'poke', 'poked', 'pokemon', 'poker', 'pole', 'poles', 'police', 'policies', 'policy', 'polish', 'polite', 'political', 'politically', 'politician', 'politicians', 'politics', 'polka', 'poll', 'polls', 'pollution', 'polo', 'pond', 'ponder', 'pondering', 'pong', 'pony', 'poo', 'pool', 'poop', 'poor', 'poorly', 'pop', 'popcorn', 'popped', 'popping', 'pops', 'populace', 'popular', 'popularity', 'population', 'por', 'porch', 'pore', 'pork', 'porn', 'port', 'portable', 'portfolio', 'portion', 'portland', 'portrait', 'portrayed', 'portugal', 'pose', 'posed', 'poser', 'posh', 'position', 'positions', 'positive', 'positively', 'possessed', 'possession', 'possibilities', 'possibility', 'possible', 'possibly', 'post', 'postal', 'postcard', 'posted', 'poster', 'posters', 'posting', 'postings', 'postponed', 'posts', 'pot', 'potato', 'potential', 'potentially', 'potter', 'pound', 'pounding', 'pounds', 'pour', 'poured', 'pouring', 'poverty', 'powder', 'powell', 'power', 'powered', 'powerful', 'powerless', 'powers', 'pp', 'ppl', 'pple', 'pplz', 'pr', 'prac', 'practical', 'practically', 'practice', 'practiced', 'practices', 'practicing', 'practise', 'prada', 'praise', 'prank', 'pray', 'prayed', 'prayer', 'prayers', 'praying', 'pre', 'preach', 'precious', 'predict', 'predictable', 'preface', 'prefer', 'preferably', 'preference', 'preferences', 'preferred', 'pregnancy', 'pregnant', 'prejudice', 'premiere', 'premise', 'prep', 'preparation', 'prepare', 'prepared', 'preparing', 'prescription', 'presence', 'present', 'presentation', 'presentations', 'presented', 'presenting', 'presents', 'preserve', 'presidency', 'president', 'presidential', 'presidents', 'press', 'pressed', 'pressing', 'pressure', 'pressures', 'prestigious', 'pretend', 'pretended', 'pretending', 'pretentious', 'pretty', 'prevent', 'prevented', 'preview', 'previous', 'previously', 'prey', 'pria', 'price', 'priced', 'priceless', 'prices', 'pride', 'priest', 'primal', 'primarily', 'primary', 'prime', 'prince', 'princess', 'principal', 'principle', 'principles', 'print', 'printed', 'prior', 'priorities', 'priority', 'prison', 'prisoner', 'prisoners', 'privacy', 'private', 'privilege', 'prize', 'pro', 'prob', 'probably', 'problem', 'problems', 'probly', 'procedure', 'proceed', 'proceeded', 'process', 'processes', 'proclaiming', 'procrastinating', 'prodigal', 'produce', 'produced', 'producer', 'producers', 'produces', 'producing', 'product', 'production', 'productive', 'productivity', 'products', 'prof', 'profession', 'professional', 'professionals', 'professor', 'professors', 'profile', 'profit', 'profound', 'program', 'programmed', 'programmer', 'programming', 'programs', 'progress', 'progressed', 'progressing', 'prohibited', 'prohibition', 'project', 'projection', 'projects', 'prolly', 'prom', 'prominent', 'promise', 'promised', 'promises', 'promising', 'promote', 'promoting', 'promotion', 'prompt', 'prompted', 'promptly', 'pronounce', 'pronounced', 'proof', 'prop', 'propaganda', 'proper', 'properly', 'properties', 'property', 'proportions', 'proposal', 'propose', 'proposed', 'proposition', 'props', 'prospects', 'prosper', 'protect', 'protected', 'protecting', 'protection', 'protective', 'protector', 'protein', 'protest', 'protesting', 'protestor', 'protestors', 'protocol', 'proud', 'proudly', 'prove', 'proved', 'proven', 'proves', 'provide', 'provided', 'provider', 'provides', 'providing', 'proving', 'provision', 'provisions', 'provoked', 'provoking', 'proximity', 'ps', 'ps2', 'pseudo', 'psyche', 'psyched', 'psycho', 'pub', 'public', 'publication', 'publicity', 'publicly', 'publish', 'published', 'publisher', 'publishing', 'pudo', 'puke', 'puked', 'puking', 'pull', 'pulled', 'pulling', 'pulls', 'pulp', 'pulse', 'pump', 'pumpkin', 'pun', 'punch', 'punched', 'punches', 'punching', 'punished', 'punishment', 'punk', 'punkish', 'puppet', 'puppies', 'puppy', 'purchase', 'purchased', 'purchases', 'purchasing', 'pure', 'purely', 'purgatory', 'purge', 'purple', 'purpose', 'purposes', 'purring', 'purse', 'pursue', 'pursuing', 'pursuit', 'purty', 'push', 'pushed', 'pushing', 'pussy', 'put', 'puts', 'putting', 'puzzle', 'puzzled', 'pyramid', 'qaeda', 'qt', 'quaint', 'qualifies', 'qualify', 'qualities', 'quality', 'quantico', 'quarter', 'quarters', 'quartet', 'que', 'queen', 'queens', 'queer', 'quest', 'question', 'questioning', 'questionnaire', 'questions', 'quick', 'quickly', 'quiet', 'quietly', 'quinceanera', 'quirks', 'quirky', 'quit', 'quite', 'quiz', 'quizilla', 'quizzes', 'quotation', 'quotations', 'quote', 'quoted', 'quotes', 'rabbit', 'race', 'raced', 'races', 'rachel', 'racial', 'racing', 'racism', 'racist', 'rack', 'radical', 'radio', 'radiohead', 'rag', 'rage', 'raiders', 'rain', 'rainbow', 'rained', 'raining', 'rains', 'rainy', 'raise', 'raised', 'raising', 'rajcoomar', 'rall', 'rally', 'ralph', 'ram', 'ramble', 'rambling', 'ramblings', 'ran', 'ranch', 'random', 'randomly', 'randomness', 'randy', 'rang', 'range', 'rank', 'ranking', 'rankings', 'ranks', 'rant', 'ranting', 'rants', 'rap', 'rape', 'raped', 'rapidly', 'rapture', 'rare', 'rarely', 'rash', 'rat', 'rate', 'rated', 'rates', 'rather', 'rating', 'ratings', 'rational', 'rats', 'rattle', 'rave', 'raving', 'raw', 'ray', 'raymond', 'rays', 'rbi', 're', 'reach', 'reached', 'reaches', 'reaching', 'react', 'reaction', 'reactions', 'read', 'reader', 'readers', 'reading', 'readings', 'reads', 'ready', 'reagan', 'real', 'reali', 'realise', 'realised', 'realistic', 'realities', 'reality', 'realization', 'realize', 'realized', 'realizing', 'realli', 'really', 'realm', 'rear', 'reason', 'reasonable', 'reasoning', 'reasons', 'rebecca', 'rebel', 'rebellion', 'rebuild', 'recall', 'recap', 'receipt', 'receive', 'received', 'receiving', 'recent', 'recently', 'reception', 'recieved', 'recipe', 'reckless', 'reclaim', 'recognition', 'recognize', 'recognized', 'recognizing', 'recommend', 'recommendation', 'recommended', 'recons', 'reconstruction', 'record', 'recorded', 'recording', 'recordings', 'records', 'recovered', 'recovering', 'recreate', 'recurring', 'red', 'redeem', 'redemption', 'reduce', 'reduced', 'reduction', 'redundant', 'reed', 'refer', 'reference', 'references', 'referred', 'referrer', 'referring', 'refers', 'reflect', 'reflected', 'reflecting', 'reflection', 'reflects', 'reform', 'refrain', 'refresh', 'refreshed', 'refreshing', 'refreshment', 'refrigerator', 'refuse', 'refused', 'refuses', 'regan', 'regard', 'regarded', 'regarding', 'regardless', 'regards', 'regime', 'region', 'register', 'registered', 'registration', 'regret', 'regrets', 'regular', 'regularly', 'regulation', 'regulations', 'rehab', 'rehearsal', 'reign', 'reject', 'rejected', 'relate', 'related', 'relation', 'relations', 'relationship', 'relationships', 'relative', 'relatively', 'relatives', 'relax', 'relaxation', 'relaxed', 'relaxing', 'release', 'released', 'releases', 'relevant', 'reliable', 'reliance', 'relief', 'relieve', 'relieved', 'religion', 'religions', 'religious', 'rely', 'remain', 'remained', 'remaining', 'remains', 'remake', 'remarkable', 'remarks', 'remember', 'remembered', 'remembering', 'remembers', 'remind', 'reminded', 'reminder', 'reminders', 'reminding', 'reminds', 'remix', 'remixes', 'remixing', 'remote', 'remotely', 'remove', 'removed', 'removing', 'rendition', 'renew', 'renewed', 'rent', 'rental', 'rented', 'rents', 'rep', 'repair', 'repeat', 'repeated', 'repeatedly', 'repeating', 'repertoire', 'replace', 'replaced', 'replacement', 'replay', 'replied', 'replies', 'reply', 'replying', 'report', 'reported', 'reporter', 'reporters', 'reporting', 'reports', 'represent', 'representation', 'representative', 'represented', 'represents', 'republic', 'republican', 'republicans', 'reputation', 'request', 'requested', 'requests', 'require', 'required', 'requirements', 'requires', 'rescue', 'rescued', 'research', 'researching', 'reservations', 'reserve', 'reserved', 'reserves', 'reservoir', 'reside', 'residence', 'resident', 'residents', 'resignation', 'resist', 'resolution', 'resolutions', 'resolve', 'resolved', 'resort', 'resources', 'respect', 'respectable', 'respective', 'respectively', 'respects', 'respond', 'responded', 'response', 'responses', 'responsibilities', 'responsibility', 'responsible', 'rest', 'restaurant', 'restaurants', 'rested', 'resting', 'restless', 'restore', 'restricted', 'restrictions', 'restroom', 'result', 'resulting', 'results', 'resume', 'retard', 'retarded', 'rethink', 'retire', 'retired', 'retirement', 'retreat', 'retrograde', 'retrospect', 'return', 'returned', 'returning', 'returns', 'reunion', 'reveal', 'revealed', 'revealing', 'reveals', 'revelation', 'revenge', 'revenue', 'reverse', 'review', 'reviewed', 'reviews', 'revolution', 'reward', 'rewarded', 'rewarding', 'rewards', 'rewrite', 'rhodes', 'rhyme', 'rhymes', 'rhythm', 'rhythms', 'riaa', 'rib', 'ribbon', 'ribbons', 'ribs', 'rice', 'rich', 'richard', 'richmond', 'rick', 'ricky', 'rid', 'ridden', 'ride', 'rides', 'ridge', 'ridiculous', 'ridiculously', 'riding', 'riff', 'rifle', 'right', 'righteous', 'rights', 'rilke', 'ring', 'ringing', 'rings', 'riot', 'rip', 'ripped', 'ripping', 'rise', 'rises', 'rising', 'risk', 'risks', 'risky', 'rite', 'ritual', 'rituals', 'river', 'rivers', 'ro', 'road', 'roads', 'roamed', 'roar', 'rob', 'robbed', 'robbie', 'robert', 'roberts', 'robin', 'robinson', 'robot', 'rock', 'rocked', 'rockin', 'rocking', 'rocks', 'rocky', 'rod', 'rode', 'rodeo', 'rodin', 'rofl', 'roger', 'rogerclam73', 'rogers', 'role', 'roles', 'roll', 'rolled', 'roller', 'rollercoaster', 'rolling', 'rolls', 'roman', 'romance', 'romans', 'romantic', 'rome', 'romeo', 'ron', 'ronald', 'ronnie', 'roof', 'room', 'roomate', 'roommate', 'roommates', 'rooms', 'roosevelt', 'root', 'roots', 'rope', 'rose', 'roses', 'rosie', 'rot', 'rotten', 'rouge', 'rough', 'roughly', 'roulette', 'round', 'rounded', 'rounds', 'rousing', 'route', 'routine', 'rove', 'row', 'rows', 'roxanne', 'roxy', 'roy', 'royal', 'rt', 'rtg', 'rub', 'rubbed', 'rubber', 'rubbish', 'ruby', 'rude', 'rue', 'ruffy', 'rufus', 'rug', 'ruin', 'ruined', 'ruins', 'rule', 'ruled', 'ruler', 'rules', 'rum', 'rumor', 'rumored', 'rumors', 'rumsfeld', 'run', 'runner', 'running', 'runs', 'rural', 'rush', 'rushed', 'rushing', 'russert', 'russia', 'russian', 'russians', 'rusty', 'ryan', 'résumé', 'sa', 'sack', 'sacred', 'sacrifice', 'sacrifices', 'sad', 'sadaam', 'saddam', 'saddest', 'sadie', 'sadly', 'sadness', 'sae', 'safe', 'safely', 'safer', 'safety', 'sage', 'said', 'sailing', 'saint', 'saintface', 'sake', 'sal', 'salad', 'salary', 'sale', 'sales', 'saliva', 'salon', 'salt', 'sam', 'sama', 'samantha', 'same', 'sammy', 'sample', 'sams', 'samurai', 'san', 'sand', 'sandals', 'sandwich', 'sandwiches', 'sandy', 'sane', 'sang', 'sangria', 'sanity', 'sans', 'santa', 'sara', 'sarah', 'sarasota', 'sarcasm', 'sarcastic', 'saree', 'sars', 'sasshole', 'sat', 'satan', 'satellite', 'satin', 'satisfaction', 'satisfied', 'satisfy', 'satisfying', 'saturday', 'saturdays', 'saturn', 'sauce', 'saudi', 'sausage', 'savannah', 'save', 'saved', 'saves', 'saving', 'savings', 'saw', 'sax', 'say', 'sayin', 'saying', 'says', 'sc', 'scale', 'scales', 'scandal', 'scare', 'scarecrow', 'scared', 'scares', 'scarier', 'scarlet', 'scars', 'scary', 'scattered', 'scenario', 'scene', 'scenery', 'scenes', 'scent', 'sch', 'schedule', 'scheduled', 'schedules', 'scheme', 'scholar', 'scholarship', 'school', 'schoolers', 'schools', 'science', 'scientific', 'scientists', 'sco', 'scolded', 'sconie', 'scoop', 'scope', 'score', 'scored', 'scores', 'scoring', 'scotch', 'scotland', 'scott', 'scout', 'scrapbook', 'scrapbooking', 'scratch', 'scream', 'screamed', 'screaming', 'screams', 'screen', 'screening', 'screenwriter', 'screw', 'screwed', 'screws', 'script', 'scroll', 'scrub', 'sculpture', 'sculptures', 'sd', 'se', 'sea', 'seacrest', 'seafood', 'seal', 'sealed', 'sean', 'search', 'searched', 'searches', 'searching', 'season', 'seasons', 'seat', 'seated', 'seats', 'seattle', 'sec', 'second', 'secondary', 'secondly', 'seconds', 'secret', 'secretary', 'secretly', 'secrets', 'section', 'sections', 'sector', 'secure', 'security', 'seductive', 'see', 'seed', 'seeds', 'seeing', 'seek', 'seeking', 'seeks', 'seem', 'seemed', 'seemingly', 'seems', 'seen', 'seer', 'sees', 'seki', 'select', 'selected', 'selection', 'selections', 'self', 'selfish', 'sell', 'selling', 'sells', 'semester', 'semi', 'sen', 'senate', 'senator', 'senators', 'send', 'sending', 'sends', 'senior', 'seniors', 'sensation', 'sense', 'sensei', 'senseless', 'senses', 'sensible', 'sensitive', 'sensitivity', 'sent', 'sentence', 'sentences', 'sentiment', 'sentimental', 'seoul', 'separate', 'separated', 'separately', 'separation', 'sept', 'september', 'sequel', 'sequence', 'serenity', 'series', 'serious', 'seriously', 'servant', 'servants', 'serve', 'served', 'server', 'serves', 'service', 'services', 'serving', 'session', 'sessions', 'set', 'sets', 'setting', 'settings', 'settle', 'settled', 'settling', 'seven', 'seventeen', 'seventh', 'several', 'severe', 'sew', 'sewing', 'sex', 'sexual', 'sexually', 'sexy', 'sf', 'sh', 'shack', 'shad', 'shade', 'shades', 'shadow', 'shadows', 'shake', 'shakespeare', 'shaking', 'shaky', 'shall', 'shallow', 'shame', 'shameless', 'shampoo', 'shane', 'shania', 'shannon', 'shape', 'shaped', 'shaping', 'share', 'shared', 'shares', 'sharing', 'shark', 'sharp', 'shattered', 'shave', 'shaved', 'shaving', 'shawn', 'she', 'shed', 'sheep', 'sheer', 'sheesh', 'sheet', 'sheets', 'shelf', 'shell', 'shells', 'shelter', 'shelves', 'sherayna', 'shes', 'shield', 'shift', 'shifted', 'shifting', 'shinai', 'shine', 'shines', 'shining', 'shiny', 'ship', 'shipping', 'shirt', 'shirts', 'shit', 'shits', 'shitty', 'shiz', 'shock', 'shocked', 'shocking', 'shockingly', 'shocks', 'shoe', 'shoes', 'shook', 'shoot', 'shooting', 'shoots', 'shop', 'shopping', 'shops', 'shore', 'short', 'shorter', 'shortest', 'shortly', 'shorts', 'shot', 'shots', 'shoulder', 'shoulders', 'shouldnt', 'shout', 'shouted', 'shouting', 'shove', 'shoved', 'shovel', 'shovelpants', 'show', 'showed', 'shower', 'showers', 'showing', 'shown', 'shows', 'shrek', 'shrimp', 'shrug', 'shrugs', 'shucks', 'shud', 'shudder', 'shut', 'shutting', 'shuttle', 'shy', 'si', 'sia', 'sian', 'sianz', 'siblings', 'sic', 'sick', 'sickening', 'sickness', 'side', 'sides', 'sidewalk', 'sigh', 'sighs', 'sight', 'sights', 'sign', 'signal', 'signals', 'signature', 'signed', 'significance', 'significant', 'significantly', 'signing', 'signs', 'silence', 'silent', 'silk', 'silly', 'silver', 'similar', 'similarities', 'similarly', 'simon', 'simone', 'simple', 'simplemente', 'simpler', 'simplicity', 'simply', 'simpson', 'simpsons', 'simultaneously', 'sin', 'since', 'sincere', 'sinchon', 'sinful', 'sing', 'singapore', 'singer', 'singers', 'singing', 'single', 'singles', 'sings', 'sink', 'sinking', 'sins', 'sip', 'sir', 'sirens', 'sis', 'sister', 'sisters', 'sit', 'site', 'sites', 'sits', 'sittin', 'sitting', 'situation', 'situations', 'six', 'sixteen', 'sixth', 'size', 'sized', 'ska', 'skank', 'skate', 'skates', 'skating', 'ski', 'skies', 'skiing', 'skill', 'skills', 'skim', 'skin', 'skinny', 'skins', 'skip', 'skipped', 'skirt', 'skirts', 'skool', 'sky', 'skyline', 'slack', 'slacker', 'slam', 'slammed', 'slap', 'slapped', 'slapping', 'slave', 'slavery', 'slaves', 'sledding', 'sleep', 'sleeping', 'sleepover', 'sleeps', 'sleepy', 'sleeve', 'sleeves', 'slept', 'slice', 'sliced', 'slick', 'slide', 'sliding', 'slight', 'slightest', 'slightly', 'slim', 'slip', 'slipped', 'slippers', 'slippery', 'slipping', 'slips', 'slit', 'sloppy', 'slot', 'sloth', 'slots', 'slow', 'slowed', 'slower', 'slowly', 'slug', 'slut', 'sluts', 'smack', 'smacked', 'small', 'smaller', 'smallest', 'smart', 'smarterchild', 'smashed', 'smashing', 'smell', 'smelled', 'smelling', 'smells', 'smelly', 'smile', 'smiled', 'smiles', 'smiling', 'smith', 'smiths', 'smog', 'smoke', 'smokers', 'smokey', 'smoking', 'smooth', 'smoothly', 'smother', 'sms', 'smug', 'smurf', 'smurfs', 'snack', 'snacks', 'snap', 'snapped', 'sneak', 'sneaky', 'sneeze', 'snicker', 'sniff', 'sniper', 'snob', 'snooze', 'snow', 'so', 'soaked', 'soaking', 'soap', 'soapbox', 'soar', 'sob', 'sobbing', 'sober', 'sobs', 'sobz', 'socal', 'socca', 'soccer', 'social', 'socialist', 'socially', 'societal', 'society', 'sociology', 'sock', 'socks', 'soda', 'soemthing', 'sofa', 'soft', 'softball', 'softly', 'software', 'soil', 'soju', 'solar', 'sold', 'soldier', 'soldiers', 'sole', 'soleil', 'solely', 'solid', 'solitude', 'solo', 'solution', 'solutions', 'solve', 'solved', 'some', 'somebody', 'someday', 'somehow', 'somemore', 'someone', 'someones', 'somethin', 'something', 'somethings', 'sometime', 'sometimes', 'somewhat', 'somewhere', 'somit', 'son', 'song', 'songs', 'songwriting', 'sonic', 'sons', 'sony', 'soo', 'soon', 'sooner', 'sooo', 'soooo', 'sooooo', 'soooooo', 'sophie', 'sophisticated', 'sophomore', 'sopranos', 'sorcha', 'sore', 'sorrow', 'sorrows', 'sorry', 'sort', 'sorta', 'sorting', 'sorts', 'sought', 'soul', 'soulful', 'souls', 'sound', 'sounded', 'sounding', 'sounds', 'soundtrack', 'soup', 'sour', 'source', 'sources', 'south', 'southern', 'soviet', 'sox', 'soy', 'soybeenchik847', 'sp', 'spa', 'space', 'spaces', 'spaghetti', 'spam', 'span', 'spanish', 'spare', 'spark', 'spca', 'speak', 'speaker', 'speakers', 'speaking', 'speaks', 'spears', 'special', 'specially', 'species', 'specific', 'specifically', 'spectacular', 'spectrum', 'speech', 'speeches', 'speed', 'speeding', 'spell', 'spelled', 'spelling', 'spend', 'spending', 'spent', 'sperm', 'sphere', 'spice', 'spider', 'spiderman', 'spiders', 'spidey', 'spielberg', 'spike', 'spill', 'spilled', 'spilling', 'spin', 'spinach', 'spine', 'spinning', 'spiral', 'spirit', 'spirits', 'spiritual', 'spirituality', 'spit', 'spite', 'splash', 'split', 'spoil', 'spoiled', 'spoke', 'spoken', 'spokesman', 'sponsor', 'spontaneous', 'spoon', 'sport', 'sporting', 'sports', 'spot', 'spotlight', 'spots', 'spotted', 'spray', 'spread', 'spreading', 'spree', 'spring', 'springs', 'sprint', 'squad', 'squadron', 'square', 'squeeze', 'srjc', 'sry', 'st', 'stabbing', 'stability', 'stable', 'stack', 'stadium', 'staff', 'stage', 'stages', 'stain', 'stained', 'stairs', 'stake', 'stalking', 'stall', 'stamina', 'stamp', 'stance', 'stand', 'standard', 'standards', 'standing', 'stands', 'stanley', 'star', 'starbucks', 'stare', 'stared', 'stares', 'staring', 'starr', 'starring', 'stars', 'start', 'started', 'startin', 'starting', 'startling', 'starts', 'starving', 'stash', 'state', 'stated', 'statement', 'statements', 'states', 'static', 'stating', 'station', 'stationed', 'stations', 'statistic', 'statistics', 'statue', 'statues', 'status', 'stay', 'stayed', 'staying', 'stays', 'steady', 'steak', 'steal', 'stealing', 'steam', 'steel', 'steering', 'stef', 'stellar', 'stem', 'step', 'steph', 'stephanie', 'stephen', 'stepped', 'stepping', 'steps', 'stereo', 'stereotype', 'stereotypes', 'stern', 'steve', 'steven', 'stevie', 'stewart', 'stick', 'sticker', 'stickers', 'sticking', 'sticks', 'sticky', 'stil', 'still', 'sting', 'stink', 'stinks', 'stir', 'stitches', 'stl', 'stock', 'stole', 'stolen', 'stomach', 'stone', 'stoned', 'stoner', 'stones', 'stood', 'stop', 'stopped', 'stopping', 'stops', 'storage', 'store', 'stored', 'stores', 'stories', 'storm', 'stormed', 'storms', 'story', 'storyline', 'straight', 'strange', 'strangely', 'stranger', 'strangers', 'strap', 'straps', 'strategic', 'strategies', 'strategy', 'straw', 'strawberries', 'strawberry', 'stray', 'streak', 'stream', 'streaming', 'street', 'streets', 'strength', 'stress', 'stressed', 'stressful', 'stretch', 'stretched', 'stretching', 'strict', 'strictly', 'strife', 'strike', 'strikes', 'striking', 'string', 'strings', 'strip', 'stripes', 'stripped', 'strive', 'stroke', 'strokes', 'stroll', 'strolled', 'strolling', 'strong', 'stronger', 'strongest', 'strongly', 'struck', 'structure', 'struggle', 'struggles', 'struggling', 'stuart', 'stubborn', 'stuck', 'student', 'students', 'studied', 'studies', 'studio', 'study', 'studying', 'stuff', 'stuffed', 'stuffing', 'stumble', 'stumbled', 'stunned', 'stunning', 'stunt', 'stupid', 'stupidity', 'style', 'stylish', 'stylist', 'su', 'sub', 'subject', 'subjective', 'subjects', 'sublime', 'submit', 'subsequent', 'substance', 'substantial', 'substitute', 'subtle', 'suburban', 'subway', 'succeed', 'succeeded', 'success', 'successes', 'successful', 'successfully', 'suck', 'sucked', 'sucker', 'suckers', 'sucking', 'sucks', 'sudan', 'sudden', 'suddenly', 'sue', 'sueño', 'suffer', 'suffered', 'suffering', 'suffice', 'sufficient', 'sugar', 'sugarbebe827', 'suggest', 'suggested', 'suggestion', 'suggestions', 'suggests', 'suicide', 'suit', 'suitable', 'suitcase', 'suits', 'sum', 'sum1', 'summary', 'summer', 'summers', 'summit', 'sums', 'sumthing', 'sun', 'sunburn', 'sunday', 'sundays', 'sung', 'sunglasses', 'sunlight', 'sunny', 'sunrise', 'sunset', 'sunshine', 'supak', 'super', 'superficial', 'superhero', 'superior', 'superman', 'superstar', 'superstition', 'superstitious', 'supervisor', 'supper', 'supplies', 'supply', 'support', 'supported', 'supporting', 'supportive', 'supports', 'suppose', 'supposed', 'supposedly', 'suppress', 'supremacy', 'supreme', 'supremely', 'suprise', 'sure', 'surely', 'surf', 'surface', 'surfing', 'surgeon', 'surgery', 'surprise', 'surprised', 'surprising', 'surprisingly', 'surreal', 'surround', 'surrounded', 'surrounding', 'surroundings', 'surrounds', 'survey', 'surveys', 'survival', 'survive', 'survived', 'survivor', 'susan', 'sushi', 'suspect', 'suspected', 'suspended', 'suv', 'suvs', 'sux', 'swallow', 'swam', 'swan', 'swap', 'swear', 'swearing', 'swears', 'sweat', 'sweater', 'sweaters', 'sweating', 'sweatshirt', 'sweaty', 'sweep', 'sweeping', 'sweet', 'sweetest', 'sweetheart', 'sweetie', 'sweetness', 'sweets', 'swelling', 'swept', 'swift', 'swim', 'swimming', 'swing', 'swinging', 'swings', 'swirling', 'swiss', 'switch', 'switched', 'switching', 'swollen', 'sword', 'swords', 'sworn', 'sydney', 'symbol', 'sympathy', 'symptoms', 'sync', 'syndrome', 'synth', 'syria', 'syrup', 'system', 'systems', 'ta', 'table', 'tables', 'tablets', 'tac', 'tackle', 'tacky', 'taco', 'tactical', 'tactics', 'tad', 'tag', 'tagboard', 'tail', 'tails', 'tainted', 'take', 'taken', 'takers', 'takes', 'taking', 'tale', 'talent', 'talented', 'talents', 'tales', 'talk', 'talked', 'talkin', 'talking', 'talks', 'tall', 'taller', 'tampa', 'tan', 'tank', 'tap', 'tape', 'taped', 'target', 'targets', 'tart', 'task', 'tasks', 'taste', 'tasted', 'tastes', 'tasty', 'tat', 'tattered', 'tattoo', 'tattoos', 'taught', 'tax', 'taxes', 'taxi', 'taxpayers', 'tay', 'taylor', 'te', 'tea', 'teach', 'teacher', 'teachers', 'teaching', 'team', 'teams', 'tear', 'tearing', 'tears', 'tease', 'tech', 'technical', 'technically', 'technique', 'techniques', 'techno', 'technology', 'ted', 'teddy', 'tedious', 'tee', 'teen', 'teenage', 'teenager', 'teenagers', 'teens', 'teeny', 'teeth', 'teh', 'tel', 'telephone', 'television', 'tell', 'tellin', 'telling', 'tells', 'temperature', 'temperatures', 'template', 'temple', 'temples', 'tempo', 'temporarily', 'temporary', 'temptation', 'tempted', 'ten', 'tend', 'tendency', 'tender', 'tending', 'tends', 'tennis', 'tense', 'tension', 'tent', 'tentative', 'teresa', 'term', 'terminal', 'terminator', 'terms', 'terrace', 'terrible', 'terribly', 'terrific', 'terrified', 'terrifying', 'territory', 'terror', 'terrorism', 'terrorist', 'terrorists', 'terry', 'tess', 'test', 'testament', 'testing', 'tests', 'texas', 'text', 'tha', 'thai', 'thailand', 'than', 'thank', 'thanked', 'thankful', 'thankfully', 'thanking', 'thanks', 'thanksgiving', 'thanx', 'that', 'thats', 'the', 'theater', 'theatre', 'theatres', 'thee', 'them', 'theme', 'themes', 'then', 'theo', 'theories', 'theory', 'therapist', 'therapy', 'there', 'thereby', 'therefor', 'therefore', 'thereof', 'theres', 'these', 'thesis', 'they', 'theyre', 'thick', 'thicker', 'thief', 'thigh', 'thighs', 'thin', 'thing', 'things', 'thingy', 'think', 'thinkin', 'thinking', 'thinks', 'third', 'thirsty', 'thirteen', 'thirty', 'this', 'thnx', 'tho', 'thomas', 'thompson', 'thong', 'thongs', 'thoroughly', 'those', 'thot', 'thou', 'though', 'thought', 'thoughtful', 'thoughts', 'thousand', 'thousands', 'thread', 'threads', 'threat', 'threaten', 'threatened', 'threatening', 'threats', 'three', 'threw', 'thrill', 'thrilled', 'thrilling', 'thrive', 'thro', 'throat', 'throne', 'throngs', 'through', 'throughout', 'throught', 'throw', 'throwing', 'thrown', 'throws', 'thru', 'thrust', 'tht', 'thumb', 'thumbs', 'thunder', 'thunderbird', 'thunderstorm', 'thursday', 'thursdays', 'thus', 'thy', 'ti', 'tic', 'tick', 'ticked', 'ticket', 'tickets', 'tickled', 'tickling', 'tide', 'tidy', 'tie', 'tied', 'tierd', 'ties', 'tiesto', 'tiger', 'tight', 'tightly', 'til', 'till', 'tim', 'timberlake', 'time', 'timed', 'timely', 'times', 'timing', 'tinman', 'tiny', 'tinye', 'tip', 'tips', 'tire', 'tired', 'tiredness', 'tires', 'tiring', 'tis', 'title', 'titled', 'titles', 'tits', 'tix', 'tm', 'tml', 'tmrw', 'to', 'toast', 'toaster', 'tobacco', 'todae', 'today', 'todays', 'todd', 'todo', 'toe', 'toes', 'together', 'toilet', 'tokens', 'tokyo', 'told', 'tolerance', 'tolerate', 'toll', 'tom', 'tomarrow', 'tomato', 'tomatoes', 'tomb', 'tommorow', 'tommrw', 'tommy', 'tomorrow', 'ton', 'tone', 'tongue', 'tonic', 'tonight', 'tons', 'tony', 'too', 'took', 'tool', 'tools', 'tooth', 'toothpaste', 'top', 'topic', 'topics', 'topped', 'tops', 'tore', 'tori', 'torment', 'torn', 'torture', 'tortured', 'toss', 'tossed', 'total', 'totally', 'touch', 'touched', 'touches', 'touching', 'tough', 'tour', 'tourist', 'tourists', 'tournament', 'tow', 'toward', 'towards', 'towel', 'towels', 'tower', 'towers', 'town', 'towns', 'toy', 'toyota', 'toys', 'tp', 'trace', 'track', 'tracked', 'tracking', 'tracks', 'tracy', 'trade', 'trading', 'tradition', 'traditional', 'traditionally', 'traditions', 'traffic', 'tragedy', 'tragic', 'trail', 'trailer', 'train', 'trained', 'trainer', 'trainin', 'training', 'traits', 'tramp', 'trance', 'transfer', 'transferred', 'transition', 'translate', 'translation', 'transparent', 'transport', 'transportation', 'trap', 'trapped', 'trash', 'trashed', 'trauma', 'traumatic', 'travel', 'traveled', 'traveler', 'traveling', 'travelling', 'travels', 'travis', 'trax', 'treasure', 'treasury', 'treat', 'treated', 'treating', 'treatment', 'treats', 'tree', 'trees', 'trek', 'tremble', 'trembling', 'tremendous', 'trend', 'trends', 'trendy', 'trent', 'trial', 'trials', 'triangle', 'tribute', 'trick', 'tricks', 'tricky', 'tried', 'tries', 'trigger', 'trilogy', 'trim', 'trio', 'trip', 'triple', 'tripod', 'tripped', 'trips', 'triumph', 'trivia', 'trivial', 'trombone', 'troops', 'trophy', 'tropical', 'trouble', 'troubled', 'troubles', 'troy', 'truck', 'trucks', 'true', 'truely', 'truly', 'trunk', 'trust', 'trusted', 'truth', 'truths', 'try', 'tryin', 'trying', 'tshirt', 'tt', 'ttyl', 'tu', 'tub', 'tucked', 'tuesday', 'tuesdays', 'tuition', 'tuna', 'tune', 'tuned', 'tunes', 'tunnel', 'turbulence', 'turkey', 'turmoil', 'turn', 'turned', 'turner', 'turning', 'turns', 'turtle', 'tution', 'tutor', 'tutorial', 'tv', 'twelve', 'twenty', 'twice', 'twilight', 'twin', 'twins', 'twirling', 'twist', 'twisted', 'twists', 'two', 'ty', 'tyler', 'type', 'typed', 'types', 'typewriter', 'typical', 'typically', 'typing', 'tyson', 'u2', 'uber', 'ucre', 'ugh', 'ugliness', 'ugly', 'uh', 'uk', 'ull', 'ultimate', 'ultimately', 'ultra', 'ultrasound', 'um', 'umbrella', 'umm', 'ummm', 'ummmm', 'un', 'una', 'unable', 'unavailable', 'unaware', 'unbearable', 'unbelievable', 'uncanny', 'uncertainty', 'uncle', 'unclear', 'uncles', 'uncomfortable', 'uncommon', 'unconscious', 'under', 'underdogs', 'underground', 'underneath', 'understand', 'understanding', 'understands', 'understood', 'underwater', 'underwear', 'undoubtedly', 'unemployed', 'unemployment', 'uneventful', 'unexpected', 'unfair', 'unfortunate', 'unfortunately', 'unhappy', 'unhealthy', 'uni', 'uniform', 'uniforms', 'uninvited', 'union', 'unions', 'unique', 'unit', 'united', 'units', 'unity', 'universal', 'universe', 'university', 'unknown', 'unless', 'unlike', 'unlikely', 'unlimited', 'unlucky', 'unnamed', 'unnecessary', 'unos', 'unpleasant', 'unpredictable', 'unreal', 'unreasonable', 'unrelated', 'unreleased', 'unsure', 'unsuspecting', 'until', 'untill', 'unto', 'untrue', 'unusual', 'unwanted', 'unwelcome', 'up', 'upcoming', 'update', 'updated', 'updates', 'updating', 'upgrade', 'upgrading', 'upload', 'upon', 'upper', 'ups', 'upset', 'upside', 'upstairs', 'uptight', 'upto', 'uptown', 'upward', 'ur', 'urban', 'urge', 'urgency', 'urgent', 'urgh', 'urging', 'url', 'urllink', 'us', 'usa', 'usage', 'usb', 'usd', 'use', 'used', 'useful', 'useless', 'user', 'username', 'users', 'uses', 'usher', 'using', 'usual', 'usually', 'utility', 'uts', 'utter', 'utterly', 'v23', 'va', 'vacation', 'vacations', 'vacuum', 'vacuuming', 'vague', 'vaguely', 'vain', 'valentine', 'valentines', 'valid', 'validate', 'vallejo', 'valley', 'valuable', 'value', 'values', 'vampire', 'vampires', 'van', 'vancouver', 'vanessa', 'vanilla', 'vanity', 'variation', 'variety', 'various', 'vary', 'varying', 'vast', 'vb', 've', 'vegan', 'vegas', 'vegetable', 'vegetables', 'vegetarian', 'vehicle', 'vehicles', 'veil', 'vein', 'veins', 'vent', 'venue', 'venus', 'verbal', 'verbally', 'verge', 'veri', 'verse', 'verses', 'version', 'versions', 'versus', 'very', 'vet', 'veterans', 'vey', 'vez', 'vh1', 'via', 'viable', 'vibe', 'vic', 'vice', 'victim', 'victoria', 'victories', 'victory', 'vida', 'video', 'videos', 'vids', 'vietnam', 'view', 'viewed', 'viewers', 'viewing', 'views', 'vikings', 'village', 'vince', 'vinci', 'vintage', 'vio', 'violated', 'violation', 'violence', 'violent', 'violently', 'violin', 'vip', 'virgin', 'virginia', 'virtual', 'virtually', 'virtue', 'virtues', 'virus', 'visible', 'vision', 'visions', 'visit', 'visited', 'visiting', 'visitors', 'visits', 'vista', 'visual', 'vitamin', 'viv', 'vocal', 'vocalist', 'vocals', 'vodka', 'voice', 'voicemail', 'voices', 'void', 'vol', 'volume', 'volunteer', 'volunteers', 'vomit', 'vomiting', 'vote', 'voted', 'voter', 'voters', 'votes', 'voting', 'voucher', 'vs', 'vulnerable', 'vultures', 'vw', 'w00t', 'wa', 'waaaay', 'wacky', 'wad', 'waffles', 'wage', 'wagner', 'wagon', 'wah', 'waist', 'wait', 'waited', 'waiter', 'waiting', 'waitress', 'waits', 'wakaka', 'wake', 'wakes', 'waking', 'wal', 'wala', 'walk', 'walked', 'walker', 'walkin', 'walking', 'walks', 'wall', 'wallet', 'walls', 'walmart', 'wan', 'wana', 'wander', 'wandered', 'wandering', 'want', 'wanted', 'wanting', 'wants', 'war', 'ward', 'wardrobe', 'warfare', 'warm', 'warmed', 'warmer', 'warming', 'warmth', 'warn', 'warned', 'warning', 'warped', 'warren', 'warrior', 'wars', 'warzau', 'was', 'wash', 'washed', 'washer', 'washing', 'washington', 'washroom', 'wasnt', 'waste', 'wasted', 'wasting', 'wat', 'watch', 'watched', 'watches', 'watching', 'water', 'waterfall', 'watering', 'watermelon', 'waters', 'wateva', 'wave', 'waved', 'waves', 'waving', 'wavy', 'wax', 'way', 'wayne', 'ways', 'wayz', 'wb', 'wbe', 'we', 'weak', 'weaker', 'weakness', 'weaknesses', 'wealth', 'wealthy', 'weapon', 'weapons', 'wear', 'wearing', 'wears', 'weary', 'weather', 'web', 'webcam', 'website', 'websites', 'webster', 'wed', 'wedding', 'weddings', 'wednesday', 'wee', 'weebl', 'weed', 'week', 'weekday', 'weekend', 'weekends', 'weekly', 'weeks', 'weep', 'weigh', 'weighed', 'weighing', 'weight', 'weird', 'weirdest', 'weirdo', 'welcome', 'welcomed', 'welcoming', 'welfare', 'well', 'weller', 'wells', 'welsh', 'wen', 'wendy', 'went', 'were', 'west', 'western', 'wet', 'whack', 'what', 'whatcha', 'whatever', 'whats', 'whatsoever', 'wheel', 'wheels', 'when', 'whenever', 'where', 'whereas', 'wherever', 'whether', 'whew', 'which', 'while', 'whilst', 'whine', 'whining', 'whip', 'whipped', 'whirlwind', 'whiskey', 'whisper', 'whispered', 'whispers', 'white', 'whites', 'who', 'whoa', 'whoever', 'whole', 'whore', 'whos', 'whose', 'why', 'wicked', 'wide', 'widely', 'wider', 'wierd', 'wif', 'wife', 'wig', 'wil', 'wilbur', 'wilco', 'wild', 'wildly', 'will', 'william', 'williams', 'willing', 'wilson', 'wimbledon', 'win', 'wind', 'winding', 'window', 'windows', 'winds', 'windy', 'wine', 'wines', 'wing', 'wings', 'wink', 'winner', 'winners', 'winning', 'wins', 'winter', 'wipe', 'wiped', 'wire', 'wireless', 'wisconsin', 'wisdom', 'wise', 'wisely', 'wiser', 'wish', 'wished', 'wishes', 'wishing', 'wit', 'witch', 'with', 'withdraw', 'within', 'without', 'witness', 'witnessed', 'witty', 'wives', 'wk', 'wmd', 'wo', 'woah', 'woke', 'woken', 'wolf', 'woman', 'womb', 'women', 'wonder', 'wondered', 'wonderful', 'wondering', 'wonders', 'wong', 'wont', 'woo', 'wood', 'woodbury', 'wooden', 'woods', 'woody', 'woohoo', 'wool', 'word', 'words', 'wore', 'work', 'worked', 'worker', 'workers', 'working', 'workout', 'workplace', 'works', 'workshop', 'world', 'worldly', 'worlds', 'worn', 'worried', 'worries', 'worry', 'worrying', 'worse', 'worship', 'worst', 'worth', 'worthless', 'worthwhile', 'worthy', 'would', 'wouldnt', 'wound', 'wounded', 'wounds', 'wow', 'wrap', 'wrapped', 'wrapping', 'wrath', 'wreck', 'wrestling', 'wrist', 'wrists', 'write', 'writer', 'writers', 'writes', 'writing', 'writings', 'written', 'wrong', 'wrote', 'wtf', 'wud', 'wuss', 'wwii', 'www', 'wynn', 'xanga', 'xbox', 'xmas', 'xp', 'xxx', 'ya', 'yada', 'yadda', 'yah', 'yahoo', 'yale', 'yall', 'yang', 'yankee', 'yankees', 'yap', 'yard', 'yards', 'yarn', 'yay', 'ye', 'yea', 'yeah', 'year', 'yearbook', 'yearning', 'years', 'yeats', 'yeh', 'yelahneb', 'yell', 'yelled', 'yelling', 'yellow', 'yells', 'yeouido', 'yep', 'yer', 'yes', 'yesterday', 'yet', 'yi', 'yield', 'yikes', 'ym', 'yo', 'yoga', 'york', 'you', 'youd', 'young', 'younger', 'youngest', 'youngsters', 'your', 'youre', 'yous', 'youth', 'yr', 'yuck', 'yucky', 'yuki', 'yum', 'yummy', 'yung', 'yup', 'yur', 'yvette', 'za', 'zach', 'zealand', 'zed', 'zelda', 'zeppelin', 'zero', 'zhenterum', 'zillion', 'zmx', 'zodiac', 'zombie', 'zone', 'zoo']\n"
     ]
    }
   ],
   "source": [
    "# Datasets and vectorizer for the unigram model\n",
    "X_train_11, X_val_11, vectorizer_11 = tf_idf(data_train_preprocessed, data_val_preprocessed, max_features, (1,1))"
   ]
  },
  {
   "cell_type": "markdown",
   "id": "94ad1c51",
   "metadata": {
    "id": "94ad1c51"
   },
   "source": [
    "* Pour la régression logistique"
   ]
  },
  {
   "cell_type": "code",
   "execution_count": null,
   "id": "411cdab4",
   "metadata": {
    "id": "411cdab4"
   },
   "outputs": [],
   "source": [
    "log_regression_model_11 = logistic_regression_model(X_train_11, Y_train)"
   ]
  },
  {
   "cell_type": "code",
   "execution_count": null,
   "id": "282eabf9",
   "metadata": {
    "id": "282eabf9"
   },
   "outputs": [],
   "source": [
    "Y_val_predicted_lr_11 = log_regression_model_11.predict(X_val_11)"
   ]
  },
  {
   "cell_type": "code",
   "execution_count": null,
   "id": "003f856f",
   "metadata": {
    "colab": {
     "base_uri": "https://localhost:8080/"
    },
    "id": "003f856f",
    "outputId": "ed468fcd-7439-498c-d7e3-532015848f12"
   },
   "outputs": [
    {
     "data": {
      "text/plain": [
       "0.199"
      ]
     },
     "execution_count": 32,
     "metadata": {},
     "output_type": "execute_result"
    }
   ],
   "source": [
    "compute_mape(Y_val, Y_val_predicted_lr_11)"
   ]
  },
  {
   "cell_type": "markdown",
   "id": "f31d0ee8",
   "metadata": {
    "id": "f31d0ee8"
   },
   "source": [
    "* Pour le classificateur Naïve Bayes"
   ]
  },
  {
   "cell_type": "code",
   "execution_count": null,
   "id": "a43c9d98",
   "metadata": {
    "id": "a43c9d98"
   },
   "outputs": [],
   "source": [
    "naive_bayes_model_11 = naive_bayes_classifier(X_train_11.toarray(), Y_train)"
   ]
  },
  {
   "cell_type": "code",
   "execution_count": null,
   "id": "75d394d8",
   "metadata": {
    "id": "75d394d8"
   },
   "outputs": [],
   "source": [
    "Y_val_predicted_nb_11 = naive_bayes_model_11.predict(X_val_11.toarray())"
   ]
  },
  {
   "cell_type": "code",
   "execution_count": null,
   "id": "0f220eb5",
   "metadata": {
    "colab": {
     "base_uri": "https://localhost:8080/"
    },
    "id": "0f220eb5",
    "outputId": "bda85254-6019-4049-c910-f2df4ae8ad71"
   },
   "outputs": [
    {
     "data": {
      "text/plain": [
       "0.295"
      ]
     },
     "execution_count": 35,
     "metadata": {},
     "output_type": "execute_result"
    }
   ],
   "source": [
    "compute_mape(Y_val, Y_val_predicted_nb_11)"
   ]
  },
  {
   "cell_type": "markdown",
   "id": "caff9258",
   "metadata": {
    "id": "caff9258"
   },
   "source": [
    "2. (10 points) Implémentez un classificateur Naïve Bayes et de régression logistique avec sklearn se basant sur un modèle sac de mots unigrame **et** bigramme du contenu des blogues, pondéré avec TF-IDF."
   ]
  },
  {
   "cell_type": "markdown",
   "id": "15515b7f",
   "metadata": {
    "id": "15515b7f"
   },
   "source": [
    "* Pour la régression logistique"
   ]
  },
  {
   "cell_type": "code",
   "execution_count": null,
   "id": "2a85a058",
   "metadata": {
    "colab": {
     "base_uri": "https://localhost:8080/"
    },
    "id": "2a85a058",
    "outputId": "bca056b0-e5a2-41cb-da45-2eed96eda12f"
   },
   "outputs": [
    {
     "name": "stdout",
     "output_type": "stream",
     "text": [
      "Vocabulary :\n",
      "\n",
      " ['00', '00 pm', '000', '000 people', '00pm', '02', '03', '04', '05', '06', '07', '08', '09', '10', '10 000', '10 15', '10 30', '10 days', '10 minutes', '10 pm', '10 times', '10 year', '10 years', '100', '100 000', '1000', '101', '10th', '11', '11 30', '11pm', '11th', '12', '12 00', '12 30', '12 hours', '13', '130', '13th', '14', '14 year', '15', '15 minutes', '150', '16', '17', '18', '1860', '18th', '19', '1956', '1989', '1990', '1992', '1995', '1996', '1998', '1999', '19th', '1st', '20', '20 minutes', '20 years', '200', '200 000', '2000', '2001', '2002', '2003', '2004', '2005', '20th', '21', '21st', '22', '23', '24', '24 hours', '25', '250', '26', '27', '27th', '28', '29', '2am', '2day', '2nd', '30', '30 minutes', '30 morning', '300', '30am', '30pm', '31', '32', '33', '34', '34 pm', '35', '36', '37', '38', '39', '3rd', '40', '40 years', '400', '41', '41 pm', '42', '43', '44', '45', '45 minutes', '46', '47', '48', '49', '4am', '4th', '50', '50 000', '50 years', '500', '51', '52', '53', '54', '55', '56', '58', '59', '5th', '60', '600', '65', '66', '69', '6pm', '6th', '70', '71', '74', '75', '78', '7am', '7th', '80', '800', '80s', '81', '8217', '8230', '83', '85', '86', '87', '88', '8pm', '8th', '8th grade', '90', '911', '95', '98', '99', '9th', '__', '___', 'aaron', 'abandon', 'abandoned', 'abc', 'abilities', 'ability', 'able', 'able get', 'able go', 'able make', 'about', 'abroad', 'absence', 'absent', 'absolute', 'absolutely', 'absolutely nothing', 'absolutly', 'absorb', 'absurd', 'abt', 'abu', 'abuse', 'abused', 'abusive', 'academy', 'accent', 'accept', 'acceptable', 'acceptance', 'accepted', 'accepting', 'access', 'accident', 'accidentally', 'accomplish', 'accomplished', 'according', 'account', 'accounts', 'accurate', 'accused', 'ace', 'ache', 'achieve', 'achieved', 'achievement', 'aching', 'ack', 'acoustic', 'acquire', 'acquired', 'across', 'across street', 'act', 'act like', 'actaully', 'acted', 'acting', 'acting like', 'action', 'actions', 'active', 'actively', 'activities', 'activity', 'actor', 'actors', 'actress', 'acts', 'actual', 'actually', 'actually get', 'actually got', 'actually know', 'actually pretty', 'actually started', 'actually think', 'acumen', 'ad', 'adam', 'add', 'added', 'addicted', 'addiction', 'adding', 'addition', 'additional', 'address', 'addressed', 'addresses', 'addressing', 'adds', 'adjectives', 'adjust', 'admin', 'administration', 'administrative', 'admire', 'admission', 'admit', 'admitted', 'admittedly', 'ado', 'adopted', 'adorable', 'adore', 'adrienne', 'adro', 'ads', 'adult', 'adulthood', 'adults', 'advance', 'advanced', 'advantage', 'adventure', 'adventures', 'advertising', 'advice', 'advise', 'advisor', 'affair', 'affairs', 'affect', 'affected', 'affection', 'affects', 'afford', 'affordable', 'afghanistan', 'aforementioned', 'afraid', 'africa', 'african', 'afro', 'afta', 'after', 'afternoon', 'afterward', 'afterwards', 'again', 'again nbsp', 'age', 'aged', 'agenda', 'agent', 'agents', 'ages', 'aggression', 'aggressive', 'ago', 'agree', 'agreed', 'agreement', 'agrees', 'ah', 'ah well', 'ah wells', 'ah yes', 'ahead', 'ahem', 'ahh', 'ahhh', 'ai', 'aid', 'aids', 'aihz', 'aim', 'aimed', 'aint', 'air', 'aircraft', 'airline', 'airlines', 'airplane', 'airport', 'airports', 'aisle', 'aisles', 'aiya', 'aka', 'akaka', 'ako', 'al', 'al gore', 'al qaeda', 'alabama', 'alan', 'alarm', 'alas', 'alaska', 'albeit', 'album', 'albums', 'alcohol', 'alert', 'alex', 'algo', 'alias', 'alien', 'aliens', 'alike', 'alison', 'alive', 'all', 'allah', 'alleah', 'allen', 'allergic', 'allergy', 'alley', 'allies', 'allow', 'allowance', 'allowed', 'allowing', 'allows', 'ally', 'almost', 'almost every', 'almost like', 'almost two', 'alone', 'along', 'along lines', 'along way', 'alongside', 'alot', 'aloud', 'alpha', 'already', 'already know', 'alright', 'also', 'also got', 'also know', 'also like', 'also love', 'also one', 'also really', 'also saw', 'also think', 'also want', 'altar', 'alter', 'alternate', 'alternative', 'although', 'although would', 'altogether', 'always', 'always feel', 'always get', 'always gets', 'always go', 'always good', 'always happy', 'always like', 'always love', 'always make', 'always one', 'always say', 'always something', 'always think', 'always thought', 'always wanted', 'am', 'amanda', 'amaze', 'amazed', 'amazing', 'amazing race', 'amazingly', 'amazon', 'amber', 'ambition', 'amelia', 'amendment', 'america', 'american', 'american flag', 'american idol', 'americans', 'amish', 'among', 'amongst', 'amos', 'amount', 'amount time', 'amounts', 'amp', 'amused', 'amusing', 'amy', 'an', 'analogy', 'analysis', 'ancient', 'and', 'and or', 'andrew', 'andy', 'ang', 'angel', 'angel546', 'angeles', 'angels', 'anger', 'angie', 'angle', 'angry', 'animal', 'animals', 'anime', 'animus949', 'ankle', 'ann', 'anna', 'anne', 'annie', 'anniversary', 'announce', 'announced', 'announcement', 'annoy', 'annoyed', 'annoying', 'annual', 'another', 'another blog', 'another day', 'another good', 'another great', 'another note', 'another one', 'another person', 'another reason', 'another story', 'another thing', 'another time', 'another week', 'answer', 'answer phone', 'answer question', 'answered', 'answering', 'answers', 'ant', 'anthony', 'anti', 'anticipation', 'ants', 'anxiety', 'anxious', 'anybody', 'anyhow', 'anymore', 'anyone', 'anyone else', 'anyone ever', 'anyone know', 'anyone would', 'anything', 'anything else', 'anything even', 'anything like', 'anything want', 'anything wrong', 'anytime', 'anytime soon', 'anyway', 'anyway got', 'anyway think', 'anyways', 'anywayz', 'anywhere', 'anywhere else', 'anywho', 'ap', 'apart', 'apartment', 'apartment building', 'apartments', 'apologies', 'apologize', 'apologized', 'apparent', 'apparently', 'appeal', 'appear', 'appearance', 'appeared', 'appearing', 'appears', 'apple', 'application', 'applied', 'apply', 'applying', 'appointment', 'appreciate', 'appreciated', 'appreciation', 'apprentice', 'approach', 'approached', 'approaching', 'appropriate', 'appropriately', 'approval', 'approve', 'approved', 'approximately', 'april', 'apt', 'arab', 'arabia', 'architecture', 'archives', 'are', 'area', 'areas', 'arena', 'arent', 'arg', 'argh', 'argue', 'arguing', 'argument', 'arguments', 'arm', 'armed', 'arms', 'armstrong', 'army', 'around', 'around 11', 'around corner', 'around house', 'around like', 'around people', 'around time', 'around us', 'around world', 'arrange', 'arranged', 'arrangement', 'arrangements', 'arrest', 'arrested', 'arrival', 'arrive', 'arrived', 'arrives', 'arriving', 'arrogant', 'art', 'arthur', 'article', 'article urllink', 'articles', 'artist', 'artistic', 'artists', 'arts', 'artwork', 'as', 'asap', 'ash', 'ashamed', 'ashes', 'ashland', 'asian', 'asians', 'aside', 'ask', 'ask questions', 'asked', 'asked could', 'asked wanted', 'asked would', 'asking', 'asks', 'asleep', 'aspect', 'aspects', 'ass', 'ass cobra', 'assembly', 'asses', 'asshole', 'assholes', 'assignment', 'assignments', 'assistant', 'associate', 'associated', 'association', 'assume', 'assumed', 'assuming', 'assumption', 'assumptions', 'assure', 'assured', 'astrology', 'at', 'ate', 'ate dinner', 'athletes', 'athletics', 'atlanta', 'atleast', 'atmosphere', 'attached', 'attachment', 'attack', 'attacked', 'attacking', 'attacks', 'attempt', 'attempted', 'attempting', 'attempts', 'attend', 'attended', 'attendees', 'attending', 'attention', 'attitude', 'attitudes', 'attorney', 'attracted', 'attractive', 'atwood', 'au', 'audblog', 'audience', 'audio', 'audition', 'audrey', 'august', 'aunt', 'auntie', 'aunties', 'austin', 'australia', 'australian', 'author', 'authority', 'autism', 'auto', 'automatically', 'available', 'ave', 'avenue', 'average', 'avoid', 'avoided', 'avoiding', 'awake', 'award', 'awards', 'aware', 'away', 'away like', 'awe', 'awesome', 'awful', 'awhile', 'awkward', 'awww', 'aye', 'b4', 'b5', 'ba', 'babe', 'babies', 'baby', 'babysitting', 'bachelor', 'back', 'back car', 'back day', 'back forth', 'back good', 'back home', 'back house', 'back later', 'back life', 'back like', 'back normal', 'back office', 'back place', 'back room', 'back school', 'back sleep', 'back time', 'back work', 'backed', 'background', 'backing', 'backs', 'backwards', 'backyard', 'bad', 'bad day', 'bad guy', 'bad idea', 'bad luck', 'bad mood', 'bad news', 'bad thing', 'bad things', 'badly', 'bag', 'bagel', 'bagels', 'baggage', 'bags', 'bah', 'bak', 'bake', 'baked', 'bakersfield', 'baking', 'balance', 'balanced', 'balcony', 'bald', 'ball', 'balloon', 'ballot', 'ballots', 'balls', 'baltimore', 'balut', 'bam', 'bam bam', 'ban', 'banana', 'bananas', 'band', 'bands', 'bang', 'banging', 'bank', 'banks', 'banner', 'bar', 'barb', 'barbara', 'bare', 'barely', 'bark', 'barking', 'barnes', 'barrel', 'barry', 'bars', 'bart', 'bartender', 'base', 'baseball', 'based', 'basement', 'basic', 'basically', 'basis', 'basket', 'basketball', 'bass', 'bass babe', 'basslines', 'bassy', 'bastard', 'bastards', 'bat', 'bath', 'bathroom', 'batman', 'battery', 'batting', 'battle', 'bay', 'bb', 'bball', 'bbq', 'bc', 'bcuz', 'bday', 'be', 'beach', 'beaches', 'bean', 'beans', 'bear', 'bears', 'beast', 'beastie', 'beastie boys', 'beat', 'beaten', 'beating', 'beatles', 'beats', 'beautiful', 'beautiful day', 'beautifully', 'beauty', 'became', 'because', 'becca', 'become', 'becomes', 'becoming', 'bed', 'bed early', 'bedford', 'bedroom', 'beds', 'bee', 'beef', 'beer', 'beers', 'before', 'beg', 'began', 'begging', 'begin', 'beginning', 'begins', 'begun', 'behalf', 'behavior', 'behaviour', 'behind', 'behind us', 'behold', 'being', 'beings', 'belief', 'beliefs', 'believe', 'believe god', 'believe one', 'believe re', 'believed', 'believers', 'believes', 'believing', 'bell', 'belly', 'belong', 'belongs', 'beloved', 'belt', 'ben', 'bench', 'bend', 'bends', 'beneath', 'benefit', 'benefits', 'benjamin', 'bent', 'beside', 'besides', 'best', 'best buy', 'best friend', 'best friends', 'best part', 'best thing', 'best way', 'bet', 'beta', 'beth', 'better', 'better get', 'better go', 'better place', 'better way', 'betty', 'beyond', 'bf', 'bi', 'biased', 'bible', 'bible study', 'bickering', 'bid', 'big', 'big bad', 'big brother', 'big day', 'big deal', 'big fan', 'big fat', 'big time', 'bigger', 'biggest', 'bike', 'bikes', 'bill', 'bill gates', 'billion', 'bills', 'billy', 'billygoat', 'bin', 'bin laden', 'bio', 'biology', 'bird', 'birds', 'birth', 'birthday', 'birthdays', 'bit', 'bitch', 'bitches', 'bitching', 'bite', 'bites', 'biting', 'bits', 'bitter', 'bitterness', 'biz', 'bizarre', 'bjork', 'black', 'black white', 'blacks', 'blade', 'blah', 'blah blah', 'blake', 'blame', 'blank', 'blanket', 'blast', 'bleed', 'bleeding', 'bless', 'blessed', 'blessing', 'blessings', 'blew', 'blind', 'bling', 'blink', 'bliss', 'block', 'blocks', 'blog', 'blog blog', 'blog entry', 'blog urllink', 'blogged', 'blogger', 'bloggers', 'blogging', 'blogs', 'blogspot', 'blogspot com', 'blond', 'blonde', 'blood', 'bloody', 'blooming', 'blow', 'blowing', 'blown', 'blows', 'blue', 'blue eyes', 'blues', 'blush', 'bo', 'bo jangles', 'board', 'boards', 'boat', 'bob', 'bobby', 'bodies', 'body', 'bold', 'bomb', 'bon', 'bon jovi', 'bond', 'bonding', 'bonds', 'bone', 'bones', 'bono', 'bonus', 'boo', 'boobs', 'book', 'booked', 'books', 'books read', 'boom', 'boost', 'boot', 'booth', 'boots', 'booty', 'booze', 'border', 'borderline', 'borders', 'bore', 'bored', 'boredom', 'boring', 'boring day', 'born', 'borrow', 'borrowed', 'boss', 'bosses', 'boston', 'bother', 'bothered', 'bothers', 'bottle', 'bottles', 'bottom', 'bottom line', 'bought', 'bought new', 'bound', 'bourne', 'bout', 'bow', 'bowl', 'bowling', 'box', 'boxes', 'boy', 'boyfriend', 'boyfriends', 'boys', 'bra', 'bracelets', 'braces', 'braces braces', 'brad', 'bradley', 'brag', 'brain', 'brains', 'brakes', 'branch', 'brand', 'brand new', 'brandon', 'brandt', 'brat', 'brave', 'brazil', 'bread', 'break', 'breakdown', 'breakfast', 'breaking', 'breaks', 'breast', 'breasts', 'breath', 'breathe', 'breathing', 'breeze', 'brendan', 'brian', 'brianna', 'brick', 'bride', 'bridge', 'brief', 'briefly', 'bright', 'brilliant', 'bring', 'bring back', 'bringing', 'brings', 'british', 'britney', 'britney spears', 'bro', 'broad', 'broadway', 'broke', 'broken', 'brooklyn', 'brother', 'brothers', 'brothers sisters', 'brought', 'brought home', 'brought urllink', 'brown', 'browser', 'browsing', 'bruce', 'brush', 'brushing', 'brutal', 'btw', 'bubble', 'buck', 'bucket', 'bucks', 'bud', 'buddha', 'buddhist', 'buddies', 'buddy', 'budget', 'buffet', 'buffy', 'bug', 'bugging', 'bugs', 'build', 'building', 'buildings', 'built', 'bulk', 'bullet', 'bullshit', 'bum', 'bum bum', 'bump', 'bumped', 'bumper', 'bunch', 'bunk', 'bunnies', 'bunny', 'burden', 'burdens', 'burger', 'burgers', 'buried', 'burn', 'burne', 'burned', 'burner', 'burning', 'burning flag', 'burns', 'burnt', 'burrito', 'burst', 'bury', 'bury wo', 'bus', 'buses', 'bush', 'bush administration', 'bush cheney', 'business', 'businesses', 'bust', 'busted', 'busy', 'but', 'butt', 'butter', 'butterface', 'butterflies', 'butterfly', 'button', 'buttons', 'buy', 'buy new', 'buy one', 'buying', 'by', 'bye', 'byers', 'ca', 'ca believe', 'ca bothered', 'ca even', 'ca find', 'ca get', 'ca go', 'ca handle', 'ca help', 'ca let', 'ca make', 'ca really', 'ca remember', 'ca say', 'ca see', 'ca seem', 'ca stand', 'ca stop', 'ca take', 'ca tell', 'ca think', 'ca wait', 'cab', 'cabin', 'cable', 'cafe', 'caffeine', 'cage', 'cairo', 'caitlin', 'cake', 'calendar', 'cali', 'california', 'call', 'call back', 'called', 'called urllink', 'caller', 'calling', 'calls', 'calm', 'came', 'came across', 'came back', 'came home', 'camera', 'cameron', 'camp', 'campaign', 'camping', 'campus', 'can', 'canada', 'canadian', 'cancel', 'cancelled', 'cancer', 'candidate', 'candidates', 'candle', 'candles', 'candy', 'candy bar', 'cant', 'cant see', 'cant stand', 'cant wait', 'canyon', 'cap', 'capabilities', 'capable', 'capacity', 'capital', 'capitalism', 'capitol', 'captain', 'capture', 'captured', 'car', 'carbon', 'card', 'cards', 'care', 'care anymore', 'care less', 'care much', 'cared', 'career', 'career portfolio', 'careers', 'careful', 'carefully', 'cares', 'caring', 'carlene', 'carnival', 'carolina', 'carried', 'carry', 'carrying', 'cars', 'cart', 'cartoon', 'carved', 'cary', 'case', 'case point', 'case re', 'cases', 'cash', 'casino', 'cast', 'castillion', 'castle', 'casual', 'cat', 'catch', 'catching', 'catchy', 'category', 'catholic', 'catholic church', 'cats', 'caught', 'cause', 'cause like', 'cause re', 'cause think', 'caused', 'causes', 'causing', 'cave', 'cd', 'cd player', 'cds', 'cease', 'ceiling', 'celebrate', 'celebrated', 'celebrating', 'celebration', 'celebrities', 'celebrity', 'cell', 'cell phone', 'cellophane', 'cells', 'cemetery', 'cent', 'center', 'centered', 'central', 'centre', 'cents', 'century', 'cept', 'cerati', 'cereal', 'ceremony', 'certain', 'certainly', 'certified', 'cha', 'chad', 'chain', 'chair', 'chairman', 'chairs', 'challenge', 'challenged', 'challenges', 'challenging', 'champagne', 'champions', 'championship', 'chan', 'chance', 'chances', 'change', 'changed', 'changes', 'changing', 'channel', 'channels', 'chantele', 'chaos', 'chapter', 'character', 'characters', 'charge', 'charged', 'charges', 'charisma', 'charity', 'charla', 'charla mirna', 'charles', 'charlie', 'charm', 'charming', 'chase', 'chasing', 'chat', 'chats', 'chatted', 'chatterbox', 'chatting', 'cheap', 'cheaper', 'cheat', 'cheated', 'cheating', 'check', 'check email', 'check urllink', 'checked', 'checking', 'checks', 'cheek', 'cheer', 'cheers', 'cheese', 'cheesy', 'chelsea', 'chem', 'chemicals', 'chemistry', 'chemlab', 'cheney', 'cheney 04', 'cherry', 'chess', 'chest', 'chew', 'chi', 'chicago', 'chick', 'chicken', 'chickens', 'chicks', 'chief', 'child', 'child support', 'childhood', 'childish', 'children', 'chili', 'chill', 'chills', 'chin', 'china', 'chinatown', 'chinese', 'chip', 'chips', 'chocolate', 'choice', 'choices', 'choir', 'choke', 'choked', 'choking', 'choose', 'chooses', 'choosing', 'chords', 'chore', 'chorus', 'chose', 'chosen', 'chris', 'christ', 'christian', 'christianity', 'christians', 'christie', 'christina', 'christine', 'christmas', 'christmas eve', 'christopher', 'chuck', 'chunky', 'church', 'churches', 'cia', 'ciao', 'cigarette', 'cigarettes', 'cinema', 'cinnamon', 'circle', 'circle irony', 'circles', 'circuit', 'circumstances', 'circus', 'cited', 'cities', 'citizen', 'citizens', 'city', 'civil', 'ck', 'claim', 'claimed', 'claiming', 'claims', 'claire', 'clap', 'clark', 'class', 'classes', 'classic', 'classical', 'classmate', 'classroom', 'clay', 'clean', 'clean house', 'cleaned', 'cleaning', 'clear', 'clearly', 'cleveland', 'clever', 'click', 'click urllink', 'clicking', 'client', 'clients', 'climate', 'climb', 'climbed', 'climbing', 'cling', 'clinton', 'clip', 'clique', 'clock', 'clone', 'close', 'close friends', 'closed', 'closed circuit', 'closely', 'closer', 'closest', 'closet', 'closing', 'clothes', 'clothing', 'cloud', 'clouds', 'cloudy', 'clown', 'clowns', 'club', 'clubs', 'clue', 'clues', 'cnn', 'cny', 'co', 'co worker', 'co workers', 'coach', 'coarse', 'coast', 'coat', 'cobra', 'cock', 'cocktail', 'cocktails', 'code', 'cody', 'coffee', 'coincidence', 'coke', 'cold', 'colder', 'coldplay', 'colin', 'colin christie', 'collapse', 'colleagues', 'collect', 'collected', 'collection', 'collective', 'college', 'college football', 'color', 'colorado', 'colored', 'colors', 'colour', 'colours', 'columbine', 'columbus', 'column', 'com', 'com news', 'combat', 'combination', 'combine', 'combined', 'come', 'come across', 'come along', 'come back', 'come conclusion', 'come home', 'come see', 'come think', 'come together', 'come true', 'come visit', 'comeback', 'comedy', 'comes', 'comes back', 'comes mind', 'comfort', 'comfortable', 'comforting', 'comic', 'comic book', 'comics', 'comin', 'coming', 'coming back', 'coming home', 'coming soon', 'command', 'commander', 'commandments', 'comment', 'commentary', 'commented', 'comments', 'commerce', 'commercial', 'commercials', 'comming', 'commission', 'commit', 'commitment', 'committed', 'committee', 'common', 'communicate', 'communication', 'communications', 'communion', 'communism', 'community', 'como', 'comp', 'companies', 'companion', 'company', 'compare', 'compared', 'comparison', 'compassionate', 'compete', 'competition', 'competitive', 'complain', 'complained', 'complaining', 'complaint', 'complaints', 'complete', 'completed', 'completely', 'completing', 'completly', 'complex', 'complicated', 'compliments', 'comprehend', 'compromise', 'computer', 'computers', 'con', 'concentrate', 'concentration', 'concept', 'concern', 'concerned', 'concerning', 'concerns', 'concert', 'concerts', 'conclude', 'concluded', 'conclusion', 'concrete', 'concrete girl', 'condition', 'conditions', 'conduct', 'confederate', 'conference', 'confess', 'confidence', 'confident', 'confined', 'confirm', 'confirmation', 'confirmed', 'conflict', 'confronted', 'confuse', 'confused', 'confusing', 'confusion', 'congrats', 'congratulations', 'congregation', 'congress', 'connect', 'connected', 'connecticut', 'connection', 'connections', 'connelly', 'conquer', 'conscience', 'conscious', 'consequences', 'conservative', 'conservatives', 'consider', 'consideration', 'considered', 'considering', 'considers', 'consisted', 'consistent', 'consistently', 'console', 'conspiracy', 'constant', 'constantly', 'constitution', 'constitutional', 'constitutional amendment', 'construction', 'consume', 'consumed', 'consumer', 'consuming', 'consumption', 'contact', 'contacted', 'contacts', 'contain', 'contained', 'content', 'contents', 'contest', 'context', 'continually', 'continue', 'continued', 'continues', 'continuing', 'contract', 'contrary', 'contribute', 'control', 'controlled', 'controlling', 'controversy', 'convenience', 'convenient', 'conveniently', 'convention', 'conversation', 'conversations', 'convey', 'convicted', 'convince', 'convinced', 'convincing', 'cook', 'cooked', 'cookie', 'cookies', 'cooking', 'cool', 'cooler', 'coolest', 'cop', 'cope', 'copied', 'copies', 'cops', 'copy', 'corcoran', 'core', 'corey', 'corn', 'corner', 'corny', 'corp', 'corporate', 'correct', 'correctly', 'cos', 'cosby', 'cost', 'costs', 'costume', 'costumes', 'cotton', 'couch', 'cough', 'coughing', 'could', 'could better', 'could change', 'could come', 'could done', 'could easily', 'could even', 'could ever', 'could feel', 'could find', 'could get', 'could give', 'could go', 'could hear', 'could help', 'could live', 'could make', 'could much', 'could never', 'could play', 'could possibly', 'could probably', 'could really', 'could remember', 'could resist', 'could say', 'could see', 'could stop', 'could take', 'could talk', 'could tell', 'could think', 'could use', 'could ve', 'could watch', 'couldnt', 'council', 'counsel', 'count', 'countdown', 'counted', 'counter', 'counting', 'countless', 'countries', 'country', 'country bar', 'counts', 'county', 'county paris', 'couple', 'couple days', 'couple hours', 'couple months', 'couple times', 'couple weeks', 'couple years', 'coupled', 'couples', 'courage', 'course', 'course could', 'course like', 'course would', 'courses', 'court', 'courtesy', 'courtney', 'cousin', 'cousin love', 'cousins', 'cover', 'cover letter', 'coverage', 'covered', 'covering', 'covers', 'cow', 'coworker', 'coworkers', 'cows', 'coz', 'crabby', 'crack', 'cracked', 'cracking', 'cracknation', 'cracks', 'craft', 'cramp', 'crap', 'crappy', 'crash', 'crashed', 'crashes', 'crashing', 'craving', 'crawl', 'crawling', 'crazy', 'cream', 'create', 'created', 'creates', 'creating', 'creation', 'creative', 'creativity', 'creator', 'creature', 'creatures', 'credibility', 'credit', 'credit card', 'credits', 'creep', 'creeping', 'creepy', 'crew', 'cried', 'cries', 'crime', 'criminal', 'cringe', 'crisis', 'crisp', 'critical', 'criticism', 'critics', 'cross', 'crossed', 'crowd', 'crowded', 'crucial', 'cruel', 'cruise', 'cruising', 'crunch', 'crush', 'crushed', 'crutches', 'cry', 'crying', 'crystal', 'css', 'cube', 'cubs', 'cue', 'cultural', 'culture', 'cultures', 'cum', 'cum gim', 'cunning', 'cup', 'cup coffee', 'cups', 'cure', 'curiosity', 'curious', 'curled', 'curly', 'current', 'currently', 'curse', 'cursed', 'custody', 'customer', 'customers', 'customs', 'cut', 'cute', 'cute little', 'cutest', 'cutie', 'cuts', 'cutting', 'cuz', 'cuz im', 'cycle', 'cynical', 'cynicism', 'da', 'da vinci', 'dad', 'daddy', 'dads', 'daer', 'daily', 'daily basis', 'dallas', 'damage', 'damaged', 'dami', 'dammit', 'damn', 'damn good', 'damn thing', 'damned', 'damnit', 'dan', 'dan hamill', 'dana', 'dance', 'danced', 'dancer', 'dances', 'dancing', 'dang', 'danger', 'dangerous', 'danielle', 'danny', 'dare', 'daring', 'dark', 'darkness', 'darkroom', 'darling', 'darn', 'dash', 'dashboard', 'dat', 'data', 'database', 'date', 'dated', 'dates', 'dating', 'daughter', 'daughters', 'dave', 'david', 'davis', 'dawn', 'day', 'day come', 'day day', 'day duf', 'day even', 'day every', 'day get', 'day go', 'day going', 'day got', 'day life', 'day like', 'day ll', 'day long', 'day nbsp', 'day new', 'day one', 'day school', 'day spent', 'day today', 'day tomorrow', 'day two', 'day ve', 'day week', 'day weekend', 'day went', 'day work', 'day would', 'day yesterday', 'daycare', 'daydream', 'days', 'days ago', 'days later', 'days left', 'days till', 'dbd', 'dbt', 'dc', 'ddr', 'de', 'de la', 'dead', 'deadline', 'deadly', 'deal', 'dealing', 'deals', 'dealt', 'dean', 'dean douche', 'dear', 'dear friend', 'dear reader', 'dearly', 'death', 'debate', 'debates', 'debating', 'debt', 'debut', 'dec', 'decade', 'decades', 'december', 'decent', 'decide', 'decide whether', 'decided', 'decided go', 'decided would', 'decides', 'deciding', 'decision', 'decisions', 'deck', 'declare', 'declared', 'dedicated', 'dedication', 'dee', 'deep', 'deep inside', 'deeper', 'deeply', 'def', 'default', 'defeat', 'defend', 'defense', 'defensive', 'definately', 'define', 'defined', 'definite', 'definitely', 'definition', 'definitly', 'degree', 'degrees', 'deity', 'del', 'delay', 'delete', 'deleted', 'delicious', 'delight', 'deliver', 'delivered', 'delivery', 'dem', 'demand', 'demands', 'demise', 'demo', 'democracy', 'democrat', 'democratic', 'democrats', 'demons', 'demos', 'dems', 'den', 'denial', 'denied', 'dennis', 'dentist', 'denver', 'deny', 'denying', 'department', 'departure', 'depend', 'dependent', 'depending', 'depends', 'depressed', 'depressing', 'depression', 'deprived', 'depth', 'depths', 'describe', 'describe current', 'described', 'describes', 'description', 'descriptive', 'desert', 'deserve', 'deserved', 'deserves', 'design', 'designed', 'designer', 'desire', 'desires', 'desk', 'desktop', 'despair', 'desperate', 'desperately', 'despite', 'dessert', 'destination', 'destiny', 'destroy', 'destroyed', 'destruction', 'detail', 'details', 'determine', 'determined', 'detroit', 'develop', 'developed', 'developing', 'development', 'device', 'devices', 'devil', 'devoted', 'dew', 'dey', 'di', 'dia', 'diagnosed', 'dial', 'dialogue', 'diamond', 'diane', 'diary', 'dick', 'dictator', 'dictionary', 'did', 'didnt', 'didnt get', 'didnt know', 'didnt want', 'die', 'died', 'diego', 'dies', 'diet', 'diet coke', 'difference', 'differences', 'different', 'different people', 'different things', 'different ways', 'differently', 'difficult', 'difficulty', 'diffrent', 'dig', 'digging', 'digital', 'digress', 'dilemma', 'dim', 'din', 'dining', 'dining room', 'dinner', 'dinner party', 'dip', 'direct', 'directed', 'direction', 'directions', 'directly', 'director', 'dirt', 'dirty', 'dis', 'disagree', 'disappear', 'disappeared', 'disappoint', 'disappointed', 'disappointing', 'disappointment', 'disaster', 'disc', 'disclaimer', 'disco', 'disconnect', 'discount', 'discover', 'discovered', 'discovery', 'discrimination', 'discs', 'discuss', 'discussed', 'discussing', 'discussion', 'discussions', 'disease', 'diseases', 'disgust', 'disgusting', 'dish', 'dishes', 'dishwasher', 'dislike', 'disney', 'disorder', 'display', 'displayed', 'distance', 'distant', 'distinguish', 'distracted', 'distraction', 'district', 'disturbed', 'disturbing', 'ditch', 'diva', 'divas', 'dive', 'diverse', 'diversity', 'divided', 'divine', 'division', 'divorce', 'dizzy', 'dj', 'dj lz', 'dj shovelpants', 'djs', 'dl', 'do', 'doc', 'doctor', 'doctors', 'document', 'documentary', 'documents', 'dodgeball', 'doesnt', 'dog', 'dogs', 'doin', 'doll', 'dollar', 'dollars', 'domain', 'dome', 'domestic', 'dominant', 'don', 'donald', 'donate', 'done', 'done anything', 'done much', 'dong', 'donna', 'donny', 'dont', 'dont care', 'dont even', 'dont feel', 'dont get', 'dont know', 'dont like', 'dont much', 'dont really', 'dont think', 'dont wan', 'dont want', 'dont worry', 'donut', 'doo', 'doomed', 'door', 'doors', 'dork', 'dorm', 'dot', 'double', 'doubt', 'douche', 'douche urllink', 'doug', 'dough', 'down', 'download', 'downright', 'downs', 'downside', 'downstairs', 'downtown', 'downtown miami', 'dozen', 'dr', 'dr rajcoomar', 'draft', 'drag', 'dragged', 'dragging', 'dragon', 'drama', 'dramatic', 'drank', 'draw', 'drawer', 'drawing', 'drawn', 'draws', 'dread', 'dream', 'dreamed', 'dreaming', 'dreams', 'dreamt', 'dress', 'dressed', 'dressed like', 'dresses', 'dressing', 'drew', 'drink', 'drinking', 'drinks', 'drive', 'drive home', 'driven', 'driver', 'drivers', 'drives', 'driveway', 'driving', 'driving around', 'driving home', 'drooling', 'drop', 'dropped', 'dropping', 'drops', 'drove', 'drowning', 'drug', 'drugs', 'drum', 'drummer', 'drums', 'drunk', 'drunken', 'dry', 'dryer', 'dt', 'dual', 'dub', 'duck', 'dude', 'dudes', 'due', 'duf', 'duf fer', 'dug', 'duh', 'dull', 'dulli', 'dumb', 'dumbass', 'dump', 'dumped', 'dun', 'dun wan', 'dune', 'dunno', 'duno', 'duo', 'duran', 'duran duran', 'dust', 'duties', 'duty', 'dvd', 'dvds', 'dying', 'dynamic', 'día', 'eachother', 'eager', 'eagle', 'ear', 'earlier', 'earlier today', 'earlier week', 'early', 'early morning', 'earn', 'earned', 'ears', 'earth', 'ease', 'easier', 'easiest', 'easily', 'east', 'east coast', 'easter', 'eastern', 'easy', 'eat', 'eaten', 'eating', 'eats', 'eb', 'ebay', 'echo', 'economic', 'economics', 'economy', 'ed', 'edge', 'edit', 'edited', 'editing', 'edition', 'editor', 'educated', 'education', 'educational', 'edward', 'edwards', 'eels', 'eep', 'effect', 'effected', 'effective', 'effectively', 'effects', 'efficient', 'effort', 'efforts', 'eg', 'egg', 'eggs', 'ego', 'egypt', 'eh', 'eight', 'either', 'either side', 'either way', 'ekeke', 'el', 'elaborate', 'elderly', 'elected', 'election', 'elections', 'electoral', 'electric', 'electricity', 'electronic', 'electronics', 'element', 'elementary', 'elementary school', 'elements', 'elephant', 'elevator', 'eleven', 'elijah', 'eliminate', 'eliminated', 'elizabeth', 'ella', 'ellison', 'else', 'else could', 'else say', 'else would', 'elsewhere', 'elvis', 'em', 'email', 'emailed', 'emails', 'embarrassed', 'embarrassing', 'embrace', 'emerged', 'emergency', 'emily', 'emma', 'emo', 'emotion', 'emotional', 'emotionally', 'emotions', 'emperor', 'emphasis', 'empire', 'employee', 'employees', 'employer', 'emptiness', 'empty', 'en', 'encore', 'encounter', 'encountered', 'encourage', 'encouraged', 'encouragement', 'encouraging', 'end', 'end day', 'end world', 'end year', 'ended', 'ending', 'endless', 'ends', 'enemies', 'enemy', 'energy', 'engage', 'engaged', 'engagement', 'engine', 'engineer', 'engineering', 'engineers', 'england', 'english', 'enjoy', 'enjoyable', 'enjoyed', 'enjoying', 'enjoyment', 'enlightenment', 'enormous', 'enough', 'enough get', 'enough love', 'enough make', 'enough time', 'ensemble', 'ensued', 'enter', 'entered', 'entering', 'entertain', 'entertained', 'entertaining', 'entertainment', 'enthusiastic', 'entire', 'entirely', 'entitled', 'entity', 'entrance', 'entries', 'entry', 'enuf', 'envelope', 'environment', 'environmental', 'envy', 'ep', 'epic', 'episode', 'episodes', 'equal', 'equally', 'equipment', 'equivalent', 'er', 'era', 'erase', 'erased', 'eric', 'erica', 'erm', 'errands', 'error', 'errors', 'ers', 'es', 'escape', 'ese', 'esp', 'especially', 'especially since', 'espn', 'esque', 'essay', 'essays', 'essence', 'essential', 'essentially', 'est', 'estaba', 'establish', 'established', 'establishment', 'estate', 'et', 'etc', 'etc etc', 'eternal', 'eternity', 'ethical', 'ethnic', 'euro', 'europe', 'european', 'eva', 'eve', 'even', 'even better', 'even care', 'even get', 'even got', 'even know', 'even like', 'even make', 'even one', 'even think', 'even though', 'even want', 'even worse', 'evening', 'event', 'eventful', 'events', 'eventually', 'ever', 'ever come', 'ever done', 'ever ever', 'ever get', 'ever go', 'ever happened', 'ever heard', 'ever known', 'ever one', 'ever read', 'ever really', 'ever seen', 'ever since', 'ever think', 'ever want', 'every', 'every day', 'every morning', 'every night', 'every one', 'every person', 'every single', 'every sunday', 'every time', 'every week', 'every year', 'every1', 'everybody', 'everyday', 'everyone', 'everyone else', 'everyone know', 'everyone knows', 'everyone seems', 'everyones', 'everything', 'everything could', 'everything else', 'everything going', 'everything need', 'everything ve', 'everything would', 'everytime', 'everywhere', 'evidence', 'evil', 'evolution', 'ew', 'ex', 'exact', 'exactly', 'exam', 'example', 'examples', 'exams', 'excellent', 'except', 'exception', 'exceptions', 'excerpt', 'excerpts', 'excessive', 'exchange', 'excited', 'excited see', 'excitement', 'exciting', 'excuse', 'excuses', 'execution', 'executive', 'exercise', 'exhausted', 'exhibition', 'exile', 'exist', 'existed', 'existence', 'existing', 'exists', 'exit', 'expect', 'expectations', 'expected', 'expecting', 'expense', 'expensive', 'experience', 'experienced', 'experiences', 'experiencing', 'expert', 'experts', 'explain', 'explained', 'explaining', 'explains', 'explanation', 'explode', 'explore', 'exposed', 'express', 'expressed', 'expressing', 'expression', 'extend', 'extended', 'extent', 'extra', 'extraordinary', 'extreme', 'extremely', 'extremes', 'eye', 'eyed', 'eyes', 'fab', 'fabulous', 'face', 'faced', 'faces', 'facing', 'fact', 'factor', 'factory', 'facts', 'fade', 'faded', 'fading', 'fail', 'failed', 'failing', 'fails', 'failure', 'fair', 'fairly', 'fairy', 'faith', 'faithful', 'fake', 'fall', 'fall asleep', 'fall love', 'fallen', 'falling', 'falling asleep', 'falls', 'false', 'fame', 'familiar', 'families', 'family', 'family friends', 'family members', 'famous', 'fan', 'fancy', 'fans', 'fantasies', 'fantastic', 'fantasy', 'far', 'far away', 'far concerned', 'farewell', 'fark', 'farm', 'farmer', 'farmers', 'farther', 'fascinated', 'fascinating', 'fashion', 'fast', 'faster', 'fat', 'fat kid', 'fate', 'father', 'fattening', 'fatty1', 'fatty2', 'fault', 'faves', 'favor', 'favorite', 'favorite place', 'favorite season', 'favorite song', 'favorite thing', 'favorite time', 'favorites', 'favourite', 'fax', 'fear', 'feared', 'fears', 'feat', 'feature', 'featured', 'features', 'featuring', 'february', 'fed', 'federal', 'fee', 'feed', 'feedback', 'feel', 'feel bad', 'feel better', 'feel free', 'feel good', 'feel like', 'feel need', 'feel pain', 'feel right', 'feel sorry', 'feel way', 'feelin', 'feeling', 'feeling better', 'feeling good', 'feeling like', 'feeling little', 'feelings', 'feels', 'feels good', 'feels like', 'feet', 'fell', 'fell asleep', 'fell hole', 'fell love', 'fella', 'fellas', 'fellow', 'fellowship', 'felt', 'felt bad', 'felt like', 'felt really', 'female', 'feminine', 'fence', 'fer', 'ferrell', 'ferry', 'fertility', 'fest', 'festival', 'festivities', 'fever', 'fewer', 'ff', 'fi', 'fiance', 'fiasco', 'fiction', 'fictional', 'field', 'fields', 'fifteen', 'fifth', 'fifty', 'fight', 'fighting', 'fights', 'figure', 'figured', 'figures', 'figuring', 'file', 'files', 'filipino', 'fill', 'filled', 'filling', 'film', 'films', 'filter', 'filters', 'filth', 'filthy', 'final', 'finale', 'finally', 'finally found', 'finally get', 'finally got', 'finals', 'finances', 'financial', 'financially', 'find', 'find one', 'find someone', 'find something', 'find way', 'finding', 'findings', 'finds', 'fine', 'finest', 'finger', 'fingers', 'fingers crossed', 'fingertips', 'finish', 'finished', 'finishing', 'fire', 'fired', 'firefox', 'fires', 'fireworks', 'firing', 'firm', 'firms', 'first', 'first blog', 'first bus', 'first class', 'first day', 'first love', 'first night', 'first one', 'first part', 'first person', 'first place', 'first post', 'first thing', 'first three', 'first time', 'first two', 'first week', 'firstly', 'fish', 'fish chips', 'fist', 'fit', 'fits', 'fitting', 'five', 'five favorite', 'five minutes', 'five things', 'five years', 'fix', 'fixed', 'fj', 'flag', 'flag never', 'flags', 'flair', 'flame', 'flames', 'flaming', 'flash', 'flat', 'flavor', 'flavored', 'flaw', 'flesh', 'flew', 'flick', 'flies', 'flight', 'flights', 'flip', 'flipped', 'flirting', 'floating', 'flock', 'flooble', 'flood', 'floor', 'floors', 'florida', 'flow', 'flower', 'flowers', 'flowing', 'flown', 'flu', 'fly', 'flying', 'focus', 'focused', 'focusing', 'fog', 'fold', 'folds', 'folk', 'folks', 'follow', 'followed', 'following', 'follows', 'font', 'foo', 'food', 'foods', 'fool', 'fooled', 'foolish', 'fools', 'foot', 'football', 'for', 'forbid', 'force', 'forced', 'forces', 'ford', 'forehead', 'foreign', 'foreigners', 'forest', 'forever', 'forget', 'forgetting', 'forgive', 'forgiveness', 'forgot', 'forgot mention', 'forgotten', 'form', 'formal', 'format', 'formed', 'former', 'forms', 'fort', 'forth', 'fortunate', 'fortunately', 'fortune', 'forty', 'forum', 'forward', 'forward seeing', 'fought', 'foul', 'found', 'found one', 'found something', 'found urllink', 'found way', 'foundation', 'founded', 'four', 'four hours', 'four things', 'four us', 'four years', 'fourth', 'fox', 'fox news', 'fragile', 'frame', 'framed', 'france', 'francisco', 'frank', 'franklin', 'frankly', 'freak', 'freaked', 'freakin', 'freaking', 'freaks', 'fred', 'fredbnafter', 'free', 'free speech', 'free time', 'freed', 'freedom', 'freedoms', 'freely', 'freeze', 'freezing', 'fren', 'french', 'frequencies', 'frequent', 'frequently', 'fresh', 'fresh air', 'freshly', 'freshman', 'freshman year', 'fricken', 'friday', 'friday five', 'friday morning', 'friday night', 'fridays', 'fridge', 'fried', 'friend', 'friend mine', 'friend would', 'friendly', 'friends', 'friends always', 'friends family', 'friendship', 'friendships', 'fries', 'friggin', 'frightened', 'frightening', 'frog', 'from', 'front', 'front desk', 'front door', 'front page', 'frozen', 'fruit', 'fruits', 'frustrated', 'frustrating', 'frustration', 'frusturated', 'fu', 'fuck', 'fucked', 'fucker', 'fuckin', 'fucking', 'fuel', 'fulfilled', 'full', 'full time', 'fully', 'fun', 'fun fun', 'fun got', 'fun like', 'fun stuff', 'function', 'fund', 'funding', 'funeral', 'funk', 'funky', 'funnier', 'funniest', 'funniest thing', 'funny', 'funny cause', 'funny thing', 'furious', 'furniture', 'fury', 'future', 'fyi', 'ga', 'gain', 'gained', 'gaining', 'gal', 'gallery', 'gals', 'gambling', 'game', 'games', 'gang', 'gap', 'garage', 'garbage', 'garden', 'garlic', 'gary', 'gas', 'gasp', 'gate', 'gates', 'gather', 'gathered', 'gathering', 'gator', 'gave', 'gave us', 'gay', 'gaze', 'gear', 'gee', 'geek', 'geeks', 'geez', 'gel', 'gem', 'gen', 'gender', 'gene', 'general', 'generally', 'generation', 'generations', 'generous', 'geneva', 'genius', 'genre', 'gentile', 'gentle', 'gentleman', 'gentlemen', 'gently', 'genuine', 'geo', 'geoff', 'geoff nbsp', 'geography', 'george', 'george bush', 'george harrison', 'german', 'germany', 'gesture', 'get', 'get 10', 'get along', 'get another', 'get anything', 'get around', 'get away', 'get back', 'get bed', 'get better', 'get bored', 'get car', 'get caught', 'get chance', 'get done', 'get drunk', 'get enough', 'get everything', 'get free', 'get get', 'get go', 'get good', 'get home', 'get idea', 'get involved', 'get job', 'get know', 'get like', 'get little', 'get married', 'get money', 'get new', 'get one', 'get paid', 'get people', 'get picture', 'get ready', 'get really', 'get rich', 'get rid', 'get right', 'get see', 'get sick', 'get sleep', 'get something', 'get started', 'get things', 'get together', 'get trouble', 'get used', 'get way', 'get work', 'get wrong', 'gets', 'gettin', 'getting', 'getting back', 'getting better', 'getting married', 'getting pretty', 'getting ready', 'ghetto', 'ghost', 'giant', 'gibson', 'giddy', 'gift', 'gifts', 'gig', 'giggle', 'giggling', 'gigs', 'gim', 'gim hot', 'gin', 'gino', 'girl', 'girl girl', 'girl know', 'girlfriend', 'girlfriends', 'girls', 'girly', 'give', 'give one', 'give us', 'given', 'gives', 'giving', 'glad', 'gladly', 'glaring', 'glass', 'glasses', 'glen', 'glenna', 'global', 'global warming', 'globe', 'gloomy', 'glorious', 'glory', 'glowing', 'gmail', 'go', 'go ahead', 'go along', 'go around', 'go away', 'go back', 'go bathroom', 'go bed', 'go buy', 'go check', 'go church', 'go college', 'go eat', 'go far', 'go figure', 'go find', 'go first', 'go get', 'go go', 'go got', 'go hell', 'go home', 'go like', 'go nbsp', 'go need', 'go one', 'go outside', 'go right', 'go school', 'go see', 'go shopping', 'go sleep', 'go somewhere', 'go straight', 'go take', 'go urllink', 'go way', 'go well', 'go work', 'go wrong', 'goal', 'goals', 'god', 'god bless', 'god created', 'god damn', 'god knows', 'god would', 'goddamn', 'goddess', 'gods', 'goes', 'goes well', 'goin', 'going', 'going around', 'going back', 'going bed', 'going change', 'going come', 'going end', 'going get', 'going go', 'going going', 'going happen', 'going home', 'going let', 'going life', 'going like', 'going make', 'going one', 'going put', 'going really', 'going right', 'going say', 'going see', 'going sleep', 'going start', 'going take', 'going tell', 'going try', 'going well', 'going work', 'going write', 'golb ym', 'gold', 'golden', 'goldfish', 'golf', 'golfing', 'gon', 'gon na', 'gona', 'gone', 'good', 'good bad', 'good bye', 'good day', 'good enough', 'good feeling', 'good food', 'good friend', 'good friends', 'good go', 'good guy', 'good idea', 'good job', 'good know', 'good looking', 'good luck', 'good mood', 'good morning', 'good movie', 'good news', 'good night', 'good one', 'good ones', 'good people', 'good person', 'good reason', 'good sign', 'good stuff', 'good thing', 'good things', 'good time', 'good times', 'good way', 'good weekend', 'goodbye', 'goodies', 'goodness', 'goodnight', 'goods', 'goofy', 'google', 'google search', 'goose', 'gordon', 'gore', 'gorgeous', 'gosh', 'gossip', 'got', 'got back', 'got bad', 'got call', 'got car', 'got go', 'got good', 'got home', 'got job', 'got like', 'got little', 'got lot', 'got mail', 'got married', 'got new', 'got nothing', 'got one', 'got really', 'got see', 'got sick', 'got something', 'got stuck', 'got ta', 'got two', 'got urllink', 'gots', 'gotten', 'government', 'governor', 'grab', 'grabbed', 'grace', 'graceful', 'grad', 'grad school', 'grade', 'grade school', 'grades', 'graduate', 'graduated', 'graduation', 'grain', 'grammy', 'grampa', 'grand', 'grandfather', 'grandma', 'grandma house', 'grandmother', 'grandpa', 'grandparents', 'grant', 'granted', 'graphic', 'grasp', 'grass', 'grateful', 'grave', 'gravedigger', 'graveyard', 'gravity', 'gray', 'great', 'great day', 'great deal', 'great fun', 'great idea', 'great job', 'great time', 'great weekend', 'greater', 'greatest', 'greatly', 'greek', 'green', 'greet', 'greeted', 'greetings', 'greg', 'gregory', 'grew', 'grey', 'grief', 'grill', 'grin', 'grind', 'grip', 'groan', 'groceries', 'grocery', 'grocery shopping', 'grocery store', 'gross', 'ground', 'grounds', 'group', 'group friends', 'group people', 'groups', 'grow', 'growing', 'grown', 'grows', 'growth', 'grr', 'grrr', 'grumpy', 'guarantee', 'guaranteed', 'guard', 'gud', 'guess', 'guess could', 'guess ll', 'guess one', 'guess ve', 'guessed', 'guessing', 'guest', 'guests', 'guide', 'guilt', 'guilty', 'guitar', 'guitarist', 'guitars', 'gulf', 'gum', 'gun', 'guns', 'guts', 'guy', 'guys', 'guyz', 'gw', 'gym', 'ha', 'ha ha', 'habit', 'habits', 'había', 'hadnt', 'haf', 'hafta', 'hah', 'haha', 'hahaha', 'hahahaha', 'haiku', 'hail', 'hair', 'hair color', 'hair cut', 'haircut', 'haiz', 'hal', 'haley', 'half', 'half hour', 'half hours', 'half time', 'half way', 'halfway', 'hall', 'halloween', 'hallway', 'halo', 'hamill', 'hamilton', 'hammer', 'hand', 'hand hand', 'handed', 'handful', 'handle', 'handling', 'hands', 'hands miami', 'handsome', 'handy', 'hang', 'hanging', 'hangover', 'hangs', 'happen', 'happend', 'happened', 'happened today', 'happened us', 'happening', 'happens', 'happier', 'happiest', 'happily', 'happiness', 'happy', 'happy birthday', 'happy day', 'happy friday', 'happy know', 'happy new', 'happy report', 'happy say', 'happy see', 'hard', 'hard core', 'hard get', 'hard time', 'hard work', 'hardcore', 'harder', 'hardest', 'hardly', 'harm', 'harmony', 'harpers', 'harris', 'harrison', 'harrison says', 'harry', 'harry potter', 'harsh', 'harvard', 'harvey', 'hasnt', 'hat', 'hate', 'hate hate', 'hate like', 'hate much', 'hate people', 'hated', 'hates', 'hating', 'hatred', 'hats', 'hatty', 'haul', 'haunt', 'hav', 'have', 'havent', 'havent seen', 'hawaii', 'he', 'head', 'head back', 'head get', 'headache', 'headed', 'headed back', 'heading', 'headline', 'headoflettuce43', 'headoflettuce43 nbsp', 'heads', 'heal', 'healed', 'healing', 'health', 'health care', 'healthy', 'hear', 'hear people', 'heard', 'heard one', 'hearing', 'hears', 'heart', 'heart soul', 'heartbreaker', 'hearted', 'hearts', 'heat', 'heather', 'heaven', 'heavens', 'heavily', 'heavy', 'heck', 'hectic', 'hee', 'hee hee', 'heels', 'heh', 'heh heh', 'hehe', 'hehehe', 'height', 'held', 'helen', 'helicopter', 'hell', 'hellenic', 'hello', 'help', 'help get', 'help us', 'helped', 'helpful', 'helping', 'helpless', 'helps', 'hence', 'henry', 'her', 'here', 'heres', 'heritage', 'hero', 'heroes', 'heroine', 'hes', 'hesitate', 'hey', 'hey guys', 'hey well', 'hf', 'hf2', 'hi', 'hiatus', 'hid', 'hidden', 'hide', 'hiding', 'high', 'high school', 'high urllink', 'higher', 'highest', 'highlight', 'highlights', 'highly', 'highly recommend', 'highway', 'hilarious', 'hilarity', 'hilary', 'hill', 'hills', 'hilton', 'him', 'him her', 'hindi', 'hint', 'hip', 'hire', 'hired', 'hiring', 'his', 'his her', 'historical', 'historically', 'history', 'hit', 'hitler', 'hits', 'hitting', 'hk', 'hmm', 'hmmm', 'hmmmm', 'hmmmmm', 'ho', 'hobbies', 'hobby', 'hockey', 'hold', 'hold hand', 'holding', 'holds', 'hole', 'holes', 'holiday', 'holidays', 'hollywood', 'holy', 'holy spirit', 'hombre', 'home', 'home got', 'home work', 'homeland', 'homeland security', 'homeless', 'homes', 'hometown', 'homework', 'homosexual', 'honest', 'honestly', 'honestly say', 'honey', 'hong', 'hong kong', 'honig', 'honor', 'hoo', 'hood', 'hoodie', 'hook', 'hooked', 'hop', 'hope', 'hope everyone', 'hope get', 'hoped', 'hopefully', 'hopefully ll', 'hopeless', 'hopes', 'hoping', 'hopping', 'horizon', 'horns', 'horoscope', 'horrible', 'horribly', 'horrid', 'horror', 'horse', 'horses', 'hospital', 'hospitals', 'host', 'hosted', 'hostess', 'hosts', 'hot', 'hot hot', 'hot white', 'hotel', 'hotel room', 'hotels', 'hotter', 'hottie', 'hour', 'hour ago', 'hour half', 'hours', 'hours day', 'hours sleep', 'house', 'household', 'housekeeping', 'houses', 'housing', 'houston', 'how', 'howard', 'howard dean', 'however', 'hp', 'hr', 'hrs', 'htm', 'html', 'http', 'http www', 'hu', 'hug', 'huge', 'hugged', 'hugs', 'huh', 'human', 'human beings', 'humanity', 'humans', 'humility', 'humor', 'humour', 'hundred', 'hundreds', 'hung', 'hunger', 'hungry', 'hunt', 'hunting', 'hurricane', 'hurt', 'hurting', 'hurts', 'husband', 'husbands', 'hussein', 'hv', 'hw', 'hype', 'hypefactor', 'hyper', 'hyphen', 'hysterically', 'hyu', 'ian', 'ice', 'ice cream', 'iced', 'icon', 'id', 'idea', 'idea get', 'ideal', 'ideals', 'ideas', 'identity', 'ideological', 'ideology', 'idiot', 'idiots', 'idk', 'idol', 'ie', 'if', 'ignorance', 'ignorant', 'ignore', 'ignored', 'ignoring', 'ii', 'iii', 'il', 'ill', 'illegal', 'illegals', 'illinois', 'illness', 'illusion', 'im', 'im addicted', 'im bored', 'im done', 'im getting', 'im going', 'im gon', 'im happy', 'im like', 'im pretty', 'im really', 'im sorry', 'im still', 'im sure', 'im walking', 'ima', 'image', 'images', 'imagination', 'imagine', 'imagined', 'imagining', 'immature', 'immediate', 'immediately', 'imo', 'impact', 'impending', 'implications', 'importance', 'important', 'importantly', 'impossible', 'impress', 'impressed', 'impression', 'impressive', 'improve', 'improved', 'improvement', 'improving', 'in', 'in law', 'in laws', 'inability', 'inc', 'inch', 'inches', 'incident', 'include', 'included', 'includes', 'including', 'income', 'incompetence', 'increase', 'increased', 'increasing', 'incredible', 'incredibly', 'indeed', 'independence', 'independent', 'index', 'index html', 'india', 'indian', 'indication', 'individual', 'individuals', 'induced', 'indulge', 'industrial', 'industry', 'inevitable', 'inevitably', 'infamous', 'influence', 'influences', 'info', 'inform', 'information', 'informed', 'informs', 'ing', 'initial', 'initially', 'initiate', 'injections', 'injured', 'injuries', 'injury', 'inner', 'inning', 'innocent', 'input', 'insane', 'insecure', 'insert', 'inside', 'insight', 'insignificant', 'insist', 'insisted', 'insomniac', 'inspiration', 'inspire', 'inspired', 'inspiring', 'install', 'instance', 'instances', 'instant', 'instantly', 'instead', 'instinct', 'institution', 'instructions', 'instructor', 'instrument', 'instruments', 'insult', 'insurance', 'intact', 'integrity', 'intellectual', 'intelligence', 'intelligent', 'intend', 'intended', 'intense', 'intensely', 'intent', 'intention', 'intentionally', 'interest', 'interested', 'interesting', 'interestingly', 'interests', 'internal', 'international', 'internet', 'interpretation', 'interrupt', 'interview', 'interviewer', 'interviews', 'intimate', 'intriguing', 'intro', 'introduce', 'introduced', 'introspective', 'invade', 'invasion', 'invented', 'invest', 'investigate', 'investment', 'invisible', 'invitation', 'invite', 'invited', 'invites', 'inviting', 'involve', 'involved', 'involves', 'involving', 'iowa', 'ip', 'ipod', 'iran', 'iraq', 'iraqi', 'iraqis', 'irene', 'irish', 'iron', 'ironic', 'ironically', 'irony', 'irrational', 'irritating', 'is', 'ish', 'islamic', 'island', 'isnt', 'israel', 'israelis', 'issue', 'issues', 'it', 'it nbsp', 'italian', 'italy', 'item', 'items', 'its', 'itunes', 'iv', 'ive', 'ive got', 'jack', 'jackass', 'jacket', 'jackie', 'jackie brown', 'jackie chan', 'jackson', 'jacob', 'jail', 'jake', 'jam', 'jamboree', 'james', 'jamie', 'jan', 'jane', 'janelle', 'jangles', 'janice', 'january', 'jap', 'japan', 'japanese', 'jar', 'jared', 'jason', 'jay', 'jayhawks', 'jazz', 'jazzboyj99', 'jc', 'jealous', 'jealousy', 'jean', 'jeans', 'jedi', 'jeff', 'jelly', 'jen', 'jender', 'jennifer', 'jenny', 'jeremy', 'jerk', 'jerks', 'jerry', 'jersey', 'jessica', 'jesus', 'jesus christ', 'jet', 'jewelry', 'jewish', 'jig', 'jim', 'jimi', 'jimmeh', 'jimmy', 'jls', 'jo', 'job', 'jobs', 'joe', 'joel', 'joey', 'john', 'john kerry', 'john mayer', 'johnathan', 'johnny', 'johnreed', 'johnson', 'join', 'joined', 'joining', 'joke', 'jokes', 'joking', 'jon', 'jonah', 'jonathan', 'jones', 'jones soda', 'joo', 'joseph', 'josh', 'journal', 'journey', 'jovi', 'joy', 'jr', 'jragon', 'js', 'judge', 'judged', 'judgement', 'judges', 'judgment', 'juice', 'julia', 'julie', 'july', 'jump', 'jumped', 'jumping', 'june', 'jungle', 'junior', 'junk', 'jus', 'just', 'justice', 'justin', 'juz', 'kansas', 'karaoke', 'karen', 'karl', 'karma', 'karon', 'kate', 'kati', 'katie', 'kayla', 'kc', 'keahey', 'ked', 'ked work', 'keep', 'keep getting', 'keep going', 'keep mind', 'keeping', 'keeps', 'keith', 'kelly', 'ken', 'kendo', 'kennedy', 'kept', 'kept going', 'kerry', 'ketchup', 'kevin', 'key', 'keyboard', 'keys', 'kfc', 'khorkina', 'kick', 'kick ass', 'kicked', 'kicking', 'kicks', 'kid', 'kidd', 'kidding', 'kids', 'kill', 'kill bill', 'killed', 'killer', 'killers', 'killing', 'kills', 'kim', 'kind', 'kind funny', 'kind like', 'kind thing', 'kinda', 'kinda like', 'kindergarten', 'kindof', 'kinds', 'king', 'kingdom', 'kings', 'kiss', 'kissed', 'kisses', 'kissing', 'kit', 'kitchen', 'kitten', 'knee', 'knees', 'knew', 'knew going', 'knew would', 'knife', 'knit', 'kno', 'knock', 'knocked', 'know', 'know always', 'know anything', 'know better', 'know ca', 'know could', 'know else', 'know even', 'know everything', 'know feel', 'know get', 'know go', 'know going', 'know good', 'know got', 'know im', 'know know', 'know life', 'know like', 'know little', 'know ll', 'know lot', 'know love', 'know many', 'know maybe', 'know mean', 'know means', 'know much', 'know nbsp', 'know need', 'know never', 'know nothing', 'know one', 'know people', 'know re', 'know really', 'know say', 'know someone', 'know something', 'know still', 'know things', 'know think', 'know time', 'know true', 'know ve', 'know want', 'know well', 'know whether', 'know would', 'knowing', 'knowledge', 'known', 'knows', 'ko', 'kobe', 'kong', 'kookaburra', 'kool', 'korea', 'korean', 'koreans', 'ku', 'kudos', 'kun', 'kung', 'kurt', 'kurt michelle', 'kyle', 'kyoto', 'la', 'la la', 'lab', 'label', 'labels', 'labor', 'lack', 'lack better', 'lack sleep', 'lacking', 'lacks', 'lacrosse', 'laden', 'ladies', 'lads', 'lady', 'lah', 'laid', 'laid back', 'lake', 'lakers', 'lamb', 'lame', 'lance', 'land', 'landed', 'landing', 'lands', 'landscape', 'lane', 'language', 'lap', 'laptop', 'lar', 'large', 'largely', 'larger', 'largest', 'lars', 'larx', 'las', 'las vegas', 'last', 'last couple', 'last day', 'last days', 'last minute', 'last month', 'last name', 'last night', 'last one', 'last person', 'last post', 'last song', 'last thing', 'last time', 'last two', 'last week', 'last weekend', 'last year', 'last years', 'lasted', 'lasts', 'late', 'late night', 'lately', 'later', 'latest', 'latin', 'latter', 'lau', 'laugh', 'laughed', 'laughed hard', 'laughing', 'laughs', 'laughter', 'launched', 'laundry', 'laura', 'lauren', 'law', 'law school', 'lawn', 'laws', 'lawsuit', 'lawyer', 'lawyers', 'lax', 'lay', 'layer', 'layers', 'laying', 'layout', 'lazy', 'lbs', 'le', 'lead', 'leader', 'leaders', 'leadership', 'leading', 'leads', 'leaf', 'league', 'leah', 'lean', 'leaning', 'leap', 'learn', 'learned', 'learning', 'learnt', 'least', 'least favorite', 'least get', 'least know', 'least one', 'leather', 'leave', 'leave alone', 'leave comment', 'leaves', 'leaving', 'lecture', 'lectures', 'led', 'lee', 'lee jeans', 'left', 'left alone', 'left behind', 'left feeling', 'left hand', 'leftover', 'leg', 'legal', 'legally', 'legend', 'legendary', 'legislation', 'legs', 'leia', 'lemon', 'lend', 'length', 'lent', 'leo', 'leonard', 'lesbian', 'less', 'lesser', 'lesson', 'lesson number', 'lessons', 'let', 'let alone', 'let get', 'let go', 'let hope', 'let know', 'let make', 'let say', 'let see', 'let start', 'let tell', 'let us', 'lets', 'lets see', 'letter', 'letters', 'letting', 'level', 'levels', 'lg', 'liao', 'liar', 'liberal', 'liberals', 'liberties', 'liberty', 'library', 'license', 'lick', 'licking', 'lie', 'lied', 'lies', 'life', 'life could', 'life going', 'life good', 'life group', 'life know', 'life like', 'life love', 'life never', 'life one', 'life really', 'life ve', 'life well', 'life without', 'life would', 'lifestyle', 'lifetime', 'lift', 'lifted', 'light', 'lighter', 'lighter note', 'lighting', 'lightning', 'lights', 'like', 'like 10', 'like 12', 'like able', 'like actually', 'like always', 'like anything', 'like best', 'like call', 'like could', 'like crazy', 'like dog', 'like even', 'like every', 'like everything', 'like feel', 'like first', 'like get', 'like getting', 'like give', 'like go', 'like god', 'like going', 'like good', 'like got', 'like guy', 'like hear', 'like hell', 'like hey', 'like hour', 'like hours', 'like im', 'like know', 'like last', 'like least', 'like life', 'like like', 'like little', 'like live', 'like ll', 'like look', 'like lot', 'like love', 'like make', 'like many', 'like mean', 'like morning', 'like much', 'like nbsp', 'like need', 'like never', 'like new', 'like nothing', 'like oh', 'like old', 'like one', 'like people', 'like re', 'like really', 'like said', 'like say', 'like see', 'like seriously', 'like shit', 'like someone', 'like something', 'like talking', 'like that', 'like things', 'like think', 'like time', 'like two', 'like urllink', 'like us', 'like used', 'like ve', 'like want', 'like way', 'like week', 'like well', 'like what', 'like whole', 'like would', 'like yeah', 'like you', 'liked', 'likely', 'likes', 'likey', 'liking', 'lil', 'lim', 'lime', 'limit', 'limited', 'limits', 'lincoln', 'lindsay', 'line', 'lined', 'lines', 'lineup', 'link', 'link urllink', 'linked', 'links', 'linux', 'lion', 'lip', 'lips', 'liquid', 'lisa', 'list', 'list five', 'list things', 'listed', 'listen', 'listened', 'listening', 'listens', 'lists', 'lit', 'literally', 'literary', 'literature', 'little', 'little better', 'little bit', 'little boy', 'little brother', 'little diva', 'little girl', 'little girls', 'little guy', 'little kids', 'little know', 'little later', 'little one', 'little sister', 'little something', 'little things', 'little time', 'littlest', 'littlest diva', 'live', 'live drums', 'live life', 'live like', 'live without', 'lived', 'lives', 'living', 'living life', 'living room', 'liz', 'liz phair', 'll', 'll able', 'll always', 'll back', 'll ever', 'll find', 'll get', 'll give', 'll go', 'll keep', 'll know', 'll leave', 'll let', 'll look', 'll make', 'll miss', 'll need', 'll never', 'll post', 'll probably', 'll say', 'll see', 'll show', 'll start', 'll stop', 'll take', 'll tell', 'll try', 'll wait', 'll write', 'lmao', 'lo', 'load', 'loaded', 'loads', 'loan', 'lobby', 'local', 'locate', 'located', 'location', 'lock', 'locked', 'log', 'logic', 'lol', 'lolx', 'lolz', 'london', 'loneliness', 'lonely', 'long', 'long ago', 'long day', 'long enough', 'long island', 'long long', 'long lost', 'long run', 'long story', 'long term', 'long time', 'long way', 'longer', 'longest', 'longing', 'look', 'look around', 'look back', 'look cool', 'look eyes', 'look face', 'look forward', 'look good', 'look like', 'look see', 'look urllink', 'looked', 'looked like', 'lookin', 'looking', 'looking forward', 'looking good', 'looking like', 'looking something', 'looks', 'looks like', 'looks pretty', 'loop', 'loops', 'loose', 'looting', 'lor', 'lord', 'lord rings', 'lorx', 'los', 'los angeles', 'lose', 'loser', 'losers', 'loses', 'losing', 'loss', 'lost', 'lost translation', 'lot', 'lot better', 'lot fun', 'lot money', 'lot people', 'lot things', 'lot time', 'lot work', 'lots', 'lots fun', 'lots lots', 'lots things', 'lotsa', 'lott', 'lottery', 'loud', 'louder', 'loudly', 'louis', 'louisiana', 'lounge', 'lousy', 'love', 'love babe', 'love death', 'love hate', 'love know', 'love life', 'love like', 'love love', 'love much', 'love new', 'love see', 'love someone', 'love song', 'love theo', 'love tonight', 'love urllink', 'love ya', 'loved', 'loved ones', 'lovely', 'lover', 'lovers', 'loves', 'loving', 'low', 'low urllink', 'lower', 'loyal', 'lp', 'luc', 'lucas', 'luck', 'luckily', 'lucky', 'lucky enough', 'luggage', 'luke', 'luna', 'lunch', 'lunch today', 'lungs', 'lust', 'luv', 'luv ya', 'luxury', 'lying', 'lyk', 'lyric', 'lyrics', 'lz', 'ma', 'mac', 'macaroni', 'macbeth', 'machine', 'machines', 'mad', 'made', 'made feel', 'made fun', 'made happy', 'made laugh', 'made sure', 'made way', 'madness', 'madonna', 'magazine', 'magazines', 'magic', 'magical', 'mah', 'maid', 'mail', 'mailbox', 'mailed', 'mailing', 'mails', 'main', 'mainly', 'mainstream', 'maintain', 'maintaining', 'maintenance', 'major', 'majority', 'majorly', 'make', 'make best', 'make better', 'make cry', 'make difference', 'make feel', 'make fun', 'make good', 'make happy', 'make long', 'make look', 'make money', 'make much', 'make one', 'make sense', 'make smile', 'make sure', 'make things', 'make up', 'make work', 'maker', 'makers', 'makes', 'makes feel', 'makes good', 'makes happy', 'makes laugh', 'makes people', 'makes sad', 'makes sense', 'makes think', 'makes want', 'makes wonder', 'makeup', 'making', 'making fun', 'making money', 'making sure', 'male', 'males', 'mall', 'mama', 'man', 'man could', 'man love', 'manage', 'managed', 'managed get', 'management', 'manager', 'managers', 'manda', 'mandy', 'mango', 'manhattan', 'manly', 'manner', 'manual', 'many', 'many different', 'many good', 'many many', 'many people', 'many things', 'many times', 'many ways', 'many years', 'map', 'marathon', 'marble', 'marc', 'march', 'marching', 'marching band', 'margaret', 'margaret atwood', 'margaritas', 'marijuana', 'marine', 'marines', 'mario', 'mark', 'marked', 'market', 'marketing', 'marks', 'marriage', 'marriages', 'married', 'marry', 'mars', 'marshall', 'marshals', 'mart', 'martha', 'martin', 'mary', 'maryland', 'mas', 'mask', 'masks', 'mass', 'mass destruction', 'masses', 'massive', 'master', 'masterpiece', 'masters', 'mat', 'match', 'matching', 'mate', 'material', 'mates', 'math', 'mathew', 'maths', 'matrix', 'matt', 'matt gentile', 'matter', 'matter much', 'matter say', 'matter time', 'matters', 'matthew', 'mattress', 'mature', 'maturity', 'max', 'maximum', 'may', 'may ask', 'may even', 'may find', 'may get', 'may know', 'may never', 'may say', 'may seem', 'maybe', 'maybe could', 'maybe even', 'maybe get', 'maybe like', 'maybe little', 'maybe ll', 'maybe maybe', 'maybe need', 'maybe something', 'maybe would', 'mayer', 'mayor', 'mcdonald', 'mcdonalds', 'me', 'me nbsp', 'meal', 'meals', 'mean', 'mean like', 'mean really', 'meaning', 'meaningful', 'meaningless', 'means', 'meant', 'meantime', 'meanwhile', 'measure', 'meat', 'medal', 'media', 'medical', 'medication', 'medicine', 'mediocre', 'meditation', 'medium', 'meet', 'meeting', 'meetings', 'meets', 'meg', 'mega', 'meh', 'mel', 'melbourne', 'melissa', 'melodies', 'melody', 'melt', 'member', 'members', 'membership', 'memo', 'memorable', 'memorial', 'memorial day', 'memories', 'memory', 'men', 'men women', 'mental', 'mental illness', 'mental patient', 'mentally', 'mention', 'mentioned', 'mentioning', 'mentions', 'mentor', 'menu', 'merchandise', 'mercury', 'mercy', 'mere', 'merely', 'mermaid', 'merry', 'mess', 'message', 'messages', 'messed', 'messing', 'messy', 'met', 'metal', 'meter', 'method', 'methods', 'metro', 'mexican', 'mexico', 'mga', 'mi', 'miami', 'miami beach', 'mic', 'michael', 'michael moore', 'michelle', 'michigan', 'mickey', 'microsoft', 'mid', 'middle', 'middle class', 'middle east', 'middle name', 'middle night', 'middle school', 'midnight', 'midst', 'might', 'might find', 'might get', 'might go', 'might make', 'might want', 'might well', 'mike', 'mildly', 'mile', 'miles', 'miles away', 'military', 'milk', 'mill', 'miller', 'million', 'million dollars', 'millions', 'milo', 'milwaukee', 'min', 'mind', 'minded', 'mindful', 'mindless', 'minds', 'mine', 'mini', 'minimal', 'minimum', 'minister', 'ministry', 'minneapolis', 'minnesota', 'minor', 'minority', 'mins', 'minus', 'minute', 'minutes', 'minutes ago', 'minutes later', 'mir', 'miracle', 'miriam', 'mirna', 'mirror', 'miserable', 'misery', 'miss', 'missed', 'missing', 'mission', 'mississippi', 'mistake', 'mistaken', 'mistakes', 'mix', 'mixed', 'mixes', 'mixing', 'mixture', 'mm', 'mmm', 'mmmm', 'mo', 'moaning', 'mobile', 'mocha', 'mock', 'mode', 'model', 'models', 'moderate', 'moderate urllink', 'modern', 'modest', 'mog', 'mogpac', 'mom', 'mom dad', 'moment', 'moments', 'mommy', 'moms', 'mon', 'monday', 'monday night', 'mondays', 'money', 'monitor', 'monkey', 'monkeys', 'monster', 'month', 'month ago', 'monthly', 'months', 'months ago', 'mood', 'moody', 'moon', 'moore', 'moral', 'more', 'morning', 'morning got', 'mornings', 'morrissey', 'moses', 'mostly', 'mother', 'mother in', 'mothers', 'motion', 'motivated', 'motivation', 'motorcycle', 'motto', 'mountain', 'mountains', 'mourning', 'mouse', 'mouth', 'mouth shut', 'mouths', 'move', 'moved', 'moved back', 'movement', 'movements', 'moves', 'movie', 'movies', 'moving', 'mowing', 'moz', 'mp3', 'mph', 'mpls', 'mr', 'mr keahey', 'mr thomas', 'mrs', 'mrs duf', 'ms', 'msn', 'mt', 'mtv', 'much', 'much better', 'much easier', 'much else', 'much fun', 'much going', 'much good', 'much hate', 'much less', 'much like', 'much longer', 'much love', 'much money', 'much much', 'much nbsp', 'much need', 'much needed', 'much one', 'much say', 'much think', 'much thought', 'much time', 'much want', 'much work', 'much worse', 'mucho', 'mud', 'multi', 'multiple', 'mum', 'mummy', 'mundane', 'muppet', 'murder', 'murphy', 'murray', 'muscle', 'muscles', 'muse', 'museum', 'music', 'musical', 'musician', 'musicians', 'muslim', 'muslims', 'must', 'must admit', 'must go', 'must say', 'must see', 'must ve', 'mustard', 'mutual', 'muy', 'muz', 'my', 'myron', 'myself', 'mysterious', 'mystery', 'mythtv', 'na', 'na die', 'na fall', 'na get', 'na go', 'na know', 'na make', 'na na', 'nada', 'nader', 'nag', 'nah', 'nail', 'nails', 'naive', 'naked', 'name', 'name four', 'name one', 'named', 'namely', 'names', 'nancy', 'nap', 'napkins', 'napoleon', 'narrow', 'nasa', 'nasty', 'nate', 'nation', 'national', 'national convention', 'national day', 'national security', 'nations', 'nationwide', 'native', 'natural', 'naturally', 'nature', 'nauseous', 'navy', 'nazi', 'nbsp', 'nbsp also', 'nbsp anyway', 'nbsp cant', 'nbsp dont', 'nbsp even', 'nbsp get', 'nbsp go', 'nbsp going', 'nbsp good', 'nbsp got', 'nbsp guess', 'nbsp im', 'nbsp interviewer', 'nbsp know', 'nbsp last', 'nbsp like', 'nbsp little', 'nbsp love', 'nbsp maybe', 'nbsp nbsp', 'nbsp need', 'nbsp never', 'nbsp one', 'nbsp people', 'nbsp quite', 'nbsp really', 'nbsp right', 'nbsp something', 'nbsp still', 'nbsp things', 'nbsp think', 'nbsp thought', 'nbsp today', 'nbsp urllink', 'nbsp ve', 'nbsp want', 'nbsp wanted', 'nbsp well', 'nbsp went', 'nbsp would', 'ne', 'neal', 'near', 'near future', 'nearby', 'nearly', 'neat', 'necessarily', 'necessary', 'neck', 'need', 'need another', 'need find', 'need get', 'need go', 'need help', 'need know', 'need learn', 'need love', 'need make', 'need one', 'need say', 'need someone', 'need something', 'need start', 'need stop', 'need take', 'need talk', 'need wake', 'need work', 'needed', 'needing', 'needle', 'needles', 'needless', 'needless say', 'needs', 'negative', 'negatives', 'negro', 'negroes', 'neighbor', 'neighborhood', 'neighbors', 'neil', 'neither', 'neo', 'nephew', 'nerd', 'neruda', 'nerve', 'nerves', 'nervous', 'ness', 'net', 'net net', 'network', 'nevada', 'never', 'never able', 'never actually', 'never even', 'never ever', 'never felt', 'never forget', 'never get', 'never go', 'never going', 'never gon', 'never good', 'never got', 'never happen', 'never heard', 'never knew', 'never know', 'never known', 'never met', 'never mind', 'never never', 'never really', 'never saw', 'never say', 'never see', 'never seen', 'never thought', 'never used', 'nevermind', 'nevertheless', 'new', 'new album', 'new blog', 'new car', 'new day', 'new favorite', 'new friends', 'new jersey', 'new job', 'new life', 'new one', 'new order', 'new orleans', 'new people', 'new place', 'new song', 'new things', 'new year', 'new years', 'new york', 'neway', 'newest', 'newly', 'news', 'newspaper', 'newspapers', 'next', 'next big', 'next day', 'next days', 'next door', 'next month', 'next morning', 'next night', 'next thing', 'next time', 'next two', 'next week', 'next weeks', 'next year', 'ng', 'ni', 'nice', 'nice guy', 'nice know', 'nice see', 'nice things', 'nicely', 'nick', 'nickel', 'nickname', 'nicole', 'niece', 'nigel', 'night', 'night got', 'night know', 'night like', 'night nbsp', 'night really', 'night saw', 'night went', 'nightmare', 'nightmares', 'nights', 'nine', 'nintendo', 'nite', 'no', 'no one', 'noble', 'nobody', 'nod', 'noe', 'noise', 'noises', 'noisy', 'nomar', 'non', 'non stop', 'none', 'none less', 'nonetheless', 'nonsense', 'noodle', 'noodles', 'noon', 'nooo', 'nope', 'normal', 'normal people', 'normally', 'north', 'north korea', 'northern', 'nose', 'nostalgia', 'not', 'notch', 'note', 'notebook', 'noted', 'notes', 'nothin', 'nothing', 'nothing better', 'nothing else', 'nothing happened', 'nothing left', 'nothing like', 'nothing much', 'nothing really', 'nothing say', 'nothing wrong', 'notice', 'noticed', 'noticing', 'notion', 'nova', 'novel', 'november', 'now', 'nowadays', 'nowhere', 'nsg', 'nt', 'nuclear', 'numb', 'number', 'number one', 'numbers', 'numerous', 'nun', 'nurse', 'nut', 'nuts', 'nvm', 'ny', 'nyc', 'oak', 'oakland', 'object', 'objective', 'objects', 'oblivion', 'oblivious', 'obnoxious', 'obscene', 'obscure', 'observation', 'observed', 'obsessed', 'obsession', 'obsessive', 'obtained', 'obvious', 'obviously', 'occasion', 'occasional', 'occasionally', 'occasions', 'occupation', 'occupied', 'occur', 'occurred', 'occurs', 'ocean', 'oct', 'october', 'odd', 'oddly', 'odds', 'of', 'of the', 'off', 'offend', 'offended', 'offense', 'offer', 'offered', 'offering', 'offers', 'office', 'officer', 'official', 'officially', 'officials', 'often', 'oh', 'oh god', 'oh man', 'oh oh', 'oh one', 'oh shit', 'oh wait', 'oh well', 'oh ya', 'oh yeah', 'oh yes', 'ohh', 'ohh well', 'ohio', 'ohio state', 'oil', 'ok', 'ok let', 'ok ll', 'ok maybe', 'ok ok', 'ok well', 'okay', 'ol', 'old', 'old friend', 'old friends', 'old man', 'old one', 'old school', 'older', 'oldest', 'olds', 'ole', 'oliver', 'olympic', 'olympics', 'omg', 'on', 'one', 'one another', 'one best', 'one big', 'one cares', 'one could', 'one day', 'one days', 'one else', 'one ever', 'one favorite', 'one friends', 'one going', 'one good', 'one got', 'one guy', 'one guys', 'one half', 'one hand', 'one hour', 'one know', 'one knows', 'one last', 'one left', 'one like', 'one little', 'one love', 'one many', 'one month', 'one nbsp', 'one night', 'one one', 'one people', 'one person', 'one place', 'one point', 'one read', 'one really', 'one reason', 'one reasons', 'one right', 'one say', 'one side', 'one song', 'one step', 'one thing', 'one things', 'one think', 'one time', 'one two', 'one urllink', 'one ve', 'one wanted', 'one way', 'one week', 'one word', 'one would', 'one year', 'ones', 'ongoing', 'onion', 'online', 'online journal', 'only', 'onto', 'onwards', 'ooh', 'ooh ooh', 'ooh yeah', 'oooh', 'oops', 'op', 'open', 'opened', 'opener', 'opening', 'openly', 'opens', 'opera', 'operating', 'operation', 'opinion', 'opinions', 'opportunities', 'opportunity', 'opposed', 'opposite', 'opposite sex', 'opposition', 'oprah', 'opted', 'option', 'options', 'or', 'oral', 'orange', 'orchestra', 'order', 'ordered', 'ordering', 'orders', 'ordinary', 'oregon', 'org', 'organization', 'organizations', 'organize', 'organized', 'organizing', 'orientation', 'original', 'originally', 'orlando', 'orleans', 'os', 'osama', 'oscar', 'other', 'others', 'otherwise', 'ottawa', 'ouch', 'ought', 'our', 'out', 'out nbsp', 'out of', 'outdoor', 'outer', 'outfit', 'outgoing', 'outing', 'outlet', 'outlook', 'outside', 'outstanding', 'outta', 'oven', 'over', 'overall', 'overcome', 'overdue', 'overhead', 'overly', 'overnight', 'overrated', 'overseas', 'overwhelmed', 'overwhelming', 'owe', 'owned', 'owner', 'owners', 'owning', 'owns', 'oxidizer', 'oxygen', 'oy', 'oz', 'pa', 'pablo', 'pace', 'pack', 'package', 'packed', 'packet', 'packing', 'pad', 'paddy', 'page', 'pages', 'paid', 'pain', 'painful', 'pains', 'paint', 'painted', 'painting', 'pair', 'pairs', 'pajamas', 'pakistan', 'pal', 'palace', 'palast', 'pale', 'palm', 'palm beach', 'palms', 'pan', 'panda', 'pandies', 'pandyland', 'pandyland burrito', 'pandylandaz', 'panic', 'panther', 'pants', 'papa', 'paper', 'papers', 'par', 'para', 'parade', 'paradise', 'paragraph', 'parallel', 'paranoia', 'paranoid', 'parent', 'parents', 'paris', 'parish', 'park', 'parked', 'parking', 'parking lot', 'parks', 'parliament', 'part', 'part life', 'part time', 'partially', 'participate', 'particular', 'particularly', 'parties', 'partly', 'partner', 'partners', 'parts', 'party', 'partying', 'pass', 'passage', 'passed', 'passed away', 'passenger', 'passengers', 'passes', 'passing', 'passion', 'passionate', 'past', 'past couple', 'past days', 'past months', 'past three', 'past two', 'past week', 'past weekend', 'past weeks', 'past year', 'past years', 'pasta', 'paste', 'pastor', 'pat', 'patch', 'path', 'pathetic', 'patience', 'patient', 'patio', 'patrick', 'patrol', 'pattern', 'patterns', 'paul', 'pause', 'pay', 'pay attention', 'paycheck', 'payday', 'paying', 'paying attention', 'payment', 'pb', 'pc', 'pcs', 'peace', 'peaceful', 'peanut', 'peanut butter', 'pearl', 'pee', 'peeing', 'peel', 'peeps', 'peeve', 'pen', 'pending', 'penis', 'penny', 'pentagon', 'people', 'people actually', 'people always', 'people around', 'people ca', 'people care', 'people come', 'people could', 'people dont', 'people feel', 'people get', 'people go', 'people hate', 'people know', 'people like', 'people live', 'people love', 'people make', 'people may', 'people much', 'people need', 'people never', 'people people', 'people read', 'people really', 'people say', 'people see', 'people start', 'people still', 'people take', 'people talk', 'people talking', 'people think', 'people use', 'people ve', 'people want', 'people work', 'people world', 'people would', 'peoples', 'pepper', 'peppers', 'pepsi', 'per', 'perceive', 'perceived', 'percent', 'percentage', 'perfect', 'perfect day', 'perfection', 'perfectly', 'perform', 'performance', 'performances', 'performed', 'performing', 'perhaps', 'period', 'periods', 'permanent', 'permanently', 'permission', 'permit', 'pero', 'person', 'person know', 'person like', 'personal', 'personalities', 'personality', 'personally', 'personally think', 'persons', 'perspective', 'peru', 'pet', 'petals', 'pete', 'peter', 'peter saintface', 'peter wolf', 'petition', 'pets', 'phair', 'pharsalus8948', 'phase', 'phd', 'phenomenal', 'phenomenon', 'phew', 'phil', 'philippines', 'philosophical', 'philosophy', 'phoenix', 'phone', 'phone call', 'phone calls', 'phone number', 'phones', 'photo', 'photographer', 'photography', 'photos', 'photoshop', 'php', 'phrase', 'phrases', 'physical', 'physically', 'physics', 'piano', 'pic', 'pick', 'picked', 'picking', 'picks', 'picnic', 'pics', 'picture', 'picture taken', 'pictures', 'pie', 'piece', 'piece paper', 'pieces', 'pierce', 'piercing', 'piercings', 'pig', 'pigface', 'pikahu', 'pile', 'pill', 'pillow', 'pillows', 'pills', 'pilot', 'pimp', 'pin', 'pink', 'pinto', 'pinto says', 'pirate', 'piss', 'pissed', 'pisses', 'pistons', 'pit', 'pit stop', 'pitch', 'pitchers', 'pitching', 'pity', 'pixies', 'pizza', 'pj', 'place', 'place called', 'place like', 'placed', 'places', 'plain', 'plan', 'plane', 'planes', 'planet', 'planned', 'planning', 'plans', 'plant', 'plants', 'plastic', 'plate', 'plates', 'platform', 'play', 'play game', 'playboy', 'played', 'player', 'players', 'playing', 'plays', 'pleasant', 'please', 'please let', 'please please', 'please tell', 'pleased', 'pleasure', 'pledge', 'plenty', 'plot', 'plug', 'plus', 'pm', 'pm lol', 'po', 'pocket', 'pockets', 'poem', 'poems', 'poet', 'poetic', 'poetry', 'point', 'point view', 'pointed', 'pointing', 'pointless', 'points', 'poke', 'police', 'policies', 'policy', 'polish', 'political', 'politically', 'politician', 'politicians', 'politics', 'poll', 'polls', 'pollution', 'pondering', 'pony', 'poo', 'pool', 'poop', 'poor', 'poorly', 'pop', 'pop culture', 'popcorn', 'popped', 'popping', 'pops', 'popular', 'population', 'por', 'porch', 'pore', 'pork', 'porn', 'port', 'portable', 'portfolio', 'portion', 'portrait', 'pose', 'posed', 'posh', 'position', 'positions', 'positive', 'possession', 'possibilities', 'possibility', 'possible', 'possibly', 'post', 'post pictures', 'post something', 'postal', 'postcard', 'posted', 'poster', 'posters', 'posting', 'posts', 'pot', 'potato', 'potential', 'potentially', 'potter', 'pound', 'pounding', 'pounds', 'pour', 'poured', 'pouring', 'poverty', 'powell', 'power', 'powered', 'powerful', 'powerless', 'powers', 'pp', 'ppl', 'pple', 'pr', 'practical', 'practically', 'practice', 'practices', 'practicing', 'praise', 'praise god', 'pray', 'prayer', 'prayers', 'praying', 'pre', 'precious', 'prefer', 'preference', 'pregnancy', 'pregnant', 'prep', 'prepare', 'prepared', 'preparing', 'prescription', 'presence', 'present', 'presentation', 'presented', 'presents', 'president', 'president bush', 'presidential', 'presidents', 'press', 'press conference', 'pressed', 'pressing', 'pressure', 'pretend', 'pretending', 'pretty', 'pretty bad', 'pretty cool', 'pretty damn', 'pretty funny', 'pretty good', 'pretty much', 'pretty sure', 'pretty well', 'prevent', 'previous', 'previous post', 'previously', 'price', 'priced', 'priceless', 'prices', 'pride', 'priest', 'primal', 'primarily', 'primary', 'prime', 'prince', 'princess', 'principle', 'principles', 'print', 'printed', 'prior', 'priority', 'prison', 'prisoner', 'prisoners', 'privacy', 'private', 'prize', 'pro', 'prob', 'probably', 'probably best', 'probably go', 'probably going', 'probably one', 'probably wo', 'probably would', 'problem', 'problems', 'probly', 'proceeded', 'process', 'produce', 'produced', 'producer', 'producers', 'producing', 'product', 'production', 'productive', 'productivity', 'products', 'profession', 'professional', 'professor', 'profile', 'profit', 'profound', 'program', 'programming', 'programs', 'progress', 'project', 'projects', 'prolly', 'prom', 'promise', 'promised', 'promises', 'promising', 'promote', 'promoting', 'promotion', 'promptly', 'pronounced', 'proof', 'propaganda', 'proper', 'properly', 'property', 'proposed', 'props', 'prospects', 'protect', 'protected', 'protecting', 'protection', 'protective', 'protest', 'protesting', 'protestors', 'proud', 'proudly', 'prove', 'proved', 'proven', 'proves', 'provide', 'provided', 'provides', 'providing', 'proving', 'provoking', 'ps', 'psyche', 'psyched', 'psycho', 'pub', 'public', 'publicity', 'publicly', 'publish', 'published', 'publishing', 'puke', 'pull', 'pulled', 'pulling', 'pulls', 'pump', 'pumpkin', 'pun', 'pun intended', 'punch', 'punched', 'punishment', 'punk', 'punkish', 'punkish angel546', 'puppy', 'purchase', 'purchased', 'purchases', 'pure', 'purple', 'purpose', 'purposes', 'purse', 'pursue', 'pursuit', 'push', 'pushed', 'pushing', 'pussy', 'put', 'put back', 'put together', 'puts', 'putting', 'puzzle', 'qaeda', 'qualifies', 'quality', 'quarter', 'quarters', 'quartet', 'que', 'queen', 'queens', 'quest', 'question', 'questioning', 'questions', 'quick', 'quickly', 'quiet', 'quietly', 'quirks', 'quirky', 'quit', 'quite', 'quite amusing', 'quite bit', 'quite frankly', 'quite funny', 'quite good', 'quite happy', 'quite interesting', 'quite lot', 'quite nice', 'quite sure', 'quite well', 'quiz', 'quizilla', 'quotation', 'quote', 'quotes', 'race', 'races', 'rachel', 'racial', 'racing', 'racism', 'racist', 'rack', 'radical', 'radio', 'radio station', 'radiohead', 'rage', 'rain', 'rainbow', 'rained', 'raining', 'rains', 'rainy', 'raise', 'raise jones', 'raised', 'raising', 'rajcoomar', 'rall', 'ralph', 'rambling', 'ran', 'ranch', 'random', 'randomly', 'rang', 'range', 'rank', 'ranking', 'ranks', 'rant', 'ranting', 'rap', 'rape', 'rapidly', 'rare', 'rarely', 'rat', 'rate', 'rated', 'rates', 'rather', 'rating', 'rats', 'raving', 'raw', 'ray', 'rbi', 're', 're already', 're always', 're done', 're election', 're getting', 're going', 're gon', 're good', 're left', 're like', 're looking', 're never', 're playing', 're pretty', 're reading', 're really', 're right', 're still', 're supposed', 're talking', 're thinking', 'reach', 'reached', 'reaches', 'reaching', 'react', 'reaction', 'reactions', 'read', 'read article', 'read blog', 'read book', 'read books', 'read first', 'read post', 'read urllink', 'reader', 'readers', 'reading', 'reading book', 'reads', 'ready', 'ready go', 'reagan', 'real', 'real estate', 'real life', 'real name', 'real reason', 'real world', 'reali', 'realise', 'realised', 'realistic', 'reality', 'reality show', 'realization', 'realize', 'realized', 'realizing', 'realli', 'really', 'really bad', 'really big', 'really ca', 'really care', 'really close', 'really cool', 'really cute', 'really dont', 'really enjoy', 'really enjoyed', 'really excited', 'really feel', 'really fun', 'really funny', 'really get', 'really good', 'really got', 'really great', 'really happened', 'really happy', 'really hard', 'really hate', 'really hope', 'really interesting', 'really know', 'really like', 'really liked', 'really long', 'really looking', 'really make', 'really makes', 'really matter', 'really mean', 'really much', 'really need', 'really needed', 'really nice', 'really nothing', 'really really', 'really sad', 'really see', 'really sick', 'really sure', 'really think', 'really tired', 'really understand', 'really want', 'really wanted', 'really weird', 'really well', 'really would', 'realm', 'rear', 'reason', 'reasonable', 'reasoning', 'reasons', 'rebecca', 'rebel', 'recall', 'recap', 'receive', 'received', 'receiving', 'recent', 'recently', 'reception', 'recieved', 'recipe', 'recognition', 'recognize', 'recognized', 'recommend', 'recommended', 'reconstruction', 'record', 'recorded', 'recording', 'records', 'red', 'red sox', 'redemption', 'reduce', 'reduced', 'reed', 'refer', 'reference', 'referred', 'referrer', 'referring', 'refers', 'reflect', 'reflection', 'reform', 'refrain', 'refreshing', 'refuse', 'refused', 'refuses', 'regard', 'regarding', 'regardless', 'regards', 'region', 'register', 'registration', 'regret', 'regrets', 'regular', 'regularly', 'reject', 'rejected', 'relate', 'related', 'relations', 'relationship', 'relationships', 'relative', 'relatively', 'relatives', 'relax', 'relaxation', 'relaxed', 'relaxing', 'release', 'released', 'relevant', 'relief', 'relieved', 'religion', 'religions', 'religious', 'rely', 'remain', 'remained', 'remaining', 'remains', 'remarkable', 'remarks', 'remember', 'remembered', 'remind', 'reminded', 'reminder', 'reminding', 'reminds', 'remix', 'remixes', 'remote', 'remotely', 'remove', 'removed', 'removing', 'rent', 'rental', 'rented', 'rents', 'rep', 'repair', 'repeat', 'repeated', 'repeatedly', 'repeating', 'replace', 'replaced', 'replacement', 'replied', 'replies', 'reply', 'report', 'reported', 'reporter', 'reporters', 'reporting', 'reports', 'represent', 'representative', 'represents', 'republic', 'republican', 'republicans', 'reputation', 'request', 'requested', 'requests', 'require', 'required', 'requirements', 'requires', 'rescue', 'research', 'reservations', 'reserve', 'residence', 'resident', 'residents', 'resist', 'resolution', 'resolutions', 'resolve', 'resolved', 'resort', 'resources', 'respect', 'respective', 'respects', 'respond', 'responded', 'response', 'responses', 'responsibilities', 'responsibility', 'responsible', 'rest', 'rest day', 'rest life', 'rest us', 'rest world', 'restaurant', 'restaurants', 'resting', 'restricted', 'restrictions', 'restroom', 'result', 'resulting', 'results', 'resume', 'resume cover', 'retard', 'retarded', 'retire', 'retired', 'retreat', 'return', 'return king', 'returned', 'returning', 'returns', 'reunion', 'reveal', 'revealed', 'revealing', 'revelation', 'revenge', 'revenue', 'review', 'reviewed', 'reviews', 'revolution', 'reward', 'rhyme', 'rhythm', 'ribbon', 'rice', 'rich', 'richard', 'richmond', 'rick', 'ricky', 'rid', 'ride', 'rides', 'ridiculous', 'ridiculously', 'riding', 'right', 'right away', 'right back', 'right feel', 'right front', 'right hand', 'right know', 'right like', 'right nbsp', 'right next', 'right one', 'right people', 'right re', 'right side', 'right thing', 'right think', 'right time', 'right way', 'right wrong', 'rights', 'ring', 'ring ring', 'ringing', 'rings', 'riot', 'rip', 'ripped', 'rise', 'rising', 'risk', 'risks', 'risky', 'rite', 'ritual', 'rituals', 'river', 'ro', 'road', 'roads', 'rob', 'robbed', 'robbie', 'robert', 'roberts', 'robin', 'robinson', 'robot', 'rock', 'rock band', 'rock music', 'rock roll', 'rocked', 'rockin', 'rocking', 'rocks', 'rod', 'rode', 'rodeo', 'rodin', 'roger', 'rogers', 'role', 'roles', 'roll', 'rolled', 'roller', 'rolling', 'rolls', 'romance', 'romantic', 'romeo', 'ron', 'ronald', 'ronnie', 'roof', 'room', 'roommate', 'rooms', 'root', 'roots', 'rope', 'rose', 'roses', 'rosie', 'rotten', 'rouge', 'rough', 'roughly', 'round', 'rounds', 'route', 'routine', 'row', 'rows', 'roy', 'royal', 'rtg', 'rub', 'rubber', 'rubbish', 'ruby', 'rude', 'ruin', 'ruined', 'rule', 'ruled', 'rules', 'rum', 'rumor', 'rumored', 'rumors', 'rumsfeld', 'run', 'run around', 'run away', 'runner', 'running', 'running around', 'running time', 'runs', 'rural', 'rush', 'rushed', 'rushing', 'russia', 'russian', 'ryan', 'résumé', 'sa', 'sack', 'sacrifice', 'sacrifices', 'sad', 'sadaam', 'saddam', 'saddam hussein', 'sadly', 'sadness', 'sae', 'safe', 'safely', 'safety', 'said', 'said anything', 'said done', 'said going', 'said last', 'said never', 'said no', 'said oh', 'said one', 'said see', 'said something', 'said the', 'said well', 'said would', 'said yes', 'said you', 'saint', 'saintface', 'sake', 'sal', 'salad', 'salary', 'sale', 'sales', 'salon', 'salon com', 'salt', 'sam', 'sama', 'samantha', 'same', 'samurai', 'san', 'san diego', 'san francisco', 'sand', 'sandals', 'sandwich', 'sandwiches', 'sane', 'sang', 'sanity', 'sans', 'santa', 'sara', 'sara says', 'sarah', 'sarasota', 'sarcasm', 'sarcastic', 'saree', 'sat', 'sat around', 'satan', 'satellite', 'satin', 'satisfaction', 'satisfied', 'satisfy', 'satisfying', 'saturday', 'saturday morning', 'saturday night', 'saturn', 'sauce', 'saudi', 'saudi arabia', 'sausage', 'save', 'saved', 'saves', 'saving', 'savings', 'saw', 'say', 'say anything', 'say ca', 'say get', 'say good', 'say know', 'say least', 'say like', 'say love', 'say much', 'say nbsp', 'say nothing', 'say one', 'say something', 'say things', 'say think', 'say today', 'say ve', 'say yes', 'sayin', 'saying', 'saying things', 'says', 'scale', 'scare', 'scared', 'scares', 'scary', 'scattered', 'scenario', 'scene', 'scenes', 'scent', 'sch', 'schedule', 'scheduled', 'scheme', 'school', 'school college', 'school even', 'school starts', 'school today', 'school would', 'school year', 'schools', 'science', 'scientific', 'scientists', 'sconie', 'scoop', 'score', 'scored', 'scores', 'scott', 'scrapbooking', 'scratch', 'scream', 'screamed', 'screaming', 'screams', 'screen', 'screening', 'screw', 'screwed', 'script', 'se', 'sea', 'seafood', 'seal', 'sean', 'search', 'search engine', 'searched', 'searches', 'searching', 'season', 'seasons', 'seat', 'seated', 'seats', 'seattle', 'sec', 'second', 'second one', 'second time', 'secondary', 'seconds', 'secret', 'secretary', 'secretly', 'secrets', 'section', 'sections', 'secure', 'security', 'see', 'see anything', 'see could', 'see face', 'see first', 'see friends', 'see good', 'see happens', 'see movie', 'see much', 'see one', 'see people', 'see re', 'see see', 'see things', 'see urllink', 'see us', 'see world', 'see would', 'seed', 'seeing', 'seek', 'seeking', 'seem', 'seem like', 'seemed', 'seemed like', 'seemingly', 'seems', 'seems like', 'seen', 'seen long', 'sees', 'select', 'selected', 'selection', 'self', 'selfish', 'sell', 'selling', 'sells', 'semester', 'semi', 'sen', 'senate', 'senator', 'senators', 'send', 'sending', 'sends', 'senior', 'seniors', 'sensation', 'sense', 'sense humor', 'sensei', 'senses', 'sensitive', 'sent', 'sentence', 'sentences', 'sentimental', 'seoul', 'separate', 'separated', 'separation', 'sept', 'september', 'sequel', 'serenity', 'series', 'serious', 'seriously', 'servant', 'serve', 'served', 'server', 'serves', 'service', 'services', 'serving', 'session', 'sessions', 'set', 'sets', 'setting', 'settle', 'settled', 'seven', 'seventeen', 'several', 'several hours', 'several times', 'several years', 'severe', 'sewing', 'sex', 'sexual', 'sexy', 'sh', 'shack', 'shad', 'shade', 'shadow', 'shadows', 'shake', 'shakespeare', 'shaking', 'shall', 'shallow', 'shame', 'shameless', 'shania', 'shannon', 'shape', 'shaped', 'share', 'shared', 'sharing', 'shark', 'sharp', 'shattered', 'shave', 'shawn', 'she', 'shed', 'sheep', 'sheer', 'sheesh', 'sheet', 'sheets', 'shelf', 'shell', 'shells', 'shelter', 'shelves', 'sherayna', 'shes', 'shift', 'shifting', 'shinai', 'shine', 'shines', 'shining', 'shiny', 'ship', 'shipping', 'shirt', 'shirts', 'shit', 'shit like', 'shitty', 'shiz', 'shock', 'shocked', 'shocking', 'shoe', 'shoes', 'shoot', 'shooting', 'shop', 'shopping', 'shops', 'shore', 'short', 'short story', 'short term', 'short time', 'shorter', 'shortly', 'shorts', 'shot', 'shots', 'shoulder', 'shoulders', 'shouldnt', 'shout', 'shouted', 'shouting', 'shove', 'shoved', 'shovel', 'shovelpants', 'show', 'showed', 'shower', 'showers', 'showing', 'shown', 'shows', 'shrek', 'shrimp', 'shrug', 'shrug shrug', 'shrugs', 'shut', 'shy', 'si', 'sia', 'siblings', 'sick', 'sickness', 'side', 'side note', 'side road', 'sides', 'sidewalk', 'sigh', 'sight', 'sights', 'sign', 'signal', 'signature', 'signed', 'significance', 'significant', 'signing', 'signs', 'silence', 'silent', 'silly', 'silver', 'similar', 'similarly', 'simon', 'simple', 'simplicity', 'simply', 'simpson', 'simultaneously', 'sin', 'since', 'since got', 'since last', 'since moved', 'since one', 'since ve', 'sincere', 'sing', 'singapore', 'singer', 'singers', 'singing', 'single', 'single day', 'singles', 'sings', 'sink', 'sinking', 'sir', 'sirens', 'sis', 'sister', 'sisters', 'sit', 'sit around', 'sit back', 'site', 'site urllink', 'sites', 'sits', 'sitting', 'sitting around', 'sitting desk', 'sitting next', 'situation', 'situations', 'six', 'six months', 'sixteen', 'sixth', 'size', 'sized', 'ska', 'skating', 'ski', 'skies', 'skill', 'skills', 'skim', 'skin', 'skinny', 'skip', 'skipped', 'skirt', 'skirts', 'skool', 'sky', 'slack', 'slam', 'slap', 'slave', 'slavery', 'slaves', 'sleep', 'sleep night', 'sleep tonight', 'sleeping', 'sleeps', 'sleepy', 'sleeve', 'slept', 'slice', 'slide', 'sliding', 'slight', 'slightest', 'slightly', 'slim', 'slip', 'slipped', 'slippery', 'slipping', 'slot', 'slow', 'slowly', 'slut', 'smack', 'small', 'small town', 'smaller', 'smallest', 'smart', 'smarterchild', 'smarterchild sugarbebe827', 'smashed', 'smell', 'smelled', 'smelling', 'smells', 'smelly', 'smile', 'smile face', 'smiled', 'smiled said', 'smiles', 'smiling', 'smith', 'smiths', 'smog', 'smoke', 'smokers', 'smoking', 'smooth', 'sms', 'snack', 'snap', 'snapped', 'sneak', 'sniff', 'sniper', 'snow', 'so', 'so called', 'soaked', 'soap', 'soapbox', 'sob', 'sober', 'socca', 'soccer', 'social', 'social security', 'socially', 'society', 'sociology', 'sociology professor', 'sock', 'socks', 'soda', 'soda victory', 'sofa', 'soft', 'soft drink', 'softly', 'software', 'solar', 'sold', 'soldier', 'soldiers', 'sole', 'solely', 'solid', 'solo', 'solution', 'solutions', 'solve', 'solved', 'some', 'somebody', 'someday', 'somehow', 'someone', 'someone could', 'someone else', 'someone going', 'someone like', 'someone would', 'someones', 'something', 'something bad', 'something different', 'something else', 'something good', 'something got', 'something know', 'something like', 'something new', 'something really', 'something think', 'something would', 'something wrong', 'somethings', 'sometime', 'sometimes', 'sometimes feel', 'sometimes think', 'sometimes wish', 'somewhat', 'somewhere', 'somewhere else', 'son', 'song', 'song called', 'songs', 'sonic', 'sonic youth', 'sons', 'soo', 'soon', 'soon got', 'sooner', 'sooo', 'soooo', 'sooooo', 'soooooo', 'sophie', 'sophisticated', 'sopranos', 'sore', 'sorrow', 'sorrows', 'sorry', 'sorry ca', 'sorry guys', 'sort', 'sorta', 'sorts', 'soul', 'souls', 'sound', 'sound like', 'sounded', 'sounded like', 'sounding', 'sounds', 'sounds good', 'sounds like', 'soup', 'sour', 'source', 'sources', 'south', 'south beach', 'south carolina', 'southern', 'soviet', 'sox', 'soybeenchik847', 'sp', 'spa', 'space', 'spaces', 'spam', 'span', 'spanish', 'spare', 'spark', 'spca', 'speak', 'speaker', 'speakers', 'speaking', 'speaks', 'spears', 'special', 'species', 'specific', 'specifically', 'spectrum', 'speech', 'speeches', 'speed', 'spell', 'spelled', 'spelling', 'spend', 'spend night', 'spend time', 'spending', 'spending time', 'spent', 'spent day', 'spent lot', 'spent night', 'spent time', 'spent whole', 'sperm', 'spice', 'spider', 'spiderman', 'spike', 'spill', 'spin', 'spinning', 'spirit', 'spiritual', 'spit', 'spite', 'split', 'spoiled', 'spoke', 'spoken', 'spoon', 'sport', 'sports', 'spot', 'spots', 'spotted', 'spread', 'spreading', 'spring', 'spring break', 'springs', 'sprint', 'squad', 'square', 'squeeze', 'srjc', 'sry', 'st', 'st louis', 'st paul', 'stability', 'stable', 'stadium', 'staff', 'stage', 'stairs', 'stance', 'stand', 'standard', 'standards', 'standing', 'stands', 'stanley', 'star', 'star wars', 'starbucks', 'stare', 'stared', 'staring', 'starr', 'stars', 'start', 'started', 'started going', 'started laughing', 'started playing', 'started talking', 'started working', 'starting', 'starting get', 'startling', 'starts', 'starving', 'state', 'stated', 'statement', 'statements', 'states', 'static', 'stating', 'station', 'stations', 'statistics', 'statue', 'statues', 'status', 'stay', 'stay away', 'stay home', 'stay tuned', 'stayed', 'staying', 'stays', 'steady', 'steak', 'steal', 'stealing', 'steam', 'steel', 'steering', 'steering wheel', 'stef', 'stem', 'step', 'step back', 'steph', 'stephanie', 'stephen', 'stepped', 'stepping', 'steps', 'stereo', 'stereotype', 'steve', 'steven', 'stewart', 'stick', 'stick around', 'sticker', 'stickers', 'sticking', 'sticks', 'sticky', 'stil', 'still', 'still alive', 'still ca', 'still feel', 'still get', 'still got', 'still know', 'still like', 'still love', 'still need', 'still really', 'still waiting', 'sting', 'stink', 'stir', 'stock', 'stole', 'stolen', 'stomach', 'stone', 'stoner', 'stones', 'stood', 'stop', 'stop thinking', 'stopped', 'stopping', 'stops', 'storage', 'store', 'stored', 'stores', 'stories', 'storm', 'storms', 'story', 'story short', 'storyline', 'straight', 'strange', 'strangely', 'stranger', 'strangers', 'strategic', 'strategies', 'strategy', 'straw', 'strawberries', 'strawberry', 'streak', 'street', 'streets', 'strength', 'stress', 'stressed', 'stressful', 'stretch', 'stretched', 'stretching', 'strict', 'strictly', 'strike', 'strikes', 'striking', 'string', 'strings', 'strip', 'stripes', 'stripped', 'strive', 'stroke', 'strokes', 'stroll', 'strong', 'stronger', 'strongly', 'struck', 'structure', 'struggle', 'struggling', 'stubborn', 'stuck', 'stuck head', 'student', 'students', 'studied', 'studies', 'studio', 'study', 'studying', 'stuff', 'stuff like', 'stuff really', 'stuffed', 'stumble', 'stumbled', 'stunned', 'stunning', 'stunt', 'stupid', 'stupid people', 'stupidity', 'style', 'su', 'sub', 'subject', 'subjects', 'sublime', 'submit', 'subsequent', 'substance', 'subtle', 'suburban', 'subway', 'succeed', 'succeeded', 'success', 'successful', 'successfully', 'suck', 'sucked', 'sucker', 'sucks', 'sudden', 'suddenly', 'sue', 'suffer', 'suffered', 'suffering', 'suffice', 'suffice say', 'sufficient', 'sugar', 'sugarbebe827', 'suggest', 'suggested', 'suggestion', 'suggestions', 'suggests', 'suicide', 'suit', 'suitable', 'suitcase', 'suits', 'sum', 'sum1', 'summary', 'summer', 'summer reading', 'summer school', 'summers', 'summit', 'sumthing', 'sun', 'sunday', 'sunday afternoon', 'sunday night', 'sung', 'sunglasses', 'sunlight', 'sunny', 'sunrise', 'sunset', 'sunshine', 'supak', 'super', 'superficial', 'superhero', 'superior', 'superstar', 'supper', 'supplies', 'supply', 'support', 'supported', 'supporting', 'supportive', 'suppose', 'supposed', 'supposed go', 'supposedly', 'supremacy', 'supreme', 'supreme court', 'sure', 'sure enough', 'sure get', 'sure going', 'sure ll', 'sure one', 'sure re', 'sure really', 'sure ve', 'sure would', 'surely', 'surf', 'surface', 'surfing', 'surgeon', 'surgery', 'surprise', 'surprised', 'surprising', 'surprisingly', 'surrounded', 'surrounding', 'surroundings', 'survey', 'survival', 'survive', 'survived', 'survivor', 'sushi', 'suspect', 'suspended', 'suv', 'suvs', 'sux', 'swallow', 'swan', 'swear', 'sweat', 'sweater', 'sweating', 'sweet', 'sweetest', 'sweetie', 'swept', 'swim', 'swimming', 'swimming pool', 'swing', 'swinging', 'swings', 'switch', 'switched', 'swollen', 'sword', 'sworn', 'symbol', 'sympathy', 'symptoms', 'sync', 'syndrome', 'synth', 'system', 'systems', 'ta', 'ta get', 'ta go', 'ta love', 'table', 'tables', 'tablets', 'tackle', 'taco', 'tactics', 'tad', 'tag', 'tagboard', 'tail', 'tails', 'take', 'take advantage', 'take away', 'take back', 'take care', 'take long', 'take look', 'take nap', 'take picture', 'take pictures', 'take place', 'take shower', 'take time', 'taken', 'takes', 'takes away', 'taking', 'taking pictures', 'tale', 'talent', 'talented', 'talents', 'tales', 'talk', 'talked', 'talkin', 'talking', 'talks', 'tall', 'taller', 'tampa', 'tan', 'tank', 'tap', 'tape', 'taped', 'target', 'targets', 'task', 'tasks', 'taste', 'tasted', 'tastes', 'tasty', 'tattoos', 'taught', 'tax', 'taxes', 'taxi', 'tay', 'taylor', 'te', 'tea', 'teach', 'teacher', 'teachers', 'teaching', 'team', 'teams', 'tear', 'tearing', 'tears', 'tease', 'tech', 'technical', 'technically', 'technique', 'techniques', 'techno', 'technology', 'ted', 'teddy', 'tee', 'teen', 'teenage', 'teenager', 'teenagers', 'teeny', 'teeth', 'teh', 'telephone', 'television', 'tell', 'tell like', 'tell much', 'tell people', 'tell really', 'tell something', 'tell us', 'telling', 'telling us', 'tells', 'temperature', 'template', 'temple', 'temporary', 'tempted', 'ten', 'ten commandments', 'ten minutes', 'ten years', 'tend', 'tend toward', 'tendency', 'tender', 'tends', 'tennis', 'tent', 'tentative', 'teresa', 'term', 'terminal', 'terms', 'terrible', 'terribly', 'terrific', 'terrified', 'terrifying', 'territory', 'terror', 'terrorism', 'terrorist', 'terrorists', 'terry', 'test', 'testing', 'tests', 'texas', 'text', 'thank', 'thank god', 'thank goodness', 'thank much', 'thankful', 'thankfully', 'thanks', 'thanksgiving', 'that', 'that nbsp', 'thats', 'thats enough', 'thats right', 'the', 'theater', 'theatre', 'theatres', 'thee', 'them', 'them nbsp', 'theme', 'themes', 'then', 'theo', 'theo love', 'theory', 'therapy', 'there', 'there nbsp', 'therefore', 'theres', 'thesis', 'they', 'theyre', 'thick', 'thief', 'thin', 'thing', 'thing always', 'thing called', 'thing even', 'thing ever', 'thing going', 'thing happened', 'thing know', 'thing like', 'thing really', 'thing think', 'thing ve', 'thing want', 'thing would', 'things', 'things done', 'things first', 'things get', 'things go', 'things going', 'things got', 'things happen', 'things happened', 'things know', 'things life', 'things like', 'things love', 'things make', 'things much', 'things need', 'things never', 'things people', 'things really', 'things right', 'things say', 'things think', 'things ve', 'things want', 'things work', 'things would', 'thingy', 'think', 'think anyone', 'think anything', 'think best', 'think better', 'think big', 'think could', 'think ever', 'think funny', 'think get', 'think getting', 'think go', 'think going', 'think gon', 'think good', 'think got', 'think im', 'think know', 'think like', 'think ll', 'think may', 'think maybe', 'think might', 'think much', 'think need', 'think one', 'think people', 'think pretty', 'think re', 'think really', 'think right', 'think something', 'think thats', 'think things', 'think think', 'think time', 'think urllink', 'think ve', 'think want', 'think way', 'think would', 'thinkin', 'thinking', 'thinking going', 'thinks', 'third', 'thirty', 'this', 'thnx', 'tho', 'thomas', 'thong', 'thongs', 'thoroughly', 'those', 'thot', 'thou', 'though', 'though ca', 'though know', 'though really', 'though still', 'though think', 'though ve', 'thought', 'thought could', 'thought going', 'thought might', 'thought would', 'thoughtful', 'thoughts', 'thousand', 'thousands', 'thread', 'threat', 'threatened', 'threats', 'three', 'three days', 'three hours', 'three months', 'three things', 'three times', 'three weeks', 'three years', 'threw', 'thrill', 'thrilled', 'thrive', 'thro', 'throat', 'throughout', 'throw', 'throwing', 'thrown', 'throws', 'thru', 'tht', 'thumb', 'thunder', 'thursday', 'thursday night', 'thus', 'thus far', 'ti', 'ticket', 'tickets', 'tide', 'tie', 'tied', 'tierd', 'ties', 'tiger', 'tight', 'til', 'till', 'till next', 'tim', 'timberlake', 'time', 'time ago', 'time another', 'time around', 'time come', 'time consuming', 'time could', 'time day', 'time ever', 'time favorite', 'time first', 'time get', 'time go', 'time going', 'time got', 'time know', 'time let', 'time life', 'time like', 'time ll', 'time nbsp', 'time need', 'time one', 'time re', 'time read', 'time really', 'time running', 'time said', 'time see', 'time since', 'time something', 'time spent', 'time still', 'time think', 'time time', 'time today', 'time together', 'time ve', 'time want', 'time went', 'time work', 'time would', 'time year', 'times', 'times day', 'times life', 'times like', 'times ve', 'times week', 'timing', 'tiny', 'tinye', 'tip', 'tips', 'tired', 'tires', 'tiring', 'tis', 'title', 'titled', 'titles', 'tix', 'tml', 'to', 'to be', 'toast', 'toaster', 'todae', 'today', 'today another', 'today boring', 'today day', 'today feel', 'today first', 'today fun', 'today going', 'today good', 'today got', 'today last', 'today like', 'today ll', 'today really', 'today think', 'today went', 'todd', 'toe', 'toes', 'together', 'toilet', 'told', 'told us', 'told would', 'tolerate', 'toll', 'tom', 'tom cruise', 'tomarrow', 'tomato', 'tomb', 'tommy', 'tomorrow', 'tomorrow ll', 'tomorrow morning', 'tomorrow night', 'ton', 'tone', 'tongue', 'tonic', 'tonight', 'tons', 'tony', 'too', 'too nbsp', 'took', 'took long', 'took time', 'tool', 'tools', 'tooth', 'top', 'top 10', 'topic', 'topics', 'topped', 'tori', 'tori amos', 'torment', 'torn', 'torture', 'tortured', 'toss', 'total', 'totally', 'totally different', 'touch', 'touched', 'touches', 'touching', 'tough', 'tour', 'tourist', 'tourists', 'tournament', 'tow', 'tow truck', 'toward', 'toward complex', 'towards', 'towels', 'tower', 'towers', 'town', 'toy', 'toyota', 'toys', 'tp', 'track', 'tracking', 'tracks', 'trade', 'trading', 'tradition', 'traditional', 'traditions', 'traffic', 'tragedy', 'tragic', 'trail', 'train', 'trained', 'trainer', 'training', 'tramp', 'trance', 'transfer', 'transition', 'translate', 'translation', 'transport', 'transportation', 'trap', 'trapped', 'trash', 'travel', 'traveling', 'travelling', 'travels', 'travis', 'trax', 'treasure', 'treasury', 'treat', 'treated', 'treating', 'treatment', 'treats', 'tree', 'trees', 'trek', 'tremendous', 'trend', 'trendy', 'trent', 'trial', 'trials', 'tribute', 'trick', 'tricks', 'tried', 'tried make', 'tries', 'trigger', 'trim', 'trip', 'triple', 'tripod', 'trips', 'trivial', 'trombone', 'troops', 'trophy', 'tropical', 'trouble', 'troubles', 'truck', 'trucks', 'true', 'true love', 'truly', 'trunk', 'trust', 'truth', 'truths', 'try', 'try get', 'try keep', 'try make', 'tryin', 'trying', 'trying figure', 'trying find', 'trying get', 'trying keep', 'trying make', 'tt', 'tub', 'tucked', 'tuesday', 'tuesday night', 'tuition', 'tuna', 'tune', 'tuned', 'tunes', 'tunnel', 'turkey', 'turn', 'turn around', 'turn back', 'turned', 'turned around', 'turner', 'turning', 'turns', 'turtle', 'tutorial', 'tv', 'tv show', 'twelve', 'twenty', 'twenty four', 'twenty minutes', 'twice', 'twilight', 'twin', 'twin cities', 'twins', 'twirling', 'twist', 'twisted', 'two', 'two days', 'two different', 'two half', 'two hours', 'two months', 'two people', 'two songs', 'two things', 'two three', 'two weeks', 'two years', 'ty', 'type', 'type thing', 'typed', 'types', 'typewriter', 'typical', 'typically', 'typing', 'tyson', 'u2', 'ucre', 'ugh', 'ugly', 'uh', 'uk', 'ultimate', 'ultimately', 'ultra', 'um', 'umbrella', 'umm', 'ummm', 'un', 'una', 'unable', 'unbelievable', 'uncle', 'uncle john', 'unclear', 'uncles', 'uncomfortable', 'underground', 'underneath', 'understand', 'understanding', 'understands', 'understood', 'underwear', 'unemployed', 'uneventful', 'unexpected', 'unfair', 'unfortunate', 'unfortunately', 'unhappy', 'unhealthy', 'uni', 'uniform', 'uniforms', 'uninvited', 'union', 'unions', 'unique', 'unit', 'united', 'united states', 'units', 'universe', 'university', 'unknown', 'unless', 'unlike', 'unlimited', 'unnamed', 'unnecessary', 'unpleasant', 'unrelated', 'unreleased', 'untill', 'unto', 'unusual', 'up', 'up nbsp', 'upcoming', 'update', 'updated', 'updates', 'updating', 'upgrade', 'upload', 'upon', 'upper', 'ups', 'upset', 'upside', 'upstairs', 'uptown', 'ur', 'urban', 'urge', 'urgh', 'url', 'urllink', 'urllink article', 'urllink blog', 'urllink frank', 'urllink good', 'urllink guy', 'urllink howard', 'urllink http', 'urllink level', 'urllink link', 'urllink new', 'urllink one', 'urllink quizilla', 'urllink resume', 'urllink take', 'urllink urllink', 'urllink www', 'us', 'us go', 'us like', 'us nbsp', 'us really', 'us way', 'us well', 'usa', 'usage', 'usd', 'use', 'used', 'used play', 'used really', 'useful', 'useless', 'user', 'username', 'users', 'uses', 'using', 'usual', 'usually', 'utility', 'uts', 'utter', 'utterly', 'va', 'vacation', 'vacuum', 'vague', 'vain', 'valentine', 'valentine day', 'valentines', 'valentines day', 'valid', 'valley', 'valuable', 'value', 'values', 'vampire', 'van', 'vancouver', 'vanessa', 'vanilla', 'vanity', 'variety', 'various', 'vast', 've', 've actually', 've already', 've also', 've always', 've become', 've come', 've decided', 've done', 've ever', 've fallen', 've found', 've given', 've gone', 've got', 've gotten', 've heard', 've known', 've learned', 've lived', 've lost', 've made', 've missed', 've never', 've noticed', 've put', 've read', 've really', 've said', 've seen', 've spent', 've started', 've thinking', 've told', 've tried', 've trying', 've working', 'vegas', 'vegetables', 'vegetarian', 'vehicle', 'vehicles', 'vein', 'veins', 'vent', 'venue', 'venus', 'verbally', 'verse', 'version', 'versions', 'versus', 'very', 'vet', 'veterans', 'vh1', 'via', 'vibe', 'vic', 'vice', 'vice president', 'victim', 'victoria', 'victory', 'victory says', 'vida', 'video', 'video game', 'video games', 'videos', 'vids', 'vietnam', 'view', 'viewers', 'viewing', 'views', 'village', 'vinci', 'violence', 'violent', 'virginia', 'virtual', 'virtually', 'virtue', 'virus', 'visible', 'vision', 'visit', 'visited', 'visiting', 'visitors', 'visits', 'visual', 'vocal', 'vocals', 'vodka', 'voice', 'voices', 'void', 'volume', 'volunteer', 'vomit', 'vomiting', 'vote', 'voted', 'voter', 'voters', 'votes', 'voting', 'voucher', 'vs', 'vw', 'w00t', 'wa', 'waaaay', 'wacky', 'wad', 'wah', 'waist', 'wait', 'wait see', 'wait till', 'waited', 'waiting', 'waiting waiting', 'waitress', 'wake', 'wakes', 'waking', 'wal', 'wal mart', 'walk', 'walk around', 'walk away', 'walked', 'walking', 'walking around', 'walks', 'wall', 'wallet', 'walls', 'walmart', 'wan', 'wan na', 'wana', 'wander', 'wandered', 'wandering', 'want', 'want anything', 'want call', 'want come', 'want cry', 'want get', 'want give', 'want go', 'want hear', 'want keep', 'want know', 'want leave', 'want live', 'want make', 'want one', 'want play', 'want read', 'want say', 'want see', 'want sleep', 'want someone', 'want something', 'want take', 'want talk', 'want think', 'want us', 'want want', 'want work', 'want write', 'wanted', 'wanted get', 'wanted go', 'wanted make', 'wanted see', 'wanting', 'wants', 'war', 'war iraq', 'warm', 'warmer', 'warming', 'warmth', 'warn', 'warned', 'warning', 'warped', 'wars', 'was', 'wash', 'wash away', 'washed', 'washing', 'washington', 'washington post', 'wasnt', 'waste', 'waste time', 'wasted', 'wasting', 'wasting time', 'wat', 'watch', 'watch movie', 'watch tv', 'watched', 'watches', 'watching', 'watching tv', 'water', 'waters', 'wave', 'waved', 'waves', 'waving', 'wavy', 'wax', 'way', 'way another', 'way around', 'way back', 'way could', 'way get', 'way go', 'way home', 'way know', 'way life', 'way make', 'way much', 'way one', 'way people', 'way re', 'way things', 'way think', 'way ve', 'way want', 'wayne', 'ways', 'wb', 'we', 'we re', 'weak', 'weakness', 'wealth', 'wealthy', 'weapon', 'weapons', 'weapons mass', 'wear', 'wearing', 'wears', 'weary', 'weather', 'web', 'web page', 'web site', 'website', 'websites', 'webster', 'wed', 'wedding', 'weddings', 'wednesday', 'wednesday night', 'wee', 'weed', 'week', 'week got', 'week really', 'week ve', 'weekend', 'weekends', 'weekly', 'weeks', 'weeks ago', 'weighed', 'weight', 'weird', 'welcome', 'welcomed', 'welfare', 'well', 'well actually', 'well another', 'well anyway', 'well ca', 'well course', 'well done', 'well dont', 'well enough', 'well even', 'well first', 'well get', 'well go', 'well going', 'well good', 'well got', 'well guess', 'well im', 'well know', 'well least', 'well let', 'well ll', 'well maybe', 'well nbsp', 'well one', 'well re', 'well really', 'well say', 'well see', 'well thats', 'well think', 'well today', 'well ve', 'well worth', 'well would', 'weller', 'wells', 'wen', 'went', 'went away', 'went back', 'went bed', 'went church', 'went dinner', 'went get', 'went go', 'went home', 'went mall', 'went one', 'went school', 'went see', 'went shopping', 'went well', 'went work', 'went wrong', 'were', 'west', 'west coast', 'western', 'wet', 'whack', 'what', 'whatever', 'whatever want', 'whats', 'whatsoever', 'wheel', 'wheels', 'when', 'whenever', 'where', 'whereas', 'wherever', 'whether', 'whew', 'which', 'whilst', 'whining', 'whip', 'whipped', 'whisper', 'white', 'white cum', 'white house', 'white stripes', 'whites', 'who', 'whoa', 'whoever', 'whole', 'whole bunch', 'whole day', 'whole family', 'whole life', 'whole lot', 'whole new', 'whole night', 'whole thing', 'whole time', 'whole world', 'whore', 'whos', 'whose', 'why', 'wicked', 'wide', 'wif', 'wife', 'wilco', 'wild', 'wild thing', 'wildly', 'will', 'william', 'williams', 'willing', 'wilson', 'win', 'wind', 'window', 'windows', 'winds', 'wine', 'wine club', 'wines', 'wing', 'wings', 'wink', 'winner', 'winners', 'winning', 'wins', 'winter', 'wipe', 'wiped', 'wire', 'wireless', 'wisconsin', 'wisdom', 'wise', 'wisely', 'wish', 'wish could', 'wish would', 'wished', 'wishes', 'wishing', 'wit', 'witch', 'with', 'within', 'without', 'without doubt', 'without even', 'without ever', 'witness', 'witnessed', 'witty', 'wives', 'wmd', 'wo', 'wo able', 'wo even', 'wo go', 'wo let', 'woke', 'woke morning', 'woken', 'wolf', 'woman', 'women', 'wonder', 'wonder would', 'wondered', 'wonderful', 'wonderful wonderful', 'wonderful world', 'wondering', 'wonders', 'wont', 'woo', 'woo hoo', 'wood', 'woodbury', 'woods', 'woody', 'woody allen', 'woohoo', 'word', 'words', 'wore', 'work', 'work done', 'work friday', 'work hard', 'work little', 'work next', 'work today', 'work way', 'work well', 'worked', 'worker', 'workers', 'working', 'works', 'workshop', 'world', 'world could', 'world series', 'world war', 'world would', 'worlds', 'worn', 'worried', 'worries', 'worry', 'worrying', 'worse', 'worship', 'worst', 'worst thing', 'worth', 'worthless', 'worthy', 'would', 'would able', 'would allow', 'would also', 'would always', 'would become', 'would believe', 'would better', 'would call', 'would come', 'would die', 'would done', 'would even', 'would ever', 'would expect', 'would feel', 'would find', 'would get', 'would give', 'would go', 'would good', 'would great', 'would happen', 'would help', 'would kill', 'would know', 'would let', 'would like', 'would look', 'would love', 'would make', 'would much', 'would need', 'would never', 'would nice', 'would pick', 'would probably', 'would put', 'would rather', 'would really', 'would said', 'would say', 'would see', 'would something', 'would take', 'would tell', 'would think', 'would try', 'would ve', 'would want', 'would work', 'would would', 'wouldnt', 'wound', 'wounded', 'wounds', 'wow', 'wrap', 'wrapped', 'wreck', 'wrestling', 'wrist', 'write', 'write blog', 'write later', 'write something', 'writer', 'writers', 'writes', 'writing', 'writing blog', 'writings', 'written', 'wrong', 'wrote', 'wtf', 'wwii', 'www', 'www salon', 'xanga', 'xp', 'xxx', 'ya', 'ya know', 'ya like', 'ya ll', 'yada', 'yadda', 'yah', 'yahoo', 'yall', 'yang', 'yankee', 'yankees', 'yap', 'yard', 'yards', 'yarn', 'yay', 'ye', 'yea', 'yeah', 'yeah know', 'yeah like', 'yeah right', 'yeah well', 'yeah yeah', 'year', 'year going', 'year half', 'year nbsp', 'year old', 'year olds', 'year really', 'year year', 'yearning', 'years', 'years ago', 'years back', 'years later', 'years old', 'years ve', 'yeh', 'yelahneb', 'yell', 'yelled', 'yelling', 'yellow', 'yeouido', 'yep', 'yes', 'yes know', 'yes said', 'yes yes', 'yesterday', 'yesterday afternoon', 'yesterday went', 'yet', 'yet another', 'yet still', 'yi', 'yikes', 'ym', 'ym daer', 'yo', 'yoga', 'york', 'york city', 'york times', 'you', 'you know', 'you re', 'young', 'young man', 'young people', 'younger', 'youngest', 'your', 'youre', 'youth', 'youth group', 'yr', 'yuck', 'yucky', 'yum', 'yummy', 'yung', 'yup', 'yur', 'zero', 'zmx', 'zone', 'zoo']\n"
     ]
    }
   ],
   "source": [
    "# Datasets and vectorizer for the unigram/bigram model\n",
    "X_train_12, X_val_12, vectorizer_12 = tf_idf(data_train_preprocessed, data_val_preprocessed, max_features, (1,2))"
   ]
  },
  {
   "cell_type": "code",
   "execution_count": null,
   "id": "1b777092",
   "metadata": {
    "id": "1b777092"
   },
   "outputs": [],
   "source": [
    "log_regression_model_12 = logistic_regression_model(X_train_12, Y_train)"
   ]
  },
  {
   "cell_type": "code",
   "execution_count": null,
   "id": "9c9cb256",
   "metadata": {
    "id": "9c9cb256"
   },
   "outputs": [],
   "source": [
    "Y_val_predicted_lr_12 = log_regression_model_12.predict(X_val_12)"
   ]
  },
  {
   "cell_type": "code",
   "execution_count": null,
   "id": "e12d8960",
   "metadata": {
    "colab": {
     "base_uri": "https://localhost:8080/"
    },
    "id": "e12d8960",
    "outputId": "7d1c7ce1-aa8e-43ff-9a1c-7dcf51a692c7"
   },
   "outputs": [
    {
     "data": {
      "text/plain": [
       "0.207"
      ]
     },
     "execution_count": 39,
     "metadata": {},
     "output_type": "execute_result"
    }
   ],
   "source": [
    "compute_mape(Y_val, Y_val_predicted_lr_12)"
   ]
  },
  {
   "cell_type": "markdown",
   "id": "44bb2b50",
   "metadata": {
    "id": "44bb2b50"
   },
   "source": [
    "* Pour le classificateur Naïve-Bayes"
   ]
  },
  {
   "cell_type": "code",
   "execution_count": null,
   "id": "dd7530c6",
   "metadata": {
    "id": "dd7530c6"
   },
   "outputs": [],
   "source": [
    "naive_bayes_model_12 = naive_bayes_classifier(X_train_12.toarray(), Y_train)"
   ]
  },
  {
   "cell_type": "code",
   "execution_count": null,
   "id": "b7650cd8",
   "metadata": {
    "id": "b7650cd8"
   },
   "outputs": [],
   "source": [
    "Y_val_predicted_nb_12 = naive_bayes_model_12.predict(X_val_12.toarray())"
   ]
  },
  {
   "cell_type": "code",
   "execution_count": null,
   "id": "d3f4aa05",
   "metadata": {
    "colab": {
     "base_uri": "https://localhost:8080/"
    },
    "id": "d3f4aa05",
    "outputId": "cacc4915-8657-43dc-c411-6481ed937b22"
   },
   "outputs": [
    {
     "data": {
      "text/plain": [
       "0.284"
      ]
     },
     "execution_count": 42,
     "metadata": {},
     "output_type": "execute_result"
    }
   ],
   "source": [
    "compute_mape(Y_val, Y_val_predicted_nb_12)"
   ]
  },
  {
   "cell_type": "markdown",
   "id": "ed6c24b5",
   "metadata": {
    "id": "ed6c24b5"
   },
   "source": [
    "3. (5 points) Testez vos deux modèles et retournez les valeurs des métriques d’évaluation: précision globale (accuracy) et précision, rappel et F1-score par classe. Affichez aussi les macro moyennes pour toutes ces métriques."
   ]
  },
  {
   "cell_type": "code",
   "execution_count": null,
   "id": "aa32795c",
   "metadata": {
    "id": "aa32795c"
   },
   "outputs": [],
   "source": [
    "def evaluate_metrics(yval, ypred) :\n",
    "    return {\n",
    "        'Precision': precision_score(yval, ypred), \n",
    "        'Precision Macro': precision_score(yval, ypred, average='macro'), \n",
    "        'Accuracy': accuracy_score(yval, ypred), \n",
    "        'Recall': recall_score(yval, ypred),\n",
    "        'Recall Macro': recall_score(yval, ypred, average='macro'),\n",
    "        'F1': f1_score(yval, ypred), \n",
    "        'F1 Macro': f1_score(yval, ypred)\n",
    "    }"
   ]
  },
  {
   "cell_type": "code",
   "execution_count": null,
   "id": "b0ac8f14",
   "metadata": {
    "colab": {
     "base_uri": "https://localhost:8080/"
    },
    "id": "b0ac8f14",
    "outputId": "b2aa1d14-7872-4687-f3cb-6a6b2b1de5f1"
   },
   "outputs": [
    {
     "name": "stdout",
     "output_type": "stream",
     "text": [
      "Métrique d'évaluation pour le modèle de regression logistique: (unigrame)\n"
     ]
    },
    {
     "data": {
      "text/plain": [
       "{'Accuracy': 0.801,\n",
       " 'F1': 0.7277701778385773,\n",
       " 'F1 Macro': 0.7277701778385773,\n",
       " 'Precision': 0.8134556574923547,\n",
       " 'Precision Macro': 0.8042018257744091,\n",
       " 'Recall': 0.6584158415841584,\n",
       " 'Recall Macro': 0.778033424147784}"
      ]
     },
     "execution_count": 44,
     "metadata": {},
     "output_type": "execute_result"
    }
   ],
   "source": [
    "print('Métrique d\\'évaluation pour le modèle de regression logistique: (unigrame)')\n",
    "evaluate_metrics(Y_val, Y_val_predicted_lr_11)"
   ]
  },
  {
   "cell_type": "code",
   "execution_count": null,
   "id": "3914f8da",
   "metadata": {
    "colab": {
     "base_uri": "https://localhost:8080/"
    },
    "id": "3914f8da",
    "outputId": "ab0ebbcf-9d63-47d7-c2c9-2a404523bf0d"
   },
   "outputs": [
    {
     "name": "stdout",
     "output_type": "stream",
     "text": [
      "Métrique d'évaluation pour le classificateur Naive Bayes: (unigrame)\n"
     ]
    },
    {
     "data": {
      "text/plain": [
       "{'Accuracy': 0.705,\n",
       " 'F1': 0.669652855543113,\n",
       " 'F1 Macro': 0.669652855543113,\n",
       " 'Precision': 0.6114519427402862,\n",
       " 'Precision Macro': 0.7029862453427458,\n",
       " 'Recall': 0.7400990099009901,\n",
       " 'Recall Macro': 0.7106535317961327}"
      ]
     },
     "execution_count": 45,
     "metadata": {},
     "output_type": "execute_result"
    }
   ],
   "source": [
    "print('Métrique d\\'évaluation pour le classificateur Naive Bayes: (unigrame)')\n",
    "evaluate_metrics(Y_val, Y_val_predicted_nb_11)"
   ]
  },
  {
   "cell_type": "code",
   "execution_count": null,
   "id": "125a803c",
   "metadata": {
    "colab": {
     "base_uri": "https://localhost:8080/"
    },
    "id": "125a803c",
    "outputId": "8858a5f3-70c9-47c0-df67-fc5c94e38dae"
   },
   "outputs": [
    {
     "name": "stdout",
     "output_type": "stream",
     "text": [
      "Métrique d'évaluation pour le modèle de regression logistique: (unigrame et bigrame)\n"
     ]
    },
    {
     "data": {
      "text/plain": [
       "{'Accuracy': 0.793,\n",
       " 'F1': 0.721399730820996,\n",
       " 'F1 Macro': 0.721399730820996,\n",
       " 'Precision': 0.7905604719764012,\n",
       " 'Precision Macro': 0.7924058033104396,\n",
       " 'Recall': 0.6633663366336634,\n",
       " 'Recall Macro': 0.7721194099275699}"
      ]
     },
     "execution_count": 46,
     "metadata": {},
     "output_type": "execute_result"
    }
   ],
   "source": [
    "print('Métrique d\\'évaluation pour le modèle de regression logistique: (unigrame et bigrame)')\n",
    "evaluate_metrics(Y_val, Y_val_predicted_lr_12)"
   ]
  },
  {
   "cell_type": "code",
   "execution_count": null,
   "id": "0397c658",
   "metadata": {
    "colab": {
     "base_uri": "https://localhost:8080/"
    },
    "id": "0397c658",
    "outputId": "00b8b544-0b57-4a0e-9f87-d3d810b48535"
   },
   "outputs": [
    {
     "name": "stdout",
     "output_type": "stream",
     "text": [
      "Métrique d'évaluation pour le classificateur Naive Bayes: (unigrame et bigrame)\n"
     ]
    },
    {
     "data": {
      "text/plain": [
       "{'Accuracy': 0.716,\n",
       " 'F1': 0.6823266219239373,\n",
       " 'F1 Macro': 0.6823266219239373,\n",
       " 'Precision': 0.6224489795918368,\n",
       " 'Precision Macro': 0.7141656662665066,\n",
       " 'Recall': 0.754950495049505,\n",
       " 'Recall Macro': 0.7222739052428733}"
      ]
     },
     "execution_count": 47,
     "metadata": {},
     "output_type": "execute_result"
    }
   ],
   "source": [
    "print('Métrique d\\'évaluation pour le classificateur Naive Bayes: (unigrame et bigrame)')\n",
    "evaluate_metrics(Y_val, Y_val_predicted_nb_12)"
   ]
  },
  {
   "cell_type": "markdown",
   "id": "81e1c7ae",
   "metadata": {
    "id": "81e1c7ae"
   },
   "source": [
    "4. (10 points) Trouvez les paramètres optimaux en utilisant un pipeline et GridSearch. Retournez la configuration optimale et sa performance pour chaque algorithme (Naive Bayes, Régression logistique) avec cette configuration en testant les paramètres suivants: \n",
    "- Modèle basé sur les mots ou les caractères\n",
    "- Type de n-gramme (1, 2 et leur combinaison) \n",
    "- Utilisation ou non de TF-IDF\n",
    "- Minuscule avec TF-IDF ou non\n",
    "- Taille du vocabulaire: 5000, 10000, none\n",
    "- Pour Naive Bayes, testez différentes valeurs du paramètre alpha (bayes__alpha)\n",
    "- Pour la régression logistique, testez aussi différentes stratégies de régularisation (logistic_penalty)"
   ]
  },
  {
   "cell_type": "markdown",
   "id": "6aac6374",
   "metadata": {
    "id": "6aac6374"
   },
   "source": [
    "* Régression logistique : N=None, modèle unigramme\n",
    "* NB : N=10000, modèle unigramme/bigramme"
   ]
  },
  {
   "cell_type": "code",
   "execution_count": null,
   "id": "1f763bb6",
   "metadata": {
    "colab": {
     "base_uri": "https://localhost:8080/"
    },
    "id": "1f763bb6",
    "outputId": "81c40a6b-b0cf-4175-f9bc-d441bc3febcb"
   },
   "outputs": [
    {
     "name": "stdout",
     "output_type": "stream",
     "text": [
      "{'tfidf__analyzer': 'word', 'tfidf__lowercase': True, 'tfidf__max_features': 5000, 'tfidf__ngram_range': (1, 2), 'tfidf__use_idf': True}\n",
      "0.5023195534367967\n"
     ]
    }
   ],
   "source": [
    "class CombinedAttributesAdder(TransformerMixin):\n",
    "    def fit(self, X, y=None):\n",
    "        return self  \n",
    "    def transform(self, X):\n",
    "        return X.toarray()\n",
    "\n",
    "X_train = data_train_preprocessed[0:100][\"processed_text\"].apply(lambda x: \" \".join(x))\n",
    "X_valid = data_val_preprocessed[0:100][\"processed_text\"].apply(lambda x: \" \".join(x))\n",
    "\n",
    "Y_train = data_train_preprocessed[0:100][\"gender\"].apply(lambda sex: 0 if sex == \"male\" else 1)\n",
    "Y_val = data_val_preprocessed[0:100][\"gender\"].apply(lambda sex: 0 if sex == \"male\" else 1)\n",
    "\n",
    "NB_pipeline = Pipeline([\n",
    "    ('tfidf',  TfidfVectorizer(smooth_idf=False)),\n",
    "    ('sparse_to_array', CombinedAttributesAdder()),\n",
    "    ('nbayes', GaussianNB())\n",
    "])\n",
    "\n",
    "NB_param_grid = {\n",
    "    'tfidf__analyzer': ['word', 'char'],\n",
    "    'tfidf__ngram_range': [(1, 1), (1, 2), (2, 2)], \n",
    "    'tfidf__use_idf': [True, False],\n",
    "    'tfidf__lowercase': [True, False],\n",
    "    'tfidf__max_features': [5000, 10000, None],\n",
    "    #'nbayes__alpha': [1, 2, 3]\n",
    "}\n",
    "\n",
    "\n",
    "NB_grid_search = GridSearchCV(NB_pipeline, NB_param_grid, cv=5,\n",
    "            scoring='f1_macro',\n",
    "            return_train_score=True)\n",
    "\n",
    "NB_grid_search.fit(X_train, Y_train)\n",
    "\n",
    "print(NB_grid_search.best_params_)\n",
    "print(NB_grid_search.best_score_)"
   ]
  },
  {
   "cell_type": "code",
   "execution_count": null,
   "id": "1d7482fc",
   "metadata": {
    "id": "1d7482fc",
    "outputId": "f541a5e7-e1dd-45cc-e61f-6350e4379b51"
   },
   "outputs": [
    {
     "name": "stdout",
     "output_type": "stream",
     "text": [
      "{'tfidf__analyzer': 'char', 'tfidf__lowercase': True, 'tfidf__max_features': 5000, 'tfidf__ngram_range': (2, 2), 'tfidf__use_idf': True}\n",
      "Pipeline(steps=[('tfidf',\n",
      "                 TfidfVectorizer(analyzer='char', max_features=5000,\n",
      "                                 ngram_range=(2, 2), smooth_idf=False)),\n",
      "                ('sparse_to_array',\n",
      "                 <__main__.CombinedAttributesAdder object at 0x7f6d4106cd00>),\n",
      "                ('logistic', LogisticRegression(max_iter=1000))])\n"
     ]
    }
   ],
   "source": [
    "logistic_pipeline = Pipeline([\n",
    "    ('tfidf',  TfidfVectorizer(smooth_idf=False)),\n",
    "    ('sparse_to_array', CombinedAttributesAdder()),\n",
    "    ('logistic', LogisticRegression(max_iter = 1000))\n",
    "])\n",
    "\n",
    "logistic_param_grid = {\n",
    "    'tfidf__analyzer': ['word', 'char'],\n",
    "    'tfidf__ngram_range': [(1, 1), (1, 2), (2, 2)], \n",
    "    'tfidf__use_idf': [True, False],\n",
    "    'tfidf__lowercase': [True, False],\n",
    "    'tfidf__max_features': [5000, 10000, None],\n",
    "    #'logistic__penalty': [1, 2, 3]\n",
    "}\n",
    "\n",
    "\n",
    "logistic_grid_search = GridSearchCV(logistic_pipeline, logistic_param_grid, cv=5,\n",
    "            scoring='f1_macro',\n",
    "            return_train_score=True)\n",
    "\n",
    "logistic_grid_search.fit(X_train, Y_train)\n",
    "\n",
    "print(logistic_grid_search.best_params_)\n",
    "print(logistic_grid_search.best_estimator_)"
   ]
  },
  {
   "cell_type": "markdown",
   "id": "609db18c",
   "metadata": {
    "id": "609db18c"
   },
   "source": [
    "### 5.3. Classification neuronale (45%)"
   ]
  },
  {
   "cell_type": "markdown",
   "id": "2ae64151",
   "metadata": {
    "id": "2ae64151"
   },
   "source": [
    "1. (10 points) Implémentez un modèle à deux couches Bi-LSTM avec Keras sans plongements pré-entrainés et entrainez-le sur l’ensemble d’entrainement (voir les points suivants). Assurez-vous que votre séquence maximale prenne en compte la plus longue séquence de votre ensemble de données d’entrainement."
   ]
  },
  {
   "cell_type": "code",
   "execution_count": null,
   "id": "e9303d0e",
   "metadata": {
    "id": "e9303d0e"
   },
   "outputs": [],
   "source": [
    "max_features = 5000\n",
    "embedding_dim = 128"
   ]
  },
  {
   "cell_type": "code",
   "execution_count": null,
   "id": "c966a43f",
   "metadata": {
    "id": "c966a43f"
   },
   "outputs": [],
   "source": [
    "def get_vocabulary(max_features):\n",
    "    vectorizer = TextVectorization(max_tokens=max_features)\n",
    "    vectorizer.adapt(data_train_preprocessed['processed_text'].apply(lambda x: ' '.join(x)).to_list())\n",
    "    vocabulary = vectorizer.get_vocabulary()\n",
    "    word_index = dict(zip(vocabulary, range(len(vocabulary))))\n",
    "    return word_index, vectorizer\n",
    "\n",
    "def prepare_data(dataframe, vectorizer):\n",
    "    y = dataframe['gender'].apply(lambda sex: 0 if sex == 'male' else 1).to_list()\n",
    "    x = vectorizer(dataframe['processed_text'].apply(lambda x: ' '.join(x)).to_list())\n",
    "    return x, np.asarray(y, dtype='float32')\n",
    "    \n",
    "def init_basic_model(vocab_length, embedding_dim):\n",
    "    inputs = keras.Input(shape=(None,), dtype='int32')\n",
    "    x = layers.Embedding(vocab_length, embedding_dim)(inputs)\n",
    "    #Ajoute 2 LSTMs bidirectionels\n",
    "    x = layers.Bidirectional(layers.LSTM(64, return_sequences=True))(x)\n",
    "    x = layers.Bidirectional(layers.LSTM(64))(x)\n",
    "    #Ajout d'un classificateur\n",
    "    outputs = layers.Dense(1, activation='sigmoid')(x)\n",
    "    model = keras.Model(inputs, outputs)\n",
    "    model.summary()\n",
    "    return model"
   ]
  },
  {
   "cell_type": "code",
   "execution_count": null,
   "id": "6cbdd739",
   "metadata": {
    "colab": {
     "base_uri": "https://localhost:8080/"
    },
    "id": "6cbdd739",
    "outputId": "53631eb6-1566-46d8-a92b-20483ac4a287"
   },
   "outputs": [
    {
     "name": "stdout",
     "output_type": "stream",
     "text": [
      "Model: \"model\"\n",
      "_________________________________________________________________\n",
      "Layer (type)                 Output Shape              Param #   \n",
      "=================================================================\n",
      "input_1 (InputLayer)         [(None, None)]            0         \n",
      "_________________________________________________________________\n",
      "embedding (Embedding)        (None, None, 128)         640000    \n",
      "_________________________________________________________________\n",
      "bidirectional (Bidirectional (None, None, 128)         98816     \n",
      "_________________________________________________________________\n",
      "bidirectional_1 (Bidirection (None, 128)               98816     \n",
      "_________________________________________________________________\n",
      "dense (Dense)                (None, 1)                 129       \n",
      "=================================================================\n",
      "Total params: 837,761\n",
      "Trainable params: 837,761\n",
      "Non-trainable params: 0\n",
      "_________________________________________________________________\n"
     ]
    }
   ],
   "source": [
    "vocabulary, vectorizer = get_vocabulary(max_features)\n",
    "x_train, y_train = prepare_data(data_train_preprocessed, vectorizer)\n",
    "x_valid, y_valid = prepare_data(data_val_preprocessed, vectorizer)\n",
    "x_test, y_test = prepare_data(data_test_preprocessed, vectorizer)\n",
    "\n",
    "basic_model = init_basic_model(max_features, embedding_dim)\n",
    "basic_model.compile('adam', 'binary_crossentropy', metrics=['accuracy'])"
   ]
  },
  {
   "cell_type": "markdown",
   "id": "21703127",
   "metadata": {
    "id": "21703127"
   },
   "source": [
    "2. (2 points) Effectuez un «EarlyStopping» prenant en compte une «val_loss» minimale et en attendant 3 époques."
   ]
  },
  {
   "cell_type": "code",
   "execution_count": null,
   "id": "d2bd5307",
   "metadata": {
    "id": "d2bd5307"
   },
   "outputs": [],
   "source": [
    "early_stopping_callback = keras.callbacks.EarlyStopping(monitor='val_loss', mode='min', patience=3)"
   ]
  },
  {
   "cell_type": "markdown",
   "id": "577af50c",
   "metadata": {
    "id": "577af50c"
   },
   "source": [
    "3. (2 points) En utilisant un ModelCheckpoint, sauvegardez votre meilleur modèle pour lequel la métrique «val_accuracy» soit maximale."
   ]
  },
  {
   "cell_type": "code",
   "execution_count": null,
   "id": "861cc87c",
   "metadata": {
    "id": "861cc87c"
   },
   "outputs": [],
   "source": [
    "basic_model_checkpoint_callback = keras.callbacks.ModelCheckpoint(\n",
    "    filepath='./history_checkpoint',\n",
    "    save_weights_only=True,\n",
    "    monitor='val_accuracy',\n",
    "    mode='max',\n",
    "    save_best_only=True\n",
    ")"
   ]
  },
  {
   "cell_type": "code",
   "execution_count": null,
   "id": "480e4914",
   "metadata": {
    "colab": {
     "base_uri": "https://localhost:8080/"
    },
    "id": "480e4914",
    "outputId": "fd1c584e-edc1-44b8-d48f-89960e4e871c"
   },
   "outputs": [
    {
     "name": "stdout",
     "output_type": "stream",
     "text": [
      "Epoch 1/15\n",
      "219/219 [==============================] - 141s 607ms/step - loss: 0.5676 - accuracy: 0.7044 - val_loss: 0.4617 - val_accuracy: 0.7970\n",
      "Epoch 2/15\n",
      "219/219 [==============================] - 131s 598ms/step - loss: 0.3525 - accuracy: 0.8496 - val_loss: 0.4427 - val_accuracy: 0.8130\n",
      "Epoch 3/15\n",
      "219/219 [==============================] - 132s 603ms/step - loss: 0.2415 - accuracy: 0.8986 - val_loss: 0.5131 - val_accuracy: 0.7760\n",
      "Epoch 4/15\n",
      "219/219 [==============================] - 132s 603ms/step - loss: 0.1655 - accuracy: 0.9349 - val_loss: 0.6269 - val_accuracy: 0.7760\n",
      "Epoch 5/15\n",
      "219/219 [==============================] - 132s 603ms/step - loss: 0.1204 - accuracy: 0.9516 - val_loss: 0.6751 - val_accuracy: 0.7760\n"
     ]
    }
   ],
   "source": [
    "with tensorflow.device('/device:GPU:0'):\n",
    "  his = basic_model.fit(\n",
    "      x=x_train,\n",
    "      y=y_train,\n",
    "      batch_size=32,\n",
    "      epochs=15,\n",
    "      validation_data=(x_valid, y_valid),\n",
    "      callbacks=[early_stopping_callback, basic_model_checkpoint_callback])"
   ]
  },
  {
   "cell_type": "markdown",
   "id": "45409155",
   "metadata": {
    "id": "45409155"
   },
   "source": [
    "4. (5 points) Affichez dans une figure la fonction de perte / époque sur le jeu de données d’entrainement (train) et de validation (val). Voir l'énoncé pour un exemple de figure."
   ]
  },
  {
   "cell_type": "code",
   "execution_count": null,
   "id": "8144d435",
   "metadata": {
    "id": "8144d435"
   },
   "outputs": [],
   "source": [
    "def generate_model_history(history, monitor, ylabel, title):\n",
    "    plt.plot(history.history[monitor])\n",
    "    plt.plot(history.history['val_' + monitor])\n",
    "    plt.title(title)\n",
    "    plt.ylabel(ylabel)\n",
    "    plt.xlabel('Epochs')\n",
    "    plt.legend(['train', 'valid'], loc='upper left')\n",
    "    plt.show()"
   ]
  },
  {
   "cell_type": "code",
   "execution_count": null,
   "id": "35ee59de",
   "metadata": {
    "colab": {
     "base_uri": "https://localhost:8080/",
     "height": 295
    },
    "id": "35ee59de",
    "outputId": "d513b627-1073-45b4-b2eb-c399795be281"
   },
   "outputs": [
    {
     "data": {
      "image/png": "[encoded data removed]",
      "text/plain": [
       "<Figure size 432x288 with 1 Axes>"
      ]
     },
     "metadata": {
      "needs_background": "light"
     },
     "output_type": "display_data"
    }
   ],
   "source": [
    "generate_model_history(his, 'loss', 'Loss', 'LSTM Loss')"
   ]
  },
  {
   "cell_type": "markdown",
   "id": "9e430944",
   "metadata": {
    "id": "9e430944"
   },
   "source": [
    "5. (5 points) Affichez dans une figure la précision globale (accuracy)/ époque sur le jeu de données d’entrainement (train) et de validation (val). Voir l'énoncé pour un exemple de figure."
   ]
  },
  {
   "cell_type": "code",
   "execution_count": null,
   "id": "38440cff",
   "metadata": {
    "colab": {
     "base_uri": "https://localhost:8080/",
     "height": 295
    },
    "id": "38440cff",
    "outputId": "ab8940ca-4173-4c88-9372-e749aeb4b03a"
   },
   "outputs": [
    {
     "data": {
      "image/png": "[encoded data removed]",
      "text/plain": [
       "<Figure size 432x288 with 1 Axes>"
      ]
     },
     "metadata": {
      "needs_background": "light"
     },
     "output_type": "display_data"
    }
   ],
   "source": [
    "generate_model_history(his, 'accuracy', 'Accuracy', 'LSTM Accuracy')"
   ]
  },
  {
   "cell_type": "markdown",
   "id": "7ca49cd0",
   "metadata": {
    "id": "7ca49cd0"
   },
   "source": [
    "6. (2 points) Chargez le meilleur modèle retenu, et affichez les performances de ce meilleur modèle sur l’ensemble de test. Utilisez la métrique Accuracy. (Exemple: Accuracy: 0.82)"
   ]
  },
  {
   "cell_type": "code",
   "execution_count": null,
   "id": "194821ee",
   "metadata": {
    "colab": {
     "base_uri": "https://localhost:8080/"
    },
    "id": "194821ee",
    "outputId": "c97395ed-7af9-4059-c768-00846679eb43"
   },
   "outputs": [
    {
     "name": "stdout",
     "output_type": "stream",
     "text": [
      "Accuracy: 78.1000018119812%\n"
     ]
    }
   ],
   "source": [
    "basic_model.load_weights('./history_checkpoint')\n",
    "scores = basic_model.evaluate(x_test, y_test, verbose=0)\n",
    "print(f'Accuracy: {scores[1]*100}%')"
   ]
  },
  {
   "cell_type": "markdown",
   "id": "30da7614",
   "metadata": {
    "id": "30da7614"
   },
   "source": [
    "7. (10 points) En utilisant des plongements lexicaux pré-entrainés GLOVE, implémentez un modèle Bi-LSTM à deux couches avec Keras utilisant ces plongements et avec les mêmes critères d’EarlyStopping et de ModelCheckpoint que précédemment, et entrainez-le sur l’ensemble d’entrainement. Sauvegardez votre meilleur modèle. "
   ]
  },
  {
   "cell_type": "code",
   "execution_count": null,
   "id": "f1ef935c",
   "metadata": {
    "colab": {
     "base_uri": "https://localhost:8080/"
    },
    "id": "f1ef935c",
    "outputId": "27791b86-838d-4116-a8d5-3d3d6776bf12"
   },
   "outputs": [
    {
     "name": "stdout",
     "output_type": "stream",
     "text": [
      "--2021-10-18 00:28:21--  http://nlp.stanford.edu/data/glove.6B.zip\n",
      "Resolving nlp.stanford.edu (nlp.stanford.edu)... 171.64.67.140\n",
      "Connecting to nlp.stanford.edu (nlp.stanford.edu)|171.64.67.140|:80... connected.\n",
      "HTTP request sent, awaiting response... 302 Found\n",
      "Location: https://nlp.stanford.edu/data/glove.6B.zip [following]\n",
      "--2021-10-18 00:28:21--  https://nlp.stanford.edu/data/glove.6B.zip\n",
      "Connecting to nlp.stanford.edu (nlp.stanford.edu)|171.64.67.140|:443... connected.\n",
      "HTTP request sent, awaiting response... 301 Moved Permanently\n",
      "Location: http://downloads.cs.stanford.edu/nlp/data/glove.6B.zip [following]\n",
      "--2021-10-18 00:28:22--  http://downloads.cs.stanford.edu/nlp/data/glove.6B.zip\n",
      "Resolving downloads.cs.stanford.edu (downloads.cs.stanford.edu)... 171.64.64.22\n",
      "Connecting to downloads.cs.stanford.edu (downloads.cs.stanford.edu)|171.64.64.22|:80... connected.\n",
      "HTTP request sent, awaiting response... 200 OK\n",
      "Length: 862182613 (822M) [application/zip]\n",
      "Saving to: ‘glove.6B.zip’\n",
      "\n",
      "glove.6B.zip        100%[===================>] 822.24M  3.78MB/s    in 3m 18s  \n",
      "\n",
      "2021-10-18 00:31:41 (4.15 MB/s) - ‘glove.6B.zip’ saved [862182613/862182613]\n",
      "\n"
     ]
    }
   ],
   "source": [
    "!wget http://nlp.stanford.edu/data/glove.6B.zip\n",
    "!unzip -q glove.6B.zip"
   ]
  },
  {
   "cell_type": "code",
   "execution_count": null,
   "id": "8e4e4c2b",
   "metadata": {
    "id": "8e4e4c2b"
   },
   "outputs": [],
   "source": [
    "def get_embeddings_index_from_glove(glove_file):\n",
    "    embeddings_index = {}\n",
    "    with open(glove_file) as file:\n",
    "        for line in file:\n",
    "            elements = line.split(' ')\n",
    "            word = elements[0]\n",
    "            coefs = [float(element) for element in elements[1:]]\n",
    "            embeddings_index[word] = coefs\n",
    "    return embeddings_index\n",
    "\n",
    "def get_embedding_matrix(max_features, embedding_dimension, vocabulary, embedding_index):\n",
    "    embedding_matrix = np.zeros((max_features, embedding_dimension))\n",
    "    hits = 0\n",
    "    misses = 0\n",
    "    for word, i in vocabulary.items():\n",
    "        if word not in embeddings_index:\n",
    "            misses += 1\n",
    "            continue\n",
    "        embedding_matrix[i] = embeddings_index[word]\n",
    "        hits += 1\n",
    "    print(f'Succeeded to convert {hits} words! Missed {misses} words!')\n",
    "    return embedding_matrix\n",
    "\n",
    "def initi_keras_model_glove(max_features, embedding_dim, embedding_matrix):\n",
    "    inputs = keras.Input(shape=(None,), dtype=\"int32\")\n",
    "    embedding_layer = layers.Embedding(\n",
    "        max_features,\n",
    "        embedding_dim,\n",
    "        embeddings_initializer=keras.initializers.Constant(embedding_matrix),\n",
    "        trainable=False,\n",
    "    )\n",
    "    x = embedding_layer(inputs)\n",
    "    #Ajoute 2 LSTMs bidirectionels\n",
    "    x = layers.Bidirectional(layers.LSTM(64, return_sequences=True))(x)\n",
    "    x = layers.Bidirectional(layers.LSTM(64))(x)\n",
    "    #Ajout d'un classificateur\n",
    "    outputs = layers.Dense(1, activation=\"sigmoid\")(x)\n",
    "    model = keras.Model(inputs, outputs)\n",
    "    model.summary()\n",
    "    return model"
   ]
  },
  {
   "cell_type": "code",
   "execution_count": null,
   "id": "ebc15dcc",
   "metadata": {
    "colab": {
     "base_uri": "https://localhost:8080/"
    },
    "id": "ebc15dcc",
    "outputId": "9a125da5-432d-44ea-f2c7-d1619da4a555"
   },
   "outputs": [
    {
     "name": "stdout",
     "output_type": "stream",
     "text": [
      "Succeeded to convert 4949 words! Missed 51 words!\n",
      "Model: \"model_1\"\n",
      "_________________________________________________________________\n",
      "Layer (type)                 Output Shape              Param #   \n",
      "=================================================================\n",
      "input_2 (InputLayer)         [(None, None)]            0         \n",
      "_________________________________________________________________\n",
      "embedding_1 (Embedding)      (None, None, 200)         1000400   \n",
      "_________________________________________________________________\n",
      "bidirectional_2 (Bidirection (None, None, 128)         135680    \n",
      "_________________________________________________________________\n",
      "bidirectional_3 (Bidirection (None, 128)               98816     \n",
      "_________________________________________________________________\n",
      "dense_1 (Dense)              (None, 1)                 129       \n",
      "=================================================================\n",
      "Total params: 1,235,025\n",
      "Trainable params: 234,625\n",
      "Non-trainable params: 1,000,400\n",
      "_________________________________________________________________\n"
     ]
    }
   ],
   "source": [
    "embedding_dim = 200\n",
    "vocabulary, vectorizer = get_vocabulary(max_features)\n",
    "embeddings_index = get_embeddings_index_from_glove('glove.6B.200d.txt')\n",
    "embedding_matrix = get_embedding_matrix(max_features + 2, embedding_dim, vocabulary, embeddings_index)\n",
    "model_with_glove = initi_keras_model_glove(max_features + 2, embedding_dim, embedding_matrix)"
   ]
  },
  {
   "cell_type": "code",
   "execution_count": null,
   "id": "9f7146e2",
   "metadata": {
    "colab": {
     "base_uri": "https://localhost:8080/"
    },
    "id": "9f7146e2",
    "outputId": "1aa10b14-37e7-4c07-f081-b0c608d2a69f"
   },
   "outputs": [
    {
     "name": "stdout",
     "output_type": "stream",
     "text": [
      "Epoch 1/15\n",
      "219/219 [==============================] - 137s 601ms/step - loss: 0.6321 - accuracy: 0.6537 - val_loss: 0.5925 - val_accuracy: 0.6820\n",
      "Epoch 2/15\n",
      "219/219 [==============================] - 130s 592ms/step - loss: 0.5717 - accuracy: 0.7057 - val_loss: 0.5486 - val_accuracy: 0.7210\n",
      "Epoch 3/15\n",
      "219/219 [==============================] - 130s 595ms/step - loss: 0.5308 - accuracy: 0.7330 - val_loss: 0.5290 - val_accuracy: 0.7260\n",
      "Epoch 4/15\n",
      "219/219 [==============================] - 130s 595ms/step - loss: 0.4910 - accuracy: 0.7669 - val_loss: 0.5887 - val_accuracy: 0.6490\n",
      "Epoch 5/15\n",
      "219/219 [==============================] - 132s 602ms/step - loss: 0.5092 - accuracy: 0.7350 - val_loss: 0.4985 - val_accuracy: 0.7520\n",
      "Epoch 6/15\n",
      "219/219 [==============================] - 132s 603ms/step - loss: 0.4338 - accuracy: 0.7924 - val_loss: 0.5005 - val_accuracy: 0.7560\n",
      "Epoch 7/15\n",
      "219/219 [==============================] - 132s 602ms/step - loss: 0.3921 - accuracy: 0.8160 - val_loss: 0.4932 - val_accuracy: 0.7630\n",
      "Epoch 8/15\n",
      "219/219 [==============================] - 131s 596ms/step - loss: 0.3501 - accuracy: 0.8461 - val_loss: 0.5419 - val_accuracy: 0.7510\n",
      "Epoch 9/15\n",
      "219/219 [==============================] - 131s 598ms/step - loss: 0.2872 - accuracy: 0.8776 - val_loss: 0.5558 - val_accuracy: 0.7560\n",
      "Epoch 10/15\n",
      "219/219 [==============================] - 132s 602ms/step - loss: 0.2446 - accuracy: 0.8983 - val_loss: 0.5908 - val_accuracy: 0.7640\n"
     ]
    }
   ],
   "source": [
    "model_glove_checkpoint_callback = keras.callbacks.ModelCheckpoint(\n",
    "    filepath='./history_glove_checkpoint',\n",
    "    save_weights_only=True,\n",
    "    monitor='val_accuracy',\n",
    "    mode='max',\n",
    "    save_best_only=True\n",
    ")\n",
    "model_with_glove.compile(\"adam\", \"binary_crossentropy\", metrics=[\"accuracy\"])\n",
    "with tensorflow.device('/device:GPU:0'):\n",
    "    his_with_glove = model_with_glove.fit(\n",
    "        x=x_train,\n",
    "        y=y_train,\n",
    "        batch_size=32,\n",
    "        epochs=15,\n",
    "        validation_data=(x_valid, y_valid),\n",
    "        callbacks=[early_stopping_callback, model_glove_checkpoint_callback])"
   ]
  },
  {
   "cell_type": "markdown",
   "id": "6105784c",
   "metadata": {
    "id": "6105784c"
   },
   "source": [
    "8. (2 points) De la même manière que précédemment, affichez dans deux figures la fonction de perte et la précision globale (accuracy) / époque sur le jeu de données d’entrainement (train) et de validation (val)."
   ]
  },
  {
   "cell_type": "code",
   "execution_count": null,
   "id": "da3e25d2",
   "metadata": {
    "colab": {
     "base_uri": "https://localhost:8080/",
     "height": 295
    },
    "id": "da3e25d2",
    "outputId": "7f5d2db2-970b-4e78-949d-94ca93058b4f"
   },
   "outputs": [
    {
     "data": {
      "image/png": "[encoded data removed]",
      "text/plain": [
       "<Figure size 432x288 with 1 Axes>"
      ]
     },
     "metadata": {
      "needs_background": "light"
     },
     "output_type": "display_data"
    }
   ],
   "source": [
    "generate_model_history(his_with_glove, 'loss', 'Loss', 'LSTM Loss')"
   ]
  },
  {
   "cell_type": "code",
   "execution_count": null,
   "id": "50bf8d42",
   "metadata": {
    "colab": {
     "base_uri": "https://localhost:8080/",
     "height": 295
    },
    "id": "50bf8d42",
    "outputId": "bb0d2101-9f9e-4ccc-b1a0-0f404a20acb8"
   },
   "outputs": [
    {
     "data": {
      "image/png": "[encoded data removed]",
      "text/plain": [
       "<Figure size 432x288 with 1 Axes>"
      ]
     },
     "metadata": {
      "needs_background": "light"
     },
     "output_type": "display_data"
    }
   ],
   "source": [
    "generate_model_history(his_with_glove, 'accuracy', 'Accuracy', 'LSTM Accuracy')"
   ]
  },
  {
   "cell_type": "markdown",
   "id": "8d31ad29",
   "metadata": {
    "id": "8d31ad29"
   },
   "source": [
    "9. (2 points) Affichez les performances de votre meilleur modèle à base de plongements sur l’ensemble de test. Utilisez la métrique de précision globale (Accuracy)."
   ]
  },
  {
   "cell_type": "code",
   "execution_count": null,
   "id": "572a80c0",
   "metadata": {
    "colab": {
     "base_uri": "https://localhost:8080/"
    },
    "id": "572a80c0",
    "outputId": "97660b88-09a4-45f1-83bc-94b70d41fa49"
   },
   "outputs": [
    {
     "name": "stdout",
     "output_type": "stream",
     "text": [
      "Accuracy: 74.34999942779541%\n"
     ]
    }
   ],
   "source": [
    "model_with_glove.load_weights('./history_glove_checkpoint')\n",
    "scores = model_with_glove.evaluate(x_test, y_test, verbose=0)\n",
    "print(f'Accuracy: {scores[1]*100}%')"
   ]
  },
  {
   "cell_type": "markdown",
   "id": "5c532c18",
   "metadata": {
    "id": "5c532c18"
   },
   "source": [
    "10. (5 points) Si ce n’est pas déjà le cas, tentez de dépasser les performances de votre meilleur modèle traditionnel en créant un nouveau modèle Bi-LSTM (vous pouvez ajouter des couches, utiliser du dropout, utiliser d’autres modèles de plongements, etc.)"
   ]
  },
  {
   "cell_type": "code",
   "execution_count": null,
   "id": "de964727",
   "metadata": {
    "id": "de964727"
   },
   "outputs": [],
   "source": [
    "# Nabil's model --> add layers and dropout\n",
    "def init_improved_lstm_model(max_features, embedding_dim, embedding_matrix):\n",
    "    model = keras.Sequential()\n",
    "    model.add(layers.Embedding(\n",
    "        max_features,\n",
    "        embedding_dim,\n",
    "        embeddings_initializer=keras.initializers.Constant(embedding_matrix),\n",
    "        trainable=False,\n",
    "    ))\n",
    "    model.add(layers.Bidirectional(layers.LSTM(64, return_sequences=True)))\n",
    "    model.add(layers.Bidirectional(layers.LSTM(64)))\n",
    "    model.add(layers.Dropout(0.2))\n",
    "    model.add(layers.Dense(1))\n",
    "    model.add(layers.Activation('sigmoid'))\n",
    "    model.summary()\n",
    "    return model"
   ]
  },
  {
   "cell_type": "code",
   "execution_count": null,
   "id": "4JJINXnhRAB4",
   "metadata": {
    "colab": {
     "base_uri": "https://localhost:8080/"
    },
    "id": "4JJINXnhRAB4",
    "outputId": "dfe6b9c4-f4f3-4575-e970-cd5f792c613e"
   },
   "outputs": [
    {
     "name": "stdout",
     "output_type": "stream",
     "text": [
      "Model: \"sequential_2\"\n",
      "_________________________________________________________________\n",
      "Layer (type)                 Output Shape              Param #   \n",
      "=================================================================\n",
      "embedding_14 (Embedding)     (None, None, 200)         1000400   \n",
      "_________________________________________________________________\n",
      "bidirectional_25 (Bidirectio (None, None, 128)         135680    \n",
      "_________________________________________________________________\n",
      "bidirectional_26 (Bidirectio (None, 128)               98816     \n",
      "_________________________________________________________________\n",
      "dropout_2 (Dropout)          (None, 128)               0         \n",
      "_________________________________________________________________\n",
      "dense_12 (Dense)             (None, 1)                 129       \n",
      "_________________________________________________________________\n",
      "activation_2 (Activation)    (None, 1)                 0         \n",
      "=================================================================\n",
      "Total params: 1,235,025\n",
      "Trainable params: 234,625\n",
      "Non-trainable params: 1,000,400\n",
      "_________________________________________________________________\n",
      "Epoch 1/15\n",
      "219/219 [==============================] - 407s 2s/step - loss: 0.6230 - accuracy: 0.6571 - val_loss: 0.6107 - val_accuracy: 0.6850\n",
      "Epoch 2/15\n",
      "219/219 [==============================] - 394s 2s/step - loss: 0.5703 - accuracy: 0.7066 - val_loss: 0.5721 - val_accuracy: 0.6970\n",
      "Epoch 3/15\n",
      "219/219 [==============================] - 395s 2s/step - loss: 0.5368 - accuracy: 0.7327 - val_loss: 0.5305 - val_accuracy: 0.7500\n",
      "Epoch 4/15\n",
      "219/219 [==============================] - 394s 2s/step - loss: 0.4900 - accuracy: 0.7631 - val_loss: 0.5232 - val_accuracy: 0.7540\n",
      "Epoch 5/15\n",
      "219/219 [==============================] - 394s 2s/step - loss: 0.4735 - accuracy: 0.7640 - val_loss: 0.5108 - val_accuracy: 0.7420\n",
      "Epoch 6/15\n",
      "219/219 [==============================] - 394s 2s/step - loss: 0.4277 - accuracy: 0.7987 - val_loss: 0.5098 - val_accuracy: 0.7670\n",
      "Epoch 7/15\n",
      "219/219 [==============================] - 393s 2s/step - loss: 0.3544 - accuracy: 0.8427 - val_loss: 0.5220 - val_accuracy: 0.7650\n",
      "Epoch 8/15\n",
      "219/219 [==============================] - 394s 2s/step - loss: 0.3136 - accuracy: 0.8639 - val_loss: 0.5566 - val_accuracy: 0.7440\n",
      "Epoch 9/15\n",
      "219/219 [==============================] - 394s 2s/step - loss: 0.2507 - accuracy: 0.8994 - val_loss: 0.6022 - val_accuracy: 0.7520\n"
     ]
    }
   ],
   "source": [
    "improved_model = init_improved_lstm_model(max_features + 2, embedding_dim, embedding_matrix)\n",
    "improved_model_checkpoint_callback = keras.callbacks.ModelCheckpoint(\n",
    "    filepath='./improved_model_history_checkpoint',\n",
    "    save_weights_only=True,\n",
    "    monitor='val_accuracy',\n",
    "    mode='max',\n",
    "    save_best_only=True\n",
    ")\n",
    "improved_model.compile(\"adam\", \"binary_crossentropy\", metrics=[\"accuracy\"])\n",
    "with tensorflow.device('/device:GPU:0'):\n",
    "    improved_his = improved_model.fit(\n",
    "        x=x_train,\n",
    "        y=y_train,\n",
    "        batch_size=32,\n",
    "        epochs=15,\n",
    "        validation_data=(x_valid, y_valid),\n",
    "        callbacks=[early_stopping_callback, improved_model_checkpoint_callback])"
   ]
  },
  {
   "cell_type": "code",
   "execution_count": null,
   "id": "Fdg9g2wvbnUu",
   "metadata": {
    "colab": {
     "base_uri": "https://localhost:8080/"
    },
    "id": "Fdg9g2wvbnUu",
    "outputId": "03fa0293-657b-47b6-ed9e-a65578527a58"
   },
   "outputs": [
    {
     "name": "stdout",
     "output_type": "stream",
     "text": [
      "Accuracy: 73.60000014305115%\n"
     ]
    }
   ],
   "source": [
    "improved_model.load_weights('./improved_model_history_checkpoint')\n",
    "scores = model_with_glove.evaluate(x_test, y_test, verbose=0)\n",
    "print(f'Accuracy: {scores[1]*100}%')"
   ]
  },
  {
   "cell_type": "code",
   "execution_count": 1,
   "id": "ee008f75",
   "metadata": {},
   "outputs": [],
   "source": [
    "# Simon's model --> New embeddings with fasttext\n",
    "!wget https://dl.fbaipublicfiles.com/fasttext/vectors-english/wiki-news-300d-1M-subword.vec.zip\n",
    "!unzip -q wiki-news-300d-1M-subword.vec.zip"
   ]
  },
  {
   "cell_type": "code",
   "execution_count": 2,
   "id": "bfff818a",
   "metadata": {},
   "outputs": [],
   "source": [
    "def load_fasttext_vectors(fname):\n",
    "    fin = io.open(fname, 'r', encoding='utf-8', newline='\\n', errors='ignore')\n",
    "    n, d = map(int, fin.readline().split())\n",
    "    data = {}\n",
    "    for line in fin:\n",
    "        tokens = line.rstrip().split(' ')\n",
    "        data[tokens[0]] = list(map(float, tokens[1:]))\n",
    "    return data"
   ]
  },
  {
   "cell_type": "code",
   "execution_count": null,
   "id": "0dd4cdbb",
   "metadata": {},
   "outputs": [],
   "source": [
    "embedding_dim = 300\n",
    "fasttext_embeddings_index = load_fasttext_vectors(\"wiki-news-300d-1M.vec\")\n",
    "fasttext_embedding_matrix = get_embedding_matrix(max_features + 2, embedding_dim, vocabulary, fasttext_embeddings_index)\n",
    "model_with_fasttext = initi_keras_model_glove(max_features + 2, embedding_dim, fasttext_embedding_matrix)"
   ]
  },
  {
   "cell_type": "code",
   "execution_count": null,
   "id": "99cc77a2",
   "metadata": {},
   "outputs": [],
   "source": [
    "fasttext_model_checkpoint_callback = keras.callbacks.ModelCheckpoint(\n",
    "    filepath='./fasttext_model_history_checkpoint',\n",
    "    save_weights_only=True,\n",
    "    monitor='val_accuracy',\n",
    "    mode='max',\n",
    "    save_best_only=True\n",
    ")\n",
    "\n",
    "model_with_fasttext.compile(\"adam\", \"binary_crossentropy\", metrics=[\"accuracy\"])\n",
    "with tensorflow.device('/device:GPU:0'):\n",
    "    fasttext_his = model_with_fasttext.fit(\n",
    "        x=x_train,\n",
    "        y=y_train,\n",
    "        batch_size=32,\n",
    "        epochs=15,\n",
    "        validation_data=(x_valid, y_valid),\n",
    "        callbacks=[early_stopping_callback, fasttext_model_checkpoint_callback])"
   ]
  },
  {
   "cell_type": "code",
   "execution_count": null,
   "id": "7afd509c",
   "metadata": {},
   "outputs": [],
   "source": [
    "model_with_fasttext.load_weights('./fasttext_model_history_checkpoint')\n",
    "scores = model_with_fasttext.evaluate(x_test, y_test, verbose=0)\n",
    "print(f'Accuracy: {scores[1]*100}%')"
   ]
  },
  {
   "cell_type": "markdown",
   "id": "c2e16d0d",
   "metadata": {
    "id": "c2e16d0d"
   },
   "source": [
    "### 5.4. Évaluation (10%)"
   ]
  },
  {
   "cell_type": "markdown",
   "id": "e5a6709c",
   "metadata": {
    "id": "e5a6709c"
   },
   "source": [
    "1. (4 points) Affichez une table récapitulative comparant les performances de vos différents modèles sur l’ensemble de test."
   ]
  },
  {
   "cell_type": "markdown",
   "id": "cc3f115e",
   "metadata": {
    "id": "c44abb10"
   },
   "source": [
    "| Modèle | Régression Logistique | Modèle Naïve Bayes | Bi-LSTM classique | Bi-LSTM avec Glove | Bi-LSTM avec FastText | \n",
    "|-----------|-----------|-----------|-----------|-----------|-----------| \n",
    "| **Accuracy** | cellule 1 | cellule 2 | cellule 3 | cellule 4 | cellule 5 |"
   ]
  },
  {
   "cell_type": "markdown",
   "id": "2063a437",
   "metadata": {
    "id": "2063a437"
   },
   "source": [
    "2. (6 points) Indiquez votre conclusion dans une cellule (Meilleur algorithme? Meilleure configuration pour l’apprentissage machine «traditionnel»? Effets du GridSearch? Meilleur modèle Bi-LSTM?)"
   ]
  },
  {
   "cell_type": "code",
   "execution_count": null,
   "id": "b6a71a7f",
   "metadata": {
    "id": "b6a71a7f"
   },
   "outputs": [],
   "source": []
  },
  {
   "cell_type": "markdown",
   "id": "94962fb4",
   "metadata": {
    "id": "94962fb4"
   },
   "source": [
    "## LIVRABLES\n",
    "Vous devez remettre sur Moodle:\n",
    "1. Le code: Un Jupyter notebook en Python qui contient le code implanté avec les librairies permises. Le code doit être exécutable sans erreur et accompagné des commentaires appropriés dans le notebook de manière à expliquer les différentes fonctions et étapes dans votre projet. Nous nous réservons le droit de demander une démonstration ou la preuve que vous avez effectué vous-mêmes les expériences décrites. _Attention, en aucun cas votre code ne doit avoir été copié d’une quelconque source._ Les critères de qualité tels que la lisibilité du code et des commentaires sont importants. Tout votre code et vos résultats doivent être exécutables et reproductibles; \n",
    "2. Un fichier _requirements.txt_ doit indiquer toutes les librairies / données nécessaires;\n",
    "3. Un lien _GoogleDrive_ ou similaire vers les modèles nécessaires pour exécuter votre notebook si approprié;\n",
    "4. Un document _contributions.txt_: Décrivez brièvement la contribution de chaque membre de l’équipe. Tous les membres sont censés contribuer au développement. Bien que chaque membre puisseeffectuer différentes tâches, vous devez vous efforcer d’obtenir une répartition égale du travail. En particulier, tous les membres du projet devraient participer à la conception du TP et participer activement à la réflexion et à l’implémentation du code.\n",
    "\n",
    "## EVALUATION \n",
    "Votre TP sera évalué selon les critères suivants :\n",
    "1. Exécution correcte du code\n",
    "2. Performance des modèles\n",
    "3. Organisation du notebook\n",
    "4. Qualité du code (noms significatifs, structure, performance, gestion d’exception, etc.)\n",
    "5. Commentaires clairs et informatifs\n",
    "\n",
    "## CODE D’HONNEUR\n",
    "- **Règle 1:**  Le plagiat de code est bien évidemment interdit.\n",
    "- **Règle 2:** Vous êtes libres de discuter des idées et des détails de mise en œuvre avec d'autres équipes. Cependant, vous ne pouvez en aucun cas consulter le code d'une autre équipe INF8460, ou incorporer leur code dans votre TP.\n",
    "- **Règle 3:**  Vous ne pouvez pas partager votre code publiquement (par exemple, dans un dépôt GitHub public) tant que le cours n'est pas fini.\n"
   ]
  },
  {
   "cell_type": "code",
   "execution_count": null,
   "id": "0bdd95ce",
   "metadata": {
    "id": "0bdd95ce"
   },
   "outputs": [],
   "source": []
  }
 ],
 "metadata": {
  "accelerator": "GPU",
  "colab": {
   "collapsed_sections": [
    "c2e16d0d"
   ],
   "machine_shape": "hm",
   "name": "inf8460_A21_TP2_squelette.ipynb",
   "provenance": []
  },
  "kernelspec": {
   "display_name": "Python 3",
   "language": "python",
   "name": "python3"
  },
  "language_info": {
   "codemirror_mode": {
    "name": "ipython",
    "version": 3
   },
   "file_extension": ".py",
   "mimetype": "text/x-python",
   "name": "python",
   "nbconvert_exporter": "python",
   "pygments_lexer": "ipython3",
   "version": "3.8.8"
  }
 },
 "nbformat": 4,
 "nbformat_minor": 5
}
