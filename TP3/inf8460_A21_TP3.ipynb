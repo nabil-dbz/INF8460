{
 "cells": [
  {
   "cell_type": "markdown",
   "id": "e7430adb",
   "metadata": {
    "id": "e7430adb"
   },
   "source": [
    "## <center> École Polytechnique de Montréal <br> Département Génie Informatique et Génie Logiciel <br>  INF8460 – Traitement automatique de la langue naturelle <br> </center>\n",
    "## <center> TP3 INF8460 <br>  Automne 2021 </center>"
   ]
  },
  {
   "cell_type": "markdown",
   "id": "7a0e8315",
   "metadata": {
    "id": "7a0e8315"
   },
   "source": [
    "# 1. Description\n",
    "Dans ce TP, vous aurez la tâche d’extraire des mots-clés à partir de textes (sous-tâche A) ainsi que leur type (sous-tâche B).  Le problème est un problème de prédiction de séquence à séquence. Pour les sous-tâches A et B, on veut prédire un label en sortie par jeton (token) en entrée.\n",
    "\n",
    "__Exemple de sortie pour A et B :__\n",
    "\n",
    "![image.png](attachment:bf8a71b8-ea0c-4852-bdb5-5ced922377ce.png)\n",
    "\n",
    "\n",
    "__Sous-tâche (A):__ Identification de mots-clé\n",
    "\n",
    "Exemple de format de soumission attendu : \n",
    "\n",
    "__DocID__ &emsp; &emsp; &emsp; &emsp; &emsp; &emsp; &ensp; __TokenID__  &emsp; &emsp; &emsp; &emsp; &emsp; &emsp; &emsp; __Token__ &emsp;&emsp; __Tag__ <br>\n",
    "S0370269304007567 &emsp; S0370269304007567-0 &emsp; the &emsp; &emsp; &emsp; O <br>\n",
    "S0370269304007567 &emsp; S0370269304007567-1 &emsp; oxidation  &emsp; U <br>\n",
    "S0370269304007567 &emsp; S0370269304007567-2 &emsp; of &emsp; &emsp; &emsp; &ensp; O <br>\n",
    "\n",
    "__Sous-tâche (B) :__ Classification des mots-clés en types prédéfinis. Dans cette tâche, vous aurez non seulement à identifier les mots-clés mais aussi à leur assigner un type.\n",
    "\n",
    "Exemple de format de soumission attendu  : \n",
    "\n",
    "__DocID__ &emsp; &emsp; &emsp; &emsp; &emsp; &emsp; &ensp; __TokenID__  &emsp; &emsp; &emsp; &emsp; &emsp; &emsp; &emsp; __Token__ &emsp;&emsp; __Tag__ <br>\n",
    "S0370269304007567 &emsp; S0370269304007567-0 &emsp; the &emsp; &emsp; &emsp; O <br>\n",
    "S0370269304007567 &emsp; S0370269304007567-1 &emsp; oxidation &emsp; U-P <br>\n",
    "S0370269304007567 &emsp; S0370269304007567-2 &emsp; of &emsp; &emsp; &emsp; &ensp; O <br>\n",
    "\n",
    "Dans ce projet, vous avez le choix de vous attaquer à une seule sous-tâche (A) ou à effectuer les tâches A et B. Dans le cas où vous ne résoudrez que la sous-tâche A, votre projet obtiendra une note maximale de 80%.\n",
    "\n",
    "Les équipes qui s’attaqueront aux tâches A et B pourront obtenir une note maximale de 100%.\n"
   ]
  },
  {
   "cell_type": "markdown",
   "id": "0baa7a62",
   "metadata": {
    "id": "0baa7a62"
   },
   "source": [
    "# 2. Libraries Permises\n",
    "- HuggingFace\n",
    "- Keras\n",
    "- ScikitLearn\n",
    "- NLTK\n",
    "- SPACY\n",
    "- Pour toute autre librairie, demandez à votre chargé de laboratoire via le forum du cours sur Moodle\n"
   ]
  },
  {
   "cell_type": "markdown",
   "id": "7b76219e",
   "metadata": {
    "id": "7b76219e"
   },
   "source": [
    "# 3. Infrastructure\n",
    "\n",
    "- Vous avez accès aux GPU du local L-4818. Dans ce cas, vous devez utiliser le dossier temp (voir le tutoriel VirtualEnv.pdf)\n",
    "- Vous pouvez aussi utiliser l’environnement Google Colab :  https://colab.research.google.com/"
   ]
  },
  {
   "cell_type": "markdown",
   "id": "bf243c8f",
   "metadata": {
    "id": "bf243c8f"
   },
   "source": [
    "# 4. Échéance\n",
    "\n",
    "Fin de la session. La date précise sera indiquée sur Moodle."
   ]
  },
  {
   "cell_type": "markdown",
   "id": "606346fd",
   "metadata": {
    "id": "606346fd"
   },
   "source": [
    "# 5. Kaggle"
   ]
  },
  {
   "cell_type": "markdown",
   "id": "5e3b5e4b",
   "metadata": {
    "id": "5e3b5e4b"
   },
   "source": [
    "Le TP3-projet se fera sous forme d’une compétition Kaggle.  Vous devrez utiliser l’environnement Kaggle pour l’évaluation de vos approches.  \n",
    "\n",
    "Pour tester votre système au fur et à mesure, vous aurez le droit à 4 soumissions par jour sur Kaggle. Vous verrez deux types de résultats sur votre « private leaderboard » et votre « public leaderboard » :\n",
    "\n",
    "- Le « public leaderboard » est calculé sur approximativement 30% des données de test, choisies aléatoirement par Kaggle. Ce score est public et est calculé sur la même tranche de données pour tous les participants. \n",
    "- Le « private leaderboard » est calculé sur approximativement 70% des données de test et n’est visible qu’à la fin de la compétition. Le résultat final sera basé sur ce leaderboard. Si aucune soumission n’est choisie, la soumission avec le meilleur score sur le « public leaderboard » sera utilisée pour calculer le score sur le « private leaderboard ».\n",
    "\n",
    "Pour l’évaluation sur Kaggle, vous devrez soumettre un fichier de données submission_test_A.csv et/ou submission_test B.csv du même format que le fichier sample_submission.csv (disponible sur le site de la compétition et Moodle). Submission_test_(A ou B).csv devra contenir pour chaque ligne de votre ensemble de test, la réponse retournée par votre approche, selon le format indiqué dans la compétition. Vous devrez aussi générer le fichier Submission_val_(A ou B).csv sur l’ensemble de validation.\n",
    "\n",
    "Dans le projet INF8460, notre classement comprendra deux leaderboards distincts : \n",
    "- Un leaderboard pour les modèles de la sous-tâche A\n",
    "- Un leaderboard pour les modèles de la sous-tâche B\n",
    "\n",
    "Chaque équipe doit soumettre ses résultats à un des leaderboards (A) ou aux deux (A et B), selon son choix. "
   ]
  },
  {
   "cell_type": "markdown",
   "id": "8020ebc5",
   "metadata": {
    "id": "8020ebc5"
   },
   "source": [
    "# 6. Description Des Données Et Métriques d’Évaluation"
   ]
  },
  {
   "cell_type": "markdown",
   "id": "5f4492cb",
   "metadata": {
    "id": "5f4492cb"
   },
   "source": [
    "Le corpus est un corpus de 500 paragraphes extraits de publications scientifiques dans les domaines de l’informatique, de la physique et de la science des matériaux. 3 types de documents sont fournis dans des fichiers zip pour les ensembles d’entrainement et de validation : \n",
    "- Les paragraphes dans les fichiers .txt\n",
    "- Les documents entiers dont les paragraphes ont été extraits dans des fichiers .xml \n",
    "- Les annotations qui indiquent les mots-clés dans des fichiers .ann. Veuillez ne tenir compte que des lignes marquées Ti (T1, T2, etc.)\n",
    "\n",
    "Notez qu’il vous est possible de travailler uniquement avec les fichiers .txt et .ann (à vous de voir si les xml seront utiles).\n",
    "\n",
    "Pour l’ensemble de test, seuls les fichiers .txt et .xml sont fournis.\n",
    "\n",
    "L’ensemble d’entrainement consiste en 350 documents, l’ensemble de validation et de test contiennent chacun 100 documents. \n",
    "Nous vous fournissons également 3 csv :\n",
    "- train.csv\n",
    "- val.csv\n",
    "- test.csv\n",
    "Ces fichiers contiennent tous les jetons (tokens) de chaque document.txt. Vous aurez à compléter la colonne tag au format demandé ci-dessous.\n",
    "\n",
    "La sortie de votre modèle sera comparée à notre ensemble de référence de test sur Kaggle. Le leaderboard Kaggle utilisera la métrique f1-score."
   ]
  },
  {
   "cell_type": "markdown",
   "id": "89263816",
   "metadata": {
    "id": "89263816"
   },
   "source": [
    "# 7. Etapes Du TP\n",
    "\n",
    "A partir du notebook inf8460_A21_TP3 qui est distribué, vous devez réaliser les étapes suivantes. (Notez que les cellules dans le squelette sont là à titre informatif, il est fort probable que vous rajoutiez des sections au fur et à mesure de votre TP)."
   ]
  },
  {
   "cell_type": "markdown",
   "id": "6df2ebc7",
   "metadata": {
    "id": "6df2ebc7"
   },
   "source": [
    "Ci-dessous définir la constante _PATH_ qui doit être utilisée par votre code pour accéder aux fichiers. Il est attendu que pour la correction, le chargé de lab n'ait qu'à changer la valeur de _PATH_ pour le répertoire où se trouver les fichiers de datasets."
   ]
  },
  {
   "cell_type": "code",
   "execution_count": 1,
   "id": "yVZ1bLDO3Hr3",
   "metadata": {
    "colab": {
     "base_uri": "https://localhost:8080/"
    },
    "id": "yVZ1bLDO3Hr3",
    "outputId": "a7d87990-e60b-411b-f461-8a57ba4cad99"
   },
   "outputs": [
    {
     "name": "stdout",
     "output_type": "stream",
     "text": [
      "Collecting transformers\n",
      "  Downloading transformers-4.12.5-py3-none-any.whl (3.1 MB)\n",
      "\u001b[K     |████████████████████████████████| 3.1 MB 7.0 MB/s \n",
      "\u001b[?25hRequirement already satisfied: requests in /usr/local/lib/python3.7/dist-packages (from transformers) (2.23.0)\n",
      "Collecting tokenizers<0.11,>=0.10.1\n",
      "  Downloading tokenizers-0.10.3-cp37-cp37m-manylinux_2_5_x86_64.manylinux1_x86_64.manylinux_2_12_x86_64.manylinux2010_x86_64.whl (3.3 MB)\n",
      "\u001b[K     |████████████████████████████████| 3.3 MB 58.4 MB/s \n",
      "\u001b[?25hRequirement already satisfied: filelock in /usr/local/lib/python3.7/dist-packages (from transformers) (3.4.0)\n",
      "Requirement already satisfied: importlib-metadata in /usr/local/lib/python3.7/dist-packages (from transformers) (4.8.2)\n",
      "Requirement already satisfied: numpy>=1.17 in /usr/local/lib/python3.7/dist-packages (from transformers) (1.19.5)\n",
      "Requirement already satisfied: regex!=2019.12.17 in /usr/local/lib/python3.7/dist-packages (from transformers) (2019.12.20)\n",
      "Requirement already satisfied: packaging>=20.0 in /usr/local/lib/python3.7/dist-packages (from transformers) (21.3)\n",
      "Collecting huggingface-hub<1.0,>=0.1.0\n",
      "  Downloading huggingface_hub-0.2.1-py3-none-any.whl (61 kB)\n",
      "\u001b[K     |████████████████████████████████| 61 kB 448 kB/s \n",
      "\u001b[?25hCollecting sacremoses\n",
      "  Downloading sacremoses-0.0.46-py3-none-any.whl (895 kB)\n",
      "\u001b[K     |████████████████████████████████| 895 kB 87.5 MB/s \n",
      "\u001b[?25hCollecting pyyaml>=5.1\n",
      "  Downloading PyYAML-6.0-cp37-cp37m-manylinux_2_5_x86_64.manylinux1_x86_64.manylinux_2_12_x86_64.manylinux2010_x86_64.whl (596 kB)\n",
      "\u001b[K     |████████████████████████████████| 596 kB 70.1 MB/s \n",
      "\u001b[?25hRequirement already satisfied: tqdm>=4.27 in /usr/local/lib/python3.7/dist-packages (from transformers) (4.62.3)\n",
      "Requirement already satisfied: typing-extensions>=3.7.4.3 in /usr/local/lib/python3.7/dist-packages (from huggingface-hub<1.0,>=0.1.0->transformers) (3.10.0.2)\n",
      "Requirement already satisfied: pyparsing!=3.0.5,>=2.0.2 in /usr/local/lib/python3.7/dist-packages (from packaging>=20.0->transformers) (3.0.6)\n",
      "Requirement already satisfied: zipp>=0.5 in /usr/local/lib/python3.7/dist-packages (from importlib-metadata->transformers) (3.6.0)\n",
      "Requirement already satisfied: chardet<4,>=3.0.2 in /usr/local/lib/python3.7/dist-packages (from requests->transformers) (3.0.4)\n",
      "Requirement already satisfied: urllib3!=1.25.0,!=1.25.1,<1.26,>=1.21.1 in /usr/local/lib/python3.7/dist-packages (from requests->transformers) (1.24.3)\n",
      "Requirement already satisfied: idna<3,>=2.5 in /usr/local/lib/python3.7/dist-packages (from requests->transformers) (2.10)\n",
      "Requirement already satisfied: certifi>=2017.4.17 in /usr/local/lib/python3.7/dist-packages (from requests->transformers) (2021.10.8)\n",
      "Requirement already satisfied: click in /usr/local/lib/python3.7/dist-packages (from sacremoses->transformers) (7.1.2)\n",
      "Requirement already satisfied: six in /usr/local/lib/python3.7/dist-packages (from sacremoses->transformers) (1.15.0)\n",
      "Requirement already satisfied: joblib in /usr/local/lib/python3.7/dist-packages (from sacremoses->transformers) (1.1.0)\n",
      "Installing collected packages: pyyaml, tokenizers, sacremoses, huggingface-hub, transformers\n",
      "  Attempting uninstall: pyyaml\n",
      "    Found existing installation: PyYAML 3.13\n",
      "    Uninstalling PyYAML-3.13:\n",
      "      Successfully uninstalled PyYAML-3.13\n",
      "Successfully installed huggingface-hub-0.2.1 pyyaml-6.0 sacremoses-0.0.46 tokenizers-0.10.3 transformers-4.12.5\n"
     ]
    }
   ],
   "source": [
    "!pip install transformers"
   ]
  },
  {
   "cell_type": "code",
   "execution_count": 1,
   "id": "e3ad0d72",
   "metadata": {
    "id": "e3ad0d72"
   },
   "outputs": [],
   "source": [
    "import matplotlib.pyplot as plt\n",
    "import pandas as pd\n",
    "import numpy as np\n",
    "import tensorflow\n",
    "from sklearn.metrics import classification_report\n",
    "from tensorflow.keras.preprocessing.sequence import pad_sequences\n",
    "from utils_hmm import *\n",
    "from utils_bilstm import *\n",
    "from utils_format import complete_BILOU\n",
    "from utils_bert import BertModel, write_to_submission_file, print_model_loss_values_plot"
   ]
  },
  {
   "cell_type": "markdown",
   "id": "5d429aa8",
   "metadata": {
    "id": "5d429aa8"
   },
   "source": [
    "# 7. Etat de l’art (10%)\n",
    "\n",
    "Décrivez en deux paragraphes, dans une cellule du notebook, l’état de l’art pour la reconnaissance de mots clé et leur annotation. Utilisez le service Google Scholar. Voici quelques mots-clé (non exhaustifs) : Named Entity recognition, NER, entity typing.  \n",
    "\n",
    "Quelles sont les meilleures techniques de l’état de l’art ?"
   ]
  },
  {
   "cell_type": "markdown",
   "id": "f03ebf12",
   "metadata": {
    "id": "f03ebf12"
   },
   "source": [
    "Named Entity Recognition (NER) is a foundational task in Natural Language Processing because so many downstream tasks depend on it. The goal of NER is to find all of the named people, places, and things within a text document and correctly classify them.\n",
    "\n",
    "The most popular technique for NER is Conditional Random Fields. But recently with the advancement of deep learning, Recurrent Neural Networks are giving state of the art results for this task. But the difference in accuracies might be just 1 or 2 percent as of now.\n",
    "\n",
    "There are different deep learning networks or architectures that can be used to solve this problem :\n",
    "\n",
    "1)Elman and Jordan RNNs\n",
    "\n",
    "2)LSTMs, BI-LSTMS, LSTM-CRF, BILSTM-CRF"
   ]
  },
  {
   "cell_type": "markdown",
   "id": "d18e0089",
   "metadata": {
    "id": "d18e0089"
   },
   "source": [
    "# 8. Sous-tâche A : Identification des mots-clés (65%)\n",
    "Dans la sous-tâche A, la tâche est de prédire les types BILOU pour les jetons en dehors (Outside), au début (Beginning) ou dans un mot-clé (Inside). Voir plus de détails ci-dessous."
   ]
  },
  {
   "cell_type": "markdown",
   "id": "9fd211c9",
   "metadata": {
    "id": "9fd211c9"
   },
   "source": [
    "## 8.1 Extraction d’information\n",
    "En partant des fichiers csv de l’ensemble d’entrainement (train) et de validation (val), générez un fichier train_A_bilou.csv et val_A_bilou.csv de format de type BILOU en complétant la colonne tag des fichiers train.csv et val.csv: \n",
    "\n",
    "    B :’Beginning’ :  Premier jeton d’une entité composée de multiples jetons\n",
    "    I : ‘Inside’ : Jeton interne d’une entité composée de multiples jetons\n",
    "    L : ‘Last’ : Dernier jeton d’une entité composée de multiples jetons\n",
    "    O : ‘Outside’: Un jeton qui ne représente pas une entité \n",
    "    U : ‘Unit’ : Une entité composée d’un seul jeton\n",
    "\n",
    "Ici, entité réfère aux mots-clés que vous devez identifier."
   ]
  },
  {
   "cell_type": "code",
   "execution_count": 9,
   "id": "4fccf592",
   "metadata": {
    "id": "4fccf592"
   },
   "outputs": [],
   "source": [
    "# Import initials data\n",
    "PATH = \"data/\"\n",
    "train_csv = pd.read_csv(PATH + \"train.csv\")\n",
    "val_csv = pd.read_csv(PATH + \"eval.csv\")\n",
    "test_csv = pd.read_csv(PATH + \"test.csv\")"
   ]
  },
  {
   "cell_type": "code",
   "execution_count": null,
   "id": "410da74e",
   "metadata": {
    "id": "410da74e",
    "outputId": "03626828-68a0-4762-97e6-237fe541b769"
   },
   "outputs": [
    {
     "name": "stdout",
     "output_type": "stream",
     "text": [
      "Strating to fill in the  train  dataframe with the right tags...\n",
      "20 documents have been processed...\n",
      "40 documents have been processed...\n",
      "60 documents have been processed...\n",
      "80 documents have been processed...\n",
      "100 documents have been processed...\n",
      "120 documents have been processed...\n",
      "140 documents have been processed...\n",
      "160 documents have been processed...\n",
      "180 documents have been processed...\n",
      "200 documents have been processed...\n",
      "220 documents have been processed...\n",
      "240 documents have been processed...\n",
      "260 documents have been processed...\n",
      "280 documents have been processed...\n",
      "300 documents have been processed...\n",
      "320 documents have been processed...\n",
      "340 documents have been processed...\n",
      "Done!\n"
     ]
    }
   ],
   "source": [
    "# Add the BILOU-A tags to the training dataset\n",
    "train_data_a = complete_BILOU(train_csv, False, 'train', PATH)\n",
    "train_data_a.to_csv('train_A_bilou.csv', index=False)"
   ]
  },
  {
   "cell_type": "code",
   "execution_count": null,
   "id": "59974285",
   "metadata": {
    "id": "59974285",
    "outputId": "4a4545a7-94b9-4ec6-f46b-4a6e032f0bb7"
   },
   "outputs": [
    {
     "name": "stdout",
     "output_type": "stream",
     "text": [
      "Strating to fill in the  dev  dataframe with the right tags...\n",
      "20 documents have been processed...\n",
      "40 documents have been processed...\n",
      "Done!\n"
     ]
    }
   ],
   "source": [
    "# Add the BILOU-A tags to the validation dataset\n",
    "val_data_a = complete_BILOU(val_csv, False, 'dev', PATH)\n",
    "val_data_a.to_csv('val_A_bilou.csv', index=False)"
   ]
  },
  {
   "cell_type": "markdown",
   "id": "dbfc1a7c",
   "metadata": {
    "id": "dbfc1a7c"
   },
   "source": [
    "## 8.2. Présentation des modèles\n",
    "- Entrainez un modèle à reconnaitre les mots-clés à partir de votre fichier train_A_bilou.csv .\n",
    "- Votre modèle doit retourner les tags pour l’ensemble de validation et de test en suivant le format indiqué dans sample_submission.csv\n",
    "- Vous utiliserez le fichier val_A_bilou.csv pour déterminer vos hyper-paramètres optimaux, et effectuer une évaluation de votre modèle. "
   ]
  },
  {
   "cell_type": "markdown",
   "id": "b2a58828",
   "metadata": {
    "id": "b2a58828"
   },
   "source": [
    "### 8.2.1. Préparation communes des données pour les modèles HMM et Bi-LSTM"
   ]
  },
  {
   "cell_type": "code",
   "execution_count": 2,
   "id": "f0fccb57",
   "metadata": {
    "id": "f0fccb57"
   },
   "outputs": [],
   "source": [
    "# Load dataset with tags created previously\n",
    "train_A_bilou = pd.read_csv(\"train_A_bilou.csv\")\n",
    "val_A_bilou = pd.read_csv(\"val_A_bilou.csv\")"
   ]
  },
  {
   "cell_type": "code",
   "execution_count": 3,
   "id": "79c83500",
   "metadata": {
    "id": "79c83500"
   },
   "outputs": [],
   "source": [
    "# Definition of index dictionaries and their inverse\n",
    "tag_index_A = {\"B\":0, \"I\":1, \"L\":2, \"U\":3, \"O\":4}\n",
    "tag_index_pad_A = {\"-PAD-\":0, \"B\":1, \"I\":2, \"L\":3, \"U\":4, \"O\":5}\n",
    "reverse_tag_index_A = {v: k for k, v in tag_index_A.items()}\n",
    "reverse_tag_index_pad_A = {v: k for k, v in tag_index_pad_A.items()}"
   ]
  },
  {
   "cell_type": "code",
   "execution_count": 4,
   "id": "4b5f11dc",
   "metadata": {
    "id": "4b5f11dc"
   },
   "outputs": [],
   "source": [
    "def create_type_index_dict(train_data, pad_and_oov) :\n",
    "    # Creation of the vocabulary dictionary\n",
    "    all_types = list(set(train_data[\"Token\"]))\n",
    "    types_dict = dict()\n",
    "    if pad_and_oov :\n",
    "        for i in range(len(all_types)):\n",
    "            types_dict[all_types[i]] = i+2\n",
    "        # Special value for padding\n",
    "        types_dict['-PAD-'] = 0  \n",
    "        # Special value for words out of vocabulary\n",
    "        types_dict['-OOV-'] = 1  \n",
    "    else :\n",
    "        for i in range(len(all_types)):\n",
    "            types_dict[all_types[i]] = i\n",
    "    return types_dict"
   ]
  },
  {
   "cell_type": "code",
   "execution_count": 5,
   "id": "73e83e6d",
   "metadata": {
    "id": "73e83e6d"
   },
   "outputs": [],
   "source": [
    "# Definition of vocabularies, with or without padding index\n",
    "types_dict_pad = create_type_index_dict(train_A_bilou, True)\n",
    "types_dict = create_type_index_dict(train_A_bilou, False)\n",
    "reverse_type_dict_pad = {v: k for k, v in types_dict_pad.items()}\n",
    "reverse_type_dict = {v: k for k, v in types_dict.items()}"
   ]
  },
  {
   "cell_type": "code",
   "execution_count": 6,
   "id": "faaa1e89",
   "metadata": {
    "id": "faaa1e89"
   },
   "outputs": [],
   "source": [
    "# Definition of training phrases/tags with their indexed equivalents\n",
    "train_doc_ids = sorted(set(list(train_A_bilou[\"DocID\"])), key=list(train_A_bilou[\"DocID\"]).index)\n",
    "train_sentences = [list(train_A_bilou[train_A_bilou[\"DocID\"]==doc_id][\"Token\"]) for doc_id in train_doc_ids]\n",
    "train_tags_A = [list(train_A_bilou[train_A_bilou[\"DocID\"]==doc_id][\"Tag\"]) for doc_id in train_doc_ids]\n",
    "train_sentences_ids = [[types_dict_pad[word] for word in sentence] for sentence in train_sentences]\n",
    "train_tags_ids_A = [[tag_index_pad_A[tag] for tag in tags] for tags in train_tags_A]"
   ]
  },
  {
   "cell_type": "code",
   "execution_count": 7,
   "id": "18a36520",
   "metadata": {
    "id": "18a36520"
   },
   "outputs": [],
   "source": [
    "# Definition of evaluation phrases/tags with their indexed equivalents\n",
    "val_doc_ids = sorted(set(list(val_A_bilou[\"DocID\"])), key=list(val_A_bilou[\"DocID\"]).index)\n",
    "val_sentences = [list(val_A_bilou[val_A_bilou[\"DocID\"]==doc_id][\"Token\"]) for doc_id in val_doc_ids]\n",
    "val_tags_A = [list(val_A_bilou[val_A_bilou[\"DocID\"]==doc_id][\"Tag\"]) for doc_id in val_doc_ids]\n",
    "val_sentences_ids = [[types_dict_pad[word] if word in types_dict_pad else 1 for word in sentence] for sentence in val_sentences]\n",
    "val_sentences_ids_unpad = [[types_dict[word] if word in types_dict else 1 for word in sentence] for sentence in val_sentences]\n",
    "val_tags_ids_A = [[tag_index_pad_A[tag] for tag in tags] for tags in val_tags_A]"
   ]
  },
  {
   "cell_type": "code",
   "execution_count": 10,
   "id": "7ee25f14",
   "metadata": {
    "id": "7ee25f14"
   },
   "outputs": [],
   "source": [
    "# Definition of test phrases/tags with their indexed equivalents\n",
    "test_doc_ids = sorted(set(list(test_csv[\"DocID\"])), key=list(test_csv[\"DocID\"]).index)\n",
    "test_sentences = [list(test_csv[test_csv[\"DocID\"]==doc_id][\"Token\"]) for doc_id in test_doc_ids]\n",
    "test_sentences_ids = [[types_dict_pad[word] if word in types_dict_pad else 1 for word in sentence] for sentence in test_sentences]"
   ]
  },
  {
   "cell_type": "code",
   "execution_count": 11,
   "id": "f656e0aa",
   "metadata": {
    "id": "f656e0aa"
   },
   "outputs": [],
   "source": [
    "len_val_sentences = [len(sentence) for sentence in val_sentences]\n",
    "len_train_sentences = [len(sentence) for sentence in train_sentences]\n",
    "len_test_sentences = [len(sentence) for sentence in test_sentences]"
   ]
  },
  {
   "cell_type": "markdown",
   "id": "f030b663",
   "metadata": {
    "id": "f030b663"
   },
   "source": [
    "### 8.2.2. Hidden Markov Model"
   ]
  },
  {
   "cell_type": "code",
   "execution_count": 12,
   "id": "0a15e3fb",
   "metadata": {
    "id": "0a15e3fb"
   },
   "outputs": [],
   "source": [
    "# Compute initial and transition matrix\n",
    "initial_matrix_A, transition_matrix_A = compute_transition_and_initial_matrix(train_A_bilou, tag_index_A)"
   ]
  },
  {
   "cell_type": "code",
   "execution_count": 13,
   "id": "ad7e07a4",
   "metadata": {
    "id": "ad7e07a4"
   },
   "outputs": [],
   "source": [
    "# Compute emission matrix\n",
    "emission_matrix_A = compute_emission_matrix(train_A_bilou, types_dict, tag_index_A)"
   ]
  },
  {
   "cell_type": "code",
   "execution_count": 14,
   "id": "fed9c047",
   "metadata": {
    "id": "fed9c047"
   },
   "outputs": [],
   "source": [
    "# Transform matrix in distributions\n",
    "tfd_A, initial_distribution_A, transition_distribution_A, emission_distribution_A = create_distributions(initial_matrix_A, \n",
    "                                                                                                  transition_matrix_A, \n",
    "                                                                                                  emission_matrix_A) "
   ]
  },
  {
   "cell_type": "code",
   "execution_count": 15,
   "id": "e9e91f7f",
   "metadata": {
    "id": "e9e91f7f"
   },
   "outputs": [],
   "source": [
    "# Output values predictions\n",
    "output_hmm_model_A = get_output_hmm_model(tfd_A, \n",
    "                                          initial_distribution_A, \n",
    "                                          transition_distribution_A, \n",
    "                                          emission_distribution_A, \n",
    "                                          val_sentences_ids_unpad, \n",
    "                                          reverse_tag_index_A)"
   ]
  },
  {
   "cell_type": "markdown",
   "id": "b122763d",
   "metadata": {
    "id": "b122763d"
   },
   "source": [
    "### 8.2.3. Modèle Bi-LSTM"
   ]
  },
  {
   "cell_type": "code",
   "execution_count": 13,
   "id": "8395917d",
   "metadata": {
    "colab": {
     "base_uri": "https://localhost:8080/"
    },
    "id": "8395917d",
    "outputId": "fac1fa8b-e0fa-46ad-90c4-6a0d17fea927"
   },
   "outputs": [
    {
     "name": "stdout",
     "output_type": "stream",
     "text": [
      "388\n"
     ]
    }
   ],
   "source": [
    "# Get the length of the longest sentence\n",
    "MAX_LENGTH = max(max(len_val_sentences), max(len_train_sentences), max(len_test_sentences))\n",
    "print(MAX_LENGTH)"
   ]
  },
  {
   "cell_type": "code",
   "execution_count": 14,
   "id": "7209ae44",
   "metadata": {
    "id": "7209ae44"
   },
   "outputs": [],
   "source": [
    "# Padding on th MAX_LENGTH value\n",
    "# the tag -PAD- is associated to each word when the sentence is finished\n",
    "train_sentences_pad = pad_sequences(train_sentences_ids, maxlen=MAX_LENGTH, padding='post')\n",
    "val_sentences_pad = pad_sequences(val_sentences_ids, maxlen=MAX_LENGTH, padding='post')\n",
    "test_sentences_pad = pad_sequences(test_sentences_ids, maxlen=MAX_LENGTH, padding='post')\n",
    "\n",
    "train_tags_pad_A = pad_sequences(train_tags_ids_A, maxlen=MAX_LENGTH, padding='post')\n",
    "val_tags_pad_A = pad_sequences(val_tags_ids_A, maxlen=MAX_LENGTH, padding='post')"
   ]
  },
  {
   "cell_type": "code",
   "execution_count": 15,
   "id": "1074e2f4",
   "metadata": {
    "colab": {
     "base_uri": "https://localhost:8080/"
    },
    "id": "1074e2f4",
    "outputId": "bb609ba6-8574-4533-b782-bb66cc658501"
   },
   "outputs": [
    {
     "name": "stdout",
     "output_type": "stream",
     "text": [
      "Model: \"sequential\"\n",
      "_________________________________________________________________\n",
      " Layer (type)                Output Shape              Param #   \n",
      "=================================================================\n",
      " embedding (Embedding)       (None, 388, 128)          1174656   \n",
      "                                                                 \n",
      " dropout (Dropout)           (None, 388, 128)          0         \n",
      "                                                                 \n",
      " bidirectional (Bidirectiona  (None, 388, 512)         788480    \n",
      " l)                                                              \n",
      "                                                                 \n",
      " time_distributed (TimeDistr  (None, 388, 6)           3078      \n",
      " ibuted)                                                         \n",
      "                                                                 \n",
      " activation (Activation)     (None, 388, 6)            0         \n",
      "                                                                 \n",
      "=================================================================\n",
      "Total params: 1,966,214\n",
      "Trainable params: 1,966,214\n",
      "Non-trainable params: 0\n",
      "_________________________________________________________________\n"
     ]
    }
   ],
   "source": [
    "# Creation of the Bi-LSTM model\n",
    "bi_lstm_A, early_stopping_callback, model_checkpoint_callback = create_bi_lstm_model(MAX_LENGTH, \n",
    "                                                                                     types_dict_pad, \n",
    "                                                                                     tag_index_pad_A)"
   ]
  },
  {
   "cell_type": "code",
   "execution_count": 16,
   "id": "50ed7fbf",
   "metadata": {
    "colab": {
     "base_uri": "https://localhost:8080/"
    },
    "id": "50ed7fbf",
    "outputId": "68e760ac-eeca-471b-9bce-40a856ae9eaa"
   },
   "outputs": [
    {
     "name": "stdout",
     "output_type": "stream",
     "text": [
      "Epoch 1/40\n",
      "3/3 [==============================] - 4s 236ms/step - loss: 0.8339 - accuracy: 0.2405 - ignore_accuracy: 0.5216 - val_loss: 0.9563 - val_accuracy: 0.4356 - val_ignore_accuracy: 0.7572\n",
      "Epoch 2/40\n",
      "3/3 [==============================] - 1s 207ms/step - loss: 0.7155 - accuracy: 0.3428 - ignore_accuracy: 0.7255 - val_loss: 0.7546 - val_accuracy: 0.4356 - val_ignore_accuracy: 0.7572\n",
      "Epoch 3/40\n",
      "3/3 [==============================] - 1s 209ms/step - loss: 0.5714 - accuracy: 0.3428 - ignore_accuracy: 0.7260 - val_loss: 0.6371 - val_accuracy: 0.4356 - val_ignore_accuracy: 0.7572\n",
      "Epoch 4/40\n",
      "3/3 [==============================] - 1s 196ms/step - loss: 0.5176 - accuracy: 0.3428 - ignore_accuracy: 0.7262 - val_loss: 0.5310 - val_accuracy: 0.4356 - val_ignore_accuracy: 0.7572\n",
      "Epoch 5/40\n",
      "3/3 [==============================] - 1s 200ms/step - loss: 0.4604 - accuracy: 0.3428 - ignore_accuracy: 0.7246 - val_loss: 0.5306 - val_accuracy: 0.4356 - val_ignore_accuracy: 0.7572\n",
      "Epoch 6/40\n",
      "3/3 [==============================] - 1s 196ms/step - loss: 0.4636 - accuracy: 0.3428 - ignore_accuracy: 0.7259 - val_loss: 0.5146 - val_accuracy: 0.4356 - val_ignore_accuracy: 0.7572\n",
      "Epoch 7/40\n",
      "3/3 [==============================] - 0s 169ms/step - loss: 0.4458 - accuracy: 0.3428 - ignore_accuracy: 0.7258 - val_loss: 0.5273 - val_accuracy: 0.4356 - val_ignore_accuracy: 0.7572\n",
      "Epoch 8/40\n",
      "3/3 [==============================] - 0s 166ms/step - loss: 0.4475 - accuracy: 0.3428 - ignore_accuracy: 0.7244 - val_loss: 0.5192 - val_accuracy: 0.4356 - val_ignore_accuracy: 0.7572\n",
      "Epoch 9/40\n",
      "3/3 [==============================] - 1s 195ms/step - loss: 0.4388 - accuracy: 0.3428 - ignore_accuracy: 0.7256 - val_loss: 0.5034 - val_accuracy: 0.4356 - val_ignore_accuracy: 0.7572\n",
      "Epoch 10/40\n",
      "3/3 [==============================] - 1s 198ms/step - loss: 0.4345 - accuracy: 0.3428 - ignore_accuracy: 0.7249 - val_loss: 0.4991 - val_accuracy: 0.4356 - val_ignore_accuracy: 0.7572\n",
      "Epoch 11/40\n",
      "3/3 [==============================] - 1s 197ms/step - loss: 0.4327 - accuracy: 0.3428 - ignore_accuracy: 0.7264 - val_loss: 0.4946 - val_accuracy: 0.4356 - val_ignore_accuracy: 0.7572\n",
      "Epoch 12/40\n",
      "3/3 [==============================] - 1s 199ms/step - loss: 0.4259 - accuracy: 0.3428 - ignore_accuracy: 0.7250 - val_loss: 0.4926 - val_accuracy: 0.4356 - val_ignore_accuracy: 0.7572\n",
      "Epoch 13/40\n",
      "3/3 [==============================] - 1s 196ms/step - loss: 0.4206 - accuracy: 0.3428 - ignore_accuracy: 0.7258 - val_loss: 0.4909 - val_accuracy: 0.4356 - val_ignore_accuracy: 0.7572\n",
      "Epoch 14/40\n",
      "3/3 [==============================] - 1s 197ms/step - loss: 0.4151 - accuracy: 0.3428 - ignore_accuracy: 0.7261 - val_loss: 0.4828 - val_accuracy: 0.4356 - val_ignore_accuracy: 0.7572\n",
      "Epoch 15/40\n",
      "3/3 [==============================] - 1s 195ms/step - loss: 0.4073 - accuracy: 0.3428 - ignore_accuracy: 0.7238 - val_loss: 0.4739 - val_accuracy: 0.4356 - val_ignore_accuracy: 0.7572\n",
      "Epoch 16/40\n",
      "3/3 [==============================] - 1s 200ms/step - loss: 0.3996 - accuracy: 0.3428 - ignore_accuracy: 0.7256 - val_loss: 0.4666 - val_accuracy: 0.4356 - val_ignore_accuracy: 0.7572\n",
      "Epoch 17/40\n",
      "3/3 [==============================] - 1s 199ms/step - loss: 0.3899 - accuracy: 0.3428 - ignore_accuracy: 0.7260 - val_loss: 0.4595 - val_accuracy: 0.4356 - val_ignore_accuracy: 0.7572\n",
      "Epoch 18/40\n",
      "3/3 [==============================] - 1s 196ms/step - loss: 0.3795 - accuracy: 0.3429 - ignore_accuracy: 0.7268 - val_loss: 0.4515 - val_accuracy: 0.4356 - val_ignore_accuracy: 0.7572\n",
      "Epoch 19/40\n",
      "3/3 [==============================] - 1s 197ms/step - loss: 0.3676 - accuracy: 0.3437 - ignore_accuracy: 0.7275 - val_loss: 0.4405 - val_accuracy: 0.4359 - val_ignore_accuracy: 0.7577\n",
      "Epoch 20/40\n",
      "3/3 [==============================] - 1s 206ms/step - loss: 0.3556 - accuracy: 0.3457 - ignore_accuracy: 0.7321 - val_loss: 0.4319 - val_accuracy: 0.4371 - val_ignore_accuracy: 0.7598\n",
      "Epoch 21/40\n",
      "3/3 [==============================] - 1s 195ms/step - loss: 0.3426 - accuracy: 0.3517 - ignore_accuracy: 0.7447 - val_loss: 0.4236 - val_accuracy: 0.4393 - val_ignore_accuracy: 0.7636\n",
      "Epoch 22/40\n",
      "3/3 [==============================] - 1s 203ms/step - loss: 0.3295 - accuracy: 0.3554 - ignore_accuracy: 0.7505 - val_loss: 0.4119 - val_accuracy: 0.4394 - val_ignore_accuracy: 0.7638\n",
      "Epoch 23/40\n",
      "3/3 [==============================] - 1s 196ms/step - loss: 0.3150 - accuracy: 0.3593 - ignore_accuracy: 0.7598 - val_loss: 0.4024 - val_accuracy: 0.4403 - val_ignore_accuracy: 0.7653\n",
      "Epoch 24/40\n",
      "3/3 [==============================] - 1s 196ms/step - loss: 0.3015 - accuracy: 0.3616 - ignore_accuracy: 0.7649 - val_loss: 0.3928 - val_accuracy: 0.4414 - val_ignore_accuracy: 0.7673\n",
      "Epoch 25/40\n",
      "3/3 [==============================] - 1s 195ms/step - loss: 0.2876 - accuracy: 0.3669 - ignore_accuracy: 0.7763 - val_loss: 0.3853 - val_accuracy: 0.4436 - val_ignore_accuracy: 0.7711\n",
      "Epoch 26/40\n",
      "3/3 [==============================] - 1s 197ms/step - loss: 0.2750 - accuracy: 0.3724 - ignore_accuracy: 0.7888 - val_loss: 0.3813 - val_accuracy: 0.4430 - val_ignore_accuracy: 0.7701\n",
      "Epoch 27/40\n",
      "3/3 [==============================] - 1s 195ms/step - loss: 0.2633 - accuracy: 0.3784 - ignore_accuracy: 0.8012 - val_loss: 0.3759 - val_accuracy: 0.4490 - val_ignore_accuracy: 0.7804\n",
      "Epoch 28/40\n",
      "3/3 [==============================] - 1s 198ms/step - loss: 0.2519 - accuracy: 0.3838 - ignore_accuracy: 0.8114 - val_loss: 0.3733 - val_accuracy: 0.4467 - val_ignore_accuracy: 0.7765\n",
      "Epoch 29/40\n",
      "3/3 [==============================] - 1s 201ms/step - loss: 0.2412 - accuracy: 0.3885 - ignore_accuracy: 0.8225 - val_loss: 0.3710 - val_accuracy: 0.4471 - val_ignore_accuracy: 0.7771\n",
      "Epoch 30/40\n",
      "3/3 [==============================] - 1s 197ms/step - loss: 0.2306 - accuracy: 0.3921 - ignore_accuracy: 0.8298 - val_loss: 0.3684 - val_accuracy: 0.4504 - val_ignore_accuracy: 0.7829\n",
      "Epoch 31/40\n",
      "3/3 [==============================] - 1s 196ms/step - loss: 0.2209 - accuracy: 0.3949 - ignore_accuracy: 0.8352 - val_loss: 0.3680 - val_accuracy: 0.4523 - val_ignore_accuracy: 0.7862\n",
      "Epoch 32/40\n",
      "3/3 [==============================] - 1s 199ms/step - loss: 0.2115 - accuracy: 0.3980 - ignore_accuracy: 0.8416 - val_loss: 0.3649 - val_accuracy: 0.4529 - val_ignore_accuracy: 0.7872\n",
      "Epoch 33/40\n",
      "3/3 [==============================] - 1s 196ms/step - loss: 0.2037 - accuracy: 0.4009 - ignore_accuracy: 0.8489 - val_loss: 0.3632 - val_accuracy: 0.4527 - val_ignore_accuracy: 0.7869\n",
      "Epoch 34/40\n",
      "3/3 [==============================] - 0s 171ms/step - loss: 0.1979 - accuracy: 0.4011 - ignore_accuracy: 0.8492 - val_loss: 0.3679 - val_accuracy: 0.4539 - val_ignore_accuracy: 0.7889\n",
      "Epoch 35/40\n",
      "3/3 [==============================] - 0s 168ms/step - loss: 0.1902 - accuracy: 0.4046 - ignore_accuracy: 0.8561 - val_loss: 0.3658 - val_accuracy: 0.4540 - val_ignore_accuracy: 0.7891\n",
      "Epoch 36/40\n",
      "3/3 [==============================] - 1s 195ms/step - loss: 0.1814 - accuracy: 0.4086 - ignore_accuracy: 0.8650 - val_loss: 0.3606 - val_accuracy: 0.4531 - val_ignore_accuracy: 0.7877\n",
      "Epoch 37/40\n",
      "3/3 [==============================] - 0s 166ms/step - loss: 0.1736 - accuracy: 0.4113 - ignore_accuracy: 0.8707 - val_loss: 0.3658 - val_accuracy: 0.4489 - val_ignore_accuracy: 0.7803\n",
      "Epoch 38/40\n",
      "3/3 [==============================] - 0s 167ms/step - loss: 0.1667 - accuracy: 0.4131 - ignore_accuracy: 0.8747 - val_loss: 0.3632 - val_accuracy: 0.4531 - val_ignore_accuracy: 0.7877\n",
      "Epoch 39/40\n",
      "3/3 [==============================] - 0s 165ms/step - loss: 0.1587 - accuracy: 0.4172 - ignore_accuracy: 0.8824 - val_loss: 0.3643 - val_accuracy: 0.4532 - val_ignore_accuracy: 0.7878\n"
     ]
    }
   ],
   "source": [
    "# Training for subtask A\n",
    "with tensorflow.device('/device:GPU:0'):\n",
    "    model_history = bi_lstm_A.fit(x=train_sentences_pad, \n",
    "                y=to_categorical(train_tags_pad_A, len(tag_index_pad_A)), \n",
    "                batch_size=128, \n",
    "                epochs=40, \n",
    "                validation_data=(val_sentences_pad, to_categorical(val_tags_pad_A, len(tag_index_pad_A))),\n",
    "                callbacks=[early_stopping_callback,model_checkpoint_callback])"
   ]
  },
  {
   "cell_type": "code",
   "execution_count": 17,
   "id": "b18ed91b",
   "metadata": {
    "colab": {
     "base_uri": "https://localhost:8080/",
     "height": 295
    },
    "id": "b18ed91b",
    "outputId": "093264d0-062b-4d32-9691-572554be0614"
   },
   "outputs": [
    {
     "data": {
      "image/png": "[encoded data removed]",
      "text/plain": [
       "<Figure size 432x288 with 1 Axes>"
      ]
     },
     "metadata": {
      "needs_background": "light"
     },
     "output_type": "display_data"
    }
   ],
   "source": [
    "generate_model_history(model_history, 'loss', 'Loss', 'LSTM Loss')"
   ]
  },
  {
   "cell_type": "code",
   "execution_count": 18,
   "id": "6cb8a285",
   "metadata": {
    "id": "6cb8a285"
   },
   "outputs": [],
   "source": [
    "# Predictions for evaluation dataset\n",
    "output_val_bi_lstm_A = get_output_bilstm(bi_lstm_A, val_sentences_pad, reverse_tag_index_pad_A, len_val_sentences)"
   ]
  },
  {
   "cell_type": "code",
   "execution_count": 19,
   "id": "85439651",
   "metadata": {
    "id": "85439651"
   },
   "outputs": [],
   "source": [
    "# Predictions for test dataset\n",
    "output_test_bi_lstm_A = get_output_bilstm(bi_lstm_A, test_sentences_pad, reverse_tag_index_pad_A, len_test_sentences)"
   ]
  },
  {
   "cell_type": "markdown",
   "id": "cd2c3a06",
   "metadata": {
    "id": "cd2c3a06"
   },
   "source": [
    "### 8.2.4. Modèle BERT"
   ]
  },
  {
   "cell_type": "markdown",
   "id": "2248bfee",
   "metadata": {
    "id": "2248bfee"
   },
   "source": [
    "#### 8.2.4.1. Entrainement"
   ]
  },
  {
   "cell_type": "markdown",
   "id": "1c1c2574",
   "metadata": {
    "id": "1c1c2574"
   },
   "source": [
    "On commence par instancier un objet de la classe `BertModel` en utilisant le nom du modèle BERT à utiliser (dans ce cas `bert-large-cased`)"
   ]
  },
  {
   "cell_type": "code",
   "execution_count": 3,
   "id": "d5037148",
   "metadata": {
    "colab": {
     "base_uri": "https://localhost:8080/",
     "height": 180,
     "referenced_widgets": [
      "96cac06109304b3a91d2086c13bfbbe3",
      "40b7a4aa50204557927d03b1474668cd",
      "b033f3612464437eb7e0a15b3f57aa94",
      "2995afa261104f4b843a604bb7731c18",
      "c61b86160fcc4d71abb553dc0cd8c6aa",
      "0cd0d79d6c8549aba34e52daaa4b0f96",
      "9ded7a6acee5415897e2cd34225e5338",
      "c33a6be9b6f640d28f401c75737b3dae",
      "5f0a50319f524433bd4c36d5821991fe",
      "3327319646de478c8818b605508eed77",
      "2b56f5d180f94450b6da6675260b9347",
      "da7d90b88d9042f0ab3799f579ca3405",
      "d1a72838cd394d19b9de436f35edb26b",
      "79cf134a1e8346e197f8ddf0d4dd577b",
      "d3e5e05ad2714f26b80ff10fc0146ac5",
      "4a1a917345474d55af4c2c4563f9292d",
      "b36742fcaf224ab89924a1e6d8253632",
      "2d918735c6fb4894a50081549deae5c9",
      "c8ca717b32524db28a0a9d68861d3a1f",
      "4c088f514fb3480dadb5a43ed5342a9d",
      "42c0a2c467704341ae7ebe1d1c07307a",
      "2b3ef3d793574006b2faf8b8f4817fab",
      "6550aef5322d4d91896cff9b974de61a",
      "04ea57155c1a436c9e413efb4dc8712e",
      "27708adebb6c48bbba8a2d598a04a196",
      "e562f92afb3645f480e5a23048dc9084",
      "912d8a37a24d4e5aa420b12b73c50ef5",
      "62fa93b63aa448e8a97d2da98771672b",
      "18c322ac37ea4c8583facfa2d13e01b3",
      "06d8ad3058bd4b62b6c1f88fbf98e0b4",
      "5749b4349eae4a66bcc61de0446cd235",
      "376f70b30b5f413eb0782a8779f2816b",
      "8c6ea01cfbf84970acf1823aaa2ebab6",
      "92ad071111f04107b30e0aeb424b0f04",
      "20a1dd7cf1d34d61a8913a92ed335674",
      "b2bb1e9bb7544b4e96e4d8613f644d45",
      "87bcaa1f7e4040d5aff8aaef2aa6f7cd",
      "e7e48d8a63b64650b296bbf577812d08",
      "3eaef3733e3146a48220694d72a3b7b4",
      "5549766bad314904b7872d2977c73132",
      "394e26a3e67e4a35a514a7b9264af1e5",
      "f1be00d70c9e4513ba3d7d1a31143eac",
      "01636cc5370f40d3a769e29084a123f9",
      "feaf0fb2ac9d473f8b78c30502e2d0c6"
     ]
    },
    "id": "d5037148",
    "outputId": "61a45d11-d39a-4c98-9c2f-eaa5150637c3"
   },
   "outputs": [
    {
     "name": "stdout",
     "output_type": "stream",
     "text": [
      "There are 1 GPU(s) available.\n",
      "We will use the GPU: Tesla P100-PCIE-16GB\n"
     ]
    },
    {
     "data": {
      "application/vnd.jupyter.widget-view+json": {
       "model_id": "96cac06109304b3a91d2086c13bfbbe3",
       "version_major": 2,
       "version_minor": 0
      },
      "text/plain": [
       "Downloading:   0%|          | 0.00/208k [00:00<?, ?B/s]"
      ]
     },
     "metadata": {},
     "output_type": "display_data"
    },
    {
     "data": {
      "application/vnd.jupyter.widget-view+json": {
       "model_id": "da7d90b88d9042f0ab3799f579ca3405",
       "version_major": 2,
       "version_minor": 0
      },
      "text/plain": [
       "Downloading:   0%|          | 0.00/29.0 [00:00<?, ?B/s]"
      ]
     },
     "metadata": {},
     "output_type": "display_data"
    },
    {
     "data": {
      "application/vnd.jupyter.widget-view+json": {
       "model_id": "6550aef5322d4d91896cff9b974de61a",
       "version_major": 2,
       "version_minor": 0
      },
      "text/plain": [
       "Downloading:   0%|          | 0.00/426k [00:00<?, ?B/s]"
      ]
     },
     "metadata": {},
     "output_type": "display_data"
    },
    {
     "data": {
      "application/vnd.jupyter.widget-view+json": {
       "model_id": "92ad071111f04107b30e0aeb424b0f04",
       "version_major": 2,
       "version_minor": 0
      },
      "text/plain": [
       "Downloading:   0%|          | 0.00/570 [00:00<?, ?B/s]"
      ]
     },
     "metadata": {},
     "output_type": "display_data"
    }
   ],
   "source": [
    "bert_model_a = BertModel('bert-base-cased')"
   ]
  },
  {
   "cell_type": "markdown",
   "id": "16f39f61",
   "metadata": {
    "id": "16f39f61"
   },
   "source": [
    "Avant d'initialiser les paramètres du modèle, on fait une préparation des données. Cette partie inclue:\n",
    "* Téléchargement des données `train_A_bilou.csv` dans un dataframe\n",
    "* Analyse des données pour trouver la longueur maximale des phrases\n",
    "* Conversion des `tokens` en `input ids` selon `BertTokenizer`\n",
    "* Ajout des labels null pour les `tokens` supplémentaire ajoutés par BERT"
   ]
  },
  {
   "cell_type": "code",
   "execution_count": 4,
   "id": "50a3e792",
   "metadata": {
    "colab": {
     "base_uri": "https://localhost:8080/"
    },
    "id": "50a3e792",
    "outputId": "c7e3995a-33a2-47d6-ecae-3bf4ec8a4581"
   },
   "outputs": [
    {
     "name": "stdout",
     "output_type": "stream",
     "text": [
      "Calculating the lengths of sentences according to BERT ...\n",
      "   Min length: 3 tokens\n",
      "   Max length: 191 tokens\n",
      "Median length: 32 tokens\n",
      "Done!\n"
     ]
    }
   ],
   "source": [
    "bert_model_a.load_train_data('train_A_bilou.csv')\n",
    "bert_model_a.analyze_train_sentences_lengths()"
   ]
  },
  {
   "cell_type": "code",
   "execution_count": 5,
   "id": "7df7e820",
   "metadata": {
    "colab": {
     "base_uri": "https://localhost:8080/",
     "height": 225,
     "referenced_widgets": [
      "b2b5e25d7bd14c7eb6ce1b3a01d9347b",
      "4d71b8a9035c4ac8886f625d88c21cd7",
      "b021e094331849d490bb263d76460187",
      "63491f7ac2164724991979d89fed8f11",
      "f6f702254aa44ca5a8fe5e74b8c866bb",
      "716383da41bf4b5f8cbf3953d726f645",
      "161056b040e14daf8473a4c36d646d7a",
      "f4498e3683424b9092d0e09973b86901",
      "2642757d209b49719afa9516664d6679",
      "dacb89a9bfb84edfa2286e2a185f4480",
      "b0e80aa6d2b94cf4b0b2da51c24a3747"
     ]
    },
    "id": "7df7e820",
    "outputId": "279dec45-bb22-4e6c-a390-9c7125144949"
   },
   "outputs": [
    {
     "name": "stdout",
     "output_type": "stream",
     "text": [
      "Generating input ids for all the tokens according to BERT ...\n"
     ]
    },
    {
     "name": "stderr",
     "output_type": "stream",
     "text": [
      "/usr/local/lib/python3.7/dist-packages/transformers/tokenization_utils_base.py:2218: FutureWarning: The `pad_to_max_length` argument is deprecated and will be removed in a future version, use `padding=True` or `padding='longest'` to pad to the longest sequence in the batch, or use `padding='max_length'` to pad to a max length. In this case, you can give a specific length with `max_length` (e.g. `max_length=45`) or leave max_length to None to pad to the maximal input size of the model (e.g. 512 for Bert).\n",
      "  FutureWarning,\n"
     ]
    },
    {
     "name": "stdout",
     "output_type": "stream",
     "text": [
      "Done!\n"
     ]
    },
    {
     "data": {
      "application/vnd.jupyter.widget-view+json": {
       "model_id": "b2b5e25d7bd14c7eb6ce1b3a01d9347b",
       "version_major": 2,
       "version_minor": 0
      },
      "text/plain": [
       "Downloading:   0%|          | 0.00/416M [00:00<?, ?B/s]"
      ]
     },
     "metadata": {},
     "output_type": "display_data"
    },
    {
     "name": "stderr",
     "output_type": "stream",
     "text": [
      "Some weights of the model checkpoint at bert-base-cased were not used when initializing BertForTokenClassification: ['cls.predictions.bias', 'cls.seq_relationship.bias', 'cls.predictions.transform.dense.weight', 'cls.predictions.transform.dense.bias', 'cls.predictions.transform.LayerNorm.bias', 'cls.predictions.decoder.weight', 'cls.seq_relationship.weight', 'cls.predictions.transform.LayerNorm.weight']\n",
      "- This IS expected if you are initializing BertForTokenClassification from the checkpoint of a model trained on another task or with another architecture (e.g. initializing a BertForSequenceClassification model from a BertForPreTraining model).\n",
      "- This IS NOT expected if you are initializing BertForTokenClassification from the checkpoint of a model that you expect to be exactly identical (initializing a BertForSequenceClassification model from a BertForSequenceClassification model).\n",
      "Some weights of BertForTokenClassification were not initialized from the model checkpoint at bert-base-cased and are newly initialized: ['classifier.weight', 'classifier.bias']\n",
      "You should probably TRAIN this model on a down-stream task to be able to use it for predictions and inference.\n"
     ]
    }
   ],
   "source": [
    "bert_model_a.prepare_train_data(200)\n",
    "train_dataset_a = bert_model_a.get_train_tensor_dataset()\n",
    "bert_model_a.init_model(16, train_dataset_a)"
   ]
  },
  {
   "cell_type": "markdown",
   "id": "85f16713",
   "metadata": {
    "id": "85f16713"
   },
   "source": [
    "Une fois, les données sont prêtes, on procède avec l'entrainement du modèle"
   ]
  },
  {
   "cell_type": "code",
   "execution_count": 6,
   "id": "5a10979b",
   "metadata": {
    "colab": {
     "base_uri": "https://localhost:8080/"
    },
    "id": "5a10979b",
    "outputId": "271797d5-739e-47f2-f6c4-a72fa9d9b32b"
   },
   "outputs": [
    {
     "name": "stdout",
     "output_type": "stream",
     "text": [
      "\n",
      "======== Epoch 1 / 4 ========\n",
      "Training...\n",
      "  Batch    40  of    152.    Elapsed: 0:00:13.\n",
      "  Batch    80  of    152.    Elapsed: 0:00:27.\n",
      "  Batch   120  of    152.    Elapsed: 0:00:40.\n",
      "\n",
      "  Average training loss: 0.55\n",
      "  Training epcoh took: 0:00:50\n",
      "\n",
      "======== Epoch 2 / 4 ========\n",
      "Training...\n",
      "  Batch    40  of    152.    Elapsed: 0:00:13.\n",
      "  Batch    80  of    152.    Elapsed: 0:00:26.\n",
      "  Batch   120  of    152.    Elapsed: 0:00:40.\n",
      "\n",
      "  Average training loss: 0.36\n",
      "  Training epcoh took: 0:00:50\n",
      "\n",
      "======== Epoch 3 / 4 ========\n",
      "Training...\n",
      "  Batch    40  of    152.    Elapsed: 0:00:13.\n",
      "  Batch    80  of    152.    Elapsed: 0:00:26.\n",
      "  Batch   120  of    152.    Elapsed: 0:00:39.\n",
      "\n",
      "  Average training loss: 0.25\n",
      "  Training epcoh took: 0:00:50\n",
      "\n",
      "======== Epoch 4 / 4 ========\n",
      "Training...\n",
      "  Batch    40  of    152.    Elapsed: 0:00:13.\n",
      "  Batch    80  of    152.    Elapsed: 0:00:26.\n",
      "  Batch   120  of    152.    Elapsed: 0:00:39.\n",
      "\n",
      "  Average training loss: 0.17\n",
      "  Training epcoh took: 0:00:50\n",
      "\n",
      "Training complete!\n"
     ]
    }
   ],
   "source": [
    "loss_values_a = bert_model_a.train_model(4)"
   ]
  },
  {
   "cell_type": "code",
   "execution_count": 7,
   "id": "5998c1ee",
   "metadata": {
    "colab": {
     "base_uri": "https://localhost:8080/",
     "height": 427
    },
    "id": "5998c1ee",
    "outputId": "39c6333f-1635-4343-fff4-2ffea78e2868"
   },
   "outputs": [
    {
     "data": {
      "image/png": "[encoded data removed]",
      "text/plain": [
       "<Figure size 864x432 with 1 Axes>"
      ]
     },
     "metadata": {},
     "output_type": "display_data"
    }
   ],
   "source": [
    "print_model_loss_values_plot(loss_values_a)"
   ]
  },
  {
   "cell_type": "markdown",
   "id": "68e64178",
   "metadata": {
    "id": "68e64178"
   },
   "source": [
    "#### 8.2.4.2. Prédiction sur les données de validation"
   ]
  },
  {
   "cell_type": "markdown",
   "id": "43df7573",
   "metadata": {
    "id": "43df7573"
   },
   "source": [
    "Afin de pouvoir utiliser le modèle pour prédire les tags des tokens de l'ensemble de validation, on passe par une préparation de données qui ressemble à celle qu'on a faite sur l'ensemble d'entrainement."
   ]
  },
  {
   "cell_type": "code",
   "execution_count": 8,
   "id": "6c918c85",
   "metadata": {
    "colab": {
     "base_uri": "https://localhost:8080/"
    },
    "id": "6c918c85",
    "outputId": "0367b337-0cad-4f39-fd8d-ed67f506927b"
   },
   "outputs": [
    {
     "name": "stdout",
     "output_type": "stream",
     "text": [
      "Generating input ids for all the tokens according to BERT ...\n"
     ]
    },
    {
     "name": "stderr",
     "output_type": "stream",
     "text": [
      "/usr/local/lib/python3.7/dist-packages/transformers/tokenization_utils_base.py:2218: FutureWarning: The `pad_to_max_length` argument is deprecated and will be removed in a future version, use `padding=True` or `padding='longest'` to pad to the longest sequence in the batch, or use `padding='max_length'` to pad to a max length. In this case, you can give a specific length with `max_length` (e.g. `max_length=45`) or leave max_length to None to pad to the maximal input size of the model (e.g. 512 for Bert).\n",
      "  FutureWarning,\n"
     ]
    },
    {
     "name": "stdout",
     "output_type": "stream",
     "text": [
      "Done!\n"
     ]
    }
   ],
   "source": [
    "bert_model_a.load_valid_data('val_A_bilou.csv')\n",
    "bert_model_a.prepare_valid_data(200)"
   ]
  },
  {
   "cell_type": "markdown",
   "id": "551b8b2a",
   "metadata": {
    "id": "551b8b2a"
   },
   "source": [
    "Ensuite, on applique le modèle entrainée pour avoir toutes les prédictions."
   ]
  },
  {
   "cell_type": "code",
   "execution_count": 9,
   "id": "6580e20f",
   "metadata": {
    "colab": {
     "base_uri": "https://localhost:8080/"
    },
    "id": "6580e20f",
    "outputId": "4595e352-6324-4c8e-ea0f-9e20f020d981"
   },
   "outputs": [
    {
     "name": "stdout",
     "output_type": "stream",
     "text": [
      "Starting computing predictions ...\n",
      "Done!\n"
     ]
    }
   ],
   "source": [
    "valid_predictions_a = bert_model_a.get_predictions(bert_model_a.get_valid_dataloader(16))"
   ]
  },
  {
   "cell_type": "markdown",
   "id": "77e073da",
   "metadata": {
    "id": "77e073da"
   },
   "source": [
    "Enfin, on élimine les prédictions qui correspondent aux labels nuls et puis on convertit les prédictions finales en tags."
   ]
  },
  {
   "cell_type": "code",
   "execution_count": 10,
   "id": "6431755b",
   "metadata": {
    "colab": {
     "base_uri": "https://localhost:8080/"
    },
    "id": "6431755b",
    "outputId": "7dffcd09-4174-4143-af81-2e3a4751c989"
   },
   "outputs": [
    {
     "name": "stdout",
     "output_type": "stream",
     "text": [
      "Before filtering out `null` tokens, length = 82,800\n",
      "After filtering out `null` tokens, length = 11,161\n"
     ]
    }
   ],
   "source": [
    "valid_prediction_labels_a = bert_model_a.convert_bert_predictions_to_precited_labels(valid_predictions_a, bert_model_a.valid_bert_labels)"
   ]
  },
  {
   "cell_type": "markdown",
   "id": "f8620de9",
   "metadata": {
    "id": "f8620de9"
   },
   "source": [
    "## 8.3. Évaluation des modèles\n",
    "Vous devez calculer les métriques de précision, rappel et F1-score de votre modèle sur l’ensemble de validation. Votre fichier val_A_bilou.csv avec la colonne Tag complétée constitue alors votre référence.\n",
    "- Affichez une table comparant les performances de votre modèle pour chaque tag (B, I, L, O, U) ainsi que la performance globale sous forme de moyenne micro.\n",
    "- Générez les réponses de votre modèle sur l’ensemble de validation et stockez-les dans le fichier submission_val_A.csv, sur le modèle du fichier sample_submission.csv\n",
    "- Générez les réponses de votre modèle sur l’ensemble de test et stockez-les dans le fichier submission_test_A.csv sur le modèle du fichier sample_submission.csv\n",
    "- Kaggle : Vous devez soumettre votre fichier de soumission submission_test_A.csv sur Kaggle, où il sera évalué. Ce fichier doit être généré avec votre meilleur modèle au moment de sa soumission pour évaluation sur Kaggle. Notez que vous pourrez faire des soumissions jusqu’à la date de remise et vous comparer aux performances des autres équipes. "
   ]
  },
  {
   "cell_type": "markdown",
   "id": "6ef56596",
   "metadata": {
    "id": "6ef56596"
   },
   "source": [
    "### 8.3.1. Evaluation de l'ensemble des modèles"
   ]
  },
  {
   "cell_type": "code",
   "execution_count": 16,
   "id": "ca24e6c1",
   "metadata": {
    "id": "ca24e6c1",
    "outputId": "dcbb705c-55f6-44a2-de7b-d2477f1418b6"
   },
   "outputs": [
    {
     "name": "stdout",
     "output_type": "stream",
     "text": [
      "Classification report for HMM : \n",
      "               precision    recall  f1-score   support\n",
      "\n",
      "           B       0.32      0.20      0.25      1063\n",
      "           I       0.30      0.39      0.34       732\n",
      "           L       0.40      0.49      0.44       567\n",
      "           O       0.86      0.84      0.85      8625\n",
      "           U       0.18      0.38      0.24       174\n",
      "\n",
      "    accuracy                           0.72     11161\n",
      "   macro avg       0.41      0.46      0.42     11161\n",
      "weighted avg       0.73      0.72      0.73     11161\n",
      "\n"
     ]
    }
   ],
   "source": [
    "print(\n",
    "    \"Classification report for HMM : \\n\", \n",
    "    classification_report(output_hmm_model_A, list(val_A_bilou[\"Tag\"]))\n",
    ")"
   ]
  },
  {
   "cell_type": "code",
   "execution_count": 20,
   "id": "a8e8aa90",
   "metadata": {
    "colab": {
     "base_uri": "https://localhost:8080/"
    },
    "id": "a8e8aa90",
    "outputId": "a0c9eb9f-1f5a-48f0-8b1d-b04338c76a0d"
   },
   "outputs": [
    {
     "name": "stdout",
     "output_type": "stream",
     "text": [
      "Classification report for Bi-LSTM : \n",
      "               precision    recall  f1-score   support\n",
      "\n",
      "           B       0.33      0.46      0.39       485\n",
      "           I       0.42      0.42      0.42       958\n",
      "           L       0.55      0.58      0.56       663\n",
      "           O       0.92      0.86      0.89      9011\n",
      "           U       0.07      0.59      0.12        44\n",
      "\n",
      "    accuracy                           0.79     11161\n",
      "   macro avg       0.46      0.58      0.48     11161\n",
      "weighted avg       0.82      0.79      0.80     11161\n",
      "\n"
     ]
    }
   ],
   "source": [
    "print(\n",
    "    \"Classification report for Bi-LSTM : \\n\", \n",
    "    classification_report(output_val_bi_lstm_A, list(val_A_bilou[\"Tag\"]))\n",
    ")"
   ]
  },
  {
   "cell_type": "code",
   "execution_count": 11,
   "id": "6e727754",
   "metadata": {
    "colab": {
     "base_uri": "https://localhost:8080/"
    },
    "id": "6e727754",
    "outputId": "843d7c6b-7019-4ac3-d95c-cffced61ebc8"
   },
   "outputs": [
    {
     "name": "stdout",
     "output_type": "stream",
     "text": [
      "Classification report for BERT : \n",
      "               precision    recall  f1-score   support\n",
      "\n",
      "           B       0.59      0.73      0.65       676\n",
      "           I       0.56      0.61      0.58       965\n",
      "           L       0.71      0.83      0.77       692\n",
      "           O       0.94      0.90      0.92      8451\n",
      "           U       0.73      0.68      0.70       377\n",
      "\n",
      "    accuracy                           0.86     11161\n",
      "   macro avg       0.70      0.75      0.72     11161\n",
      "weighted avg       0.86      0.86      0.86     11161\n",
      "\n"
     ]
    }
   ],
   "source": [
    "print(\n",
    "    \"Classification report for BERT : \\n\", \n",
    "    classification_report(np.concatenate(bert_model_a.valid_labels, axis=0), valid_prediction_labels_a)\n",
    ")"
   ]
  },
  {
   "cell_type": "markdown",
   "id": "5e47b864",
   "metadata": {
    "id": "5e47b864"
   },
   "source": [
    "### 8.3.2. Création des fichiers de sortie pour l'ensemble de validation"
   ]
  },
  {
   "cell_type": "markdown",
   "id": "c8b8b99b",
   "metadata": {
    "id": "c8b8b99b"
   },
   "source": [
    "#### 8.3.2.1. Bi-LSTM"
   ]
  },
  {
   "cell_type": "code",
   "execution_count": 21,
   "id": "4ba8cac8",
   "metadata": {
    "id": "4ba8cac8"
   },
   "outputs": [],
   "source": [
    "def generate_output(ypred, initial_df, dataset_type, set_type) :\n",
    "    file_name = \"submission_\" + dataset_type + \"_\" + set_type + \".csv\"\n",
    "    df_to_write = pd.DataFrame(initial_df[\"TokenID\"])\n",
    "    df_to_write[\"Tag\"] = ypred\n",
    "    df_to_write.to_csv(file_name, index=False)\n",
    "    print(file_name, \"successfully written !\")"
   ]
  },
  {
   "cell_type": "code",
   "execution_count": 22,
   "id": "a5069e72",
   "metadata": {
    "colab": {
     "base_uri": "https://localhost:8080/"
    },
    "id": "a5069e72",
    "outputId": "60f2ce47-1878-487a-83a2-f37bab05da86"
   },
   "outputs": [
    {
     "name": "stdout",
     "output_type": "stream",
     "text": [
      "submission_val_A.csv successfully written !\n"
     ]
    }
   ],
   "source": [
    "generate_output(output_val_bi_lstm_A, val_csv, \"val\", \"A\")"
   ]
  },
  {
   "cell_type": "markdown",
   "id": "90f89509",
   "metadata": {
    "id": "90f89509"
   },
   "source": [
    "#### 8.3.2.2. BERT"
   ]
  },
  {
   "cell_type": "code",
   "execution_count": 12,
   "id": "9d3f7eba",
   "metadata": {
    "colab": {
     "base_uri": "https://localhost:8080/"
    },
    "id": "9d3f7eba",
    "outputId": "a31f516e-9a42-47d6-9f15-afa44a0b3291"
   },
   "outputs": [
    {
     "name": "stdout",
     "output_type": "stream",
     "text": [
      "submission_val_A.csv successfully written !\n"
     ]
    }
   ],
   "source": [
    "write_to_submission_file('submission_val_A.csv', bert_model_a.valid_data['TokenID'], valid_prediction_labels_a)\n",
    "print('submission_val_A.csv successfully written !')"
   ]
  },
  {
   "cell_type": "markdown",
   "id": "46771dd3",
   "metadata": {
    "id": "46771dd3"
   },
   "source": [
    "### 8.3.3. Création des fichiers de sortie pour l'ensemble de tests"
   ]
  },
  {
   "cell_type": "markdown",
   "id": "67e398bf",
   "metadata": {
    "id": "67e398bf"
   },
   "source": [
    "#### 8.3.3.1. Bi-LSTM"
   ]
  },
  {
   "cell_type": "code",
   "execution_count": 23,
   "id": "628294f8",
   "metadata": {
    "colab": {
     "base_uri": "https://localhost:8080/"
    },
    "id": "628294f8",
    "outputId": "de33a9a2-4e93-49a4-d7c8-ff551735c521"
   },
   "outputs": [
    {
     "name": "stdout",
     "output_type": "stream",
     "text": [
      "submission_test_A.csv successfully written !\n"
     ]
    }
   ],
   "source": [
    "generate_output(output_test_bi_lstm_A, test_csv, \"test\", \"A\")"
   ]
  },
  {
   "cell_type": "markdown",
   "id": "2a6c7650",
   "metadata": {
    "id": "2a6c7650"
   },
   "source": [
    "#### 8.3.3.2. BERT"
   ]
  },
  {
   "cell_type": "code",
   "execution_count": 14,
   "id": "oHdHYs0J21ST",
   "metadata": {
    "colab": {
     "base_uri": "https://localhost:8080/"
    },
    "id": "oHdHYs0J21ST",
    "outputId": "7f3f6fa3-25fd-4b1a-a7aa-bf9a8ba0bde7"
   },
   "outputs": [
    {
     "name": "stdout",
     "output_type": "stream",
     "text": [
      "Generating input ids for all the tokens according to BERT ...\n"
     ]
    },
    {
     "name": "stderr",
     "output_type": "stream",
     "text": [
      "/usr/local/lib/python3.7/dist-packages/transformers/tokenization_utils_base.py:2218: FutureWarning: The `pad_to_max_length` argument is deprecated and will be removed in a future version, use `padding=True` or `padding='longest'` to pad to the longest sequence in the batch, or use `padding='max_length'` to pad to a max length. In this case, you can give a specific length with `max_length` (e.g. `max_length=45`) or leave max_length to None to pad to the maximal input size of the model (e.g. 512 for Bert).\n",
      "  FutureWarning,\n"
     ]
    },
    {
     "name": "stdout",
     "output_type": "stream",
     "text": [
      "Done!\n"
     ]
    }
   ],
   "source": [
    "bert_model_a.load_test_data(PATH + 'test.csv')\n",
    "bert_model_a.labels_map['N'] = 5\n",
    "bert_model_a.prepare_test_data(200)"
   ]
  },
  {
   "cell_type": "code",
   "execution_count": 15,
   "id": "b643c6ec",
   "metadata": {
    "colab": {
     "base_uri": "https://localhost:8080/"
    },
    "id": "b643c6ec",
    "outputId": "f814d35d-c7d9-44b5-9428-f2377b96ec6b"
   },
   "outputs": [
    {
     "name": "stdout",
     "output_type": "stream",
     "text": [
      "Starting computing predictions ...\n",
      "Done!\n"
     ]
    }
   ],
   "source": [
    "test_predictions_a = bert_model_a.get_predictions(bert_model_a.get_test_dataloader(16))"
   ]
  },
  {
   "cell_type": "code",
   "execution_count": 16,
   "id": "b382dc1f",
   "metadata": {
    "colab": {
     "base_uri": "https://localhost:8080/"
    },
    "id": "b382dc1f",
    "outputId": "bf800f3c-3f99-4621-febc-29c2b25b9aa7"
   },
   "outputs": [
    {
     "name": "stdout",
     "output_type": "stream",
     "text": [
      "Before filtering out `null` tokens, length = 165,800\n",
      "After filtering out `null` tokens, length = 21,711\n"
     ]
    }
   ],
   "source": [
    "test_prediction_labels_a = bert_model_a.convert_bert_predictions_to_precited_labels(test_predictions_a, bert_model_a.test_bert_labels)"
   ]
  },
  {
   "cell_type": "code",
   "execution_count": 17,
   "id": "XdMZQwCM21SU",
   "metadata": {
    "colab": {
     "base_uri": "https://localhost:8080/"
    },
    "id": "XdMZQwCM21SU",
    "outputId": "a8004348-8dcd-4ceb-e04b-89ff7b9ee26f"
   },
   "outputs": [
    {
     "name": "stdout",
     "output_type": "stream",
     "text": [
      "submission_test_A.csv successfully written !\n"
     ]
    }
   ],
   "source": [
    "write_to_submission_file('submission_test_A.csv', bert_model_a.test_data['TokenID'], test_prediction_labels_a)\n",
    "print('submission_test_A.csv successfully written !')"
   ]
  },
  {
   "cell_type": "markdown",
   "id": "087ede20",
   "metadata": {
    "id": "087ede20"
   },
   "source": [
    "# 9. Sous-tâche B : Identification des mots-clés et de leurs types (20%)"
   ]
  },
  {
   "cell_type": "markdown",
   "id": "16f18531",
   "metadata": {
    "id": "16f18531"
   },
   "source": [
    "## 9.1. Extraction d'information\n",
    "En partant des fichiers csv de l’ensemble d’entrainement (train) et de validation (val), générez un fichier train_B_bilou.csv et val_B_bilou.csv de format de type BILOU en complétant la colonne tag des fichiers train.csv et val.csv: \n",
    "\n",
    "    B :’Beginning’ :  Premier jeton d’une entité composée de multiples jetons\n",
    "    I : ‘Inside’ : Jeton interne d’une entité composée de multiples jetons\n",
    "    L : ‘Last’ : Dernier jeton d’une entité composée de multiples jetons\n",
    "    O : ‘Outside’: Un jeton qui ne représente pas une entité \n",
    "    U : ‘Unit’ : Une entité composée d’un seul jeton\n",
    "\n",
    "Ici, entité réfère aux mots-clés que vous devez identifier.\n",
    "Dans ce cas, il vous faudra créer une annotation B_P, B_M, B_T pour indiquer le début (Beginning) d’un type Process, Material et Task, et ainsi de suite pour les autres tags I, L et U. Les jetons sans types et qui ne représentent pas de mot-clé auront le tag O.\n",
    "\n"
   ]
  },
  {
   "cell_type": "code",
   "execution_count": null,
   "id": "a6103dcf",
   "metadata": {
    "id": "a6103dcf",
    "outputId": "d23c8881-f140-46bf-bd39-7b23e4dc9470"
   },
   "outputs": [
    {
     "name": "stdout",
     "output_type": "stream",
     "text": [
      "Strating to fill in the  train  dataframe with the right tags...\n",
      "20 documents have been processed...\n",
      "40 documents have been processed...\n",
      "60 documents have been processed...\n",
      "80 documents have been processed...\n",
      "100 documents have been processed...\n",
      "120 documents have been processed...\n",
      "140 documents have been processed...\n",
      "160 documents have been processed...\n",
      "180 documents have been processed...\n",
      "200 documents have been processed...\n",
      "220 documents have been processed...\n",
      "240 documents have been processed...\n",
      "260 documents have been processed...\n",
      "280 documents have been processed...\n",
      "300 documents have been processed...\n",
      "320 documents have been processed...\n",
      "340 documents have been processed...\n",
      "Done!\n"
     ]
    }
   ],
   "source": [
    "# Add the tags BILOU-B to the training dataset\n",
    "train_data_b = complete_BILOU(train_csv, True, 'train', PATH)\n",
    "train_data_b.to_csv('train_B_bilou.csv', index=False)"
   ]
  },
  {
   "cell_type": "code",
   "execution_count": null,
   "id": "0366b855",
   "metadata": {
    "id": "0366b855",
    "outputId": "c7bbe49a-bce1-4891-c903-e09f56481838"
   },
   "outputs": [
    {
     "name": "stdout",
     "output_type": "stream",
     "text": [
      "Strating to fill in the  dev  dataframe with the right tags...\n",
      "20 documents have been processed...\n",
      "40 documents have been processed...\n",
      "Done!\n"
     ]
    }
   ],
   "source": [
    "# Add the tags BILOU-B to the validation dataset\n",
    "val_data_b = complete_BILOU(val_csv, True, 'dev', PATH)\n",
    "val_data_b.to_csv('val_B_bilou.csv', index=False)"
   ]
  },
  {
   "cell_type": "markdown",
   "id": "ea563a56",
   "metadata": {
    "id": "ea563a56"
   },
   "source": [
    "# 9.2. Présentation des modèls\n",
    "Dans la sous-tâche B, vous devez implémenter un modèle pour prédire les types O, M, P, T pour les jetons qui sont en dehors d’un mot-clé (Outside), ou qui font partie d’un type Material, Process ou Task (les types à annoter). \n",
    "- Votre modèle doit retourner les tags pour l’ensemble de validation et de test en suivant le format indiqué dans sample_submission.csv\n",
    "- Vous utiliserez le fichier val_B_bilou.csv pour déterminer vos hyper-paramètres optimaux, et effectuer une évaluation de votre modèle. "
   ]
  },
  {
   "cell_type": "markdown",
   "id": "3f634773",
   "metadata": {
    "id": "3f634773"
   },
   "source": [
    "### 9.2.1. Préparation communes des données pour les modèles HMM et Bi-LSTM"
   ]
  },
  {
   "cell_type": "code",
   "execution_count": 17,
   "id": "ae429883",
   "metadata": {
    "id": "ae429883"
   },
   "outputs": [],
   "source": [
    "# Load training and evaluationd dataset with tags\n",
    "train_B_bilou = pd.read_csv(\"train_B_bilou.csv\")\n",
    "val_B_bilou = pd.read_csv(\"val_B_bilou.csv\")"
   ]
  },
  {
   "cell_type": "code",
   "execution_count": 18,
   "id": "8154827d",
   "metadata": {
    "id": "8154827d"
   },
   "outputs": [],
   "source": [
    "# Define tag index with/without padding index\n",
    "tag_index_B = {\"B-M\":0, \"B-P\":1, \"B-T\":2, \"I-M\":3, \"I-P\":4, \"I-T\":5, \"L-M\":6,\n",
    " \"L-P\":7, \"L-T\":8, \"O\":9, \"U-M\":10, \"U-P\":11, \"U-T\":12}\n",
    "tag_index_pad_B = {\"-PAD-\":0, \"B-M\":1, \"B-P\":2, \"B-T\":3, \"I-M\":4, \"I-P\":5, \"I-T\":6, \"L-M\":7,\n",
    " \"L-P\":8, \"L-T\":9, \"O\":10, \"U-M\":11, \"U-P\":12, \"U-T\":13}\n",
    "reverse_tag_index_B = {v: k for k, v in tag_index_B.items()}\n",
    "reverse_tag_index_pad_B = {v: k for k, v in tag_index_pad_B.items()}"
   ]
  },
  {
   "cell_type": "markdown",
   "id": "e5231291",
   "metadata": {
    "id": "e5231291"
   },
   "source": [
    "### 9.2.2. Hidden Markov Model"
   ]
  },
  {
   "cell_type": "code",
   "execution_count": 19,
   "id": "6fca9eac",
   "metadata": {
    "id": "6fca9eac"
   },
   "outputs": [],
   "source": [
    "# Compute initial and transition matrix\n",
    "initial_matrix_B, transition_matrix_B = compute_transition_and_initial_matrix(train_B_bilou, tag_index_B)"
   ]
  },
  {
   "cell_type": "code",
   "execution_count": 20,
   "id": "c27728b0",
   "metadata": {
    "id": "c27728b0"
   },
   "outputs": [],
   "source": [
    "# Compute emission matrix\n",
    "emission_matrix_B = compute_emission_matrix(train_B_bilou, types_dict, tag_index_B)"
   ]
  },
  {
   "cell_type": "code",
   "execution_count": 21,
   "id": "cd13df2f",
   "metadata": {
    "id": "cd13df2f"
   },
   "outputs": [],
   "source": [
    "# Creation of the distributions\n",
    "tfd_B, initial_distribution_B, transition_distribution_B, observation_distribution_B = create_distributions(initial_matrix_B, \n",
    "                                                                                                          transition_matrix_B, \n",
    "                                                                                                          emission_matrix_B)"
   ]
  },
  {
   "cell_type": "code",
   "execution_count": 22,
   "id": "82d4b6be",
   "metadata": {
    "id": "82d4b6be"
   },
   "outputs": [],
   "source": [
    "# Predictions\n",
    "output_hmm_model_B = get_output_hmm_model(tfd_B,\n",
    "                                          initial_distribution_B, \n",
    "                                          transition_distribution_B, \n",
    "                                          observation_distribution_B, \n",
    "                                          val_sentences_ids_unpad, \n",
    "                                          reverse_tag_index_B)"
   ]
  },
  {
   "cell_type": "markdown",
   "id": "4fd7c12c",
   "metadata": {
    "id": "4fd7c12c"
   },
   "source": [
    "### 9.2.3. Bi-LSTM model"
   ]
  },
  {
   "cell_type": "code",
   "execution_count": 26,
   "id": "ad9b30e8",
   "metadata": {
    "id": "ad9b30e8"
   },
   "outputs": [],
   "source": [
    "# Definition of training phrases/tags with their indexed equivalents\n",
    "train_tags_B = [list(train_B_bilou[train_B_bilou[\"DocID\"]==doc_id][\"Tag\"]) for doc_id in train_doc_ids]\n",
    "train_tags_ids_B = [[tag_index_pad_B[tag] for tag in tags] for tags in train_tags_B]"
   ]
  },
  {
   "cell_type": "code",
   "execution_count": 27,
   "id": "052d3d8e",
   "metadata": {
    "id": "052d3d8e"
   },
   "outputs": [],
   "source": [
    "# Definition of evaluation phrases/tags with their indexed equivalents\n",
    "val_tags_B = [list(val_B_bilou[val_B_bilou[\"DocID\"]==doc_id][\"Tag\"]) for doc_id in val_doc_ids]\n",
    "val_tags_ids_B = [[tag_index_pad_B[tag] for tag in tags] for tags in val_tags_B]"
   ]
  },
  {
   "cell_type": "code",
   "execution_count": 29,
   "id": "0fc86ea4",
   "metadata": {
    "id": "0fc86ea4"
   },
   "outputs": [],
   "source": [
    "# Padding on th MAX_LENGTH value\n",
    "# the tag -PAD- is associated to each word when the sentence is finished\n",
    "train_tags_pad_B = pad_sequences(train_tags_ids_B, maxlen=MAX_LENGTH, padding='post')\n",
    "val_tags_pad_B = pad_sequences(val_tags_ids_B, maxlen=MAX_LENGTH, padding='post')"
   ]
  },
  {
   "cell_type": "code",
   "execution_count": 30,
   "id": "67ec3c6f",
   "metadata": {
    "colab": {
     "base_uri": "https://localhost:8080/"
    },
    "id": "67ec3c6f",
    "outputId": "d1b132f7-1c59-4992-ac8d-9951ce204df6"
   },
   "outputs": [
    {
     "name": "stdout",
     "output_type": "stream",
     "text": [
      "Model: \"sequential_1\"\n",
      "_________________________________________________________________\n",
      " Layer (type)                Output Shape              Param #   \n",
      "=================================================================\n",
      " embedding_1 (Embedding)     (None, 388, 128)          1174656   \n",
      "                                                                 \n",
      " dropout_1 (Dropout)         (None, 388, 128)          0         \n",
      "                                                                 \n",
      " bidirectional_1 (Bidirectio  (None, 388, 512)         788480    \n",
      " nal)                                                            \n",
      "                                                                 \n",
      " time_distributed_1 (TimeDis  (None, 388, 14)          7182      \n",
      " tributed)                                                       \n",
      "                                                                 \n",
      " activation_1 (Activation)   (None, 388, 14)           0         \n",
      "                                                                 \n",
      "=================================================================\n",
      "Total params: 1,970,318\n",
      "Trainable params: 1,970,318\n",
      "Non-trainable params: 0\n",
      "_________________________________________________________________\n"
     ]
    }
   ],
   "source": [
    "# Creation of the Bi-LSTM model for subtask B\n",
    "bi_lstm_B, early_stopping_callback, model_checkpoint_callback = create_bi_lstm_model(MAX_LENGTH, \n",
    "                                                                                     types_dict_pad, \n",
    "                                                                                     tag_index_pad_B)"
   ]
  },
  {
   "cell_type": "code",
   "execution_count": 31,
   "id": "81bac024",
   "metadata": {
    "colab": {
     "base_uri": "https://localhost:8080/"
    },
    "id": "81bac024",
    "outputId": "040672b8-8092-4ec5-8151-23dfbe3824fd"
   },
   "outputs": [
    {
     "name": "stdout",
     "output_type": "stream",
     "text": [
      "Epoch 1/40\n",
      "3/3 [==============================] - 1s 220ms/step - loss: 1.2303 - accuracy: 0.2295 - ignore_accuracy: 0.5066 - val_loss: 1.4221 - val_accuracy: 0.4356 - val_ignore_accuracy: 0.7572\n",
      "Epoch 2/40\n",
      "3/3 [==============================] - 1s 202ms/step - loss: 1.0238 - accuracy: 0.3428 - ignore_accuracy: 0.7262 - val_loss: 0.9036 - val_accuracy: 0.4356 - val_ignore_accuracy: 0.7572\n",
      "Epoch 3/40\n",
      "3/3 [==============================] - 1s 199ms/step - loss: 0.7628 - accuracy: 0.3428 - ignore_accuracy: 0.7256 - val_loss: 0.6678 - val_accuracy: 0.4356 - val_ignore_accuracy: 0.7572\n",
      "Epoch 4/40\n",
      "3/3 [==============================] - 0s 165ms/step - loss: 0.6128 - accuracy: 0.3428 - ignore_accuracy: 0.7257 - val_loss: 0.7290 - val_accuracy: 0.4356 - val_ignore_accuracy: 0.7572\n",
      "Epoch 5/40\n",
      "3/3 [==============================] - 1s 196ms/step - loss: 0.6119 - accuracy: 0.3428 - ignore_accuracy: 0.7243 - val_loss: 0.6591 - val_accuracy: 0.4356 - val_ignore_accuracy: 0.7572\n",
      "Epoch 6/40\n",
      "3/3 [==============================] - 1s 199ms/step - loss: 0.5774 - accuracy: 0.3428 - ignore_accuracy: 0.7254 - val_loss: 0.6513 - val_accuracy: 0.4356 - val_ignore_accuracy: 0.7572\n",
      "Epoch 7/40\n",
      "3/3 [==============================] - 0s 162ms/step - loss: 0.5834 - accuracy: 0.3428 - ignore_accuracy: 0.7242 - val_loss: 0.6513 - val_accuracy: 0.4356 - val_ignore_accuracy: 0.7572\n",
      "Epoch 8/40\n",
      "3/3 [==============================] - 1s 202ms/step - loss: 0.5780 - accuracy: 0.3428 - ignore_accuracy: 0.7249 - val_loss: 0.6472 - val_accuracy: 0.4356 - val_ignore_accuracy: 0.7572\n",
      "Epoch 9/40\n",
      "3/3 [==============================] - 0s 165ms/step - loss: 0.5715 - accuracy: 0.3428 - ignore_accuracy: 0.7252 - val_loss: 0.6526 - val_accuracy: 0.4356 - val_ignore_accuracy: 0.7572\n",
      "Epoch 10/40\n",
      "3/3 [==============================] - 0s 170ms/step - loss: 0.5719 - accuracy: 0.3428 - ignore_accuracy: 0.7254 - val_loss: 0.6490 - val_accuracy: 0.4356 - val_ignore_accuracy: 0.7572\n",
      "Epoch 11/40\n",
      "3/3 [==============================] - 1s 201ms/step - loss: 0.5677 - accuracy: 0.3428 - ignore_accuracy: 0.7263 - val_loss: 0.6387 - val_accuracy: 0.4356 - val_ignore_accuracy: 0.7572\n",
      "Epoch 12/40\n",
      "3/3 [==============================] - 1s 196ms/step - loss: 0.5641 - accuracy: 0.3428 - ignore_accuracy: 0.7243 - val_loss: 0.6334 - val_accuracy: 0.4356 - val_ignore_accuracy: 0.7572\n",
      "Epoch 13/40\n",
      "3/3 [==============================] - 1s 194ms/step - loss: 0.5623 - accuracy: 0.3428 - ignore_accuracy: 0.7262 - val_loss: 0.6309 - val_accuracy: 0.4356 - val_ignore_accuracy: 0.7572\n",
      "Epoch 14/40\n",
      "3/3 [==============================] - 1s 204ms/step - loss: 0.5590 - accuracy: 0.3428 - ignore_accuracy: 0.7237 - val_loss: 0.6287 - val_accuracy: 0.4356 - val_ignore_accuracy: 0.7572\n",
      "Epoch 15/40\n",
      "3/3 [==============================] - 1s 201ms/step - loss: 0.5544 - accuracy: 0.3428 - ignore_accuracy: 0.7248 - val_loss: 0.6281 - val_accuracy: 0.4356 - val_ignore_accuracy: 0.7572\n",
      "Epoch 16/40\n",
      "3/3 [==============================] - 1s 200ms/step - loss: 0.5502 - accuracy: 0.3428 - ignore_accuracy: 0.7250 - val_loss: 0.6253 - val_accuracy: 0.4356 - val_ignore_accuracy: 0.7572\n",
      "Epoch 17/40\n",
      "3/3 [==============================] - 1s 195ms/step - loss: 0.5450 - accuracy: 0.3428 - ignore_accuracy: 0.7253 - val_loss: 0.6188 - val_accuracy: 0.4356 - val_ignore_accuracy: 0.7572\n",
      "Epoch 18/40\n",
      "3/3 [==============================] - 1s 200ms/step - loss: 0.5384 - accuracy: 0.3428 - ignore_accuracy: 0.7263 - val_loss: 0.6119 - val_accuracy: 0.4356 - val_ignore_accuracy: 0.7572\n",
      "Epoch 19/40\n",
      "3/3 [==============================] - 1s 196ms/step - loss: 0.5317 - accuracy: 0.3428 - ignore_accuracy: 0.7253 - val_loss: 0.6051 - val_accuracy: 0.4356 - val_ignore_accuracy: 0.7572\n",
      "Epoch 20/40\n",
      "3/3 [==============================] - 1s 199ms/step - loss: 0.5238 - accuracy: 0.3428 - ignore_accuracy: 0.7253 - val_loss: 0.5984 - val_accuracy: 0.4356 - val_ignore_accuracy: 0.7572\n",
      "Epoch 21/40\n",
      "3/3 [==============================] - 1s 197ms/step - loss: 0.5147 - accuracy: 0.3428 - ignore_accuracy: 0.7245 - val_loss: 0.5913 - val_accuracy: 0.4356 - val_ignore_accuracy: 0.7572\n",
      "Epoch 22/40\n",
      "3/3 [==============================] - 1s 203ms/step - loss: 0.5050 - accuracy: 0.3428 - ignore_accuracy: 0.7266 - val_loss: 0.5831 - val_accuracy: 0.4356 - val_ignore_accuracy: 0.7572\n",
      "Epoch 23/40\n",
      "3/3 [==============================] - 1s 209ms/step - loss: 0.4946 - accuracy: 0.3428 - ignore_accuracy: 0.7262 - val_loss: 0.5741 - val_accuracy: 0.4356 - val_ignore_accuracy: 0.7572\n",
      "Epoch 24/40\n",
      "3/3 [==============================] - 1s 197ms/step - loss: 0.4840 - accuracy: 0.3428 - ignore_accuracy: 0.7246 - val_loss: 0.5663 - val_accuracy: 0.4356 - val_ignore_accuracy: 0.7572\n",
      "Epoch 25/40\n",
      "3/3 [==============================] - 1s 198ms/step - loss: 0.4730 - accuracy: 0.3430 - ignore_accuracy: 0.7247 - val_loss: 0.5590 - val_accuracy: 0.4357 - val_ignore_accuracy: 0.7574\n",
      "Epoch 26/40\n",
      "3/3 [==============================] - 1s 201ms/step - loss: 0.4621 - accuracy: 0.3438 - ignore_accuracy: 0.7268 - val_loss: 0.5515 - val_accuracy: 0.4361 - val_ignore_accuracy: 0.7581\n",
      "Epoch 27/40\n",
      "3/3 [==============================] - 1s 204ms/step - loss: 0.4510 - accuracy: 0.3448 - ignore_accuracy: 0.7297 - val_loss: 0.5435 - val_accuracy: 0.4363 - val_ignore_accuracy: 0.7584\n",
      "Epoch 28/40\n",
      "3/3 [==============================] - 1s 197ms/step - loss: 0.4395 - accuracy: 0.3458 - ignore_accuracy: 0.7304 - val_loss: 0.5364 - val_accuracy: 0.4362 - val_ignore_accuracy: 0.7583\n",
      "Epoch 29/40\n",
      "3/3 [==============================] - 1s 191ms/step - loss: 0.4287 - accuracy: 0.3474 - ignore_accuracy: 0.7343 - val_loss: 0.5301 - val_accuracy: 0.4359 - val_ignore_accuracy: 0.7576\n",
      "Epoch 30/40\n",
      "3/3 [==============================] - 1s 201ms/step - loss: 0.4177 - accuracy: 0.3490 - ignore_accuracy: 0.7398 - val_loss: 0.5254 - val_accuracy: 0.4356 - val_ignore_accuracy: 0.7572\n",
      "Epoch 31/40\n",
      "3/3 [==============================] - 1s 193ms/step - loss: 0.4075 - accuracy: 0.3509 - ignore_accuracy: 0.7425 - val_loss: 0.5212 - val_accuracy: 0.4354 - val_ignore_accuracy: 0.7568\n",
      "Epoch 32/40\n",
      "3/3 [==============================] - 0s 167ms/step - loss: 0.3977 - accuracy: 0.3537 - ignore_accuracy: 0.7488 - val_loss: 0.5219 - val_accuracy: 0.4354 - val_ignore_accuracy: 0.7568\n",
      "Epoch 33/40\n",
      "3/3 [==============================] - 1s 199ms/step - loss: 0.3885 - accuracy: 0.3563 - ignore_accuracy: 0.7543 - val_loss: 0.5192 - val_accuracy: 0.4348 - val_ignore_accuracy: 0.7558\n",
      "Epoch 34/40\n",
      "3/3 [==============================] - 1s 198ms/step - loss: 0.3781 - accuracy: 0.3582 - ignore_accuracy: 0.7576 - val_loss: 0.5185 - val_accuracy: 0.4354 - val_ignore_accuracy: 0.7568\n",
      "Epoch 35/40\n",
      "3/3 [==============================] - 0s 164ms/step - loss: 0.3689 - accuracy: 0.3607 - ignore_accuracy: 0.7642 - val_loss: 0.5224 - val_accuracy: 0.4348 - val_ignore_accuracy: 0.7558\n",
      "Epoch 36/40\n",
      "3/3 [==============================] - 0s 169ms/step - loss: 0.3606 - accuracy: 0.3615 - ignore_accuracy: 0.7651 - val_loss: 0.5270 - val_accuracy: 0.4356 - val_ignore_accuracy: 0.7572\n",
      "Epoch 37/40\n",
      "3/3 [==============================] - 1s 196ms/step - loss: 0.3542 - accuracy: 0.3634 - ignore_accuracy: 0.7694 - val_loss: 0.5109 - val_accuracy: 0.4351 - val_ignore_accuracy: 0.7562\n",
      "Epoch 38/40\n",
      "3/3 [==============================] - 1s 198ms/step - loss: 0.3430 - accuracy: 0.3656 - ignore_accuracy: 0.7734 - val_loss: 0.5079 - val_accuracy: 0.4326 - val_ignore_accuracy: 0.7520\n",
      "Epoch 39/40\n",
      "3/3 [==============================] - 0s 173ms/step - loss: 0.3338 - accuracy: 0.3684 - ignore_accuracy: 0.7793 - val_loss: 0.5133 - val_accuracy: 0.4363 - val_ignore_accuracy: 0.7584\n",
      "Epoch 40/40\n",
      "3/3 [==============================] - 1s 200ms/step - loss: 0.3238 - accuracy: 0.3699 - ignore_accuracy: 0.7825 - val_loss: 0.5070 - val_accuracy: 0.4330 - val_ignore_accuracy: 0.7526\n"
     ]
    }
   ],
   "source": [
    "# Training the model\n",
    "with tensorflow.device('/device:GPU:0'):\n",
    "    model_history = bi_lstm_B.fit(x=train_sentences_pad, \n",
    "                y=to_categorical(train_tags_pad_B, len(tag_index_pad_B)), \n",
    "                batch_size=128, \n",
    "                epochs=40, \n",
    "                validation_data=(val_sentences_pad, to_categorical(val_tags_pad_B, len(tag_index_pad_B))),\n",
    "                callbacks=[early_stopping_callback,model_checkpoint_callback])"
   ]
  },
  {
   "cell_type": "code",
   "execution_count": 32,
   "id": "9c3acdae",
   "metadata": {
    "colab": {
     "base_uri": "https://localhost:8080/",
     "height": 295
    },
    "id": "9c3acdae",
    "outputId": "1db6a607-ab86-40ab-808a-c465cd2da05b"
   },
   "outputs": [
    {
     "data": {
      "image/png": "[encoded data removed]",
      "text/plain": [
       "<Figure size 432x288 with 1 Axes>"
      ]
     },
     "metadata": {
      "needs_background": "light"
     },
     "output_type": "display_data"
    }
   ],
   "source": [
    "generate_model_history(model_history, 'loss', 'Loss', 'LSTM Loss')"
   ]
  },
  {
   "cell_type": "code",
   "execution_count": 33,
   "id": "8794c9f7",
   "metadata": {
    "id": "8794c9f7"
   },
   "outputs": [],
   "source": [
    "# Predictions for evaluation dataset\n",
    "output_val_bi_lstm_B = get_output_bilstm(bi_lstm_B, val_sentences_pad, reverse_tag_index_pad_B, len_val_sentences)"
   ]
  },
  {
   "cell_type": "code",
   "execution_count": 34,
   "id": "45f53801",
   "metadata": {
    "id": "45f53801"
   },
   "outputs": [],
   "source": [
    "# Predictions for test dataset\n",
    "output_test_bi_lstm_B = get_output_bilstm(bi_lstm_B, test_sentences_pad, reverse_tag_index_pad_B, len_test_sentences)"
   ]
  },
  {
   "cell_type": "markdown",
   "id": "14d40b08",
   "metadata": {
    "id": "14d40b08"
   },
   "source": [
    "### 9.2.4. Modèle BERT"
   ]
  },
  {
   "cell_type": "markdown",
   "id": "defc7e57",
   "metadata": {
    "id": "defc7e57"
   },
   "source": [
    "#### 9.2.4.1. Entrainement"
   ]
  },
  {
   "cell_type": "markdown",
   "id": "q-_JUyHi21SX",
   "metadata": {
    "id": "q-_JUyHi21SX"
   },
   "source": [
    "On commence par l'instanciation d'un objet de la classe `BertModel` en utilisant le nom du modèle BERT à utiliser (dans ce cas `bert-large-cased`)"
   ]
  },
  {
   "cell_type": "code",
   "execution_count": 4,
   "id": "_kSeyY4721SX",
   "metadata": {
    "colab": {
     "base_uri": "https://localhost:8080/",
     "height": 180,
     "referenced_widgets": [
      "3de7ea3d1e2541d58b944ba71b9560bb",
      "aaf9c145d505463fb729191515930f3c",
      "4a794e445a364a48a183ed7d7426c889",
      "aa7db74f87da43629ef47fa4aadbc6d5",
      "1edb5548373a4143a4262eac3fdf4bf4",
      "2136f5cc411c4cf9b2a9d3db1466034f",
      "e8f166945960433e9e50fb97d7b3345f",
      "521ba05e68ec4a9b8c9aee0beca319a9",
      "a7e17739e1d7469f94717ce7ed7dda85",
      "f577ea97e19c4b5fa305d262c2c16cad",
      "c3ca80725c734391a2e9514eb529ed07",
      "619b5908d49e4664b6f1d46847cba869",
      "fd537fc85bbe4c80b9b22af26d0687ba",
      "11d4b33aaf174d378fc601a1035a2ddf",
      "82959ceaa1ba4ac8af0dbb7d14cfb768",
      "3acb5b86c2754bc896c63f2ebf3cf5e5",
      "0a42445853404f1ab7ca4c3b46ff9138",
      "122a8f46f329470cae9abdaa3aa007d2",
      "1d23025e8c1b45b9b94dcff6d519a387",
      "b20ae0b56b3f455fadfd174a394ab116",
      "aad55f331f684178a6c126303dfc9d19",
      "31e46de84d4743f0ae3c5257db20d641",
      "c5d745cd255c4340b853fc3e70ee381c",
      "f22a973d9aa34614a55288b22e1515fa",
      "627c05824f2f4ce2bdc5e77e0168275c",
      "7e282769168e41f1a079a9d86330534f",
      "2c30cbf7df0248429df146291b55130d",
      "d5f8bb9fd331425d9c19263c2b8ca9e3",
      "abc89570c9704d0088bc60f0174c446e",
      "032b1226328146e69a5feb0561e78618",
      "a3d258fed61a48448d4e45f1a8a5edf3",
      "1b7c574522e04294a5715277ff3c386b",
      "0210420140bf4d948cd1d08d57587194",
      "01b804bc882d4b6cb3cb9ef5f95a2382",
      "0b14f0cf33ba446295c7fee68525fade",
      "3d738249a4b54e43a1ec28754274307d",
      "ba0bf2a1d85e43f58132f090cd4d23cf",
      "4d24bbddd8494fc4b387ea41bc259438",
      "15edbef3d00f4e09b5b91a5b521dc57f",
      "4bfa01e5d8cf42dbaec5668f28271201",
      "a51b794087b24b1d8cf5c4ae15c9f21b",
      "4a790cd8317844b38fa478fbf53a5119",
      "1a886ec7806e43d29b37c92ba0899fcd",
      "87c76eb1c74c48db98bc1a19fa0b57e7"
     ]
    },
    "id": "_kSeyY4721SX",
    "outputId": "1d2449d3-e348-4b1f-8a7d-84cc438f87d8"
   },
   "outputs": [
    {
     "name": "stdout",
     "output_type": "stream",
     "text": [
      "There are 1 GPU(s) available.\n",
      "We will use the GPU: Tesla P100-PCIE-16GB\n"
     ]
    },
    {
     "data": {
      "application/vnd.jupyter.widget-view+json": {
       "model_id": "3de7ea3d1e2541d58b944ba71b9560bb",
       "version_major": 2,
       "version_minor": 0
      },
      "text/plain": [
       "Downloading:   0%|          | 0.00/208k [00:00<?, ?B/s]"
      ]
     },
     "metadata": {},
     "output_type": "display_data"
    },
    {
     "data": {
      "application/vnd.jupyter.widget-view+json": {
       "model_id": "619b5908d49e4664b6f1d46847cba869",
       "version_major": 2,
       "version_minor": 0
      },
      "text/plain": [
       "Downloading:   0%|          | 0.00/29.0 [00:00<?, ?B/s]"
      ]
     },
     "metadata": {},
     "output_type": "display_data"
    },
    {
     "data": {
      "application/vnd.jupyter.widget-view+json": {
       "model_id": "c5d745cd255c4340b853fc3e70ee381c",
       "version_major": 2,
       "version_minor": 0
      },
      "text/plain": [
       "Downloading:   0%|          | 0.00/426k [00:00<?, ?B/s]"
      ]
     },
     "metadata": {},
     "output_type": "display_data"
    },
    {
     "data": {
      "application/vnd.jupyter.widget-view+json": {
       "model_id": "01b804bc882d4b6cb3cb9ef5f95a2382",
       "version_major": 2,
       "version_minor": 0
      },
      "text/plain": [
       "Downloading:   0%|          | 0.00/570 [00:00<?, ?B/s]"
      ]
     },
     "metadata": {},
     "output_type": "display_data"
    }
   ],
   "source": [
    "bert_model_b = BertModel('bert-base-cased')"
   ]
  },
  {
   "cell_type": "markdown",
   "id": "CSr-e9F921SX",
   "metadata": {
    "id": "CSr-e9F921SX"
   },
   "source": [
    "Avant d'initialiser les paramètres du modèle, on fait une préparation des données. Cette partie inclue:\n",
    "* Téléchargement des données `train_A_bilou.csv` dans un dataframe\n",
    "* Analyse des données pour trouver la longueur maximale des phrases\n",
    "* Conversion des `tokens` en `input ids` selon `BertTokenizer`\n",
    "* Ajout des labels null pour les `tokens` supplémentaire ajoutés par BERT"
   ]
  },
  {
   "cell_type": "code",
   "execution_count": 5,
   "id": "UuMEcWJl21SX",
   "metadata": {
    "colab": {
     "base_uri": "https://localhost:8080/"
    },
    "id": "UuMEcWJl21SX",
    "outputId": "f2e116ca-7dd1-4b35-878a-97ade6aab787"
   },
   "outputs": [
    {
     "name": "stdout",
     "output_type": "stream",
     "text": [
      "Calculating the lengths of sentences according to BERT ...\n",
      "   Min length: 3 tokens\n",
      "   Max length: 191 tokens\n",
      "Median length: 32 tokens\n",
      "Done!\n"
     ]
    }
   ],
   "source": [
    "bert_model_b.load_train_data('train_B_bilou.csv')\n",
    "bert_model_b.analyze_train_sentences_lengths()"
   ]
  },
  {
   "cell_type": "code",
   "execution_count": 6,
   "id": "CtPoqk2s21SX",
   "metadata": {
    "colab": {
     "base_uri": "https://localhost:8080/",
     "height": 225,
     "referenced_widgets": [
      "1cca98187f704cbdaec48a295d40401a",
      "5c1cdd4a2d694f03a829b9918aced9bc",
      "d2e4a08432a94586999ce3a40e16311a",
      "8424e9f430304bc3bc2a1621a23d171c",
      "8f8c07096f52481eb6316f6a27d4a9ff",
      "dfae6083d5174cb2a362fc7d0cd0db95",
      "55ede9cf79f045369a204b9ff18419c5",
      "d41d10ef8b994974852b03ce11e98bc5",
      "797b887938324f52a23210f63de5701d",
      "3cdf55348ea94670a80db3189a184a17",
      "38171ffae23a40ffa7293edc29fe3b42"
     ]
    },
    "id": "CtPoqk2s21SX",
    "outputId": "f0cd2ec2-f329-44ca-c974-d24ea0b76751"
   },
   "outputs": [
    {
     "name": "stdout",
     "output_type": "stream",
     "text": [
      "Generating input ids for all the tokens according to BERT ...\n"
     ]
    },
    {
     "name": "stderr",
     "output_type": "stream",
     "text": [
      "/usr/local/lib/python3.7/dist-packages/transformers/tokenization_utils_base.py:2218: FutureWarning: The `pad_to_max_length` argument is deprecated and will be removed in a future version, use `padding=True` or `padding='longest'` to pad to the longest sequence in the batch, or use `padding='max_length'` to pad to a max length. In this case, you can give a specific length with `max_length` (e.g. `max_length=45`) or leave max_length to None to pad to the maximal input size of the model (e.g. 512 for Bert).\n",
      "  FutureWarning,\n"
     ]
    },
    {
     "name": "stdout",
     "output_type": "stream",
     "text": [
      "Done!\n"
     ]
    },
    {
     "data": {
      "application/vnd.jupyter.widget-view+json": {
       "model_id": "1cca98187f704cbdaec48a295d40401a",
       "version_major": 2,
       "version_minor": 0
      },
      "text/plain": [
       "Downloading:   0%|          | 0.00/416M [00:00<?, ?B/s]"
      ]
     },
     "metadata": {},
     "output_type": "display_data"
    },
    {
     "name": "stderr",
     "output_type": "stream",
     "text": [
      "Some weights of the model checkpoint at bert-base-cased were not used when initializing BertForTokenClassification: ['cls.seq_relationship.bias', 'cls.predictions.transform.LayerNorm.weight', 'cls.predictions.decoder.weight', 'cls.predictions.bias', 'cls.predictions.transform.LayerNorm.bias', 'cls.predictions.transform.dense.bias', 'cls.seq_relationship.weight', 'cls.predictions.transform.dense.weight']\n",
      "- This IS expected if you are initializing BertForTokenClassification from the checkpoint of a model trained on another task or with another architecture (e.g. initializing a BertForSequenceClassification model from a BertForPreTraining model).\n",
      "- This IS NOT expected if you are initializing BertForTokenClassification from the checkpoint of a model that you expect to be exactly identical (initializing a BertForSequenceClassification model from a BertForSequenceClassification model).\n",
      "Some weights of BertForTokenClassification were not initialized from the model checkpoint at bert-base-cased and are newly initialized: ['classifier.weight', 'classifier.bias']\n",
      "You should probably TRAIN this model on a down-stream task to be able to use it for predictions and inference.\n"
     ]
    }
   ],
   "source": [
    "bert_model_b.labels_map = {'B-T':0, 'I-T':1, 'L-T':2, 'U-T':3, 'B-P':4, 'I-P':5, 'L-P':6, 'U-P':7, 'B-M':8, 'I-M':9, 'L-M':10, 'U-M':11, 'O':12}\n",
    "bert_model_b.reversed_labels_map = {0: 'B-T', 1: 'I-T', 2: 'L-T', 3: 'U-T', 4: 'B-P', 5: 'I-P', 6: 'L-P', 7: 'U-P', 8: 'B-M', 9: 'I-M', 10: 'L-M', 11: 'U-M', 12: 'O'}\n",
    "bert_model_b.prepare_train_data(200)\n",
    "train_dataset_b = bert_model_b.get_train_tensor_dataset()\n",
    "bert_model_b.init_model(16, train_dataset_b)"
   ]
  },
  {
   "cell_type": "markdown",
   "id": "PZLArdHF21SX",
   "metadata": {
    "id": "PZLArdHF21SX"
   },
   "source": [
    "Une fois, les données sont prêtes, on procède avec l'entrainement du modèle"
   ]
  },
  {
   "cell_type": "code",
   "execution_count": 7,
   "id": "AY5vBcVF21SX",
   "metadata": {
    "colab": {
     "base_uri": "https://localhost:8080/"
    },
    "id": "AY5vBcVF21SX",
    "outputId": "5f1c97e1-3f99-47d4-985f-0d0a903b431e"
   },
   "outputs": [
    {
     "name": "stdout",
     "output_type": "stream",
     "text": [
      "\n",
      "======== Epoch 1 / 4 ========\n",
      "Training...\n",
      "  Batch    40  of    152.    Elapsed: 0:00:13.\n",
      "  Batch    80  of    152.    Elapsed: 0:00:26.\n",
      "  Batch   120  of    152.    Elapsed: 0:00:40.\n",
      "\n",
      "  Average training loss: 0.82\n",
      "  Training epcoh took: 0:00:50\n",
      "\n",
      "======== Epoch 2 / 4 ========\n",
      "Training...\n",
      "  Batch    40  of    152.    Elapsed: 0:00:13.\n",
      "  Batch    80  of    152.    Elapsed: 0:00:26.\n",
      "  Batch   120  of    152.    Elapsed: 0:00:39.\n",
      "\n",
      "  Average training loss: 0.55\n",
      "  Training epcoh took: 0:00:50\n",
      "\n",
      "======== Epoch 3 / 4 ========\n",
      "Training...\n",
      "  Batch    40  of    152.    Elapsed: 0:00:13.\n",
      "  Batch    80  of    152.    Elapsed: 0:00:26.\n",
      "  Batch   120  of    152.    Elapsed: 0:00:39.\n",
      "\n",
      "  Average training loss: 0.41\n",
      "  Training epcoh took: 0:00:50\n",
      "\n",
      "======== Epoch 4 / 4 ========\n",
      "Training...\n",
      "  Batch    40  of    152.    Elapsed: 0:00:13.\n",
      "  Batch    80  of    152.    Elapsed: 0:00:26.\n",
      "  Batch   120  of    152.    Elapsed: 0:00:39.\n",
      "\n",
      "  Average training loss: 0.30\n",
      "  Training epcoh took: 0:00:50\n",
      "\n",
      "Training complete!\n"
     ]
    }
   ],
   "source": [
    "loss_values_b = bert_model_b.train_model(4)"
   ]
  },
  {
   "cell_type": "code",
   "execution_count": 8,
   "id": "go2PdSw521SX",
   "metadata": {
    "colab": {
     "base_uri": "https://localhost:8080/",
     "height": 427
    },
    "id": "go2PdSw521SX",
    "outputId": "1c27d09b-9314-4931-af02-5f5234a6f6f5"
   },
   "outputs": [
    {
     "data": {
      "image/png": "[encoded data removed]",
      "text/plain": [
       "<Figure size 864x432 with 1 Axes>"
      ]
     },
     "metadata": {},
     "output_type": "display_data"
    }
   ],
   "source": [
    "print_model_loss_values_plot(loss_values_b)"
   ]
  },
  {
   "cell_type": "markdown",
   "id": "00fdaea9",
   "metadata": {
    "id": "00fdaea9"
   },
   "source": [
    "#### 9.2.4.2. Prédiction sur les données de validation"
   ]
  },
  {
   "cell_type": "markdown",
   "id": "_iKUNGX921SY",
   "metadata": {
    "id": "_iKUNGX921SY"
   },
   "source": [
    "Afin de pouvoir utiliser le modèle pour prédire les tags des tokens de l'ensemble de validation, on passe par une préparation de données qui ressemble à celle qu'on a faite sur l'ensemble d'entrainement."
   ]
  },
  {
   "cell_type": "code",
   "execution_count": 9,
   "id": "DkkVGc9B21SY",
   "metadata": {
    "colab": {
     "base_uri": "https://localhost:8080/"
    },
    "id": "DkkVGc9B21SY",
    "outputId": "92744280-27b8-44ff-bfc6-691e8b8cfca8"
   },
   "outputs": [
    {
     "name": "stdout",
     "output_type": "stream",
     "text": [
      "Generating input ids for all the tokens according to BERT ...\n"
     ]
    },
    {
     "name": "stderr",
     "output_type": "stream",
     "text": [
      "/usr/local/lib/python3.7/dist-packages/transformers/tokenization_utils_base.py:2218: FutureWarning: The `pad_to_max_length` argument is deprecated and will be removed in a future version, use `padding=True` or `padding='longest'` to pad to the longest sequence in the batch, or use `padding='max_length'` to pad to a max length. In this case, you can give a specific length with `max_length` (e.g. `max_length=45`) or leave max_length to None to pad to the maximal input size of the model (e.g. 512 for Bert).\n",
      "  FutureWarning,\n"
     ]
    },
    {
     "name": "stdout",
     "output_type": "stream",
     "text": [
      "Done!\n"
     ]
    }
   ],
   "source": [
    "bert_model_b.load_valid_data('val_B_bilou.csv')\n",
    "bert_model_b.prepare_valid_data(200)"
   ]
  },
  {
   "cell_type": "markdown",
   "id": "GR_ButBv21SY",
   "metadata": {
    "id": "GR_ButBv21SY"
   },
   "source": [
    "Ensuite, on applique le modèle entrainée pour avoir toutes les prédictions."
   ]
  },
  {
   "cell_type": "code",
   "execution_count": 10,
   "id": "mXTTFJx521SY",
   "metadata": {
    "colab": {
     "base_uri": "https://localhost:8080/"
    },
    "id": "mXTTFJx521SY",
    "outputId": "c16ff4de-f173-40ec-b4c1-877b384ad13c"
   },
   "outputs": [
    {
     "name": "stdout",
     "output_type": "stream",
     "text": [
      "Starting computing predictions ...\n",
      "Done!\n"
     ]
    }
   ],
   "source": [
    "valid_predictions_b = bert_model_b.get_predictions(bert_model_b.get_valid_dataloader(16))"
   ]
  },
  {
   "cell_type": "markdown",
   "id": "oe9AsJes21SY",
   "metadata": {
    "id": "oe9AsJes21SY"
   },
   "source": [
    "Enfin, on élimine les prédictions qui correspondent aux labels nuls et puis on convertit les prédictions finales en tags."
   ]
  },
  {
   "cell_type": "code",
   "execution_count": 11,
   "id": "fIq2UEM621SY",
   "metadata": {
    "colab": {
     "base_uri": "https://localhost:8080/"
    },
    "id": "fIq2UEM621SY",
    "outputId": "bcb94c20-3e9c-481a-a7f0-43a0add5f1e9"
   },
   "outputs": [
    {
     "name": "stdout",
     "output_type": "stream",
     "text": [
      "Before filtering out `null` tokens, length = 82,800\n",
      "After filtering out `null` tokens, length = 11,161\n"
     ]
    }
   ],
   "source": [
    "valid_prediction_labels_b = bert_model_b.convert_bert_predictions_to_precited_labels(valid_predictions_b, bert_model_b.valid_bert_labels)"
   ]
  },
  {
   "cell_type": "markdown",
   "id": "c647606a",
   "metadata": {
    "id": "c647606a"
   },
   "source": [
    "## 9.3. Évaluation des modèles :\n",
    "Vous devez calculer les métriques de précision, rappel et F1-score de votre modèle sur l’ensemble de validation. Votre fichier val_B_bilou.csv avec la colonne Tag complétée constitue alors votre référence.\n",
    "- Affichez une table comparant les performances de votre modèle pour chaque tag (B, I, L, O, U) ainsi que la performance globale sous forme de moyenne micro.\n",
    "- Générez les réponses de votre modèle sur l’ensemble de validation et stockez-les dans le fichier submission_val_B.csv, sur le modèle du fichier sample_submission.csv\n",
    "- Générez les réponses de votre modèle sur l’ensemble de test et stockez-les dans le fichier submission_test_B.csv sur le modèle du fichier sample_submission.csv\n",
    "- Kaggle : Vous devez soumettre votre fichier de soumission submission_test_B.csv sur Kaggle, où il sera évalué. Ce fichier doit être généré avec votre meilleur modèle au moment de sa soumission pour évaluation sur Kaggle. Notez que vous pourrez faire des soumissions jusqu’à la date de remise et vous comparer aux performances des autres équipes. \n",
    "\n",
    "__Quelques pistes pour débuter les sous-tâches A et B :__ Bi-LSTM avec plongements lexicaux, CRF, BERT, apprentissage profond."
   ]
  },
  {
   "cell_type": "markdown",
   "id": "cb7781af",
   "metadata": {
    "id": "cb7781af"
   },
   "source": [
    "### 9.3.1. Evaluation de l'ensemble des modèles"
   ]
  },
  {
   "cell_type": "code",
   "execution_count": 23,
   "id": "a9b6f217",
   "metadata": {
    "id": "a9b6f217",
    "outputId": "ca57f841-a45d-4d9e-aa4d-704f5221e165"
   },
   "outputs": [
    {
     "name": "stdout",
     "output_type": "stream",
     "text": [
      "Classification report for HMM : \n",
      "               precision    recall  f1-score   support\n",
      "\n",
      "         B-M       0.21      0.05      0.08       928\n",
      "         B-P       0.19      0.24      0.22       254\n",
      "         B-T       0.19      0.17      0.18       137\n",
      "         I-M       0.02      0.06      0.03        53\n",
      "         I-P       0.15      0.23      0.18       260\n",
      "         I-T       0.24      0.32      0.27       317\n",
      "         L-M       0.21      0.34      0.26       149\n",
      "         L-P       0.25      0.33      0.28       252\n",
      "         L-T       0.17      0.16      0.16       118\n",
      "           O       0.84      0.83      0.83      8510\n",
      "         U-M       0.19      0.41      0.26       127\n",
      "         U-P       0.13      0.24      0.17        50\n",
      "         U-T       0.00      0.00      0.00         6\n",
      "\n",
      "    accuracy                           0.68     11161\n",
      "   macro avg       0.21      0.26      0.23     11161\n",
      "weighted avg       0.69      0.68      0.68     11161\n",
      "\n"
     ]
    }
   ],
   "source": [
    "print(\n",
    "    \"Classification report for HMM : \\n\", \n",
    "    classification_report(output_hmm_model_B, list(val_B_bilou[\"Tag\"]))\n",
    ")"
   ]
  },
  {
   "cell_type": "code",
   "execution_count": 35,
   "id": "e2d67116",
   "metadata": {
    "colab": {
     "base_uri": "https://localhost:8080/"
    },
    "id": "e2d67116",
    "outputId": "e6bafdad-54b8-420d-d43f-baa942c8b507"
   },
   "outputs": [
    {
     "name": "stdout",
     "output_type": "stream",
     "text": [
      "Classification report for Bi-LSTM : \n",
      "               precision    recall  f1-score   support\n",
      "\n",
      "         B-M       0.00      0.00      0.00         0\n",
      "         B-P       0.16      0.21      0.18       253\n",
      "         B-T       0.00      0.00      0.00         0\n",
      "         I-M       0.00      0.00      0.00         0\n",
      "         I-P       0.24      0.18      0.21       519\n",
      "         I-T       0.12      0.25      0.16       216\n",
      "         L-M       0.00      0.00      0.00         0\n",
      "         L-P       0.35      0.27      0.31       430\n",
      "         L-T       0.00      0.00      0.00         0\n",
      "           O       0.96      0.83      0.89      9743\n",
      "         U-M       0.00      0.00      0.00         0\n",
      "         U-P       0.00      0.00      0.00         0\n",
      "         U-T       0.00      0.00      0.00         0\n",
      "\n",
      "    accuracy                           0.75     11161\n",
      "   macro avg       0.14      0.13      0.13     11161\n",
      "weighted avg       0.87      0.75      0.80     11161\n",
      "\n"
     ]
    },
    {
     "name": "stderr",
     "output_type": "stream",
     "text": [
      "/usr/local/lib/python3.7/dist-packages/sklearn/metrics/_classification.py:1308: UndefinedMetricWarning: Recall and F-score are ill-defined and being set to 0.0 in labels with no true samples. Use `zero_division` parameter to control this behavior.\n",
      "  _warn_prf(average, modifier, msg_start, len(result))\n",
      "/usr/local/lib/python3.7/dist-packages/sklearn/metrics/_classification.py:1308: UndefinedMetricWarning: Recall and F-score are ill-defined and being set to 0.0 in labels with no true samples. Use `zero_division` parameter to control this behavior.\n",
      "  _warn_prf(average, modifier, msg_start, len(result))\n",
      "/usr/local/lib/python3.7/dist-packages/sklearn/metrics/_classification.py:1308: UndefinedMetricWarning: Recall and F-score are ill-defined and being set to 0.0 in labels with no true samples. Use `zero_division` parameter to control this behavior.\n",
      "  _warn_prf(average, modifier, msg_start, len(result))\n"
     ]
    }
   ],
   "source": [
    "print(\n",
    "    \"Classification report for Bi-LSTM : \\n\", \n",
    "    classification_report(output_val_bi_lstm_B, list(val_B_bilou[\"Tag\"]))\n",
    ")"
   ]
  },
  {
   "cell_type": "code",
   "execution_count": 12,
   "id": "PGqQfF2D21SZ",
   "metadata": {
    "colab": {
     "base_uri": "https://localhost:8080/"
    },
    "id": "PGqQfF2D21SZ",
    "outputId": "c5b0b64d-e43d-42d5-c4a8-08c01fe63e30"
   },
   "outputs": [
    {
     "name": "stdout",
     "output_type": "stream",
     "text": [
      "Classification report for BERT : \n",
      "               precision    recall  f1-score   support\n",
      "\n",
      "         B-M       0.63      0.70      0.66       232\n",
      "         B-P       0.50      0.61      0.55       322\n",
      "         B-T       0.35      0.43      0.38       122\n",
      "         I-M       0.55      0.66      0.60       144\n",
      "         I-P       0.39      0.47      0.43       392\n",
      "         I-T       0.45      0.44      0.44       429\n",
      "         L-M       0.67      0.80      0.73       240\n",
      "         L-P       0.56      0.66      0.60       338\n",
      "         L-T       0.39      0.38      0.38       114\n",
      "           O       0.94      0.91      0.93      8451\n",
      "         U-M       0.77      0.67      0.71       277\n",
      "         U-P       0.54      0.49      0.51        91\n",
      "         U-T       0.00      0.00      0.00         9\n",
      "\n",
      "    accuracy                           0.83     11161\n",
      "   macro avg       0.52      0.55      0.53     11161\n",
      "weighted avg       0.84      0.83      0.83     11161\n",
      "\n"
     ]
    },
    {
     "name": "stderr",
     "output_type": "stream",
     "text": [
      "/usr/local/lib/python3.7/dist-packages/sklearn/metrics/_classification.py:1308: UndefinedMetricWarning: Precision and F-score are ill-defined and being set to 0.0 in labels with no predicted samples. Use `zero_division` parameter to control this behavior.\n",
      "  _warn_prf(average, modifier, msg_start, len(result))\n",
      "/usr/local/lib/python3.7/dist-packages/sklearn/metrics/_classification.py:1308: UndefinedMetricWarning: Precision and F-score are ill-defined and being set to 0.0 in labels with no predicted samples. Use `zero_division` parameter to control this behavior.\n",
      "  _warn_prf(average, modifier, msg_start, len(result))\n",
      "/usr/local/lib/python3.7/dist-packages/sklearn/metrics/_classification.py:1308: UndefinedMetricWarning: Precision and F-score are ill-defined and being set to 0.0 in labels with no predicted samples. Use `zero_division` parameter to control this behavior.\n",
      "  _warn_prf(average, modifier, msg_start, len(result))\n"
     ]
    }
   ],
   "source": [
    "print(\n",
    "    \"Classification report for BERT : \\n\", \n",
    "    classification_report(np.concatenate(bert_model_b.valid_labels, axis=0), valid_prediction_labels_b)\n",
    ")"
   ]
  },
  {
   "cell_type": "markdown",
   "id": "d7d53221",
   "metadata": {
    "id": "d7d53221"
   },
   "source": [
    "### 9.3.2. Création des fichiers de sortie pour l'ensemble de validation"
   ]
  },
  {
   "cell_type": "markdown",
   "id": "c9rtrBow21SZ",
   "metadata": {
    "id": "c9rtrBow21SZ"
   },
   "source": [
    "#### 9.3.2.1. Bi-LSTM"
   ]
  },
  {
   "cell_type": "code",
   "execution_count": 36,
   "id": "ab7d84a0",
   "metadata": {
    "colab": {
     "base_uri": "https://localhost:8080/"
    },
    "id": "ab7d84a0",
    "outputId": "73e74df3-4ee4-46df-d6de-549759fe214b"
   },
   "outputs": [
    {
     "name": "stdout",
     "output_type": "stream",
     "text": [
      "submission_val_B.csv successfully written !\n"
     ]
    }
   ],
   "source": [
    "generate_output(output_val_bi_lstm_B, val_csv, \"val\", \"B\")"
   ]
  },
  {
   "cell_type": "markdown",
   "id": "1UqEN6gt21SZ",
   "metadata": {
    "id": "1UqEN6gt21SZ"
   },
   "source": [
    "#### 9.3.2.2. BERT"
   ]
  },
  {
   "cell_type": "code",
   "execution_count": 13,
   "id": "q9zxu2C-21SZ",
   "metadata": {
    "colab": {
     "base_uri": "https://localhost:8080/"
    },
    "id": "q9zxu2C-21SZ",
    "outputId": "785ad794-416a-4252-80f3-b3f0e9314e85"
   },
   "outputs": [
    {
     "name": "stdout",
     "output_type": "stream",
     "text": [
      "submission_val_A.csv successfully written !\n"
     ]
    }
   ],
   "source": [
    "write_to_submission_file('submission_val_B.csv', bert_model_b.valid_data['TokenID'], valid_prediction_labels_b)\n",
    "print('submission_val_A.csv successfully written !')"
   ]
  },
  {
   "cell_type": "markdown",
   "id": "fd5fcdf2",
   "metadata": {
    "id": "fd5fcdf2"
   },
   "source": [
    "### 9.3.3. Création des fichiers de sortie pour l'ensemble de tests"
   ]
  },
  {
   "cell_type": "markdown",
   "id": "bJkXwfcV21Sa",
   "metadata": {
    "id": "bJkXwfcV21Sa"
   },
   "source": [
    "#### 9.3.3.1. Bi-LSTM"
   ]
  },
  {
   "cell_type": "code",
   "execution_count": 37,
   "id": "25193696",
   "metadata": {
    "colab": {
     "base_uri": "https://localhost:8080/"
    },
    "id": "25193696",
    "outputId": "483d9014-bf5d-4f97-8fa6-9d910a686fde"
   },
   "outputs": [
    {
     "name": "stdout",
     "output_type": "stream",
     "text": [
      "submission_test_B.csv successfully written !\n"
     ]
    }
   ],
   "source": [
    "generate_output(output_test_bi_lstm_B, test_csv, \"test\", \"B\")"
   ]
  },
  {
   "cell_type": "markdown",
   "id": "VaQUmOhx21Sa",
   "metadata": {
    "id": "VaQUmOhx21Sa"
   },
   "source": [
    "#### 9.3.3.2. BERT"
   ]
  },
  {
   "cell_type": "code",
   "execution_count": 14,
   "id": "7HDohNEc21Sa",
   "metadata": {
    "colab": {
     "base_uri": "https://localhost:8080/"
    },
    "id": "7HDohNEc21Sa",
    "outputId": "e07f7252-3c2f-4456-c964-3969bd8a8c31"
   },
   "outputs": [
    {
     "name": "stdout",
     "output_type": "stream",
     "text": [
      "Generating input ids for all the tokens according to BERT ...\n"
     ]
    },
    {
     "name": "stderr",
     "output_type": "stream",
     "text": [
      "/usr/local/lib/python3.7/dist-packages/transformers/tokenization_utils_base.py:2218: FutureWarning: The `pad_to_max_length` argument is deprecated and will be removed in a future version, use `padding=True` or `padding='longest'` to pad to the longest sequence in the batch, or use `padding='max_length'` to pad to a max length. In this case, you can give a specific length with `max_length` (e.g. `max_length=45`) or leave max_length to None to pad to the maximal input size of the model (e.g. 512 for Bert).\n",
      "  FutureWarning,\n"
     ]
    },
    {
     "name": "stdout",
     "output_type": "stream",
     "text": [
      "Done!\n"
     ]
    }
   ],
   "source": [
    "bert_model_b.load_test_data(PATH + 'test.csv')\n",
    "bert_model_b.labels_map['N'] = 13\n",
    "bert_model_b.prepare_test_data(200)"
   ]
  },
  {
   "cell_type": "code",
   "execution_count": 15,
   "id": "OEFU-HP721Sa",
   "metadata": {
    "colab": {
     "base_uri": "https://localhost:8080/"
    },
    "id": "OEFU-HP721Sa",
    "outputId": "249acf07-b99a-4850-edd3-bd0459297c39"
   },
   "outputs": [
    {
     "name": "stdout",
     "output_type": "stream",
     "text": [
      "Starting computing predictions ...\n",
      "Done!\n"
     ]
    }
   ],
   "source": [
    "test_predictions_b = bert_model_b.get_predictions(bert_model_b.get_test_dataloader(16))"
   ]
  },
  {
   "cell_type": "code",
   "execution_count": 16,
   "id": "_RVmtDHy21Sa",
   "metadata": {
    "colab": {
     "base_uri": "https://localhost:8080/"
    },
    "id": "_RVmtDHy21Sa",
    "outputId": "58483064-f9ed-4f92-914e-6fdadd28e574"
   },
   "outputs": [
    {
     "name": "stdout",
     "output_type": "stream",
     "text": [
      "Before filtering out `null` tokens, length = 165,800\n",
      "After filtering out `null` tokens, length = 21,711\n"
     ]
    }
   ],
   "source": [
    "test_prediction_labels_b = bert_model_b.convert_bert_predictions_to_precited_labels(test_predictions_b, bert_model_b.test_bert_labels)"
   ]
  },
  {
   "cell_type": "code",
   "execution_count": 17,
   "id": "olcJkTwp21Sa",
   "metadata": {
    "colab": {
     "base_uri": "https://localhost:8080/"
    },
    "id": "olcJkTwp21Sa",
    "outputId": "98a6f946-b310-4bf5-8eb4-be4aca14f14d"
   },
   "outputs": [
    {
     "name": "stdout",
     "output_type": "stream",
     "text": [
      "submission_test_B.csv successfully written !\n"
     ]
    }
   ],
   "source": [
    "write_to_submission_file('submission_test_B.csv', bert_model_b.test_data['TokenID'], test_prediction_labels_b)\n",
    "print('submission_test_B.csv successfully written !')"
   ]
  },
  {
   "cell_type": "markdown",
   "id": "ddab8b80",
   "metadata": {
    "id": "ddab8b80"
   },
   "source": [
    "# 10. Conclusion (5%)\n",
    "Indiquez, dans une cellule, vos conclusions sur la tâche : qu’est-ce qui fonctionne ? qu’est-ce qui ne fonctionne pas ? quel type de pré-traitement vous a donné les meilleurs résultats ? quelles architectures ?"
   ]
  },
  {
   "cell_type": "markdown",
   "id": "2c79c3fd",
   "metadata": {
    "id": "2c79c3fd"
   },
   "source": [
    "| Modèle | HMM | Bi-LSTM dropout | BERT (base-uncased) | BERT (base-cased) | BERT (large-cased) |\n",
    "|-----------|-----------|-----------|-----------|-----------|-----------|\n",
    "| **Accuracy pour la tâche A** | 72% | 79% | 85% | 86%| 85%|\n",
    "| **Accuracy pour la tâche B** | 68% | 79% | 82% | 83%| 81%|"
   ]
  },
  {
   "cell_type": "markdown",
   "id": "79ab2da2",
   "metadata": {
    "id": "79ab2da2"
   },
   "source": [
    "## LIVRABLES\n",
    "Vous devez remettre sur Moodle un zip contenant :\n",
    "1. Le code : Un Jupyter notebook en Python qui contient le code tel que soumis dans l’environnement Kaggle implanté avec les librairies disponibles pour ce cours (Python, Keras, NLTK, scikitLearn, etc.) ainsi que votre fichier de soumission de données de test. Le notebook doit contenir le résultat de l’exécution de toutes les cellules. Le code doit être exécutable sans erreur et accompagné des commentaires appropriés dans le notebook de manière à expliquer les différentes fonctions et étapes dans votre projet. Nous nous réservons le droit de demander une démonstration ou la preuve que vous avez effectué vous-mêmes les expériences décrites. Attention, en aucun cas votre code ne doit avoir été copié de projets potentiellement existants. \n",
    "2. Le html du notebook une fois qu’il est exécuté\n",
    "3. Un fichier requirements.txt doit indiquer toutes les librairies / données nécessaires. Les critères de qualité tels que la lisibilité du code et des commentaires sont importants. \n",
    "4. Un lien GoogleDrive (ou autre) vers les modèles nécessaires pour exécuter votre notebook si approprié\n",
    "5. Les fichiers train_A_bilou.csv et val_A_bilou.csv et/ou train_B_bilou.csv et val_B_bilou.csv\n",
    "6. Le fichier submission_val_A.csv et/ou submission_val_B.csv pour l’ensemble de validation\n",
    "7. Le fichier submission_test_A.csv et/ou submission_test_B.csv pour l’ensemble de test\n",
    "8. Un document contributions.txt : Décrivez brièvement la contribution de chaque membre de l’équipe. Tous les membres sont censés contribuer au développement. Bien que chaque membre puisse effectuer différentes tâches, vous devez vous efforcer d’obtenir une répartition égale du travail. En particulier, tous les membres du projet devraient participer à la conception du projet et participer activement à la réflexion et à l’implémentation du code.\n",
    "\n",
    "## EVALUATION \n",
    "Votre TP sera évalué sur les points suivants :\n",
    "\n",
    "### Critères : \n",
    "1. Performance de votre modèle\n",
    "2. Implantation correcte et efficace\n",
    "3. Exécution du code sans exceptions\n",
    "4. Qualité du code\n",
    "5. Commentaires clairs et informatifs\n",
    "6. Aspect novateur ; recherche à partir de l’état de l’art\n",
    "\n",
    "## CODE D’HONNEUR\n",
    "__Règle 1:__  Le plagiat de code est bien évidemment interdit.<br>\n",
    "__Règle 2:__ Vous êtes libres de discuter des idées et des détails de mise en œuvre avec d'autres équipes. Cependant, vous ne pouvez en aucun cas consulter le code d'une autre équipe INF8460, ou incorporer leur code dans votre TP.<br>\n",
    "__Règle 3:__  Vous ne pouvez pas partager votre code publiquement (par exemple, dans un dépôt GitHub public) tant que le cours n'est pas fini.<br>\n",
    "\n"
   ]
  }
 ],
 "metadata": {
  "accelerator": "GPU",
  "colab": {
   "collapsed_sections": [
    "9fd211c9",
    "dbfc1a7c",
    "b2a58828",
    "f030b663",
    "b122763d",
    "2248bfee",
    "68e64178",
    "6ef56596",
    "5e47b864",
    "c8b8b99b",
    "90f89509",
    "67e398bf",
    "2a6c7650",
    "16f18531",
    "3f634773",
    "e5231291",
    "4fd7c12c",
    "defc7e57",
    "00fdaea9",
    "cb7781af",
    "d7d53221",
    "c9rtrBow21SZ",
    "1UqEN6gt21SZ",
    "fd5fcdf2",
    "bJkXwfcV21Sa"
   ],
   "machine_shape": "hm",
   "name": "inf8460_A21_TP3_squelette.ipynb",
   "provenance": []
  },
  "interpreter": {
   "hash": "0a9e6253310926149a4d95d14f3781a240ea582bf86ff51fc1ee98c2b1bba970"
  },
  "kernelspec": {
   "display_name": "Python 3",
   "language": "python",
   "name": "python3"
  },
  "language_info": {
   "codemirror_mode": {
    "name": "ipython",
    "version": 3
   },
   "file_extension": ".py",
   "mimetype": "text/x-python",
   "name": "python",
   "nbconvert_exporter": "python",
   "pygments_lexer": "ipython3",
   "version": "3.8.8"
  },
  "widgets": {
   "application/vnd.jupyter.widget-state+json": {
    "01636cc5370f40d3a769e29084a123f9": {
     "model_module": "@jupyter-widgets/controls",
     "model_module_version": "1.5.0",
     "model_name": "DescriptionStyleModel",
     "state": {
      "_model_module": "@jupyter-widgets/controls",
      "_model_module_version": "1.5.0",
      "_model_name": "DescriptionStyleModel",
      "_view_count": null,
      "_view_module": "@jupyter-widgets/base",
      "_view_module_version": "1.2.0",
      "_view_name": "StyleView",
      "description_width": ""
     }
    },
    "01b804bc882d4b6cb3cb9ef5f95a2382": {
     "model_module": "@jupyter-widgets/controls",
     "model_module_version": "1.5.0",
     "model_name": "HBoxModel",
     "state": {
      "_dom_classes": [],
      "_model_module": "@jupyter-widgets/controls",
      "_model_module_version": "1.5.0",
      "_model_name": "HBoxModel",
      "_view_count": null,
      "_view_module": "@jupyter-widgets/controls",
      "_view_module_version": "1.5.0",
      "_view_name": "HBoxView",
      "box_style": "",
      "children": [
       "IPY_MODEL_3d738249a4b54e43a1ec28754274307d",
       "IPY_MODEL_ba0bf2a1d85e43f58132f090cd4d23cf",
       "IPY_MODEL_4d24bbddd8494fc4b387ea41bc259438"
      ],
      "layout": "IPY_MODEL_0b14f0cf33ba446295c7fee68525fade"
     }
    },
    "0210420140bf4d948cd1d08d57587194": {
     "model_module": "@jupyter-widgets/base",
     "model_module_version": "1.2.0",
     "model_name": "LayoutModel",
     "state": {
      "_model_module": "@jupyter-widgets/base",
      "_model_module_version": "1.2.0",
      "_model_name": "LayoutModel",
      "_view_count": null,
      "_view_module": "@jupyter-widgets/base",
      "_view_module_version": "1.2.0",
      "_view_name": "LayoutView",
      "align_content": null,
      "align_items": null,
      "align_self": null,
      "border": null,
      "bottom": null,
      "display": null,
      "flex": null,
      "flex_flow": null,
      "grid_area": null,
      "grid_auto_columns": null,
      "grid_auto_flow": null,
      "grid_auto_rows": null,
      "grid_column": null,
      "grid_gap": null,
      "grid_row": null,
      "grid_template_areas": null,
      "grid_template_columns": null,
      "grid_template_rows": null,
      "height": null,
      "justify_content": null,
      "justify_items": null,
      "left": null,
      "margin": null,
      "max_height": null,
      "max_width": null,
      "min_height": null,
      "min_width": null,
      "object_fit": null,
      "object_position": null,
      "order": null,
      "overflow": null,
      "overflow_x": null,
      "overflow_y": null,
      "padding": null,
      "right": null,
      "top": null,
      "visibility": null,
      "width": null
     }
    },
    "032b1226328146e69a5feb0561e78618": {
     "model_module": "@jupyter-widgets/controls",
     "model_module_version": "1.5.0",
     "model_name": "ProgressStyleModel",
     "state": {
      "_model_module": "@jupyter-widgets/controls",
      "_model_module_version": "1.5.0",
      "_model_name": "ProgressStyleModel",
      "_view_count": null,
      "_view_module": "@jupyter-widgets/base",
      "_view_module_version": "1.2.0",
      "_view_name": "StyleView",
      "bar_color": null,
      "description_width": ""
     }
    },
    "04ea57155c1a436c9e413efb4dc8712e": {
     "model_module": "@jupyter-widgets/base",
     "model_module_version": "1.2.0",
     "model_name": "LayoutModel",
     "state": {
      "_model_module": "@jupyter-widgets/base",
      "_model_module_version": "1.2.0",
      "_model_name": "LayoutModel",
      "_view_count": null,
      "_view_module": "@jupyter-widgets/base",
      "_view_module_version": "1.2.0",
      "_view_name": "LayoutView",
      "align_content": null,
      "align_items": null,
      "align_self": null,
      "border": null,
      "bottom": null,
      "display": null,
      "flex": null,
      "flex_flow": null,
      "grid_area": null,
      "grid_auto_columns": null,
      "grid_auto_flow": null,
      "grid_auto_rows": null,
      "grid_column": null,
      "grid_gap": null,
      "grid_row": null,
      "grid_template_areas": null,
      "grid_template_columns": null,
      "grid_template_rows": null,
      "height": null,
      "justify_content": null,
      "justify_items": null,
      "left": null,
      "margin": null,
      "max_height": null,
      "max_width": null,
      "min_height": null,
      "min_width": null,
      "object_fit": null,
      "object_position": null,
      "order": null,
      "overflow": null,
      "overflow_x": null,
      "overflow_y": null,
      "padding": null,
      "right": null,
      "top": null,
      "visibility": null,
      "width": null
     }
    },
    "06d8ad3058bd4b62b6c1f88fbf98e0b4": {
     "model_module": "@jupyter-widgets/controls",
     "model_module_version": "1.5.0",
     "model_name": "ProgressStyleModel",
     "state": {
      "_model_module": "@jupyter-widgets/controls",
      "_model_module_version": "1.5.0",
      "_model_name": "ProgressStyleModel",
      "_view_count": null,
      "_view_module": "@jupyter-widgets/base",
      "_view_module_version": "1.2.0",
      "_view_name": "StyleView",
      "bar_color": null,
      "description_width": ""
     }
    },
    "0a42445853404f1ab7ca4c3b46ff9138": {
     "model_module": "@jupyter-widgets/controls",
     "model_module_version": "1.5.0",
     "model_name": "DescriptionStyleModel",
     "state": {
      "_model_module": "@jupyter-widgets/controls",
      "_model_module_version": "1.5.0",
      "_model_name": "DescriptionStyleModel",
      "_view_count": null,
      "_view_module": "@jupyter-widgets/base",
      "_view_module_version": "1.2.0",
      "_view_name": "StyleView",
      "description_width": ""
     }
    },
    "0b14f0cf33ba446295c7fee68525fade": {
     "model_module": "@jupyter-widgets/base",
     "model_module_version": "1.2.0",
     "model_name": "LayoutModel",
     "state": {
      "_model_module": "@jupyter-widgets/base",
      "_model_module_version": "1.2.0",
      "_model_name": "LayoutModel",
      "_view_count": null,
      "_view_module": "@jupyter-widgets/base",
      "_view_module_version": "1.2.0",
      "_view_name": "LayoutView",
      "align_content": null,
      "align_items": null,
      "align_self": null,
      "border": null,
      "bottom": null,
      "display": null,
      "flex": null,
      "flex_flow": null,
      "grid_area": null,
      "grid_auto_columns": null,
      "grid_auto_flow": null,
      "grid_auto_rows": null,
      "grid_column": null,
      "grid_gap": null,
      "grid_row": null,
      "grid_template_areas": null,
      "grid_template_columns": null,
      "grid_template_rows": null,
      "height": null,
      "justify_content": null,
      "justify_items": null,
      "left": null,
      "margin": null,
      "max_height": null,
      "max_width": null,
      "min_height": null,
      "min_width": null,
      "object_fit": null,
      "object_position": null,
      "order": null,
      "overflow": null,
      "overflow_x": null,
      "overflow_y": null,
      "padding": null,
      "right": null,
      "top": null,
      "visibility": null,
      "width": null
     }
    },
    "0cd0d79d6c8549aba34e52daaa4b0f96": {
     "model_module": "@jupyter-widgets/controls",
     "model_module_version": "1.5.0",
     "model_name": "DescriptionStyleModel",
     "state": {
      "_model_module": "@jupyter-widgets/controls",
      "_model_module_version": "1.5.0",
      "_model_name": "DescriptionStyleModel",
      "_view_count": null,
      "_view_module": "@jupyter-widgets/base",
      "_view_module_version": "1.2.0",
      "_view_name": "StyleView",
      "description_width": ""
     }
    },
    "11d4b33aaf174d378fc601a1035a2ddf": {
     "model_module": "@jupyter-widgets/controls",
     "model_module_version": "1.5.0",
     "model_name": "HTMLModel",
     "state": {
      "_dom_classes": [],
      "_model_module": "@jupyter-widgets/controls",
      "_model_module_version": "1.5.0",
      "_model_name": "HTMLModel",
      "_view_count": null,
      "_view_module": "@jupyter-widgets/controls",
      "_view_module_version": "1.5.0",
      "_view_name": "HTMLView",
      "description": "",
      "description_tooltip": null,
      "layout": "IPY_MODEL_122a8f46f329470cae9abdaa3aa007d2",
      "placeholder": "​",
      "style": "IPY_MODEL_0a42445853404f1ab7ca4c3b46ff9138",
      "value": "Downloading: 100%"
     }
    },
    "122a8f46f329470cae9abdaa3aa007d2": {
     "model_module": "@jupyter-widgets/base",
     "model_module_version": "1.2.0",
     "model_name": "LayoutModel",
     "state": {
      "_model_module": "@jupyter-widgets/base",
      "_model_module_version": "1.2.0",
      "_model_name": "LayoutModel",
      "_view_count": null,
      "_view_module": "@jupyter-widgets/base",
      "_view_module_version": "1.2.0",
      "_view_name": "LayoutView",
      "align_content": null,
      "align_items": null,
      "align_self": null,
      "border": null,
      "bottom": null,
      "display": null,
      "flex": null,
      "flex_flow": null,
      "grid_area": null,
      "grid_auto_columns": null,
      "grid_auto_flow": null,
      "grid_auto_rows": null,
      "grid_column": null,
      "grid_gap": null,
      "grid_row": null,
      "grid_template_areas": null,
      "grid_template_columns": null,
      "grid_template_rows": null,
      "height": null,
      "justify_content": null,
      "justify_items": null,
      "left": null,
      "margin": null,
      "max_height": null,
      "max_width": null,
      "min_height": null,
      "min_width": null,
      "object_fit": null,
      "object_position": null,
      "order": null,
      "overflow": null,
      "overflow_x": null,
      "overflow_y": null,
      "padding": null,
      "right": null,
      "top": null,
      "visibility": null,
      "width": null
     }
    },
    "15edbef3d00f4e09b5b91a5b521dc57f": {
     "model_module": "@jupyter-widgets/controls",
     "model_module_version": "1.5.0",
     "model_name": "DescriptionStyleModel",
     "state": {
      "_model_module": "@jupyter-widgets/controls",
      "_model_module_version": "1.5.0",
      "_model_name": "DescriptionStyleModel",
      "_view_count": null,
      "_view_module": "@jupyter-widgets/base",
      "_view_module_version": "1.2.0",
      "_view_name": "StyleView",
      "description_width": ""
     }
    },
    "161056b040e14daf8473a4c36d646d7a": {
     "model_module": "@jupyter-widgets/base",
     "model_module_version": "1.2.0",
     "model_name": "LayoutModel",
     "state": {
      "_model_module": "@jupyter-widgets/base",
      "_model_module_version": "1.2.0",
      "_model_name": "LayoutModel",
      "_view_count": null,
      "_view_module": "@jupyter-widgets/base",
      "_view_module_version": "1.2.0",
      "_view_name": "LayoutView",
      "align_content": null,
      "align_items": null,
      "align_self": null,
      "border": null,
      "bottom": null,
      "display": null,
      "flex": null,
      "flex_flow": null,
      "grid_area": null,
      "grid_auto_columns": null,
      "grid_auto_flow": null,
      "grid_auto_rows": null,
      "grid_column": null,
      "grid_gap": null,
      "grid_row": null,
      "grid_template_areas": null,
      "grid_template_columns": null,
      "grid_template_rows": null,
      "height": null,
      "justify_content": null,
      "justify_items": null,
      "left": null,
      "margin": null,
      "max_height": null,
      "max_width": null,
      "min_height": null,
      "min_width": null,
      "object_fit": null,
      "object_position": null,
      "order": null,
      "overflow": null,
      "overflow_x": null,
      "overflow_y": null,
      "padding": null,
      "right": null,
      "top": null,
      "visibility": null,
      "width": null
     }
    },
    "18c322ac37ea4c8583facfa2d13e01b3": {
     "model_module": "@jupyter-widgets/base",
     "model_module_version": "1.2.0",
     "model_name": "LayoutModel",
     "state": {
      "_model_module": "@jupyter-widgets/base",
      "_model_module_version": "1.2.0",
      "_model_name": "LayoutModel",
      "_view_count": null,
      "_view_module": "@jupyter-widgets/base",
      "_view_module_version": "1.2.0",
      "_view_name": "LayoutView",
      "align_content": null,
      "align_items": null,
      "align_self": null,
      "border": null,
      "bottom": null,
      "display": null,
      "flex": null,
      "flex_flow": null,
      "grid_area": null,
      "grid_auto_columns": null,
      "grid_auto_flow": null,
      "grid_auto_rows": null,
      "grid_column": null,
      "grid_gap": null,
      "grid_row": null,
      "grid_template_areas": null,
      "grid_template_columns": null,
      "grid_template_rows": null,
      "height": null,
      "justify_content": null,
      "justify_items": null,
      "left": null,
      "margin": null,
      "max_height": null,
      "max_width": null,
      "min_height": null,
      "min_width": null,
      "object_fit": null,
      "object_position": null,
      "order": null,
      "overflow": null,
      "overflow_x": null,
      "overflow_y": null,
      "padding": null,
      "right": null,
      "top": null,
      "visibility": null,
      "width": null
     }
    },
    "1a886ec7806e43d29b37c92ba0899fcd": {
     "model_module": "@jupyter-widgets/controls",
     "model_module_version": "1.5.0",
     "model_name": "DescriptionStyleModel",
     "state": {
      "_model_module": "@jupyter-widgets/controls",
      "_model_module_version": "1.5.0",
      "_model_name": "DescriptionStyleModel",
      "_view_count": null,
      "_view_module": "@jupyter-widgets/base",
      "_view_module_version": "1.2.0",
      "_view_name": "StyleView",
      "description_width": ""
     }
    },
    "1b7c574522e04294a5715277ff3c386b": {
     "model_module": "@jupyter-widgets/controls",
     "model_module_version": "1.5.0",
     "model_name": "DescriptionStyleModel",
     "state": {
      "_model_module": "@jupyter-widgets/controls",
      "_model_module_version": "1.5.0",
      "_model_name": "DescriptionStyleModel",
      "_view_count": null,
      "_view_module": "@jupyter-widgets/base",
      "_view_module_version": "1.2.0",
      "_view_name": "StyleView",
      "description_width": ""
     }
    },
    "1cca98187f704cbdaec48a295d40401a": {
     "model_module": "@jupyter-widgets/controls",
     "model_module_version": "1.5.0",
     "model_name": "HBoxModel",
     "state": {
      "_dom_classes": [],
      "_model_module": "@jupyter-widgets/controls",
      "_model_module_version": "1.5.0",
      "_model_name": "HBoxModel",
      "_view_count": null,
      "_view_module": "@jupyter-widgets/controls",
      "_view_module_version": "1.5.0",
      "_view_name": "HBoxView",
      "box_style": "",
      "children": [
       "IPY_MODEL_d2e4a08432a94586999ce3a40e16311a",
       "IPY_MODEL_8424e9f430304bc3bc2a1621a23d171c",
       "IPY_MODEL_8f8c07096f52481eb6316f6a27d4a9ff"
      ],
      "layout": "IPY_MODEL_5c1cdd4a2d694f03a829b9918aced9bc"
     }
    },
    "1d23025e8c1b45b9b94dcff6d519a387": {
     "model_module": "@jupyter-widgets/controls",
     "model_module_version": "1.5.0",
     "model_name": "ProgressStyleModel",
     "state": {
      "_model_module": "@jupyter-widgets/controls",
      "_model_module_version": "1.5.0",
      "_model_name": "ProgressStyleModel",
      "_view_count": null,
      "_view_module": "@jupyter-widgets/base",
      "_view_module_version": "1.2.0",
      "_view_name": "StyleView",
      "bar_color": null,
      "description_width": ""
     }
    },
    "1edb5548373a4143a4262eac3fdf4bf4": {
     "model_module": "@jupyter-widgets/controls",
     "model_module_version": "1.5.0",
     "model_name": "HTMLModel",
     "state": {
      "_dom_classes": [],
      "_model_module": "@jupyter-widgets/controls",
      "_model_module_version": "1.5.0",
      "_model_name": "HTMLModel",
      "_view_count": null,
      "_view_module": "@jupyter-widgets/controls",
      "_view_module_version": "1.5.0",
      "_view_name": "HTMLView",
      "description": "",
      "description_tooltip": null,
      "layout": "IPY_MODEL_c3ca80725c734391a2e9514eb529ed07",
      "placeholder": "​",
      "style": "IPY_MODEL_f577ea97e19c4b5fa305d262c2c16cad",
      "value": " 208k/208k [00:00&lt;00:00, 807kB/s]"
     }
    },
    "20a1dd7cf1d34d61a8913a92ed335674": {
     "model_module": "@jupyter-widgets/base",
     "model_module_version": "1.2.0",
     "model_name": "LayoutModel",
     "state": {
      "_model_module": "@jupyter-widgets/base",
      "_model_module_version": "1.2.0",
      "_model_name": "LayoutModel",
      "_view_count": null,
      "_view_module": "@jupyter-widgets/base",
      "_view_module_version": "1.2.0",
      "_view_name": "LayoutView",
      "align_content": null,
      "align_items": null,
      "align_self": null,
      "border": null,
      "bottom": null,
      "display": null,
      "flex": null,
      "flex_flow": null,
      "grid_area": null,
      "grid_auto_columns": null,
      "grid_auto_flow": null,
      "grid_auto_rows": null,
      "grid_column": null,
      "grid_gap": null,
      "grid_row": null,
      "grid_template_areas": null,
      "grid_template_columns": null,
      "grid_template_rows": null,
      "height": null,
      "justify_content": null,
      "justify_items": null,
      "left": null,
      "margin": null,
      "max_height": null,
      "max_width": null,
      "min_height": null,
      "min_width": null,
      "object_fit": null,
      "object_position": null,
      "order": null,
      "overflow": null,
      "overflow_x": null,
      "overflow_y": null,
      "padding": null,
      "right": null,
      "top": null,
      "visibility": null,
      "width": null
     }
    },
    "2136f5cc411c4cf9b2a9d3db1466034f": {
     "model_module": "@jupyter-widgets/controls",
     "model_module_version": "1.5.0",
     "model_name": "DescriptionStyleModel",
     "state": {
      "_model_module": "@jupyter-widgets/controls",
      "_model_module_version": "1.5.0",
      "_model_name": "DescriptionStyleModel",
      "_view_count": null,
      "_view_module": "@jupyter-widgets/base",
      "_view_module_version": "1.2.0",
      "_view_name": "StyleView",
      "description_width": ""
     }
    },
    "2642757d209b49719afa9516664d6679": {
     "model_module": "@jupyter-widgets/base",
     "model_module_version": "1.2.0",
     "model_name": "LayoutModel",
     "state": {
      "_model_module": "@jupyter-widgets/base",
      "_model_module_version": "1.2.0",
      "_model_name": "LayoutModel",
      "_view_count": null,
      "_view_module": "@jupyter-widgets/base",
      "_view_module_version": "1.2.0",
      "_view_name": "LayoutView",
      "align_content": null,
      "align_items": null,
      "align_self": null,
      "border": null,
      "bottom": null,
      "display": null,
      "flex": null,
      "flex_flow": null,
      "grid_area": null,
      "grid_auto_columns": null,
      "grid_auto_flow": null,
      "grid_auto_rows": null,
      "grid_column": null,
      "grid_gap": null,
      "grid_row": null,
      "grid_template_areas": null,
      "grid_template_columns": null,
      "grid_template_rows": null,
      "height": null,
      "justify_content": null,
      "justify_items": null,
      "left": null,
      "margin": null,
      "max_height": null,
      "max_width": null,
      "min_height": null,
      "min_width": null,
      "object_fit": null,
      "object_position": null,
      "order": null,
      "overflow": null,
      "overflow_x": null,
      "overflow_y": null,
      "padding": null,
      "right": null,
      "top": null,
      "visibility": null,
      "width": null
     }
    },
    "27708adebb6c48bbba8a2d598a04a196": {
     "model_module": "@jupyter-widgets/controls",
     "model_module_version": "1.5.0",
     "model_name": "HTMLModel",
     "state": {
      "_dom_classes": [],
      "_model_module": "@jupyter-widgets/controls",
      "_model_module_version": "1.5.0",
      "_model_name": "HTMLModel",
      "_view_count": null,
      "_view_module": "@jupyter-widgets/controls",
      "_view_module_version": "1.5.0",
      "_view_name": "HTMLView",
      "description": "",
      "description_tooltip": null,
      "layout": "IPY_MODEL_18c322ac37ea4c8583facfa2d13e01b3",
      "placeholder": "​",
      "style": "IPY_MODEL_62fa93b63aa448e8a97d2da98771672b",
      "value": "Downloading: 100%"
     }
    },
    "2995afa261104f4b843a604bb7731c18": {
     "model_module": "@jupyter-widgets/controls",
     "model_module_version": "1.5.0",
     "model_name": "FloatProgressModel",
     "state": {
      "_dom_classes": [],
      "_model_module": "@jupyter-widgets/controls",
      "_model_module_version": "1.5.0",
      "_model_name": "FloatProgressModel",
      "_view_count": null,
      "_view_module": "@jupyter-widgets/controls",
      "_view_module_version": "1.5.0",
      "_view_name": "ProgressView",
      "bar_style": "success",
      "description": "",
      "description_tooltip": null,
      "layout": "IPY_MODEL_5f0a50319f524433bd4c36d5821991fe",
      "max": 213450,
      "min": 0,
      "orientation": "horizontal",
      "style": "IPY_MODEL_c33a6be9b6f640d28f401c75737b3dae",
      "value": 213450
     }
    },
    "2b3ef3d793574006b2faf8b8f4817fab": {
     "model_module": "@jupyter-widgets/base",
     "model_module_version": "1.2.0",
     "model_name": "LayoutModel",
     "state": {
      "_model_module": "@jupyter-widgets/base",
      "_model_module_version": "1.2.0",
      "_model_name": "LayoutModel",
      "_view_count": null,
      "_view_module": "@jupyter-widgets/base",
      "_view_module_version": "1.2.0",
      "_view_name": "LayoutView",
      "align_content": null,
      "align_items": null,
      "align_self": null,
      "border": null,
      "bottom": null,
      "display": null,
      "flex": null,
      "flex_flow": null,
      "grid_area": null,
      "grid_auto_columns": null,
      "grid_auto_flow": null,
      "grid_auto_rows": null,
      "grid_column": null,
      "grid_gap": null,
      "grid_row": null,
      "grid_template_areas": null,
      "grid_template_columns": null,
      "grid_template_rows": null,
      "height": null,
      "justify_content": null,
      "justify_items": null,
      "left": null,
      "margin": null,
      "max_height": null,
      "max_width": null,
      "min_height": null,
      "min_width": null,
      "object_fit": null,
      "object_position": null,
      "order": null,
      "overflow": null,
      "overflow_x": null,
      "overflow_y": null,
      "padding": null,
      "right": null,
      "top": null,
      "visibility": null,
      "width": null
     }
    },
    "2b56f5d180f94450b6da6675260b9347": {
     "model_module": "@jupyter-widgets/base",
     "model_module_version": "1.2.0",
     "model_name": "LayoutModel",
     "state": {
      "_model_module": "@jupyter-widgets/base",
      "_model_module_version": "1.2.0",
      "_model_name": "LayoutModel",
      "_view_count": null,
      "_view_module": "@jupyter-widgets/base",
      "_view_module_version": "1.2.0",
      "_view_name": "LayoutView",
      "align_content": null,
      "align_items": null,
      "align_self": null,
      "border": null,
      "bottom": null,
      "display": null,
      "flex": null,
      "flex_flow": null,
      "grid_area": null,
      "grid_auto_columns": null,
      "grid_auto_flow": null,
      "grid_auto_rows": null,
      "grid_column": null,
      "grid_gap": null,
      "grid_row": null,
      "grid_template_areas": null,
      "grid_template_columns": null,
      "grid_template_rows": null,
      "height": null,
      "justify_content": null,
      "justify_items": null,
      "left": null,
      "margin": null,
      "max_height": null,
      "max_width": null,
      "min_height": null,
      "min_width": null,
      "object_fit": null,
      "object_position": null,
      "order": null,
      "overflow": null,
      "overflow_x": null,
      "overflow_y": null,
      "padding": null,
      "right": null,
      "top": null,
      "visibility": null,
      "width": null
     }
    },
    "2c30cbf7df0248429df146291b55130d": {
     "model_module": "@jupyter-widgets/controls",
     "model_module_version": "1.5.0",
     "model_name": "HTMLModel",
     "state": {
      "_dom_classes": [],
      "_model_module": "@jupyter-widgets/controls",
      "_model_module_version": "1.5.0",
      "_model_name": "HTMLModel",
      "_view_count": null,
      "_view_module": "@jupyter-widgets/controls",
      "_view_module_version": "1.5.0",
      "_view_name": "HTMLView",
      "description": "",
      "description_tooltip": null,
      "layout": "IPY_MODEL_0210420140bf4d948cd1d08d57587194",
      "placeholder": "​",
      "style": "IPY_MODEL_1b7c574522e04294a5715277ff3c386b",
      "value": " 426k/426k [00:00&lt;00:00, 882kB/s]"
     }
    },
    "2d918735c6fb4894a50081549deae5c9": {
     "model_module": "@jupyter-widgets/base",
     "model_module_version": "1.2.0",
     "model_name": "LayoutModel",
     "state": {
      "_model_module": "@jupyter-widgets/base",
      "_model_module_version": "1.2.0",
      "_model_name": "LayoutModel",
      "_view_count": null,
      "_view_module": "@jupyter-widgets/base",
      "_view_module_version": "1.2.0",
      "_view_name": "LayoutView",
      "align_content": null,
      "align_items": null,
      "align_self": null,
      "border": null,
      "bottom": null,
      "display": null,
      "flex": null,
      "flex_flow": null,
      "grid_area": null,
      "grid_auto_columns": null,
      "grid_auto_flow": null,
      "grid_auto_rows": null,
      "grid_column": null,
      "grid_gap": null,
      "grid_row": null,
      "grid_template_areas": null,
      "grid_template_columns": null,
      "grid_template_rows": null,
      "height": null,
      "justify_content": null,
      "justify_items": null,
      "left": null,
      "margin": null,
      "max_height": null,
      "max_width": null,
      "min_height": null,
      "min_width": null,
      "object_fit": null,
      "object_position": null,
      "order": null,
      "overflow": null,
      "overflow_x": null,
      "overflow_y": null,
      "padding": null,
      "right": null,
      "top": null,
      "visibility": null,
      "width": null
     }
    },
    "31e46de84d4743f0ae3c5257db20d641": {
     "model_module": "@jupyter-widgets/base",
     "model_module_version": "1.2.0",
     "model_name": "LayoutModel",
     "state": {
      "_model_module": "@jupyter-widgets/base",
      "_model_module_version": "1.2.0",
      "_model_name": "LayoutModel",
      "_view_count": null,
      "_view_module": "@jupyter-widgets/base",
      "_view_module_version": "1.2.0",
      "_view_name": "LayoutView",
      "align_content": null,
      "align_items": null,
      "align_self": null,
      "border": null,
      "bottom": null,
      "display": null,
      "flex": null,
      "flex_flow": null,
      "grid_area": null,
      "grid_auto_columns": null,
      "grid_auto_flow": null,
      "grid_auto_rows": null,
      "grid_column": null,
      "grid_gap": null,
      "grid_row": null,
      "grid_template_areas": null,
      "grid_template_columns": null,
      "grid_template_rows": null,
      "height": null,
      "justify_content": null,
      "justify_items": null,
      "left": null,
      "margin": null,
      "max_height": null,
      "max_width": null,
      "min_height": null,
      "min_width": null,
      "object_fit": null,
      "object_position": null,
      "order": null,
      "overflow": null,
      "overflow_x": null,
      "overflow_y": null,
      "padding": null,
      "right": null,
      "top": null,
      "visibility": null,
      "width": null
     }
    },
    "3327319646de478c8818b605508eed77": {
     "model_module": "@jupyter-widgets/controls",
     "model_module_version": "1.5.0",
     "model_name": "DescriptionStyleModel",
     "state": {
      "_model_module": "@jupyter-widgets/controls",
      "_model_module_version": "1.5.0",
      "_model_name": "DescriptionStyleModel",
      "_view_count": null,
      "_view_module": "@jupyter-widgets/base",
      "_view_module_version": "1.2.0",
      "_view_name": "StyleView",
      "description_width": ""
     }
    },
    "376f70b30b5f413eb0782a8779f2816b": {
     "model_module": "@jupyter-widgets/controls",
     "model_module_version": "1.5.0",
     "model_name": "DescriptionStyleModel",
     "state": {
      "_model_module": "@jupyter-widgets/controls",
      "_model_module_version": "1.5.0",
      "_model_name": "DescriptionStyleModel",
      "_view_count": null,
      "_view_module": "@jupyter-widgets/base",
      "_view_module_version": "1.2.0",
      "_view_name": "StyleView",
      "description_width": ""
     }
    },
    "38171ffae23a40ffa7293edc29fe3b42": {
     "model_module": "@jupyter-widgets/base",
     "model_module_version": "1.2.0",
     "model_name": "LayoutModel",
     "state": {
      "_model_module": "@jupyter-widgets/base",
      "_model_module_version": "1.2.0",
      "_model_name": "LayoutModel",
      "_view_count": null,
      "_view_module": "@jupyter-widgets/base",
      "_view_module_version": "1.2.0",
      "_view_name": "LayoutView",
      "align_content": null,
      "align_items": null,
      "align_self": null,
      "border": null,
      "bottom": null,
      "display": null,
      "flex": null,
      "flex_flow": null,
      "grid_area": null,
      "grid_auto_columns": null,
      "grid_auto_flow": null,
      "grid_auto_rows": null,
      "grid_column": null,
      "grid_gap": null,
      "grid_row": null,
      "grid_template_areas": null,
      "grid_template_columns": null,
      "grid_template_rows": null,
      "height": null,
      "justify_content": null,
      "justify_items": null,
      "left": null,
      "margin": null,
      "max_height": null,
      "max_width": null,
      "min_height": null,
      "min_width": null,
      "object_fit": null,
      "object_position": null,
      "order": null,
      "overflow": null,
      "overflow_x": null,
      "overflow_y": null,
      "padding": null,
      "right": null,
      "top": null,
      "visibility": null,
      "width": null
     }
    },
    "394e26a3e67e4a35a514a7b9264af1e5": {
     "model_module": "@jupyter-widgets/controls",
     "model_module_version": "1.5.0",
     "model_name": "ProgressStyleModel",
     "state": {
      "_model_module": "@jupyter-widgets/controls",
      "_model_module_version": "1.5.0",
      "_model_name": "ProgressStyleModel",
      "_view_count": null,
      "_view_module": "@jupyter-widgets/base",
      "_view_module_version": "1.2.0",
      "_view_name": "StyleView",
      "bar_color": null,
      "description_width": ""
     }
    },
    "3acb5b86c2754bc896c63f2ebf3cf5e5": {
     "model_module": "@jupyter-widgets/controls",
     "model_module_version": "1.5.0",
     "model_name": "HTMLModel",
     "state": {
      "_dom_classes": [],
      "_model_module": "@jupyter-widgets/controls",
      "_model_module_version": "1.5.0",
      "_model_name": "HTMLModel",
      "_view_count": null,
      "_view_module": "@jupyter-widgets/controls",
      "_view_module_version": "1.5.0",
      "_view_name": "HTMLView",
      "description": "",
      "description_tooltip": null,
      "layout": "IPY_MODEL_31e46de84d4743f0ae3c5257db20d641",
      "placeholder": "​",
      "style": "IPY_MODEL_aad55f331f684178a6c126303dfc9d19",
      "value": " 29.0/29.0 [00:00&lt;00:00, 1.22kB/s]"
     }
    },
    "3cdf55348ea94670a80db3189a184a17": {
     "model_module": "@jupyter-widgets/controls",
     "model_module_version": "1.5.0",
     "model_name": "DescriptionStyleModel",
     "state": {
      "_model_module": "@jupyter-widgets/controls",
      "_model_module_version": "1.5.0",
      "_model_name": "DescriptionStyleModel",
      "_view_count": null,
      "_view_module": "@jupyter-widgets/base",
      "_view_module_version": "1.2.0",
      "_view_name": "StyleView",
      "description_width": ""
     }
    },
    "3d738249a4b54e43a1ec28754274307d": {
     "model_module": "@jupyter-widgets/controls",
     "model_module_version": "1.5.0",
     "model_name": "HTMLModel",
     "state": {
      "_dom_classes": [],
      "_model_module": "@jupyter-widgets/controls",
      "_model_module_version": "1.5.0",
      "_model_name": "HTMLModel",
      "_view_count": null,
      "_view_module": "@jupyter-widgets/controls",
      "_view_module_version": "1.5.0",
      "_view_name": "HTMLView",
      "description": "",
      "description_tooltip": null,
      "layout": "IPY_MODEL_4bfa01e5d8cf42dbaec5668f28271201",
      "placeholder": "​",
      "style": "IPY_MODEL_15edbef3d00f4e09b5b91a5b521dc57f",
      "value": "Downloading: 100%"
     }
    },
    "3de7ea3d1e2541d58b944ba71b9560bb": {
     "model_module": "@jupyter-widgets/controls",
     "model_module_version": "1.5.0",
     "model_name": "HBoxModel",
     "state": {
      "_dom_classes": [],
      "_model_module": "@jupyter-widgets/controls",
      "_model_module_version": "1.5.0",
      "_model_name": "HBoxModel",
      "_view_count": null,
      "_view_module": "@jupyter-widgets/controls",
      "_view_module_version": "1.5.0",
      "_view_name": "HBoxView",
      "box_style": "",
      "children": [
       "IPY_MODEL_4a794e445a364a48a183ed7d7426c889",
       "IPY_MODEL_aa7db74f87da43629ef47fa4aadbc6d5",
       "IPY_MODEL_1edb5548373a4143a4262eac3fdf4bf4"
      ],
      "layout": "IPY_MODEL_aaf9c145d505463fb729191515930f3c"
     }
    },
    "3eaef3733e3146a48220694d72a3b7b4": {
     "model_module": "@jupyter-widgets/controls",
     "model_module_version": "1.5.0",
     "model_name": "DescriptionStyleModel",
     "state": {
      "_model_module": "@jupyter-widgets/controls",
      "_model_module_version": "1.5.0",
      "_model_name": "DescriptionStyleModel",
      "_view_count": null,
      "_view_module": "@jupyter-widgets/base",
      "_view_module_version": "1.2.0",
      "_view_name": "StyleView",
      "description_width": ""
     }
    },
    "40b7a4aa50204557927d03b1474668cd": {
     "model_module": "@jupyter-widgets/base",
     "model_module_version": "1.2.0",
     "model_name": "LayoutModel",
     "state": {
      "_model_module": "@jupyter-widgets/base",
      "_model_module_version": "1.2.0",
      "_model_name": "LayoutModel",
      "_view_count": null,
      "_view_module": "@jupyter-widgets/base",
      "_view_module_version": "1.2.0",
      "_view_name": "LayoutView",
      "align_content": null,
      "align_items": null,
      "align_self": null,
      "border": null,
      "bottom": null,
      "display": null,
      "flex": null,
      "flex_flow": null,
      "grid_area": null,
      "grid_auto_columns": null,
      "grid_auto_flow": null,
      "grid_auto_rows": null,
      "grid_column": null,
      "grid_gap": null,
      "grid_row": null,
      "grid_template_areas": null,
      "grid_template_columns": null,
      "grid_template_rows": null,
      "height": null,
      "justify_content": null,
      "justify_items": null,
      "left": null,
      "margin": null,
      "max_height": null,
      "max_width": null,
      "min_height": null,
      "min_width": null,
      "object_fit": null,
      "object_position": null,
      "order": null,
      "overflow": null,
      "overflow_x": null,
      "overflow_y": null,
      "padding": null,
      "right": null,
      "top": null,
      "visibility": null,
      "width": null
     }
    },
    "42c0a2c467704341ae7ebe1d1c07307a": {
     "model_module": "@jupyter-widgets/controls",
     "model_module_version": "1.5.0",
     "model_name": "DescriptionStyleModel",
     "state": {
      "_model_module": "@jupyter-widgets/controls",
      "_model_module_version": "1.5.0",
      "_model_name": "DescriptionStyleModel",
      "_view_count": null,
      "_view_module": "@jupyter-widgets/base",
      "_view_module_version": "1.2.0",
      "_view_name": "StyleView",
      "description_width": ""
     }
    },
    "4a1a917345474d55af4c2c4563f9292d": {
     "model_module": "@jupyter-widgets/controls",
     "model_module_version": "1.5.0",
     "model_name": "HTMLModel",
     "state": {
      "_dom_classes": [],
      "_model_module": "@jupyter-widgets/controls",
      "_model_module_version": "1.5.0",
      "_model_name": "HTMLModel",
      "_view_count": null,
      "_view_module": "@jupyter-widgets/controls",
      "_view_module_version": "1.5.0",
      "_view_name": "HTMLView",
      "description": "",
      "description_tooltip": null,
      "layout": "IPY_MODEL_2b3ef3d793574006b2faf8b8f4817fab",
      "placeholder": "​",
      "style": "IPY_MODEL_42c0a2c467704341ae7ebe1d1c07307a",
      "value": " 29.0/29.0 [00:00&lt;00:00, 1.19kB/s]"
     }
    },
    "4a790cd8317844b38fa478fbf53a5119": {
     "model_module": "@jupyter-widgets/base",
     "model_module_version": "1.2.0",
     "model_name": "LayoutModel",
     "state": {
      "_model_module": "@jupyter-widgets/base",
      "_model_module_version": "1.2.0",
      "_model_name": "LayoutModel",
      "_view_count": null,
      "_view_module": "@jupyter-widgets/base",
      "_view_module_version": "1.2.0",
      "_view_name": "LayoutView",
      "align_content": null,
      "align_items": null,
      "align_self": null,
      "border": null,
      "bottom": null,
      "display": null,
      "flex": null,
      "flex_flow": null,
      "grid_area": null,
      "grid_auto_columns": null,
      "grid_auto_flow": null,
      "grid_auto_rows": null,
      "grid_column": null,
      "grid_gap": null,
      "grid_row": null,
      "grid_template_areas": null,
      "grid_template_columns": null,
      "grid_template_rows": null,
      "height": null,
      "justify_content": null,
      "justify_items": null,
      "left": null,
      "margin": null,
      "max_height": null,
      "max_width": null,
      "min_height": null,
      "min_width": null,
      "object_fit": null,
      "object_position": null,
      "order": null,
      "overflow": null,
      "overflow_x": null,
      "overflow_y": null,
      "padding": null,
      "right": null,
      "top": null,
      "visibility": null,
      "width": null
     }
    },
    "4a794e445a364a48a183ed7d7426c889": {
     "model_module": "@jupyter-widgets/controls",
     "model_module_version": "1.5.0",
     "model_name": "HTMLModel",
     "state": {
      "_dom_classes": [],
      "_model_module": "@jupyter-widgets/controls",
      "_model_module_version": "1.5.0",
      "_model_name": "HTMLModel",
      "_view_count": null,
      "_view_module": "@jupyter-widgets/controls",
      "_view_module_version": "1.5.0",
      "_view_name": "HTMLView",
      "description": "",
      "description_tooltip": null,
      "layout": "IPY_MODEL_e8f166945960433e9e50fb97d7b3345f",
      "placeholder": "​",
      "style": "IPY_MODEL_2136f5cc411c4cf9b2a9d3db1466034f",
      "value": "Downloading: 100%"
     }
    },
    "4bfa01e5d8cf42dbaec5668f28271201": {
     "model_module": "@jupyter-widgets/base",
     "model_module_version": "1.2.0",
     "model_name": "LayoutModel",
     "state": {
      "_model_module": "@jupyter-widgets/base",
      "_model_module_version": "1.2.0",
      "_model_name": "LayoutModel",
      "_view_count": null,
      "_view_module": "@jupyter-widgets/base",
      "_view_module_version": "1.2.0",
      "_view_name": "LayoutView",
      "align_content": null,
      "align_items": null,
      "align_self": null,
      "border": null,
      "bottom": null,
      "display": null,
      "flex": null,
      "flex_flow": null,
      "grid_area": null,
      "grid_auto_columns": null,
      "grid_auto_flow": null,
      "grid_auto_rows": null,
      "grid_column": null,
      "grid_gap": null,
      "grid_row": null,
      "grid_template_areas": null,
      "grid_template_columns": null,
      "grid_template_rows": null,
      "height": null,
      "justify_content": null,
      "justify_items": null,
      "left": null,
      "margin": null,
      "max_height": null,
      "max_width": null,
      "min_height": null,
      "min_width": null,
      "object_fit": null,
      "object_position": null,
      "order": null,
      "overflow": null,
      "overflow_x": null,
      "overflow_y": null,
      "padding": null,
      "right": null,
      "top": null,
      "visibility": null,
      "width": null
     }
    },
    "4c088f514fb3480dadb5a43ed5342a9d": {
     "model_module": "@jupyter-widgets/base",
     "model_module_version": "1.2.0",
     "model_name": "LayoutModel",
     "state": {
      "_model_module": "@jupyter-widgets/base",
      "_model_module_version": "1.2.0",
      "_model_name": "LayoutModel",
      "_view_count": null,
      "_view_module": "@jupyter-widgets/base",
      "_view_module_version": "1.2.0",
      "_view_name": "LayoutView",
      "align_content": null,
      "align_items": null,
      "align_self": null,
      "border": null,
      "bottom": null,
      "display": null,
      "flex": null,
      "flex_flow": null,
      "grid_area": null,
      "grid_auto_columns": null,
      "grid_auto_flow": null,
      "grid_auto_rows": null,
      "grid_column": null,
      "grid_gap": null,
      "grid_row": null,
      "grid_template_areas": null,
      "grid_template_columns": null,
      "grid_template_rows": null,
      "height": null,
      "justify_content": null,
      "justify_items": null,
      "left": null,
      "margin": null,
      "max_height": null,
      "max_width": null,
      "min_height": null,
      "min_width": null,
      "object_fit": null,
      "object_position": null,
      "order": null,
      "overflow": null,
      "overflow_x": null,
      "overflow_y": null,
      "padding": null,
      "right": null,
      "top": null,
      "visibility": null,
      "width": null
     }
    },
    "4d24bbddd8494fc4b387ea41bc259438": {
     "model_module": "@jupyter-widgets/controls",
     "model_module_version": "1.5.0",
     "model_name": "HTMLModel",
     "state": {
      "_dom_classes": [],
      "_model_module": "@jupyter-widgets/controls",
      "_model_module_version": "1.5.0",
      "_model_name": "HTMLModel",
      "_view_count": null,
      "_view_module": "@jupyter-widgets/controls",
      "_view_module_version": "1.5.0",
      "_view_name": "HTMLView",
      "description": "",
      "description_tooltip": null,
      "layout": "IPY_MODEL_87c76eb1c74c48db98bc1a19fa0b57e7",
      "placeholder": "​",
      "style": "IPY_MODEL_1a886ec7806e43d29b37c92ba0899fcd",
      "value": " 570/570 [00:00&lt;00:00, 22.6kB/s]"
     }
    },
    "4d71b8a9035c4ac8886f625d88c21cd7": {
     "model_module": "@jupyter-widgets/base",
     "model_module_version": "1.2.0",
     "model_name": "LayoutModel",
     "state": {
      "_model_module": "@jupyter-widgets/base",
      "_model_module_version": "1.2.0",
      "_model_name": "LayoutModel",
      "_view_count": null,
      "_view_module": "@jupyter-widgets/base",
      "_view_module_version": "1.2.0",
      "_view_name": "LayoutView",
      "align_content": null,
      "align_items": null,
      "align_self": null,
      "border": null,
      "bottom": null,
      "display": null,
      "flex": null,
      "flex_flow": null,
      "grid_area": null,
      "grid_auto_columns": null,
      "grid_auto_flow": null,
      "grid_auto_rows": null,
      "grid_column": null,
      "grid_gap": null,
      "grid_row": null,
      "grid_template_areas": null,
      "grid_template_columns": null,
      "grid_template_rows": null,
      "height": null,
      "justify_content": null,
      "justify_items": null,
      "left": null,
      "margin": null,
      "max_height": null,
      "max_width": null,
      "min_height": null,
      "min_width": null,
      "object_fit": null,
      "object_position": null,
      "order": null,
      "overflow": null,
      "overflow_x": null,
      "overflow_y": null,
      "padding": null,
      "right": null,
      "top": null,
      "visibility": null,
      "width": null
     }
    },
    "521ba05e68ec4a9b8c9aee0beca319a9": {
     "model_module": "@jupyter-widgets/controls",
     "model_module_version": "1.5.0",
     "model_name": "ProgressStyleModel",
     "state": {
      "_model_module": "@jupyter-widgets/controls",
      "_model_module_version": "1.5.0",
      "_model_name": "ProgressStyleModel",
      "_view_count": null,
      "_view_module": "@jupyter-widgets/base",
      "_view_module_version": "1.2.0",
      "_view_name": "StyleView",
      "bar_color": null,
      "description_width": ""
     }
    },
    "5549766bad314904b7872d2977c73132": {
     "model_module": "@jupyter-widgets/base",
     "model_module_version": "1.2.0",
     "model_name": "LayoutModel",
     "state": {
      "_model_module": "@jupyter-widgets/base",
      "_model_module_version": "1.2.0",
      "_model_name": "LayoutModel",
      "_view_count": null,
      "_view_module": "@jupyter-widgets/base",
      "_view_module_version": "1.2.0",
      "_view_name": "LayoutView",
      "align_content": null,
      "align_items": null,
      "align_self": null,
      "border": null,
      "bottom": null,
      "display": null,
      "flex": null,
      "flex_flow": null,
      "grid_area": null,
      "grid_auto_columns": null,
      "grid_auto_flow": null,
      "grid_auto_rows": null,
      "grid_column": null,
      "grid_gap": null,
      "grid_row": null,
      "grid_template_areas": null,
      "grid_template_columns": null,
      "grid_template_rows": null,
      "height": null,
      "justify_content": null,
      "justify_items": null,
      "left": null,
      "margin": null,
      "max_height": null,
      "max_width": null,
      "min_height": null,
      "min_width": null,
      "object_fit": null,
      "object_position": null,
      "order": null,
      "overflow": null,
      "overflow_x": null,
      "overflow_y": null,
      "padding": null,
      "right": null,
      "top": null,
      "visibility": null,
      "width": null
     }
    },
    "55ede9cf79f045369a204b9ff18419c5": {
     "model_module": "@jupyter-widgets/base",
     "model_module_version": "1.2.0",
     "model_name": "LayoutModel",
     "state": {
      "_model_module": "@jupyter-widgets/base",
      "_model_module_version": "1.2.0",
      "_model_name": "LayoutModel",
      "_view_count": null,
      "_view_module": "@jupyter-widgets/base",
      "_view_module_version": "1.2.0",
      "_view_name": "LayoutView",
      "align_content": null,
      "align_items": null,
      "align_self": null,
      "border": null,
      "bottom": null,
      "display": null,
      "flex": null,
      "flex_flow": null,
      "grid_area": null,
      "grid_auto_columns": null,
      "grid_auto_flow": null,
      "grid_auto_rows": null,
      "grid_column": null,
      "grid_gap": null,
      "grid_row": null,
      "grid_template_areas": null,
      "grid_template_columns": null,
      "grid_template_rows": null,
      "height": null,
      "justify_content": null,
      "justify_items": null,
      "left": null,
      "margin": null,
      "max_height": null,
      "max_width": null,
      "min_height": null,
      "min_width": null,
      "object_fit": null,
      "object_position": null,
      "order": null,
      "overflow": null,
      "overflow_x": null,
      "overflow_y": null,
      "padding": null,
      "right": null,
      "top": null,
      "visibility": null,
      "width": null
     }
    },
    "5749b4349eae4a66bcc61de0446cd235": {
     "model_module": "@jupyter-widgets/base",
     "model_module_version": "1.2.0",
     "model_name": "LayoutModel",
     "state": {
      "_model_module": "@jupyter-widgets/base",
      "_model_module_version": "1.2.0",
      "_model_name": "LayoutModel",
      "_view_count": null,
      "_view_module": "@jupyter-widgets/base",
      "_view_module_version": "1.2.0",
      "_view_name": "LayoutView",
      "align_content": null,
      "align_items": null,
      "align_self": null,
      "border": null,
      "bottom": null,
      "display": null,
      "flex": null,
      "flex_flow": null,
      "grid_area": null,
      "grid_auto_columns": null,
      "grid_auto_flow": null,
      "grid_auto_rows": null,
      "grid_column": null,
      "grid_gap": null,
      "grid_row": null,
      "grid_template_areas": null,
      "grid_template_columns": null,
      "grid_template_rows": null,
      "height": null,
      "justify_content": null,
      "justify_items": null,
      "left": null,
      "margin": null,
      "max_height": null,
      "max_width": null,
      "min_height": null,
      "min_width": null,
      "object_fit": null,
      "object_position": null,
      "order": null,
      "overflow": null,
      "overflow_x": null,
      "overflow_y": null,
      "padding": null,
      "right": null,
      "top": null,
      "visibility": null,
      "width": null
     }
    },
    "5c1cdd4a2d694f03a829b9918aced9bc": {
     "model_module": "@jupyter-widgets/base",
     "model_module_version": "1.2.0",
     "model_name": "LayoutModel",
     "state": {
      "_model_module": "@jupyter-widgets/base",
      "_model_module_version": "1.2.0",
      "_model_name": "LayoutModel",
      "_view_count": null,
      "_view_module": "@jupyter-widgets/base",
      "_view_module_version": "1.2.0",
      "_view_name": "LayoutView",
      "align_content": null,
      "align_items": null,
      "align_self": null,
      "border": null,
      "bottom": null,
      "display": null,
      "flex": null,
      "flex_flow": null,
      "grid_area": null,
      "grid_auto_columns": null,
      "grid_auto_flow": null,
      "grid_auto_rows": null,
      "grid_column": null,
      "grid_gap": null,
      "grid_row": null,
      "grid_template_areas": null,
      "grid_template_columns": null,
      "grid_template_rows": null,
      "height": null,
      "justify_content": null,
      "justify_items": null,
      "left": null,
      "margin": null,
      "max_height": null,
      "max_width": null,
      "min_height": null,
      "min_width": null,
      "object_fit": null,
      "object_position": null,
      "order": null,
      "overflow": null,
      "overflow_x": null,
      "overflow_y": null,
      "padding": null,
      "right": null,
      "top": null,
      "visibility": null,
      "width": null
     }
    },
    "5f0a50319f524433bd4c36d5821991fe": {
     "model_module": "@jupyter-widgets/base",
     "model_module_version": "1.2.0",
     "model_name": "LayoutModel",
     "state": {
      "_model_module": "@jupyter-widgets/base",
      "_model_module_version": "1.2.0",
      "_model_name": "LayoutModel",
      "_view_count": null,
      "_view_module": "@jupyter-widgets/base",
      "_view_module_version": "1.2.0",
      "_view_name": "LayoutView",
      "align_content": null,
      "align_items": null,
      "align_self": null,
      "border": null,
      "bottom": null,
      "display": null,
      "flex": null,
      "flex_flow": null,
      "grid_area": null,
      "grid_auto_columns": null,
      "grid_auto_flow": null,
      "grid_auto_rows": null,
      "grid_column": null,
      "grid_gap": null,
      "grid_row": null,
      "grid_template_areas": null,
      "grid_template_columns": null,
      "grid_template_rows": null,
      "height": null,
      "justify_content": null,
      "justify_items": null,
      "left": null,
      "margin": null,
      "max_height": null,
      "max_width": null,
      "min_height": null,
      "min_width": null,
      "object_fit": null,
      "object_position": null,
      "order": null,
      "overflow": null,
      "overflow_x": null,
      "overflow_y": null,
      "padding": null,
      "right": null,
      "top": null,
      "visibility": null,
      "width": null
     }
    },
    "619b5908d49e4664b6f1d46847cba869": {
     "model_module": "@jupyter-widgets/controls",
     "model_module_version": "1.5.0",
     "model_name": "HBoxModel",
     "state": {
      "_dom_classes": [],
      "_model_module": "@jupyter-widgets/controls",
      "_model_module_version": "1.5.0",
      "_model_name": "HBoxModel",
      "_view_count": null,
      "_view_module": "@jupyter-widgets/controls",
      "_view_module_version": "1.5.0",
      "_view_name": "HBoxView",
      "box_style": "",
      "children": [
       "IPY_MODEL_11d4b33aaf174d378fc601a1035a2ddf",
       "IPY_MODEL_82959ceaa1ba4ac8af0dbb7d14cfb768",
       "IPY_MODEL_3acb5b86c2754bc896c63f2ebf3cf5e5"
      ],
      "layout": "IPY_MODEL_fd537fc85bbe4c80b9b22af26d0687ba"
     }
    },
    "627c05824f2f4ce2bdc5e77e0168275c": {
     "model_module": "@jupyter-widgets/controls",
     "model_module_version": "1.5.0",
     "model_name": "HTMLModel",
     "state": {
      "_dom_classes": [],
      "_model_module": "@jupyter-widgets/controls",
      "_model_module_version": "1.5.0",
      "_model_name": "HTMLModel",
      "_view_count": null,
      "_view_module": "@jupyter-widgets/controls",
      "_view_module_version": "1.5.0",
      "_view_name": "HTMLView",
      "description": "",
      "description_tooltip": null,
      "layout": "IPY_MODEL_abc89570c9704d0088bc60f0174c446e",
      "placeholder": "​",
      "style": "IPY_MODEL_d5f8bb9fd331425d9c19263c2b8ca9e3",
      "value": "Downloading: 100%"
     }
    },
    "62fa93b63aa448e8a97d2da98771672b": {
     "model_module": "@jupyter-widgets/controls",
     "model_module_version": "1.5.0",
     "model_name": "DescriptionStyleModel",
     "state": {
      "_model_module": "@jupyter-widgets/controls",
      "_model_module_version": "1.5.0",
      "_model_name": "DescriptionStyleModel",
      "_view_count": null,
      "_view_module": "@jupyter-widgets/base",
      "_view_module_version": "1.2.0",
      "_view_name": "StyleView",
      "description_width": ""
     }
    },
    "63491f7ac2164724991979d89fed8f11": {
     "model_module": "@jupyter-widgets/controls",
     "model_module_version": "1.5.0",
     "model_name": "FloatProgressModel",
     "state": {
      "_dom_classes": [],
      "_model_module": "@jupyter-widgets/controls",
      "_model_module_version": "1.5.0",
      "_model_name": "FloatProgressModel",
      "_view_count": null,
      "_view_module": "@jupyter-widgets/controls",
      "_view_module_version": "1.5.0",
      "_view_name": "ProgressView",
      "bar_style": "success",
      "description": "",
      "description_tooltip": null,
      "layout": "IPY_MODEL_2642757d209b49719afa9516664d6679",
      "max": 435779157,
      "min": 0,
      "orientation": "horizontal",
      "style": "IPY_MODEL_f4498e3683424b9092d0e09973b86901",
      "value": 435779157
     }
    },
    "6550aef5322d4d91896cff9b974de61a": {
     "model_module": "@jupyter-widgets/controls",
     "model_module_version": "1.5.0",
     "model_name": "HBoxModel",
     "state": {
      "_dom_classes": [],
      "_model_module": "@jupyter-widgets/controls",
      "_model_module_version": "1.5.0",
      "_model_name": "HBoxModel",
      "_view_count": null,
      "_view_module": "@jupyter-widgets/controls",
      "_view_module_version": "1.5.0",
      "_view_name": "HBoxView",
      "box_style": "",
      "children": [
       "IPY_MODEL_27708adebb6c48bbba8a2d598a04a196",
       "IPY_MODEL_e562f92afb3645f480e5a23048dc9084",
       "IPY_MODEL_912d8a37a24d4e5aa420b12b73c50ef5"
      ],
      "layout": "IPY_MODEL_04ea57155c1a436c9e413efb4dc8712e"
     }
    },
    "716383da41bf4b5f8cbf3953d726f645": {
     "model_module": "@jupyter-widgets/controls",
     "model_module_version": "1.5.0",
     "model_name": "DescriptionStyleModel",
     "state": {
      "_model_module": "@jupyter-widgets/controls",
      "_model_module_version": "1.5.0",
      "_model_name": "DescriptionStyleModel",
      "_view_count": null,
      "_view_module": "@jupyter-widgets/base",
      "_view_module_version": "1.2.0",
      "_view_name": "StyleView",
      "description_width": ""
     }
    },
    "797b887938324f52a23210f63de5701d": {
     "model_module": "@jupyter-widgets/base",
     "model_module_version": "1.2.0",
     "model_name": "LayoutModel",
     "state": {
      "_model_module": "@jupyter-widgets/base",
      "_model_module_version": "1.2.0",
      "_model_name": "LayoutModel",
      "_view_count": null,
      "_view_module": "@jupyter-widgets/base",
      "_view_module_version": "1.2.0",
      "_view_name": "LayoutView",
      "align_content": null,
      "align_items": null,
      "align_self": null,
      "border": null,
      "bottom": null,
      "display": null,
      "flex": null,
      "flex_flow": null,
      "grid_area": null,
      "grid_auto_columns": null,
      "grid_auto_flow": null,
      "grid_auto_rows": null,
      "grid_column": null,
      "grid_gap": null,
      "grid_row": null,
      "grid_template_areas": null,
      "grid_template_columns": null,
      "grid_template_rows": null,
      "height": null,
      "justify_content": null,
      "justify_items": null,
      "left": null,
      "margin": null,
      "max_height": null,
      "max_width": null,
      "min_height": null,
      "min_width": null,
      "object_fit": null,
      "object_position": null,
      "order": null,
      "overflow": null,
      "overflow_x": null,
      "overflow_y": null,
      "padding": null,
      "right": null,
      "top": null,
      "visibility": null,
      "width": null
     }
    },
    "79cf134a1e8346e197f8ddf0d4dd577b": {
     "model_module": "@jupyter-widgets/controls",
     "model_module_version": "1.5.0",
     "model_name": "HTMLModel",
     "state": {
      "_dom_classes": [],
      "_model_module": "@jupyter-widgets/controls",
      "_model_module_version": "1.5.0",
      "_model_name": "HTMLModel",
      "_view_count": null,
      "_view_module": "@jupyter-widgets/controls",
      "_view_module_version": "1.5.0",
      "_view_name": "HTMLView",
      "description": "",
      "description_tooltip": null,
      "layout": "IPY_MODEL_2d918735c6fb4894a50081549deae5c9",
      "placeholder": "​",
      "style": "IPY_MODEL_b36742fcaf224ab89924a1e6d8253632",
      "value": "Downloading: 100%"
     }
    },
    "7e282769168e41f1a079a9d86330534f": {
     "model_module": "@jupyter-widgets/controls",
     "model_module_version": "1.5.0",
     "model_name": "FloatProgressModel",
     "state": {
      "_dom_classes": [],
      "_model_module": "@jupyter-widgets/controls",
      "_model_module_version": "1.5.0",
      "_model_name": "FloatProgressModel",
      "_view_count": null,
      "_view_module": "@jupyter-widgets/controls",
      "_view_module_version": "1.5.0",
      "_view_name": "ProgressView",
      "bar_style": "success",
      "description": "",
      "description_tooltip": null,
      "layout": "IPY_MODEL_a3d258fed61a48448d4e45f1a8a5edf3",
      "max": 435797,
      "min": 0,
      "orientation": "horizontal",
      "style": "IPY_MODEL_032b1226328146e69a5feb0561e78618",
      "value": 435797
     }
    },
    "82959ceaa1ba4ac8af0dbb7d14cfb768": {
     "model_module": "@jupyter-widgets/controls",
     "model_module_version": "1.5.0",
     "model_name": "FloatProgressModel",
     "state": {
      "_dom_classes": [],
      "_model_module": "@jupyter-widgets/controls",
      "_model_module_version": "1.5.0",
      "_model_name": "FloatProgressModel",
      "_view_count": null,
      "_view_module": "@jupyter-widgets/controls",
      "_view_module_version": "1.5.0",
      "_view_name": "ProgressView",
      "bar_style": "success",
      "description": "",
      "description_tooltip": null,
      "layout": "IPY_MODEL_b20ae0b56b3f455fadfd174a394ab116",
      "max": 29,
      "min": 0,
      "orientation": "horizontal",
      "style": "IPY_MODEL_1d23025e8c1b45b9b94dcff6d519a387",
      "value": 29
     }
    },
    "8424e9f430304bc3bc2a1621a23d171c": {
     "model_module": "@jupyter-widgets/controls",
     "model_module_version": "1.5.0",
     "model_name": "FloatProgressModel",
     "state": {
      "_dom_classes": [],
      "_model_module": "@jupyter-widgets/controls",
      "_model_module_version": "1.5.0",
      "_model_name": "FloatProgressModel",
      "_view_count": null,
      "_view_module": "@jupyter-widgets/controls",
      "_view_module_version": "1.5.0",
      "_view_name": "ProgressView",
      "bar_style": "success",
      "description": "",
      "description_tooltip": null,
      "layout": "IPY_MODEL_797b887938324f52a23210f63de5701d",
      "max": 435779157,
      "min": 0,
      "orientation": "horizontal",
      "style": "IPY_MODEL_d41d10ef8b994974852b03ce11e98bc5",
      "value": 435779157
     }
    },
    "87bcaa1f7e4040d5aff8aaef2aa6f7cd": {
     "model_module": "@jupyter-widgets/controls",
     "model_module_version": "1.5.0",
     "model_name": "FloatProgressModel",
     "state": {
      "_dom_classes": [],
      "_model_module": "@jupyter-widgets/controls",
      "_model_module_version": "1.5.0",
      "_model_name": "FloatProgressModel",
      "_view_count": null,
      "_view_module": "@jupyter-widgets/controls",
      "_view_module_version": "1.5.0",
      "_view_name": "ProgressView",
      "bar_style": "success",
      "description": "",
      "description_tooltip": null,
      "layout": "IPY_MODEL_f1be00d70c9e4513ba3d7d1a31143eac",
      "max": 570,
      "min": 0,
      "orientation": "horizontal",
      "style": "IPY_MODEL_394e26a3e67e4a35a514a7b9264af1e5",
      "value": 570
     }
    },
    "87c76eb1c74c48db98bc1a19fa0b57e7": {
     "model_module": "@jupyter-widgets/base",
     "model_module_version": "1.2.0",
     "model_name": "LayoutModel",
     "state": {
      "_model_module": "@jupyter-widgets/base",
      "_model_module_version": "1.2.0",
      "_model_name": "LayoutModel",
      "_view_count": null,
      "_view_module": "@jupyter-widgets/base",
      "_view_module_version": "1.2.0",
      "_view_name": "LayoutView",
      "align_content": null,
      "align_items": null,
      "align_self": null,
      "border": null,
      "bottom": null,
      "display": null,
      "flex": null,
      "flex_flow": null,
      "grid_area": null,
      "grid_auto_columns": null,
      "grid_auto_flow": null,
      "grid_auto_rows": null,
      "grid_column": null,
      "grid_gap": null,
      "grid_row": null,
      "grid_template_areas": null,
      "grid_template_columns": null,
      "grid_template_rows": null,
      "height": null,
      "justify_content": null,
      "justify_items": null,
      "left": null,
      "margin": null,
      "max_height": null,
      "max_width": null,
      "min_height": null,
      "min_width": null,
      "object_fit": null,
      "object_position": null,
      "order": null,
      "overflow": null,
      "overflow_x": null,
      "overflow_y": null,
      "padding": null,
      "right": null,
      "top": null,
      "visibility": null,
      "width": null
     }
    },
    "8c6ea01cfbf84970acf1823aaa2ebab6": {
     "model_module": "@jupyter-widgets/base",
     "model_module_version": "1.2.0",
     "model_name": "LayoutModel",
     "state": {
      "_model_module": "@jupyter-widgets/base",
      "_model_module_version": "1.2.0",
      "_model_name": "LayoutModel",
      "_view_count": null,
      "_view_module": "@jupyter-widgets/base",
      "_view_module_version": "1.2.0",
      "_view_name": "LayoutView",
      "align_content": null,
      "align_items": null,
      "align_self": null,
      "border": null,
      "bottom": null,
      "display": null,
      "flex": null,
      "flex_flow": null,
      "grid_area": null,
      "grid_auto_columns": null,
      "grid_auto_flow": null,
      "grid_auto_rows": null,
      "grid_column": null,
      "grid_gap": null,
      "grid_row": null,
      "grid_template_areas": null,
      "grid_template_columns": null,
      "grid_template_rows": null,
      "height": null,
      "justify_content": null,
      "justify_items": null,
      "left": null,
      "margin": null,
      "max_height": null,
      "max_width": null,
      "min_height": null,
      "min_width": null,
      "object_fit": null,
      "object_position": null,
      "order": null,
      "overflow": null,
      "overflow_x": null,
      "overflow_y": null,
      "padding": null,
      "right": null,
      "top": null,
      "visibility": null,
      "width": null
     }
    },
    "8f8c07096f52481eb6316f6a27d4a9ff": {
     "model_module": "@jupyter-widgets/controls",
     "model_module_version": "1.5.0",
     "model_name": "HTMLModel",
     "state": {
      "_dom_classes": [],
      "_model_module": "@jupyter-widgets/controls",
      "_model_module_version": "1.5.0",
      "_model_name": "HTMLModel",
      "_view_count": null,
      "_view_module": "@jupyter-widgets/controls",
      "_view_module_version": "1.5.0",
      "_view_name": "HTMLView",
      "description": "",
      "description_tooltip": null,
      "layout": "IPY_MODEL_38171ffae23a40ffa7293edc29fe3b42",
      "placeholder": "​",
      "style": "IPY_MODEL_3cdf55348ea94670a80db3189a184a17",
      "value": " 416M/416M [00:07&lt;00:00, 61.7MB/s]"
     }
    },
    "912d8a37a24d4e5aa420b12b73c50ef5": {
     "model_module": "@jupyter-widgets/controls",
     "model_module_version": "1.5.0",
     "model_name": "HTMLModel",
     "state": {
      "_dom_classes": [],
      "_model_module": "@jupyter-widgets/controls",
      "_model_module_version": "1.5.0",
      "_model_name": "HTMLModel",
      "_view_count": null,
      "_view_module": "@jupyter-widgets/controls",
      "_view_module_version": "1.5.0",
      "_view_name": "HTMLView",
      "description": "",
      "description_tooltip": null,
      "layout": "IPY_MODEL_8c6ea01cfbf84970acf1823aaa2ebab6",
      "placeholder": "​",
      "style": "IPY_MODEL_376f70b30b5f413eb0782a8779f2816b",
      "value": " 426k/426k [00:00&lt;00:00, 891kB/s]"
     }
    },
    "92ad071111f04107b30e0aeb424b0f04": {
     "model_module": "@jupyter-widgets/controls",
     "model_module_version": "1.5.0",
     "model_name": "HBoxModel",
     "state": {
      "_dom_classes": [],
      "_model_module": "@jupyter-widgets/controls",
      "_model_module_version": "1.5.0",
      "_model_name": "HBoxModel",
      "_view_count": null,
      "_view_module": "@jupyter-widgets/controls",
      "_view_module_version": "1.5.0",
      "_view_name": "HBoxView",
      "box_style": "",
      "children": [
       "IPY_MODEL_b2bb1e9bb7544b4e96e4d8613f644d45",
       "IPY_MODEL_87bcaa1f7e4040d5aff8aaef2aa6f7cd",
       "IPY_MODEL_e7e48d8a63b64650b296bbf577812d08"
      ],
      "layout": "IPY_MODEL_20a1dd7cf1d34d61a8913a92ed335674"
     }
    },
    "96cac06109304b3a91d2086c13bfbbe3": {
     "model_module": "@jupyter-widgets/controls",
     "model_module_version": "1.5.0",
     "model_name": "HBoxModel",
     "state": {
      "_dom_classes": [],
      "_model_module": "@jupyter-widgets/controls",
      "_model_module_version": "1.5.0",
      "_model_name": "HBoxModel",
      "_view_count": null,
      "_view_module": "@jupyter-widgets/controls",
      "_view_module_version": "1.5.0",
      "_view_name": "HBoxView",
      "box_style": "",
      "children": [
       "IPY_MODEL_b033f3612464437eb7e0a15b3f57aa94",
       "IPY_MODEL_2995afa261104f4b843a604bb7731c18",
       "IPY_MODEL_c61b86160fcc4d71abb553dc0cd8c6aa"
      ],
      "layout": "IPY_MODEL_40b7a4aa50204557927d03b1474668cd"
     }
    },
    "9ded7a6acee5415897e2cd34225e5338": {
     "model_module": "@jupyter-widgets/base",
     "model_module_version": "1.2.0",
     "model_name": "LayoutModel",
     "state": {
      "_model_module": "@jupyter-widgets/base",
      "_model_module_version": "1.2.0",
      "_model_name": "LayoutModel",
      "_view_count": null,
      "_view_module": "@jupyter-widgets/base",
      "_view_module_version": "1.2.0",
      "_view_name": "LayoutView",
      "align_content": null,
      "align_items": null,
      "align_self": null,
      "border": null,
      "bottom": null,
      "display": null,
      "flex": null,
      "flex_flow": null,
      "grid_area": null,
      "grid_auto_columns": null,
      "grid_auto_flow": null,
      "grid_auto_rows": null,
      "grid_column": null,
      "grid_gap": null,
      "grid_row": null,
      "grid_template_areas": null,
      "grid_template_columns": null,
      "grid_template_rows": null,
      "height": null,
      "justify_content": null,
      "justify_items": null,
      "left": null,
      "margin": null,
      "max_height": null,
      "max_width": null,
      "min_height": null,
      "min_width": null,
      "object_fit": null,
      "object_position": null,
      "order": null,
      "overflow": null,
      "overflow_x": null,
      "overflow_y": null,
      "padding": null,
      "right": null,
      "top": null,
      "visibility": null,
      "width": null
     }
    },
    "a3d258fed61a48448d4e45f1a8a5edf3": {
     "model_module": "@jupyter-widgets/base",
     "model_module_version": "1.2.0",
     "model_name": "LayoutModel",
     "state": {
      "_model_module": "@jupyter-widgets/base",
      "_model_module_version": "1.2.0",
      "_model_name": "LayoutModel",
      "_view_count": null,
      "_view_module": "@jupyter-widgets/base",
      "_view_module_version": "1.2.0",
      "_view_name": "LayoutView",
      "align_content": null,
      "align_items": null,
      "align_self": null,
      "border": null,
      "bottom": null,
      "display": null,
      "flex": null,
      "flex_flow": null,
      "grid_area": null,
      "grid_auto_columns": null,
      "grid_auto_flow": null,
      "grid_auto_rows": null,
      "grid_column": null,
      "grid_gap": null,
      "grid_row": null,
      "grid_template_areas": null,
      "grid_template_columns": null,
      "grid_template_rows": null,
      "height": null,
      "justify_content": null,
      "justify_items": null,
      "left": null,
      "margin": null,
      "max_height": null,
      "max_width": null,
      "min_height": null,
      "min_width": null,
      "object_fit": null,
      "object_position": null,
      "order": null,
      "overflow": null,
      "overflow_x": null,
      "overflow_y": null,
      "padding": null,
      "right": null,
      "top": null,
      "visibility": null,
      "width": null
     }
    },
    "a51b794087b24b1d8cf5c4ae15c9f21b": {
     "model_module": "@jupyter-widgets/controls",
     "model_module_version": "1.5.0",
     "model_name": "ProgressStyleModel",
     "state": {
      "_model_module": "@jupyter-widgets/controls",
      "_model_module_version": "1.5.0",
      "_model_name": "ProgressStyleModel",
      "_view_count": null,
      "_view_module": "@jupyter-widgets/base",
      "_view_module_version": "1.2.0",
      "_view_name": "StyleView",
      "bar_color": null,
      "description_width": ""
     }
    },
    "a7e17739e1d7469f94717ce7ed7dda85": {
     "model_module": "@jupyter-widgets/base",
     "model_module_version": "1.2.0",
     "model_name": "LayoutModel",
     "state": {
      "_model_module": "@jupyter-widgets/base",
      "_model_module_version": "1.2.0",
      "_model_name": "LayoutModel",
      "_view_count": null,
      "_view_module": "@jupyter-widgets/base",
      "_view_module_version": "1.2.0",
      "_view_name": "LayoutView",
      "align_content": null,
      "align_items": null,
      "align_self": null,
      "border": null,
      "bottom": null,
      "display": null,
      "flex": null,
      "flex_flow": null,
      "grid_area": null,
      "grid_auto_columns": null,
      "grid_auto_flow": null,
      "grid_auto_rows": null,
      "grid_column": null,
      "grid_gap": null,
      "grid_row": null,
      "grid_template_areas": null,
      "grid_template_columns": null,
      "grid_template_rows": null,
      "height": null,
      "justify_content": null,
      "justify_items": null,
      "left": null,
      "margin": null,
      "max_height": null,
      "max_width": null,
      "min_height": null,
      "min_width": null,
      "object_fit": null,
      "object_position": null,
      "order": null,
      "overflow": null,
      "overflow_x": null,
      "overflow_y": null,
      "padding": null,
      "right": null,
      "top": null,
      "visibility": null,
      "width": null
     }
    },
    "aa7db74f87da43629ef47fa4aadbc6d5": {
     "model_module": "@jupyter-widgets/controls",
     "model_module_version": "1.5.0",
     "model_name": "FloatProgressModel",
     "state": {
      "_dom_classes": [],
      "_model_module": "@jupyter-widgets/controls",
      "_model_module_version": "1.5.0",
      "_model_name": "FloatProgressModel",
      "_view_count": null,
      "_view_module": "@jupyter-widgets/controls",
      "_view_module_version": "1.5.0",
      "_view_name": "ProgressView",
      "bar_style": "success",
      "description": "",
      "description_tooltip": null,
      "layout": "IPY_MODEL_a7e17739e1d7469f94717ce7ed7dda85",
      "max": 213450,
      "min": 0,
      "orientation": "horizontal",
      "style": "IPY_MODEL_521ba05e68ec4a9b8c9aee0beca319a9",
      "value": 213450
     }
    },
    "aad55f331f684178a6c126303dfc9d19": {
     "model_module": "@jupyter-widgets/controls",
     "model_module_version": "1.5.0",
     "model_name": "DescriptionStyleModel",
     "state": {
      "_model_module": "@jupyter-widgets/controls",
      "_model_module_version": "1.5.0",
      "_model_name": "DescriptionStyleModel",
      "_view_count": null,
      "_view_module": "@jupyter-widgets/base",
      "_view_module_version": "1.2.0",
      "_view_name": "StyleView",
      "description_width": ""
     }
    },
    "aaf9c145d505463fb729191515930f3c": {
     "model_module": "@jupyter-widgets/base",
     "model_module_version": "1.2.0",
     "model_name": "LayoutModel",
     "state": {
      "_model_module": "@jupyter-widgets/base",
      "_model_module_version": "1.2.0",
      "_model_name": "LayoutModel",
      "_view_count": null,
      "_view_module": "@jupyter-widgets/base",
      "_view_module_version": "1.2.0",
      "_view_name": "LayoutView",
      "align_content": null,
      "align_items": null,
      "align_self": null,
      "border": null,
      "bottom": null,
      "display": null,
      "flex": null,
      "flex_flow": null,
      "grid_area": null,
      "grid_auto_columns": null,
      "grid_auto_flow": null,
      "grid_auto_rows": null,
      "grid_column": null,
      "grid_gap": null,
      "grid_row": null,
      "grid_template_areas": null,
      "grid_template_columns": null,
      "grid_template_rows": null,
      "height": null,
      "justify_content": null,
      "justify_items": null,
      "left": null,
      "margin": null,
      "max_height": null,
      "max_width": null,
      "min_height": null,
      "min_width": null,
      "object_fit": null,
      "object_position": null,
      "order": null,
      "overflow": null,
      "overflow_x": null,
      "overflow_y": null,
      "padding": null,
      "right": null,
      "top": null,
      "visibility": null,
      "width": null
     }
    },
    "abc89570c9704d0088bc60f0174c446e": {
     "model_module": "@jupyter-widgets/base",
     "model_module_version": "1.2.0",
     "model_name": "LayoutModel",
     "state": {
      "_model_module": "@jupyter-widgets/base",
      "_model_module_version": "1.2.0",
      "_model_name": "LayoutModel",
      "_view_count": null,
      "_view_module": "@jupyter-widgets/base",
      "_view_module_version": "1.2.0",
      "_view_name": "LayoutView",
      "align_content": null,
      "align_items": null,
      "align_self": null,
      "border": null,
      "bottom": null,
      "display": null,
      "flex": null,
      "flex_flow": null,
      "grid_area": null,
      "grid_auto_columns": null,
      "grid_auto_flow": null,
      "grid_auto_rows": null,
      "grid_column": null,
      "grid_gap": null,
      "grid_row": null,
      "grid_template_areas": null,
      "grid_template_columns": null,
      "grid_template_rows": null,
      "height": null,
      "justify_content": null,
      "justify_items": null,
      "left": null,
      "margin": null,
      "max_height": null,
      "max_width": null,
      "min_height": null,
      "min_width": null,
      "object_fit": null,
      "object_position": null,
      "order": null,
      "overflow": null,
      "overflow_x": null,
      "overflow_y": null,
      "padding": null,
      "right": null,
      "top": null,
      "visibility": null,
      "width": null
     }
    },
    "b021e094331849d490bb263d76460187": {
     "model_module": "@jupyter-widgets/controls",
     "model_module_version": "1.5.0",
     "model_name": "HTMLModel",
     "state": {
      "_dom_classes": [],
      "_model_module": "@jupyter-widgets/controls",
      "_model_module_version": "1.5.0",
      "_model_name": "HTMLModel",
      "_view_count": null,
      "_view_module": "@jupyter-widgets/controls",
      "_view_module_version": "1.5.0",
      "_view_name": "HTMLView",
      "description": "",
      "description_tooltip": null,
      "layout": "IPY_MODEL_161056b040e14daf8473a4c36d646d7a",
      "placeholder": "​",
      "style": "IPY_MODEL_716383da41bf4b5f8cbf3953d726f645",
      "value": "Downloading: 100%"
     }
    },
    "b033f3612464437eb7e0a15b3f57aa94": {
     "model_module": "@jupyter-widgets/controls",
     "model_module_version": "1.5.0",
     "model_name": "HTMLModel",
     "state": {
      "_dom_classes": [],
      "_model_module": "@jupyter-widgets/controls",
      "_model_module_version": "1.5.0",
      "_model_name": "HTMLModel",
      "_view_count": null,
      "_view_module": "@jupyter-widgets/controls",
      "_view_module_version": "1.5.0",
      "_view_name": "HTMLView",
      "description": "",
      "description_tooltip": null,
      "layout": "IPY_MODEL_9ded7a6acee5415897e2cd34225e5338",
      "placeholder": "​",
      "style": "IPY_MODEL_0cd0d79d6c8549aba34e52daaa4b0f96",
      "value": "Downloading: 100%"
     }
    },
    "b0e80aa6d2b94cf4b0b2da51c24a3747": {
     "model_module": "@jupyter-widgets/base",
     "model_module_version": "1.2.0",
     "model_name": "LayoutModel",
     "state": {
      "_model_module": "@jupyter-widgets/base",
      "_model_module_version": "1.2.0",
      "_model_name": "LayoutModel",
      "_view_count": null,
      "_view_module": "@jupyter-widgets/base",
      "_view_module_version": "1.2.0",
      "_view_name": "LayoutView",
      "align_content": null,
      "align_items": null,
      "align_self": null,
      "border": null,
      "bottom": null,
      "display": null,
      "flex": null,
      "flex_flow": null,
      "grid_area": null,
      "grid_auto_columns": null,
      "grid_auto_flow": null,
      "grid_auto_rows": null,
      "grid_column": null,
      "grid_gap": null,
      "grid_row": null,
      "grid_template_areas": null,
      "grid_template_columns": null,
      "grid_template_rows": null,
      "height": null,
      "justify_content": null,
      "justify_items": null,
      "left": null,
      "margin": null,
      "max_height": null,
      "max_width": null,
      "min_height": null,
      "min_width": null,
      "object_fit": null,
      "object_position": null,
      "order": null,
      "overflow": null,
      "overflow_x": null,
      "overflow_y": null,
      "padding": null,
      "right": null,
      "top": null,
      "visibility": null,
      "width": null
     }
    },
    "b20ae0b56b3f455fadfd174a394ab116": {
     "model_module": "@jupyter-widgets/base",
     "model_module_version": "1.2.0",
     "model_name": "LayoutModel",
     "state": {
      "_model_module": "@jupyter-widgets/base",
      "_model_module_version": "1.2.0",
      "_model_name": "LayoutModel",
      "_view_count": null,
      "_view_module": "@jupyter-widgets/base",
      "_view_module_version": "1.2.0",
      "_view_name": "LayoutView",
      "align_content": null,
      "align_items": null,
      "align_self": null,
      "border": null,
      "bottom": null,
      "display": null,
      "flex": null,
      "flex_flow": null,
      "grid_area": null,
      "grid_auto_columns": null,
      "grid_auto_flow": null,
      "grid_auto_rows": null,
      "grid_column": null,
      "grid_gap": null,
      "grid_row": null,
      "grid_template_areas": null,
      "grid_template_columns": null,
      "grid_template_rows": null,
      "height": null,
      "justify_content": null,
      "justify_items": null,
      "left": null,
      "margin": null,
      "max_height": null,
      "max_width": null,
      "min_height": null,
      "min_width": null,
      "object_fit": null,
      "object_position": null,
      "order": null,
      "overflow": null,
      "overflow_x": null,
      "overflow_y": null,
      "padding": null,
      "right": null,
      "top": null,
      "visibility": null,
      "width": null
     }
    },
    "b2b5e25d7bd14c7eb6ce1b3a01d9347b": {
     "model_module": "@jupyter-widgets/controls",
     "model_module_version": "1.5.0",
     "model_name": "HBoxModel",
     "state": {
      "_dom_classes": [],
      "_model_module": "@jupyter-widgets/controls",
      "_model_module_version": "1.5.0",
      "_model_name": "HBoxModel",
      "_view_count": null,
      "_view_module": "@jupyter-widgets/controls",
      "_view_module_version": "1.5.0",
      "_view_name": "HBoxView",
      "box_style": "",
      "children": [
       "IPY_MODEL_b021e094331849d490bb263d76460187",
       "IPY_MODEL_63491f7ac2164724991979d89fed8f11",
       "IPY_MODEL_f6f702254aa44ca5a8fe5e74b8c866bb"
      ],
      "layout": "IPY_MODEL_4d71b8a9035c4ac8886f625d88c21cd7"
     }
    },
    "b2bb1e9bb7544b4e96e4d8613f644d45": {
     "model_module": "@jupyter-widgets/controls",
     "model_module_version": "1.5.0",
     "model_name": "HTMLModel",
     "state": {
      "_dom_classes": [],
      "_model_module": "@jupyter-widgets/controls",
      "_model_module_version": "1.5.0",
      "_model_name": "HTMLModel",
      "_view_count": null,
      "_view_module": "@jupyter-widgets/controls",
      "_view_module_version": "1.5.0",
      "_view_name": "HTMLView",
      "description": "",
      "description_tooltip": null,
      "layout": "IPY_MODEL_5549766bad314904b7872d2977c73132",
      "placeholder": "​",
      "style": "IPY_MODEL_3eaef3733e3146a48220694d72a3b7b4",
      "value": "Downloading: 100%"
     }
    },
    "b36742fcaf224ab89924a1e6d8253632": {
     "model_module": "@jupyter-widgets/controls",
     "model_module_version": "1.5.0",
     "model_name": "DescriptionStyleModel",
     "state": {
      "_model_module": "@jupyter-widgets/controls",
      "_model_module_version": "1.5.0",
      "_model_name": "DescriptionStyleModel",
      "_view_count": null,
      "_view_module": "@jupyter-widgets/base",
      "_view_module_version": "1.2.0",
      "_view_name": "StyleView",
      "description_width": ""
     }
    },
    "ba0bf2a1d85e43f58132f090cd4d23cf": {
     "model_module": "@jupyter-widgets/controls",
     "model_module_version": "1.5.0",
     "model_name": "FloatProgressModel",
     "state": {
      "_dom_classes": [],
      "_model_module": "@jupyter-widgets/controls",
      "_model_module_version": "1.5.0",
      "_model_name": "FloatProgressModel",
      "_view_count": null,
      "_view_module": "@jupyter-widgets/controls",
      "_view_module_version": "1.5.0",
      "_view_name": "ProgressView",
      "bar_style": "success",
      "description": "",
      "description_tooltip": null,
      "layout": "IPY_MODEL_4a790cd8317844b38fa478fbf53a5119",
      "max": 570,
      "min": 0,
      "orientation": "horizontal",
      "style": "IPY_MODEL_a51b794087b24b1d8cf5c4ae15c9f21b",
      "value": 570
     }
    },
    "c33a6be9b6f640d28f401c75737b3dae": {
     "model_module": "@jupyter-widgets/controls",
     "model_module_version": "1.5.0",
     "model_name": "ProgressStyleModel",
     "state": {
      "_model_module": "@jupyter-widgets/controls",
      "_model_module_version": "1.5.0",
      "_model_name": "ProgressStyleModel",
      "_view_count": null,
      "_view_module": "@jupyter-widgets/base",
      "_view_module_version": "1.2.0",
      "_view_name": "StyleView",
      "bar_color": null,
      "description_width": ""
     }
    },
    "c3ca80725c734391a2e9514eb529ed07": {
     "model_module": "@jupyter-widgets/base",
     "model_module_version": "1.2.0",
     "model_name": "LayoutModel",
     "state": {
      "_model_module": "@jupyter-widgets/base",
      "_model_module_version": "1.2.0",
      "_model_name": "LayoutModel",
      "_view_count": null,
      "_view_module": "@jupyter-widgets/base",
      "_view_module_version": "1.2.0",
      "_view_name": "LayoutView",
      "align_content": null,
      "align_items": null,
      "align_self": null,
      "border": null,
      "bottom": null,
      "display": null,
      "flex": null,
      "flex_flow": null,
      "grid_area": null,
      "grid_auto_columns": null,
      "grid_auto_flow": null,
      "grid_auto_rows": null,
      "grid_column": null,
      "grid_gap": null,
      "grid_row": null,
      "grid_template_areas": null,
      "grid_template_columns": null,
      "grid_template_rows": null,
      "height": null,
      "justify_content": null,
      "justify_items": null,
      "left": null,
      "margin": null,
      "max_height": null,
      "max_width": null,
      "min_height": null,
      "min_width": null,
      "object_fit": null,
      "object_position": null,
      "order": null,
      "overflow": null,
      "overflow_x": null,
      "overflow_y": null,
      "padding": null,
      "right": null,
      "top": null,
      "visibility": null,
      "width": null
     }
    },
    "c5d745cd255c4340b853fc3e70ee381c": {
     "model_module": "@jupyter-widgets/controls",
     "model_module_version": "1.5.0",
     "model_name": "HBoxModel",
     "state": {
      "_dom_classes": [],
      "_model_module": "@jupyter-widgets/controls",
      "_model_module_version": "1.5.0",
      "_model_name": "HBoxModel",
      "_view_count": null,
      "_view_module": "@jupyter-widgets/controls",
      "_view_module_version": "1.5.0",
      "_view_name": "HBoxView",
      "box_style": "",
      "children": [
       "IPY_MODEL_627c05824f2f4ce2bdc5e77e0168275c",
       "IPY_MODEL_7e282769168e41f1a079a9d86330534f",
       "IPY_MODEL_2c30cbf7df0248429df146291b55130d"
      ],
      "layout": "IPY_MODEL_f22a973d9aa34614a55288b22e1515fa"
     }
    },
    "c61b86160fcc4d71abb553dc0cd8c6aa": {
     "model_module": "@jupyter-widgets/controls",
     "model_module_version": "1.5.0",
     "model_name": "HTMLModel",
     "state": {
      "_dom_classes": [],
      "_model_module": "@jupyter-widgets/controls",
      "_model_module_version": "1.5.0",
      "_model_name": "HTMLModel",
      "_view_count": null,
      "_view_module": "@jupyter-widgets/controls",
      "_view_module_version": "1.5.0",
      "_view_name": "HTMLView",
      "description": "",
      "description_tooltip": null,
      "layout": "IPY_MODEL_2b56f5d180f94450b6da6675260b9347",
      "placeholder": "​",
      "style": "IPY_MODEL_3327319646de478c8818b605508eed77",
      "value": " 208k/208k [00:00&lt;00:00, 834kB/s]"
     }
    },
    "c8ca717b32524db28a0a9d68861d3a1f": {
     "model_module": "@jupyter-widgets/controls",
     "model_module_version": "1.5.0",
     "model_name": "ProgressStyleModel",
     "state": {
      "_model_module": "@jupyter-widgets/controls",
      "_model_module_version": "1.5.0",
      "_model_name": "ProgressStyleModel",
      "_view_count": null,
      "_view_module": "@jupyter-widgets/base",
      "_view_module_version": "1.2.0",
      "_view_name": "StyleView",
      "bar_color": null,
      "description_width": ""
     }
    },
    "d1a72838cd394d19b9de436f35edb26b": {
     "model_module": "@jupyter-widgets/base",
     "model_module_version": "1.2.0",
     "model_name": "LayoutModel",
     "state": {
      "_model_module": "@jupyter-widgets/base",
      "_model_module_version": "1.2.0",
      "_model_name": "LayoutModel",
      "_view_count": null,
      "_view_module": "@jupyter-widgets/base",
      "_view_module_version": "1.2.0",
      "_view_name": "LayoutView",
      "align_content": null,
      "align_items": null,
      "align_self": null,
      "border": null,
      "bottom": null,
      "display": null,
      "flex": null,
      "flex_flow": null,
      "grid_area": null,
      "grid_auto_columns": null,
      "grid_auto_flow": null,
      "grid_auto_rows": null,
      "grid_column": null,
      "grid_gap": null,
      "grid_row": null,
      "grid_template_areas": null,
      "grid_template_columns": null,
      "grid_template_rows": null,
      "height": null,
      "justify_content": null,
      "justify_items": null,
      "left": null,
      "margin": null,
      "max_height": null,
      "max_width": null,
      "min_height": null,
      "min_width": null,
      "object_fit": null,
      "object_position": null,
      "order": null,
      "overflow": null,
      "overflow_x": null,
      "overflow_y": null,
      "padding": null,
      "right": null,
      "top": null,
      "visibility": null,
      "width": null
     }
    },
    "d2e4a08432a94586999ce3a40e16311a": {
     "model_module": "@jupyter-widgets/controls",
     "model_module_version": "1.5.0",
     "model_name": "HTMLModel",
     "state": {
      "_dom_classes": [],
      "_model_module": "@jupyter-widgets/controls",
      "_model_module_version": "1.5.0",
      "_model_name": "HTMLModel",
      "_view_count": null,
      "_view_module": "@jupyter-widgets/controls",
      "_view_module_version": "1.5.0",
      "_view_name": "HTMLView",
      "description": "",
      "description_tooltip": null,
      "layout": "IPY_MODEL_55ede9cf79f045369a204b9ff18419c5",
      "placeholder": "​",
      "style": "IPY_MODEL_dfae6083d5174cb2a362fc7d0cd0db95",
      "value": "Downloading: 100%"
     }
    },
    "d3e5e05ad2714f26b80ff10fc0146ac5": {
     "model_module": "@jupyter-widgets/controls",
     "model_module_version": "1.5.0",
     "model_name": "FloatProgressModel",
     "state": {
      "_dom_classes": [],
      "_model_module": "@jupyter-widgets/controls",
      "_model_module_version": "1.5.0",
      "_model_name": "FloatProgressModel",
      "_view_count": null,
      "_view_module": "@jupyter-widgets/controls",
      "_view_module_version": "1.5.0",
      "_view_name": "ProgressView",
      "bar_style": "success",
      "description": "",
      "description_tooltip": null,
      "layout": "IPY_MODEL_4c088f514fb3480dadb5a43ed5342a9d",
      "max": 29,
      "min": 0,
      "orientation": "horizontal",
      "style": "IPY_MODEL_c8ca717b32524db28a0a9d68861d3a1f",
      "value": 29
     }
    },
    "d41d10ef8b994974852b03ce11e98bc5": {
     "model_module": "@jupyter-widgets/controls",
     "model_module_version": "1.5.0",
     "model_name": "ProgressStyleModel",
     "state": {
      "_model_module": "@jupyter-widgets/controls",
      "_model_module_version": "1.5.0",
      "_model_name": "ProgressStyleModel",
      "_view_count": null,
      "_view_module": "@jupyter-widgets/base",
      "_view_module_version": "1.2.0",
      "_view_name": "StyleView",
      "bar_color": null,
      "description_width": ""
     }
    },
    "d5f8bb9fd331425d9c19263c2b8ca9e3": {
     "model_module": "@jupyter-widgets/controls",
     "model_module_version": "1.5.0",
     "model_name": "DescriptionStyleModel",
     "state": {
      "_model_module": "@jupyter-widgets/controls",
      "_model_module_version": "1.5.0",
      "_model_name": "DescriptionStyleModel",
      "_view_count": null,
      "_view_module": "@jupyter-widgets/base",
      "_view_module_version": "1.2.0",
      "_view_name": "StyleView",
      "description_width": ""
     }
    },
    "da7d90b88d9042f0ab3799f579ca3405": {
     "model_module": "@jupyter-widgets/controls",
     "model_module_version": "1.5.0",
     "model_name": "HBoxModel",
     "state": {
      "_dom_classes": [],
      "_model_module": "@jupyter-widgets/controls",
      "_model_module_version": "1.5.0",
      "_model_name": "HBoxModel",
      "_view_count": null,
      "_view_module": "@jupyter-widgets/controls",
      "_view_module_version": "1.5.0",
      "_view_name": "HBoxView",
      "box_style": "",
      "children": [
       "IPY_MODEL_79cf134a1e8346e197f8ddf0d4dd577b",
       "IPY_MODEL_d3e5e05ad2714f26b80ff10fc0146ac5",
       "IPY_MODEL_4a1a917345474d55af4c2c4563f9292d"
      ],
      "layout": "IPY_MODEL_d1a72838cd394d19b9de436f35edb26b"
     }
    },
    "dacb89a9bfb84edfa2286e2a185f4480": {
     "model_module": "@jupyter-widgets/controls",
     "model_module_version": "1.5.0",
     "model_name": "DescriptionStyleModel",
     "state": {
      "_model_module": "@jupyter-widgets/controls",
      "_model_module_version": "1.5.0",
      "_model_name": "DescriptionStyleModel",
      "_view_count": null,
      "_view_module": "@jupyter-widgets/base",
      "_view_module_version": "1.2.0",
      "_view_name": "StyleView",
      "description_width": ""
     }
    },
    "dfae6083d5174cb2a362fc7d0cd0db95": {
     "model_module": "@jupyter-widgets/controls",
     "model_module_version": "1.5.0",
     "model_name": "DescriptionStyleModel",
     "state": {
      "_model_module": "@jupyter-widgets/controls",
      "_model_module_version": "1.5.0",
      "_model_name": "DescriptionStyleModel",
      "_view_count": null,
      "_view_module": "@jupyter-widgets/base",
      "_view_module_version": "1.2.0",
      "_view_name": "StyleView",
      "description_width": ""
     }
    },
    "e562f92afb3645f480e5a23048dc9084": {
     "model_module": "@jupyter-widgets/controls",
     "model_module_version": "1.5.0",
     "model_name": "FloatProgressModel",
     "state": {
      "_dom_classes": [],
      "_model_module": "@jupyter-widgets/controls",
      "_model_module_version": "1.5.0",
      "_model_name": "FloatProgressModel",
      "_view_count": null,
      "_view_module": "@jupyter-widgets/controls",
      "_view_module_version": "1.5.0",
      "_view_name": "ProgressView",
      "bar_style": "success",
      "description": "",
      "description_tooltip": null,
      "layout": "IPY_MODEL_5749b4349eae4a66bcc61de0446cd235",
      "max": 435797,
      "min": 0,
      "orientation": "horizontal",
      "style": "IPY_MODEL_06d8ad3058bd4b62b6c1f88fbf98e0b4",
      "value": 435797
     }
    },
    "e7e48d8a63b64650b296bbf577812d08": {
     "model_module": "@jupyter-widgets/controls",
     "model_module_version": "1.5.0",
     "model_name": "HTMLModel",
     "state": {
      "_dom_classes": [],
      "_model_module": "@jupyter-widgets/controls",
      "_model_module_version": "1.5.0",
      "_model_name": "HTMLModel",
      "_view_count": null,
      "_view_module": "@jupyter-widgets/controls",
      "_view_module_version": "1.5.0",
      "_view_name": "HTMLView",
      "description": "",
      "description_tooltip": null,
      "layout": "IPY_MODEL_feaf0fb2ac9d473f8b78c30502e2d0c6",
      "placeholder": "​",
      "style": "IPY_MODEL_01636cc5370f40d3a769e29084a123f9",
      "value": " 570/570 [00:00&lt;00:00, 23.1kB/s]"
     }
    },
    "e8f166945960433e9e50fb97d7b3345f": {
     "model_module": "@jupyter-widgets/base",
     "model_module_version": "1.2.0",
     "model_name": "LayoutModel",
     "state": {
      "_model_module": "@jupyter-widgets/base",
      "_model_module_version": "1.2.0",
      "_model_name": "LayoutModel",
      "_view_count": null,
      "_view_module": "@jupyter-widgets/base",
      "_view_module_version": "1.2.0",
      "_view_name": "LayoutView",
      "align_content": null,
      "align_items": null,
      "align_self": null,
      "border": null,
      "bottom": null,
      "display": null,
      "flex": null,
      "flex_flow": null,
      "grid_area": null,
      "grid_auto_columns": null,
      "grid_auto_flow": null,
      "grid_auto_rows": null,
      "grid_column": null,
      "grid_gap": null,
      "grid_row": null,
      "grid_template_areas": null,
      "grid_template_columns": null,
      "grid_template_rows": null,
      "height": null,
      "justify_content": null,
      "justify_items": null,
      "left": null,
      "margin": null,
      "max_height": null,
      "max_width": null,
      "min_height": null,
      "min_width": null,
      "object_fit": null,
      "object_position": null,
      "order": null,
      "overflow": null,
      "overflow_x": null,
      "overflow_y": null,
      "padding": null,
      "right": null,
      "top": null,
      "visibility": null,
      "width": null
     }
    },
    "f1be00d70c9e4513ba3d7d1a31143eac": {
     "model_module": "@jupyter-widgets/base",
     "model_module_version": "1.2.0",
     "model_name": "LayoutModel",
     "state": {
      "_model_module": "@jupyter-widgets/base",
      "_model_module_version": "1.2.0",
      "_model_name": "LayoutModel",
      "_view_count": null,
      "_view_module": "@jupyter-widgets/base",
      "_view_module_version": "1.2.0",
      "_view_name": "LayoutView",
      "align_content": null,
      "align_items": null,
      "align_self": null,
      "border": null,
      "bottom": null,
      "display": null,
      "flex": null,
      "flex_flow": null,
      "grid_area": null,
      "grid_auto_columns": null,
      "grid_auto_flow": null,
      "grid_auto_rows": null,
      "grid_column": null,
      "grid_gap": null,
      "grid_row": null,
      "grid_template_areas": null,
      "grid_template_columns": null,
      "grid_template_rows": null,
      "height": null,
      "justify_content": null,
      "justify_items": null,
      "left": null,
      "margin": null,
      "max_height": null,
      "max_width": null,
      "min_height": null,
      "min_width": null,
      "object_fit": null,
      "object_position": null,
      "order": null,
      "overflow": null,
      "overflow_x": null,
      "overflow_y": null,
      "padding": null,
      "right": null,
      "top": null,
      "visibility": null,
      "width": null
     }
    },
    "f22a973d9aa34614a55288b22e1515fa": {
     "model_module": "@jupyter-widgets/base",
     "model_module_version": "1.2.0",
     "model_name": "LayoutModel",
     "state": {
      "_model_module": "@jupyter-widgets/base",
      "_model_module_version": "1.2.0",
      "_model_name": "LayoutModel",
      "_view_count": null,
      "_view_module": "@jupyter-widgets/base",
      "_view_module_version": "1.2.0",
      "_view_name": "LayoutView",
      "align_content": null,
      "align_items": null,
      "align_self": null,
      "border": null,
      "bottom": null,
      "display": null,
      "flex": null,
      "flex_flow": null,
      "grid_area": null,
      "grid_auto_columns": null,
      "grid_auto_flow": null,
      "grid_auto_rows": null,
      "grid_column": null,
      "grid_gap": null,
      "grid_row": null,
      "grid_template_areas": null,
      "grid_template_columns": null,
      "grid_template_rows": null,
      "height": null,
      "justify_content": null,
      "justify_items": null,
      "left": null,
      "margin": null,
      "max_height": null,
      "max_width": null,
      "min_height": null,
      "min_width": null,
      "object_fit": null,
      "object_position": null,
      "order": null,
      "overflow": null,
      "overflow_x": null,
      "overflow_y": null,
      "padding": null,
      "right": null,
      "top": null,
      "visibility": null,
      "width": null
     }
    },
    "f4498e3683424b9092d0e09973b86901": {
     "model_module": "@jupyter-widgets/controls",
     "model_module_version": "1.5.0",
     "model_name": "ProgressStyleModel",
     "state": {
      "_model_module": "@jupyter-widgets/controls",
      "_model_module_version": "1.5.0",
      "_model_name": "ProgressStyleModel",
      "_view_count": null,
      "_view_module": "@jupyter-widgets/base",
      "_view_module_version": "1.2.0",
      "_view_name": "StyleView",
      "bar_color": null,
      "description_width": ""
     }
    },
    "f577ea97e19c4b5fa305d262c2c16cad": {
     "model_module": "@jupyter-widgets/controls",
     "model_module_version": "1.5.0",
     "model_name": "DescriptionStyleModel",
     "state": {
      "_model_module": "@jupyter-widgets/controls",
      "_model_module_version": "1.5.0",
      "_model_name": "DescriptionStyleModel",
      "_view_count": null,
      "_view_module": "@jupyter-widgets/base",
      "_view_module_version": "1.2.0",
      "_view_name": "StyleView",
      "description_width": ""
     }
    },
    "f6f702254aa44ca5a8fe5e74b8c866bb": {
     "model_module": "@jupyter-widgets/controls",
     "model_module_version": "1.5.0",
     "model_name": "HTMLModel",
     "state": {
      "_dom_classes": [],
      "_model_module": "@jupyter-widgets/controls",
      "_model_module_version": "1.5.0",
      "_model_name": "HTMLModel",
      "_view_count": null,
      "_view_module": "@jupyter-widgets/controls",
      "_view_module_version": "1.5.0",
      "_view_name": "HTMLView",
      "description": "",
      "description_tooltip": null,
      "layout": "IPY_MODEL_b0e80aa6d2b94cf4b0b2da51c24a3747",
      "placeholder": "​",
      "style": "IPY_MODEL_dacb89a9bfb84edfa2286e2a185f4480",
      "value": " 416M/416M [00:12&lt;00:00, 36.5MB/s]"
     }
    },
    "fd537fc85bbe4c80b9b22af26d0687ba": {
     "model_module": "@jupyter-widgets/base",
     "model_module_version": "1.2.0",
     "model_name": "LayoutModel",
     "state": {
      "_model_module": "@jupyter-widgets/base",
      "_model_module_version": "1.2.0",
      "_model_name": "LayoutModel",
      "_view_count": null,
      "_view_module": "@jupyter-widgets/base",
      "_view_module_version": "1.2.0",
      "_view_name": "LayoutView",
      "align_content": null,
      "align_items": null,
      "align_self": null,
      "border": null,
      "bottom": null,
      "display": null,
      "flex": null,
      "flex_flow": null,
      "grid_area": null,
      "grid_auto_columns": null,
      "grid_auto_flow": null,
      "grid_auto_rows": null,
      "grid_column": null,
      "grid_gap": null,
      "grid_row": null,
      "grid_template_areas": null,
      "grid_template_columns": null,
      "grid_template_rows": null,
      "height": null,
      "justify_content": null,
      "justify_items": null,
      "left": null,
      "margin": null,
      "max_height": null,
      "max_width": null,
      "min_height": null,
      "min_width": null,
      "object_fit": null,
      "object_position": null,
      "order": null,
      "overflow": null,
      "overflow_x": null,
      "overflow_y": null,
      "padding": null,
      "right": null,
      "top": null,
      "visibility": null,
      "width": null
     }
    },
    "feaf0fb2ac9d473f8b78c30502e2d0c6": {
     "model_module": "@jupyter-widgets/base",
     "model_module_version": "1.2.0",
     "model_name": "LayoutModel",
     "state": {
      "_model_module": "@jupyter-widgets/base",
      "_model_module_version": "1.2.0",
      "_model_name": "LayoutModel",
      "_view_count": null,
      "_view_module": "@jupyter-widgets/base",
      "_view_module_version": "1.2.0",
      "_view_name": "LayoutView",
      "align_content": null,
      "align_items": null,
      "align_self": null,
      "border": null,
      "bottom": null,
      "display": null,
      "flex": null,
      "flex_flow": null,
      "grid_area": null,
      "grid_auto_columns": null,
      "grid_auto_flow": null,
      "grid_auto_rows": null,
      "grid_column": null,
      "grid_gap": null,
      "grid_row": null,
      "grid_template_areas": null,
      "grid_template_columns": null,
      "grid_template_rows": null,
      "height": null,
      "justify_content": null,
      "justify_items": null,
      "left": null,
      "margin": null,
      "max_height": null,
      "max_width": null,
      "min_height": null,
      "min_width": null,
      "object_fit": null,
      "object_position": null,
      "order": null,
      "overflow": null,
      "overflow_x": null,
      "overflow_y": null,
      "padding": null,
      "right": null,
      "top": null,
      "visibility": null,
      "width": null
     }
    }
   }
  }
 },
 "nbformat": 4,
 "nbformat_minor": 5
}
